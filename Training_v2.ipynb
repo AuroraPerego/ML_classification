{
 "cells": [
  {
   "cell_type": "code",
   "execution_count": 1,
   "metadata": {
    "ExecuteTime": {
     "end_time": "2020-04-08T14:27:27.494852Z",
     "start_time": "2020-04-08T14:27:26.373459Z"
    }
   },
   "outputs": [],
   "source": [
    "import pandas as pd\n",
    "import numpy as np\n",
    "import matplotlib as mpl\n",
    "import matplotlib.pyplot as plt\n",
    "\n",
    "# mpl.rcParams['figure.figsize'] = (6,6)\n",
    "# mpl.rcParams['figure.dpi'] = 100\n",
    "# mpl.rcParams[\"image.origin\"] = 'lower'"
   ]
  },
  {
   "cell_type": "code",
   "execution_count": 37,
   "metadata": {
    "ExecuteTime": {
     "end_time": "2020-04-08T14:42:59.658896Z",
     "start_time": "2020-04-08T14:42:59.649363Z"
    }
   },
   "outputs": [],
   "source": [
    "config = {\n",
    "    \"base_dir\":        \"/eos/home-d/dvalsecc/www/VBSPlots/DNN_archive/\",\n",
    "    \"plot_config\":     \"FullRun2\",\n",
    "    \"cut\":             \"res_sig\",\n",
    "    \"model_version\":   \"v0_multi\",\n",
    "    #\"model_tag\":       \"boost_5vars_v0\",\n",
    "    \"samples_version\": \"v11\",\n",
    "    \"cols\": ['mjj_vbs_morebins',\n",
    "             'vbs_0_pt',\n",
    "             'vbs_1_pt', \n",
    "             'deltaeta_vbs',\n",
    "             'Lepton_eta_abs',\n",
    "             'vjet_0_pt', \n",
    "             'vjet_1_pt',\n",
    "             'vjet_0_eta', \n",
    "             'vjet_1_eta',\n",
    "             'Mtw', \n",
    "             'whad_pt',\n",
    "             'Zlep', \n",
    "             ]\n",
    "# A_ww\n",
    "}"
   ]
  },
  {
   "cell_type": "code",
   "execution_count": 7,
   "metadata": {
    "ExecuteTime": {
     "end_time": "2020-04-08T14:27:57.063402Z",
     "start_time": "2020-04-08T14:27:57.051109Z"
    }
   },
   "outputs": [
    {
     "data": {
      "text/plain": [
       "8"
      ]
     },
     "execution_count": 7,
     "metadata": {},
     "output_type": "execute_result"
    }
   ],
   "source": [
    "len(config[\"cols\"])"
   ]
  },
  {
   "cell_type": "markdown",
   "metadata": {},
   "source": [
    "```.python\n",
    "# config examples\n",
    "\"cut\":             \"boos_sig_mjjincl\",\n",
    "\"cut\":             \"res_sig_mjjincl\",\n",
    "\"model_tag\":       \"res_4depth_v0\",\n",
    " ```"
   ]
  },
  {
   "cell_type": "code",
   "execution_count": 2,
   "metadata": {
    "ExecuteTime": {
     "end_time": "2020-04-08T19:36:24.398725Z",
     "start_time": "2020-04-08T19:36:23.579609Z"
    }
   },
   "outputs": [
    {
     "ename": "NameError",
     "evalue": "name 'os' is not defined",
     "output_type": "error",
     "traceback": [
      "\u001b[0;31m---------------------------------------------------------------------------\u001b[0m",
      "\u001b[0;31mNameError\u001b[0m                                 Traceback (most recent call last)",
      "\u001b[0;32m<ipython-input-2-7e59c6e778c9>\u001b[0m in \u001b[0;36m<module>\u001b[0;34m\u001b[0m\n\u001b[1;32m      1\u001b[0m \u001b[0;31m# load numpy\u001b[0m\u001b[0;34m\u001b[0m\u001b[0;34m\u001b[0m\u001b[0;34m\u001b[0m\u001b[0m\n\u001b[0;32m----> 2\u001b[0;31m \u001b[0msamples_dir\u001b[0m \u001b[0;34m=\u001b[0m \u001b[0mos\u001b[0m\u001b[0;34m.\u001b[0m\u001b[0mpath\u001b[0m\u001b[0;34m.\u001b[0m\u001b[0mjoin\u001b[0m\u001b[0;34m(\u001b[0m\u001b[0mconfig_base_dir\u001b[0m\u001b[0;34m,\u001b[0m \u001b[0mconfig\u001b[0m\u001b[0;34m[\u001b[0m\u001b[0;34m\"cut\"\u001b[0m\u001b[0;34m]\u001b[0m \u001b[0;34m,\u001b[0m \u001b[0;34m\"samples\"\u001b[0m\u001b[0;34m,\u001b[0m \u001b[0mconfig\u001b[0m\u001b[0;34m[\u001b[0m\u001b[0;34m\"samples_version\"\u001b[0m\u001b[0;34m]\u001b[0m\u001b[0;34m)\u001b[0m\u001b[0;34m\u001b[0m\u001b[0;34m\u001b[0m\u001b[0m\n\u001b[0m\u001b[1;32m      3\u001b[0m \u001b[0;32mimport\u001b[0m \u001b[0mpickle\u001b[0m\u001b[0;34m\u001b[0m\u001b[0;34m\u001b[0m\u001b[0m\n\u001b[1;32m      4\u001b[0m \u001b[0msignal\u001b[0m \u001b[0;34m=\u001b[0m \u001b[0mpickle\u001b[0m\u001b[0;34m.\u001b[0m\u001b[0mload\u001b[0m\u001b[0;34m(\u001b[0m\u001b[0mopen\u001b[0m\u001b[0;34m(\u001b[0m\u001b[0mos\u001b[0m\u001b[0;34m.\u001b[0m\u001b[0mpath\u001b[0m\u001b[0;34m.\u001b[0m\u001b[0mjoin\u001b[0m\u001b[0;34m(\u001b[0m\u001b[0msamples_dir\u001b[0m\u001b[0;34m,\u001b[0m \u001b[0;34m\"for_training/signal_balanced.pkl\"\u001b[0m\u001b[0;34m)\u001b[0m\u001b[0;34m,\u001b[0m     \u001b[0;34m\"rb\"\u001b[0m\u001b[0;34m)\u001b[0m\u001b[0;34m)\u001b[0m\u001b[0;34m\u001b[0m\u001b[0;34m\u001b[0m\u001b[0m\n\u001b[1;32m      5\u001b[0m \u001b[0mbkg\u001b[0m    \u001b[0;34m=\u001b[0m \u001b[0mpickle\u001b[0m\u001b[0;34m.\u001b[0m\u001b[0mload\u001b[0m\u001b[0;34m(\u001b[0m\u001b[0mopen\u001b[0m\u001b[0;34m(\u001b[0m\u001b[0mos\u001b[0m\u001b[0;34m.\u001b[0m\u001b[0mpath\u001b[0m\u001b[0;34m.\u001b[0m\u001b[0mjoin\u001b[0m\u001b[0;34m(\u001b[0m\u001b[0msamples_dir\u001b[0m\u001b[0;34m,\u001b[0m \u001b[0;34m\"for_training/background_balanced.pkl\"\u001b[0m\u001b[0;34m)\u001b[0m\u001b[0;34m,\u001b[0m \u001b[0;34m\"rb\"\u001b[0m\u001b[0;34m)\u001b[0m\u001b[0;34m)\u001b[0m\u001b[0;34m\u001b[0m\u001b[0;34m\u001b[0m\u001b[0m\n",
      "\u001b[0;31mNameError\u001b[0m: name 'os' is not defined"
     ]
    }
   ],
   "source": [
    "# load numpy\n",
    "samples_dir = os.path.join(config_base_dir, config[\"cut\"] , \"samples\", config[\"samples_version\"])\n",
    "import pickle\n",
    "signal = pickle.load(open(os.path.join(samples_dir, \"for_training/signal_balanced.pkl\"),     \"rb\"))\n",
    "bkg    = pickle.load(open(os.path.join(samples_dir, \"for_training/background_balanced.pkl\"), \"rb\"))"
   ]
  },
  {
   "cell_type": "markdown",
   "metadata": {},
   "source": [
    "## Samples preparation for NN"
   ]
  },
  {
   "cell_type": "code",
   "execution_count": 5,
   "metadata": {},
   "outputs": [],
   "source": [
    "## using \n",
    "## source /cvmfs/sft.cern.ch/lcg/views/LCG_96python3/x86_64-centos7-gcc8-opt/setup.sh\n",
    "#!pip3 install --user imbalanced-learn==0.5"
   ]
  },
  {
   "cell_type": "code",
   "execution_count": 2,
   "metadata": {
    "ExecuteTime": {
     "end_time": "2020-04-08T14:27:37.398290Z",
     "start_time": "2020-04-08T14:27:28.700465Z"
    }
   },
   "outputs": [
    {
     "name": "stderr",
     "output_type": "stream",
     "text": [
      "Using TensorFlow backend.\n"
     ]
    }
   ],
   "source": [
    "from sklearn.preprocessing import StandardScaler\n",
    "from sklearn.model_selection import train_test_split\n",
    "from sklearn.preprocessing import OneHotEncoder\n",
    "\n",
    "from imblearn.keras import balanced_batch_generator\n",
    "from imblearn.over_sampling import RandomOverSampler"
   ]
  },
  {
   "cell_type": "code",
   "execution_count": 7,
   "metadata": {
    "ExecuteTime": {
     "end_time": "2020-01-27T10:17:31.734886Z",
     "start_time": "2020-01-27T10:17:31.723341Z"
    }
   },
   "outputs": [],
   "source": [
    "## instead of reading the variables from file,\n",
    "## we now set the variables here, and then dump them\n",
    "# import yaml\n",
    "# yaml_vars = yaml.safe_load(open(os.path.join(model_dir, \"variables.yml\")))\n",
    "# print(\"yaml: \", type(yaml_vars), len(yaml_vars))\n",
    "# cols = yaml_vars"
   ]
  },
  {
   "cell_type": "code",
   "execution_count": 1,
   "metadata": {
    "ExecuteTime": {
     "end_time": "2020-04-08T14:28:01.985259Z",
     "start_time": "2020-04-08T14:28:01.836947Z"
    }
   },
   "outputs": [
    {
     "ename": "NameError",
     "evalue": "name 'signal' is not defined",
     "output_type": "error",
     "traceback": [
      "\u001b[0;31m---------------------------------------------------------------------------\u001b[0m",
      "\u001b[0;31mNameError\u001b[0m                                 Traceback (most recent call last)",
      "\u001b[0;32m<ipython-input-1-a846b0755f7a>\u001b[0m in \u001b[0;36m<module>\u001b[0;34m\u001b[0m\n\u001b[0;32m----> 1\u001b[0;31m \u001b[0mX_sig\u001b[0m \u001b[0;34m=\u001b[0m \u001b[0msignal\u001b[0m\u001b[0;34m[\u001b[0m\u001b[0mconfig\u001b[0m\u001b[0;34m[\u001b[0m\u001b[0;34m\"cols\"\u001b[0m\u001b[0;34m]\u001b[0m\u001b[0;34m]\u001b[0m\u001b[0;34m.\u001b[0m\u001b[0mvalues\u001b[0m\u001b[0;34m\u001b[0m\u001b[0;34m\u001b[0m\u001b[0m\n\u001b[0m\u001b[1;32m      2\u001b[0m \u001b[0mX_bkg\u001b[0m \u001b[0;34m=\u001b[0m \u001b[0mbkg\u001b[0m\u001b[0;34m[\u001b[0m\u001b[0mconfig\u001b[0m\u001b[0;34m[\u001b[0m\u001b[0;34m\"cols\"\u001b[0m\u001b[0;34m]\u001b[0m\u001b[0;34m]\u001b[0m\u001b[0;34m.\u001b[0m\u001b[0mvalues\u001b[0m\u001b[0;34m\u001b[0m\u001b[0;34m\u001b[0m\u001b[0m\n\u001b[1;32m      3\u001b[0m \u001b[0mY_sig\u001b[0m \u001b[0;34m=\u001b[0m \u001b[0mnp\u001b[0m\u001b[0;34m.\u001b[0m\u001b[0mones\u001b[0m\u001b[0;34m(\u001b[0m\u001b[0mlen\u001b[0m\u001b[0;34m(\u001b[0m\u001b[0mX_sig\u001b[0m\u001b[0;34m)\u001b[0m\u001b[0;34m)\u001b[0m\u001b[0;34m\u001b[0m\u001b[0;34m\u001b[0m\u001b[0m\n\u001b[1;32m      4\u001b[0m \u001b[0mY_bkg\u001b[0m \u001b[0;34m=\u001b[0m \u001b[0mnp\u001b[0m\u001b[0;34m.\u001b[0m\u001b[0mzeros\u001b[0m\u001b[0;34m(\u001b[0m\u001b[0mlen\u001b[0m\u001b[0;34m(\u001b[0m\u001b[0mX_bkg\u001b[0m\u001b[0;34m)\u001b[0m\u001b[0;34m)\u001b[0m\u001b[0;34m\u001b[0m\u001b[0;34m\u001b[0m\u001b[0m\n\u001b[1;32m      5\u001b[0m \u001b[0mW_sig\u001b[0m \u001b[0;34m=\u001b[0m \u001b[0;34m(\u001b[0m\u001b[0msignal\u001b[0m\u001b[0;34m[\u001b[0m\u001b[0;34m\"weight_norm\"\u001b[0m\u001b[0;34m]\u001b[0m\u001b[0;34m)\u001b[0m\u001b[0;34m.\u001b[0m\u001b[0mvalues\u001b[0m\u001b[0;34m\u001b[0m\u001b[0;34m\u001b[0m\u001b[0m\n",
      "\u001b[0;31mNameError\u001b[0m: name 'signal' is not defined"
     ]
    }
   ],
   "source": [
    "X_sig = signal[config[\"cols\"]].values\n",
    "X_bkg = bkg[config[\"cols\"]].values\n",
    "Y_sig = np.ones(len(X_sig))\n",
    "Y_bkg = np.zeros(len(X_bkg))\n",
    "W_sig = (signal[\"weight_norm\"]).values\n",
    "W_bkg = (bkg[\"weight_norm\"]).values\n",
    "Wnn_sig = (signal[\"weight\"]).values\n",
    "Wnn_bkg = (bkg[\"weight\"]).values\n",
    "\n",
    "X = np.vstack([X_sig, X_bkg])\n",
    "Y = np.hstack([Y_sig, Y_bkg])\n",
    "W = np.hstack([W_sig, W_bkg])\n",
    "Wnn = np.hstack([Wnn_sig, Wnn_bkg])"
   ]
  },
  {
   "cell_type": "code",
   "execution_count": 16,
   "metadata": {
    "ExecuteTime": {
     "end_time": "2020-04-08T14:28:58.447559Z",
     "start_time": "2020-04-08T14:28:58.436973Z"
    }
   },
   "outputs": [
    {
     "data": {
      "text/plain": [
       "array([[0., 0., 1.]])"
      ]
     },
     "execution_count": 16,
     "metadata": {},
     "output_type": "execute_result"
    }
   ],
   "source": [
    "scaler = StandardScaler()\n",
    "X_scaled = scaler.fit_transform(X)\n",
    "pickle.dump(scaler, open(f\"{model_dir}/scaler_model.pkl\", \"wb\"))"
   ]
  },
  {
   "cell_type": "code",
   "execution_count": 17,
   "metadata": {
    "ExecuteTime": {
     "end_time": "2020-04-08T14:29:00.516019Z",
     "start_time": "2020-04-08T14:29:00.507190Z"
    }
   },
   "outputs": [
    {
     "data": {
      "text/plain": [
       "(151771, 4)"
      ]
     },
     "execution_count": 17,
     "metadata": {},
     "output_type": "execute_result"
    }
   ],
   "source": [
    "Y_sig.shape"
   ]
  },
  {
   "cell_type": "code",
   "execution_count": 18,
   "metadata": {
    "ExecuteTime": {
     "end_time": "2020-04-08T14:29:01.806127Z",
     "start_time": "2020-04-08T14:29:01.801567Z"
    }
   },
   "outputs": [
    {
     "data": {
      "text/plain": [
       "(1165192, 4)"
      ]
     },
     "execution_count": 18,
     "metadata": {},
     "output_type": "execute_result"
    }
   ],
   "source": [
    "Y_bkg.shape"
   ]
  },
  {
   "cell_type": "code",
   "execution_count": 19,
   "metadata": {
    "ExecuteTime": {
     "end_time": "2020-04-08T14:29:02.964231Z",
     "start_time": "2020-04-08T14:29:02.909731Z"
    }
   },
   "outputs": [],
   "source": [
    "X = np.vstack([X_sig, X_bkg])\n",
    "Y = np.vstack([Y_sig, Y_bkg])\n",
    "W = np.hstack([W_sig, W_bkg])\n",
    "Wnn = np.hstack([Wnn_sig, Wnn_bkg])"
   ]
  },
  {
   "cell_type": "code",
   "execution_count": 20,
   "metadata": {
    "ExecuteTime": {
     "end_time": "2020-04-08T14:29:05.316676Z",
     "start_time": "2020-04-08T14:29:04.909840Z"
    }
   },
   "outputs": [],
   "source": [
    "scaler = StandardScaler()\n",
    "X_scaled = scaler.fit_transform(X)\n",
    "pickle.dump(scaler, open(f\"{model_dir}/scaler_model.pkl\", \"wb\"))"
   ]
  },
  {
   "cell_type": "code",
   "execution_count": 11,
   "metadata": {
    "ExecuteTime": {
     "end_time": "2020-01-27T08:46:36.955475Z",
     "start_time": "2020-01-27T08:46:34.860619Z"
    },
    "scrolled": false
   },
   "outputs": [],
   "source": [
    "# i = 2\n",
    "# print(cols[i])\n",
    "# fig, (ax1, ax2) = plt.subplots(ncols=2, figsize=(10,5), dpi=100)\n",
    "# ax1.hist(X[:,i], bins=50)\n",
    "# ax1.set_yscale(\"log\")\n",
    "# ax2.hist(X_scaled[:,i], weights=W, bins=50)\n",
    "# plt.yscale(\"log\")"
   ]
  },
  {
   "cell_type": "code",
   "execution_count": 12,
   "metadata": {
    "ExecuteTime": {
     "end_time": "2020-01-27T10:17:47.639149Z",
     "start_time": "2020-01-27T10:17:47.039479Z"
    }
   },
   "outputs": [
    {
     "data": {
      "image/png": "[encoded data removed]",
      "text/plain": [
       "<Figure size 432x288 with 1 Axes>"
      ]
     },
     "metadata": {},
     "output_type": "display_data"
    }
   ],
   "source": [
    "# _ = plt.hist(W, bins=100)\n",
    "_ = plt.hist(W, bins=100, range=(0,2))"
   ]
  },
  {
   "cell_type": "markdown",
   "metadata": {
    "ExecuteTime": {
     "end_time": "2020-01-21T08:50:38.324736Z",
     "start_time": "2020-01-21T08:50:38.320100Z"
    }
   },
   "source": [
    "##  Balancing\n"
   ]
  },
  {
   "cell_type": "code",
   "execution_count": 23,
   "metadata": {
    "ExecuteTime": {
     "end_time": "2020-04-08T14:32:28.071873Z",
     "start_time": "2020-04-08T14:32:18.707500Z"
    }
   },
   "outputs": [],
   "source": [
    "config[\"test_size\"] = 0.2\n",
    "#config[\"val_size\"]  = 0.5  ## test != val\n",
    "config[\"val_size\"]  = 0.0  ## test == val\n",
    "\n",
    "X_train, X_temp, y_train, y_temp, W_train, W_temp , Wnn_train, Wnn_temp = train_test_split(X_scaled, Y,  W, Wnn, test_size=config[\"test_size\"], random_state=42, stratify=Y)\n",
    "\n",
    "#X_val,   X_test, y_val,   y_test, W_val,   W_test = train_test_split(X_temp,   y_temp, W_temp, test_size=config[\"val_size\"]) ## test != val"
   ]
  },
  {
   "cell_type": "code",
   "execution_count": 24,
   "metadata": {
    "ExecuteTime": {
     "end_time": "2020-04-08T14:32:29.139936Z",
     "start_time": "2020-04-08T14:32:29.135481Z"
    }
   },
   "outputs": [
    {
     "name": "stdout",
     "output_type": "stream",
     "text": [
      "Training   dataset:  (1053570, 8)\n",
      "Test + Val dataset:  (263393, 8)\n"
     ]
    }
   ],
   "source": [
    "print(\"Training   dataset: \", X_train.shape)\n",
    "print(\"Test + Val dataset: \", X_temp.shape)\n",
    "#print(\"Testing    dataset: \", X_test.shape)\n",
    "#print(\"Validation dataset: \", X_val.shape)"
   ]
  },
  {
   "cell_type": "markdown",
   "metadata": {},
   "source": [
    "Create generators to balance signal and background"
   ]
  },
  {
   "cell_type": "code",
   "execution_count": 25,
   "metadata": {
    "ExecuteTime": {
     "end_time": "2020-04-08T14:32:31.274213Z",
     "start_time": "2020-04-08T14:32:30.161500Z"
    }
   },
   "outputs": [],
   "source": [
    "config[\"batch_size\"] = 512\n",
    "\n",
    "training_generator,   steps_per_epoch_train = balanced_batch_generator(X_train, y_train, W_train, batch_size=config[\"batch_size\"], sampler=RandomOverSampler())\n",
    "#validation_generator, steps_per_epoch_val   = balanced_batch_generator(X_val,   y_val,   W_val,   batch_size=config[\"batch_size\"], sampler=RandomOverSampler()) ## test != val\n",
    "validation_generator, steps_per_epoch_val   = balanced_batch_generator(X_temp,  y_temp,  W_temp,   batch_size=config[\"batch_size\"], sampler=RandomOverSampler()) ## test == val"
   ]
  },
  {
   "cell_type": "markdown",
   "metadata": {},
   "source": [
    "## Keras model"
   ]
  },
  {
   "cell_type": "code",
   "execution_count": 14,
   "metadata": {
    "ExecuteTime": {
     "end_time": "2020-04-08T13:38:55.983107Z",
     "start_time": "2020-04-08T13:38:55.571525Z"
    }
   },
   "outputs": [],
   "source": [
    "%load_ext autoreload"
   ]
  },
  {
   "cell_type": "code",
   "execution_count": 15,
   "metadata": {
    "ExecuteTime": {
     "end_time": "2020-04-08T13:38:56.736205Z",
     "start_time": "2020-04-08T13:38:56.732165Z"
    }
   },
   "outputs": [],
   "source": [
    "%autoreload 2"
   ]
  },
  {
   "cell_type": "code",
   "execution_count": null,
   "metadata": {
    "ExecuteTime": {
     "end_time": "2020-01-27T10:43:12.667494Z",
     "start_time": "2020-01-27T10:43:12.356313Z"
    }
   },
   "outputs": [],
   "source": [
    "# import local module that programmatically returns keras models\n",
    "import dnn_models\n",
    "\n",
    "model = dnn_models.get_model(config[\"model_tag\"], X_train.shape[1])\n",
    "\n",
    "model.summary()"
   ]
  },
  {
   "cell_type": "code",
   "execution_count": 42,
   "metadata": {
    "ExecuteTime": {
     "end_time": "2020-04-08T14:53:56.215896Z",
     "start_time": "2020-04-08T14:53:55.879568Z"
    }
   },
   "outputs": [
    {
     "name": "stdout",
     "output_type": "stream",
     "text": [
      "_________________________________________________________________\n",
      "Layer (type)                 Output Shape              Param #   \n",
      "=================================================================\n",
      "dense_12 (Dense)             (None, 30)                270       \n",
      "_________________________________________________________________\n",
      "dropout_6 (Dropout)          (None, 30)                0         \n",
      "_________________________________________________________________\n",
      "dense_13 (Dense)             (None, 30)                930       \n",
      "_________________________________________________________________\n",
      "dropout_7 (Dropout)          (None, 30)                0         \n",
      "_________________________________________________________________\n",
      "dense_14 (Dense)             (None, 30)                930       \n",
      "_________________________________________________________________\n",
      "dropout_8 (Dropout)          (None, 30)                0         \n",
      "_________________________________________________________________\n",
      "dense_15 (Dense)             (None, 4)                 124       \n",
      "=================================================================\n",
      "Total params: 2,254\n",
      "Trainable params: 2,254\n",
      "Non-trainable params: 0\n",
      "_________________________________________________________________\n"
     ]
    }
   ],
   "source": [
    "from dnn_models import *\n",
    "\n",
    "model = Sequential()\n",
    "model.add(Dense(30, input_dim=X.shape[1], activation=\"relu\"))\n",
    "model.add(Dropout(0.2))\n",
    "model.add(Dense(30, activation=\"relu\"))\n",
    "model.add(Dropout(0.2))\n",
    "model.add(Dense(30, activation=\"relu\"))\n",
    "model.add(Dropout(0.2))\n",
    "model.add(Dense(Y.shape[1], activation=\"softmax\"))\n",
    "\n",
    "model.compile(optimizer='adam',\n",
    "            loss='categorical_crossentropy',\n",
    "            metrics=['accuracy'])\n",
    "\n",
    "model.summary()"
   ]
  },
  {
   "cell_type": "code",
   "execution_count": 18,
   "metadata": {
    "ExecuteTime": {
     "end_time": "2020-04-08T13:39:09.468481Z",
     "start_time": "2020-04-08T13:39:09.111146Z"
    }
   },
   "outputs": [],
   "source": [
    "## import and configure the plot loss callback\n",
    "\n",
    "import dnn_plot_loss_multi\n",
    "\n",
    "data = {\n",
    "    \"X_train\": X_train,\n",
    "    #\"X_test\" : X_test, ## test != val\n",
    "    \"X_val\" : X_temp, ## test == val\n",
    "    \"y_train\": y_train,\n",
    "    #\"y_test\" : y_test, ## test != val\n",
    "    \"y_val\" : y_temp, ## test == val\n",
    "    \"W_train\": W_train,\n",
    "    #\"W_test\" : W_test, ## test != val\n",
    "    \"W_val\": W_temp, ## test == val\n",
    "    \"Wnn_train\": Wnn_train,\n",
    "    #\"W_test\" : W_test, ## test != val\n",
    "    \"Wnn_val\": Wnn_temp, ## test == val\n",
    "}\n",
    "\n",
    "plot_losses = dnn_plot_loss_multi.PlotLosses(model, data, batch_mode=True)"
   ]
  },
  {
   "cell_type": "code",
   "execution_count": 43,
   "metadata": {
    "ExecuteTime": {
     "end_time": "2020-04-08T14:57:57.011183Z",
     "start_time": "2020-04-08T14:54:02.378113Z"
    },
    "scrolled": true
   },
   "outputs": [
    {
     "name": "stdout",
     "output_type": "stream",
     "text": [
      "Epoch 1/20\n",
      "3287/3287 [==============================] - 13s 4ms/step - loss: 1.1532 - acc: 0.2827 - val_loss: 1.1180 - val_acc: 0.3020\n",
      "Epoch 2/20\n",
      "3287/3287 [==============================] - 12s 4ms/step - loss: 1.1345 - acc: 0.2964 - val_loss: 1.1173 - val_acc: 0.2993\n",
      "Epoch 3/20\n",
      "3287/3287 [==============================] - 11s 3ms/step - loss: 1.1306 - acc: 0.2990 - val_loss: 1.1172 - val_acc: 0.3025\n",
      "Epoch 4/20\n",
      "3287/3287 [==============================] - 13s 4ms/step - loss: 1.1291 - acc: 0.3004 - val_loss: 1.1164 - val_acc: 0.3094\n",
      "Epoch 5/20\n",
      "3287/3287 [==============================] - 11s 3ms/step - loss: 1.1278 - acc: 0.3029 - val_loss: 1.1165 - val_acc: 0.3100\n",
      "Epoch 6/20\n",
      "3287/3287 [==============================] - 12s 4ms/step - loss: 1.1269 - acc: 0.3042 - val_loss: 1.1167 - val_acc: 0.3048\n",
      "Epoch 7/20\n",
      "3287/3287 [==============================] - 12s 4ms/step - loss: 1.1269 - acc: 0.3048 - val_loss: 1.1172 - val_acc: 0.3141\n",
      "Epoch 8/20\n",
      "3287/3287 [==============================] - 10s 3ms/step - loss: 1.1260 - acc: 0.3052 - val_loss: 1.1161 - val_acc: 0.3137\n",
      "Epoch 9/20\n",
      "3287/3287 [==============================] - 14s 4ms/step - loss: 1.1251 - acc: 0.3069 - val_loss: 1.1159 - val_acc: 0.3073\n",
      "Epoch 10/20\n",
      "3287/3287 [==============================] - 13s 4ms/step - loss: 1.1248 - acc: 0.3074 - val_loss: 1.1152 - val_acc: 0.3109\n",
      "Epoch 11/20\n",
      "3287/3287 [==============================] - 13s 4ms/step - loss: 1.1245 - acc: 0.3080 - val_loss: 1.1146 - val_acc: 0.3119\n",
      "Epoch 12/20\n",
      "3287/3287 [==============================] - 11s 3ms/step - loss: 1.1249 - acc: 0.3083 - val_loss: 1.1158 - val_acc: 0.3027\n",
      "Epoch 13/20\n",
      "3287/3287 [==============================] - 10s 3ms/step - loss: 1.1250 - acc: 0.3064 - val_loss: 1.1140 - val_acc: 0.3065\n",
      "Epoch 14/20\n",
      "3287/3287 [==============================] - 12s 4ms/step - loss: 1.1242 - acc: 0.3076 - val_loss: 1.1140 - val_acc: 0.3083\n",
      "Epoch 15/20\n",
      "3287/3287 [==============================] - 11s 3ms/step - loss: 1.1240 - acc: 0.3075 - val_loss: 1.1139 - val_acc: 0.3116\n",
      "Epoch 16/20\n",
      "3287/3287 [==============================] - 12s 4ms/step - loss: 1.1240 - acc: 0.3073 - val_loss: 1.1144 - val_acc: 0.3067\n",
      "Epoch 17/20\n",
      "3287/3287 [==============================] - 12s 4ms/step - loss: 1.1239 - acc: 0.3084 - val_loss: 1.1138 - val_acc: 0.3105\n",
      "Epoch 18/20\n",
      "3287/3287 [==============================] - 11s 3ms/step - loss: 1.1238 - acc: 0.3082 - val_loss: 1.1135 - val_acc: 0.3143\n",
      "Epoch 19/20\n",
      "3287/3287 [==============================] - 10s 3ms/step - loss: 1.1234 - acc: 0.3085 - val_loss: 1.1148 - val_acc: 0.3094\n",
      "Epoch 20/20\n",
      "3287/3287 [==============================] - 11s 3ms/step - loss: 1.1234 - acc: 0.3085 - val_loss: 1.1138 - val_acc: 0.3129\n"
     ]
    }
   ],
   "source": [
    "## TRAINING\n",
    "\n",
    "import time\n",
    "start_time = time.time()\n",
    "\n",
    "config[\"epochs\"] = 20\n",
    "\n",
    "history = model.fit_generator(\n",
    "            training_generator, \n",
    "            epochs=config[\"epochs\"],\n",
    "            steps_per_epoch  = steps_per_epoch_train, \n",
    "            validation_data  = validation_generator, \n",
    "            validation_steps = steps_per_epoch_val,\n",
    "            callbacks=[],\n",
    "            #callbacks = [], \n",
    "            )\n",
    "\n",
    "config[\"train_time\"] = time.time() - start_time"
   ]
  },
  {
   "cell_type": "code",
   "execution_count": 44,
   "metadata": {
    "ExecuteTime": {
     "end_time": "2020-04-08T14:57:59.438810Z",
     "start_time": "2020-04-08T14:57:59.024209Z"
    }
   },
   "outputs": [],
   "source": [
    "y_predict = model.predict(X_temp, batch_size=2048)"
   ]
  },
  {
   "cell_type": "code",
   "execution_count": null,
   "metadata": {},
   "outputs": [],
   "source": []
  },
  {
   "cell_type": "code",
   "execution_count": 57,
   "metadata": {
    "ExecuteTime": {
     "end_time": "2020-04-08T15:03:13.655903Z",
     "start_time": "2020-04-08T15:03:13.225635Z"
    }
   },
   "outputs": [
    {
     "data": {
      "text/plain": [
       "<matplotlib.legend.Legend at 0x7f2dcc2f4e48>"
      ]
     },
     "execution_count": 57,
     "metadata": {},
     "output_type": "execute_result"
    }
   ],
   "source": [
    "# fig,(axs, axs2) = plt.subplots(2, 4, figsize=(24,10))\n",
    "axs[0].hist(y_predict[y_temp[:,0]==1][:,0], bins=40, range=(0.,1.), label=\"VBS cat\", histtype=\"step\", density=True)\n",
    "axs[0].hist(y_predict[y_temp[:,0]==1][:,1], bins=40, range=(0.,1.), label=\"W+jets cat\", histtype=\"step\", density=True)\n",
    "axs[0].hist(y_predict[y_temp[:,0]==1][:,2], bins=40, range=(0.,1.), label=\"Top cat\", histtype=\"step\", density=True)\n",
    "axs[0].hist(y_predict[y_temp[:,0]==1][:,3], bins=40, range=(0.,1.), label=\"Others cat\", histtype=\"step\", density=True)\n",
    "axs[0].set_title(\"VBS events\")\n",
    "axs[0].legend()\n",
    "\n",
    "axs[1].hist(y_predict[y_temp[:,1]==1][:,0], bins=40, range=(0.,1.), label=\"VBS cat\", histtype=\"step\", density=True)\n",
    "axs[1].hist(y_predict[y_temp[:,1]==1][:,1], bins=40, range=(0.,1.), label=\"W+jets cat\", histtype=\"step\", density=True)\n",
    "axs[1].hist(y_predict[y_temp[:,1]==1][:,2], bins=40, range=(0.,1.), label=\"Top cat\", histtype=\"step\", density=True)\n",
    "axs[1].hist(y_predict[y_temp[:,1]==1][:,3], bins=40, range=(0.,1.), label=\"Others cat\", histtype=\"step\", density=True)\n",
    "axs[1].set_title(\"W+Jets events\")\n",
    "axs[1].legend()\n",
    "\n",
    "axs[2].hist(y_predict[y_temp[:,2]==1][:,0], bins=40, range=(0.,1.), label=\"VBS cat\", histtype=\"step\", density=True)\n",
    "axs[2].hist(y_predict[y_temp[:,2]==1][:,1], bins=40, range=(0.,1.), label=\"W+jets cat\", histtype=\"step\", density=True)\n",
    "axs[2].hist(y_predict[y_temp[:,2]==1][:,2], bins=40, range=(0.,1.), label=\"Top cat\", histtype=\"step\", density=True)\n",
    "axs[2].hist(y_predict[y_temp[:,2]==1][:,3], bins=40, range=(0.,1.), label=\"Others cat\", histtype=\"step\", density=True)\n",
    "axs[2].set_title(\"Top events\")\n",
    "axs[2].legend()\n",
    "\n",
    "axs[3].hist(y_predict[y_temp[:,3]==1][:,0], bins=40, range=(0.,1.), label=\"VBS cat\", histtype=\"step\", density=True)\n",
    "axs[3].hist(y_predict[y_temp[:,3]==1][:,1], bins=40, range=(0.,1.), label=\"W+jets cat\", histtype=\"step\", density=True)\n",
    "axs[3].hist(y_predict[y_temp[:,3]==1][:,2], bins=40, range=(0.,1.), label=\"Top cat\", histtype=\"step\", density=True)\n",
    "axs[3].hist(y_predict[y_temp[:,3]==1][:,3], bins=40, range=(0.,1.), label=\"Others cat\", histtype=\"step\", density=True)\n",
    "axs[3].set_title(\"Other events\")\n",
    "axs[3].legend()\n",
    "\n",
    "#######\n",
    "#categories\n",
    "\n",
    "axs2[0].hist(y_predict[y_temp[:,0]==1][:,0], bins=40, range=(0.,1.), label=\"VBS events\", histtype=\"step\", density=True, cumulative=-1)\n",
    "axs2[0].hist(y_predict[y_temp[:,1]==1][:,0], bins=40, range=(0.,1.), label=\"W+jets events\", histtype=\"step\", density=True)\n",
    "axs2[0].hist(y_predict[y_temp[:,2]==1][:,0], bins=40, range=(0.,1.), label=\"Top events\", histtype=\"step\", density=True)\n",
    "axs2[0].hist(y_predict[y_temp[:,3]==1][:,0], bins=40, range=(0.,1.), label=\"Others events\", histtype=\"step\", density=True)\n",
    "axs2[0].hist(y_predict[y_temp[:,0]!=1][:,0], bins=40, range=(0.,1.), label=\"All BKG\", histtype=\"step\", density=True)\n",
    "axs2[0].set_title(\"VBS category\")\n",
    "axs2[0].set_yscale(\"log\")\n",
    "axs2[0].legend()\n",
    "\n",
    "axs2[1].hist(y_predict[y_temp[:,0]==1][:,1], bins=40, range=(0.,1.), label=\"VBS events\", histtype=\"step\", density=True)\n",
    "axs2[1].hist(y_predict[y_temp[:,1]==1][:,1], bins=40, range=(0.,1.), label=\"W+jets events\", histtype=\"step\", density=True)\n",
    "axs2[1].hist(y_predict[y_temp[:,2]==1][:,1], bins=40, range=(0.,1.), label=\"Top events\", histtype=\"step\", density=True)\n",
    "axs2[1].hist(y_predict[y_temp[:,3]==1][:,1], bins=40, range=(0.,1.), label=\"Others events\", histtype=\"step\", density=True)\n",
    "axs2[1].set_title(\"W+Jets category\")\n",
    "axs2[1].legend()\n",
    "\n",
    "axs2[2].hist(y_predict[y_temp[:,0]==1][:,2], bins=40, range=(0.,1.), label=\"VBS events\", histtype=\"step\", density=True)\n",
    "axs2[2].hist(y_predict[y_temp[:,1]==1][:,2], bins=40, range=(0.,1.), label=\"W+jets events\", histtype=\"step\", density=True)\n",
    "axs2[2].hist(y_predict[y_temp[:,2]==1][:,2], bins=40, range=(0.,1.), label=\"Top events\", histtype=\"step\", density=True)\n",
    "axs2[2].hist(y_predict[y_temp[:,3]==1][:,2], bins=40, range=(0.,1.), label=\"Others events\", histtype=\"step\", density=True)\n",
    "axs2[2].set_title(\"Top category\")\n",
    "axs2[2].legend()\n",
    "\n",
    "axs2[3].hist(y_predict[y_temp[:,0]==1][:,3], bins=40, range=(0.,1.), label=\"VBS events\", histtype=\"step\", density=True)\n",
    "axs2[3].hist(y_predict[y_temp[:,1]==1][:,3], bins=40, range=(0.,1.), label=\"W+jets events\", histtype=\"step\", density=True)\n",
    "axs2[3].hist(y_predict[y_temp[:,2]==1][:,3], bins=40, range=(0.,1.), label=\"Top events\", histtype=\"step\", density=True)\n",
    "axs2[3].hist(y_predict[y_temp[:,3]==1][:,3], bins=40, range=(0.,1.), label=\"Others events\", histtype=\"step\", density=True)\n",
    "axs2[3].set_title(\"Other category\")\n",
    "axs2[3].legend()\n"
   ]
  },
  {
   "cell_type": "code",
   "execution_count": null,
   "metadata": {},
   "outputs": [],
   "source": []
  },
  {
   "cell_type": "code",
   "execution_count": 21,
   "metadata": {},
   "outputs": [
    {
     "data": {
      "text/plain": [
       "33.990073442459106"
      ]
     },
     "execution_count": 21,
     "metadata": {},
     "output_type": "execute_result"
    }
   ],
   "source": [
    "config[\"train_time\"]"
   ]
  },
  {
   "cell_type": "code",
   "execution_count": 22,
   "metadata": {
    "ExecuteTime": {
     "end_time": "2020-01-27T12:55:58.730850Z",
     "start_time": "2020-01-27T12:55:57.810345Z"
    }
   },
   "outputs": [],
   "source": [
    "## SAVE THE MODEL, ITS METADATA AND TRAINING INFORMATIONS\n",
    "\n",
    "# dump the variables list\n",
    "import yaml\n",
    "varfile = os.path.join(model_dir, \"variables.yml\")\n",
    "if os.path.isfile(varfile):\n",
    "    print(\"ACHTUNG! variables file already existing: old file renamed with '_old'\")\n",
    "    os.rename(varfile, varfile[:-4] + \"_old.yml\")\n",
    "with open(varfile, \"w\") as out_var_file:\n",
    "    out_var_file.write(yaml.dump(config[\"cols\"]))\n",
    "    \n",
    "# dump the config\n",
    "config[\"a__model_dir\"] = model_dir\n",
    "model_config_file = os.path.join(model_dir, \"model_config.yml\")\n",
    "if os.path.isfile(model_config_file):\n",
    "    print(\"ACHTUNG! model_config_file file already existing: old file renamed with '_old'\")\n",
    "    os.rename(model_config_file, model_config_file[:-4] + \"_old.yml\")\n",
    "with open(model_config_file, \"w\") as out_var_file:\n",
    "    out_var_file.write(yaml.dump(config))  \n",
    "\n",
    "# save figure with training summary\n",
    "plot_losses.save_figure( os.path.join(model_dir, \"model_train.png\") )\n",
    "\n",
    "# save keras model\n",
    "model.save( os.path.join(model_dir, \"model.h5\") )"
   ]
  },
  {
   "cell_type": "code",
   "execution_count": 23,
   "metadata": {},
   "outputs": [
    {
     "name": "stderr",
     "output_type": "stream",
     "text": [
      "W0310 23:06:43.475929 139772135913280 deprecation.py:323] From <ipython-input-23-39c8d219d3f3>:53: convert_variables_to_constants (from tensorflow.python.framework.graph_util_impl) is deprecated and will be removed in a future version.\n",
      "Instructions for updating:\n",
      "Use `tf.compat.v1.graph_util.convert_variables_to_constants`\n",
      "W0310 23:06:43.477826 139772135913280 deprecation.py:323] From /cvmfs/sft.cern.ch/lcg/views/LCG_96python3/x86_64-centos7-gcc8-opt/lib/python3.6/site-packages/tensorflow/python/framework/graph_util_impl.py:270: extract_sub_graph (from tensorflow.python.framework.graph_util_impl) is deprecated and will be removed in a future version.\n",
      "Instructions for updating:\n",
      "Use `tf.compat.v1.graph_util.extract_sub_graph`\n"
     ]
    }
   ],
   "source": [
    "## Export:\n",
    "## * keras model to tensorflow model\n",
    "## * tf metadata\n",
    "## * scaler\n",
    "\n",
    "args = {\n",
    "    \"dir\": model_dir,\n",
    "    \"input\": \"model.h5\",\n",
    "    \"output\": \"model.pb\",\n",
    "    \"tf_metadata\": \"tf_metadata.txt\",\n",
    "    \"input_scaler\": \"scaler_model.pkl\",\n",
    "    \"output_scaler\": \"scaler.txt\",\n",
    "}\n",
    "\n",
    "\n",
    "from keras import backend as K\n",
    "# This line must be executed before loading Keras model.\n",
    "K.set_learning_phase(0)\n",
    "\n",
    "from keras.models import load_model\n",
    "model = load_model(os.path.join(args[\"dir\"], args[\"input\"]))\n",
    "\n",
    "from keras import backend as K\n",
    "import tensorflow as tf\n",
    "\n",
    "def freeze_session(session, keep_var_names=None, output_names=None, clear_devices=True):\n",
    "    \"\"\"\n",
    "    Freezes the state of a session into a pruned computation graph.\n",
    "\n",
    "    Creates a new computation graph where variable nodes are replaced by\n",
    "    constants taking their current value in the session. The new graph will be\n",
    "    pruned so subgraphs that are not necessary to compute the requested\n",
    "    outputs are removed.\n",
    "    @param session The TensorFlow session to be frozen.\n",
    "    @param keep_var_names A list of variable names that should not be frozen,\n",
    "                          or None to freeze all the variables in the graph.\n",
    "    @param output_names Names of the relevant graph outputs.\n",
    "    @param clear_devices Remove the device directives from the graph for better portability.\n",
    "    @return The frozen graph definition.\n",
    "    \"\"\"\n",
    "    from tensorflow.python.framework.graph_util import convert_variables_to_constants\n",
    "    graph = session.graph\n",
    "    with graph.as_default():\n",
    "        freeze_var_names = list(set(v.op.name for v in tf.global_variables()).difference(keep_var_names or []))\n",
    "        output_names = output_names or []\n",
    "        output_names += [v.op.name for v in tf.global_variables()]\n",
    "        # Graph -> GraphDef ProtoBuf\n",
    "        input_graph_def = graph.as_graph_def()\n",
    "        if clear_devices:\n",
    "            for node in input_graph_def.node:\n",
    "                node.device = \"\"\n",
    "        frozen_graph = convert_variables_to_constants(session, input_graph_def,\n",
    "                                                      output_names, freeze_var_names)\n",
    "        return frozen_graph\n",
    "\n",
    "\n",
    "frozen_graph = freeze_session(K.get_session(),\n",
    "                              output_names=[out.op.name for out in model.outputs])\n",
    "\n",
    "# Save to ./model/tf_model.pb\n",
    "tf.train.write_graph(frozen_graph, args[\"dir\"], args[\"output\"], as_text=False)\n",
    "\n",
    "## save tensorflow metadata\n",
    "with open(os.path.join(args[\"dir\"], args[\"tf_metadata\"]), \"w\") as f:\n",
    "    f.write(str(model.inputs[0].name) + \" \" + str(model.outputs[0].name) + \"\\n\")\n",
    "\n",
    "\n",
    "## Export \n",
    "## * tf tensor input name and output name\n",
    "## * scaler mean_ and scale_ (where scale_ = np.sqrt(var_)) for each variable\n",
    "##\n",
    "import os\n",
    "import pickle\n",
    "\n",
    "import yaml\n",
    "yaml_vars = yaml.safe_load(open(os.path.join(args[\"dir\"], \"variables.yml\"), \"r\"))\n",
    "\n",
    "scaler = pickle.load(open(os.path.join(args[\"dir\"], args[\"input_scaler\"]), 'rb'))\n",
    "with open(os.path.join(args[\"dir\"], args[\"output_scaler\"]), \"w\") as f:\n",
    "    for var, mean, scale in zip(yaml_vars, scaler.mean_, scaler.scale_):\n",
    "        f.write(var + \" \" + str(mean) + \" \" + str(scale) + \"\\n\")\n"
   ]
  },
  {
   "cell_type": "code",
   "execution_count": 24,
   "metadata": {},
   "outputs": [],
   "source": [
    "## Retrieve graphs history\n",
    "## plot \n",
    "# n = 30\n",
    "# plt.hist(plot_losses.dnn_score_plot[n][0][1][:-1], bins=plot_losses.dnn_score_plot[n][0][1], weights=plot_losses.dnn_score_plot[n][0][0], histtype=\"step\")\n",
    "# plt.hist(plot_losses.dnn_score_plot[n][1][1][:-1], bins=plot_losses.dnn_score_plot[n][1][1], weights=plot_losses.dnn_score_plot[n][1][0], histtype=\"step\")"
   ]
  },
  {
   "cell_type": "markdown",
   "metadata": {},
   "source": [
    "### Columns List"
   ]
  },
  {
   "cell_type": "markdown",
   "metadata": {},
   "source": [
    "```.python\n",
    "# resolved\n",
    "    \"cols\": ['mjj_vbs', \n",
    "             'vbs_0_pt', \n",
    "             'vbs_1_pt', \n",
    "             'deltaeta_vbs',\n",
    "             'deltaphi_vbs', \n",
    "             'mjj_vjet', \n",
    "             'vjet_0_pt', \n",
    "             'vjet_1_pt', \n",
    "             'vjet_0_eta', \n",
    "             'vjet_1_eta', \n",
    "             'Lepton_pt', \n",
    "             'Lepton_eta', \n",
    "             'Lepton_flavour', \n",
    "             'PuppiMET', \n",
    "             'Zvjets_0', \n",
    "             'Zlep', \n",
    "             'Asym_vbs', \n",
    "             'Asym_vjet', \n",
    "             'A_ww', \n",
    "             'Mtw_lep', \n",
    "             'w_lep_pt', \n",
    "             'Mww', \n",
    "             'R_ww', \n",
    "             'R_mw', \n",
    "             'Centr_vbs', \n",
    "             'Centr_ww'\n",
    "         ]\n",
    "\n",
    "# boosted\n",
    "    \"cols\": ['mjj_vbs', \n",
    "             'vbs_0_pt', \n",
    "             'vbs_1_pt', \n",
    "             'deltaeta_vbs',\n",
    "             'deltaphi_vbs', \n",
    "             'mjj_vjet', \n",
    "             'vjet_0_pt', \n",
    "             'vjet_1_pt', \n",
    "             'vjet_0_eta', \n",
    "             'vjet_1_eta', \n",
    "             'Lepton_pt', \n",
    "             'Lepton_eta', \n",
    "             'Lepton_flavour', \n",
    "             'PuppiMET', \n",
    "             'Zvjets_0', \n",
    "             'Zlep', \n",
    "             'Asym_vbs', \n",
    "             'Asym_vjet', \n",
    "             'A_ww', \n",
    "             'Mtw_lep', \n",
    "             'w_lep_pt', \n",
    "             'Mww', \n",
    "             'R_ww', \n",
    "             'R_mw', \n",
    "             'Centr_vbs', \n",
    "             'Centr_ww'\n",
    "         ]\n",
    "\n",
    "         \n",
    "# OLD\n",
    "    \"cols\": ['mjj_vbs', 'deltaeta_vbs', \n",
    "            'mjj_vjet', \n",
    "            'Lepton_pt', 'Lepton_eta' ]\n",
    "    \"cols\": ['mjj_vbs', \n",
    "             'vbs_0_pt', 'vbs_1_pt', \n",
    "             'deltaeta_vbs', 'deltaphi_vbs', \n",
    "             'mjj_vjet', \n",
    "             'vjet_0_pt', 'vjet_1_pt', \n",
    "             'vjet_0_eta', 'vjet_1_eta', \n",
    "             'Lepton_pt', 'Lepton_eta', 'Lepton_flavour', \n",
    "         ]\n",
    "```"
   ]
  },
  {
   "cell_type": "code",
   "execution_count": null,
   "metadata": {},
   "outputs": [],
   "source": []
  }
 ],
 "metadata": {
  "kernelspec": {
   "display_name": "Python 3",
   "language": "python",
   "name": "python3"
  },
  "language_info": {
   "codemirror_mode": {
    "name": "ipython",
    "version": 3
   },
   "file_extension": ".py",
   "mimetype": "text/x-python",
   "name": "python",
   "nbconvert_exporter": "python",
   "pygments_lexer": "ipython3",
   "version": "3.6.9"
  },
  "toc": {
   "base_numbering": 1,
   "nav_menu": {},
   "number_sections": true,
   "sideBar": true,
   "skip_h1_title": false,
   "title_cell": "Table of Contents",
   "title_sidebar": "Contents",
   "toc_cell": false,
   "toc_position": {},
   "toc_section_display": true,
   "toc_window_display": false
  },
  "varInspector": {
   "cols": {
    "lenName": 16,
    "lenType": 16,
    "lenVar": 40
   },
   "kernels_config": {
    "python": {
     "delete_cmd_postfix": "",
     "delete_cmd_prefix": "del ",
     "library": "var_list.py",
     "varRefreshCmd": "print(var_dic_list())"
    },
    "r": {
     "delete_cmd_postfix": ") ",
     "delete_cmd_prefix": "rm(",
     "library": "var_list.r",
     "varRefreshCmd": "cat(var_dic_list()) "
    }
   },
   "types_to_exclude": [
    "module",
    "function",
    "builtin_function_or_method",
    "instance",
    "_Feature"
   ],
   "window_display": false
  }
 },
 "nbformat": 4,
 "nbformat_minor": 2
}
