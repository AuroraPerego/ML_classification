{
 "cells": [
  {
   "cell_type": "code",
   "execution_count": 1,
   "metadata": {
    "ExecuteTime": {
     "end_time": "2020-01-21T08:15:23.618156Z",
     "start_time": "2020-01-21T08:15:22.788968Z"
    }
   },
   "outputs": [],
   "source": [
    "import pickle\n",
    "import pandas as pd\n",
    "import numpy as np\n",
    "import matplotlib.pyplot as plt\n",
    "import os\n",
    "from collections import defaultdict\n",
    "import matplotlib as mpl\n",
    "\n",
    "mpl.rcParams['figure.figsize'] = (5,5)\n",
    "mpl.rcParams['figure.dpi'] = 100\n",
    "mpl.rcParams[\"image.origin\"] = 'lower'"
   ]
  },
  {
   "cell_type": "code",
   "execution_count": 2,
   "metadata": {
    "ExecuteTime": {
     "end_time": "2020-01-21T08:15:25.621867Z",
     "start_time": "2020-01-21T08:15:25.617225Z"
    }
   },
   "outputs": [],
   "source": [
    "samples_dir = \"/eos/home-d/dmapelli/public/latino/Full2017v6_200121_v0\"\n",
    "cut = \"lowen_looseVBS\""
   ]
  },
  {
   "cell_type": "code",
   "execution_count": 7,
   "metadata": {
    "ExecuteTime": {
     "end_time": "2020-01-21T08:27:49.236751Z",
     "start_time": "2020-01-21T08:27:48.648887Z"
    }
   },
   "outputs": [],
   "source": [
    "samples = {}\n",
    "for file in os.listdir(os.path.join(samples_dir, cut)):\n",
    "    s = pickle.load(open(os.path.join(samples_dir, cut, file), \"rb\"))\n",
    "    sname = file.split(\"_part\")[0]\n",
    "    s.rename(columns=lambda c: c.split(cut+\"_\")[1] if cut in c else c, inplace=True)\n",
    "    s[\"sample\"]= sname\n",
    "    \n",
    "    if sname in samples:\n",
    "        samples[sname] = pd.concat([samples[sname], s], ignore_index=True)\n",
    "    else:\n",
    "        samples[sname] = s\n"
   ]
  },
  {
   "cell_type": "code",
   "execution_count": 8,
   "metadata": {
    "ExecuteTime": {
     "end_time": "2020-01-21T08:27:51.047411Z",
     "start_time": "2020-01-21T08:27:51.027821Z"
    },
    "scrolled": true
   },
   "outputs": [
    {
     "name": "stdout",
     "output_type": "stream",
     "text": [
      "Sample name DY        , nsamples:     107499,   XS total: 11054.585129103623\n",
      "Sample name VBS       , nsamples:     123434,   XS total: 542.991743729673\n",
      "Sample name Wjets     , nsamples:     605804,   XS total: 167509.18965719113\n",
      "Sample name top       , nsamples:      52217,   XS total: 14196.356755176434\n"
     ]
    }
   ],
   "source": [
    "for s, df in samples.items():\n",
    "    print(f\"Sample name {s:10}, nsamples: {len(df):10},   XS total: {(df.XSWeight*df.weight*df.puWeight).sum()*41:15}\")"
   ]
  },
  {
   "cell_type": "code",
   "execution_count": 9,
   "metadata": {
    "ExecuteTime": {
     "end_time": "2020-01-21T08:27:53.427183Z",
     "start_time": "2020-01-21T08:27:52.502830Z"
    }
   },
   "outputs": [],
   "source": [
    "background = pd.concat([\n",
    "                samples[\"top\"],\n",
    "                samples[\"DY\"].iloc[:samples[\"top\"].shape[0]],\n",
    "                samples[\"Wjets\"].iloc[:8*(samples[\"top\"].shape[0])]\n",
    "                ], ignore_index=True)"
   ]
  },
  {
   "cell_type": "code",
   "execution_count": 19,
   "metadata": {
    "ExecuteTime": {
     "end_time": "2020-01-21T08:34:24.964067Z",
     "start_time": "2020-01-21T08:34:24.300519Z"
    }
   },
   "outputs": [],
   "source": [
    "pickle.dump(background, open(f\"{samples_dir}/{cut}/background_part1.pkl\", \"wb\"))"
   ]
  },
  {
   "cell_type": "code",
   "execution_count": null,
   "metadata": {},
   "outputs": [],
   "source": []
  }
 ],
 "metadata": {
  "kernelspec": {
   "display_name": "Python 3",
   "language": "python",
   "name": "python3"
  },
  "toc": {
   "base_numbering": 1,
   "nav_menu": {},
   "number_sections": true,
   "sideBar": true,
   "skip_h1_title": false,
   "title_cell": "Table of Contents",
   "title_sidebar": "Contents",
   "toc_cell": false,
   "toc_position": {},
   "toc_section_display": true,
   "toc_window_display": false
  },
  "varInspector": {
   "cols": {
    "lenName": 16,
    "lenType": 16,
    "lenVar": 40
   },
   "kernels_config": {
    "python": {
     "delete_cmd_postfix": "",
     "delete_cmd_prefix": "del ",
     "library": "var_list.py",
     "varRefreshCmd": "print(var_dic_list())"
    },
    "r": {
     "delete_cmd_postfix": ") ",
     "delete_cmd_prefix": "rm(",
     "library": "var_list.r",
     "varRefreshCmd": "cat(var_dic_list()) "
    }
   },
   "types_to_exclude": [
    "module",
    "function",
    "builtin_function_or_method",
    "instance",
    "_Feature"
   ],
   "window_display": false
  }
 },
 "nbformat": 4,
 "nbformat_minor": 2
}
