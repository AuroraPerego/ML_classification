{
 "cells": [
  {
   "cell_type": "code",
   "execution_count": 1,
   "metadata": {
    "ExecuteTime": {
     "end_time": "2020-01-28T07:34:42.924771Z",
     "start_time": "2020-01-28T07:34:39.983555Z"
    }
   },
   "outputs": [],
   "source": [
    "import pickle\n",
    "import pandas as pd\n",
    "import numpy as np\n",
    "import matplotlib.pyplot as plt\n",
    "import os\n",
    "from collections import defaultdict\n",
    "import matplotlib as mpl\n",
    "\n",
    "mpl.rcParams['figure.figsize'] = (6,6)\n",
    "mpl.rcParams['figure.dpi'] = 100\n",
    "mpl.rcParams[\"image.origin\"] = 'lower'"
   ]
  },
  {
   "cell_type": "code",
   "execution_count": 2,
   "metadata": {
    "ExecuteTime": {
     "end_time": "2020-01-28T07:34:48.312349Z",
     "start_time": "2020-01-28T07:34:48.306483Z"
    }
   },
   "outputs": [],
   "source": [
    "samples_base_dir = \"/eos/home-d/dmapelli/public/latino/Full2017v6s5\"\n",
    "#cut     = \"boos_sig_mjjincl\"\n",
    "cut     = \"res_sig_mjjincl\"\n",
    "version = \"v8\"\n",
    "\n",
    "samples_dir = os.path.join(samples_base_dir, cut, \"samples/\" + version)"
   ]
  },
  {
   "cell_type": "code",
   "execution_count": 3,
   "metadata": {
    "ExecuteTime": {
     "end_time": "2020-01-28T07:34:49.283295Z",
     "start_time": "2020-01-28T07:34:49.273303Z"
    }
   },
   "outputs": [
    {
     "data": {
      "text/plain": [
       "'/eos/home-d/dmapelli/public/latino/Full2017v6s5/res_sig_mjjincl/samples/v8'"
      ]
     },
     "execution_count": 3,
     "metadata": {},
     "output_type": "execute_result"
    }
   ],
   "source": [
    "samples_dir"
   ]
  },
  {
   "cell_type": "code",
   "execution_count": 4,
   "metadata": {
    "ExecuteTime": {
     "end_time": "2020-01-28T07:35:22.111812Z",
     "start_time": "2020-01-28T07:35:01.021190Z"
    }
   },
   "outputs": [
    {
     "name": "stdout",
     "output_type": "stream",
     "text": [
      "DY_part1.pkl\n",
      "DY_part2.pkl\n",
      "DY_part3.pkl\n",
      "VBS_part1.pkl\n",
      "VV_part1.pkl\n",
      "Wjets_part1.pkl\n",
      "Wjets_part2.pkl\n",
      "top_part1.pkl\n"
     ]
    }
   ],
   "source": [
    "classes = { \"VBS\": 0, \"Wjets\":1, \"top\": 2, \"DY\": 3, \"VV\":4}\n",
    "signal = \"VBS\"\n",
    "sample_names = [\"Wjets\", \"VBS\", \"DY\", \"top\", \"VV\"]\n",
    "\n",
    "samples = {}\n",
    "\n",
    "for file in os.listdir(samples_dir):\n",
    "    if os.path.isdir(os.path.join(samples_dir, file)): continue\n",
    "    print(file)    \n",
    "    sname = file.split(\"_part\")[0]\n",
    "    s = pickle.load(open(os.path.join(samples_dir, file), \"rb\"))\n",
    "    s.rename(columns=lambda c: c.split(cut+\"_\")[1] if cut in c else c, inplace=True)\n",
    "    s[\"sample_name\"]= sname\n",
    "    s[\"class\"] = classes[sname]\n",
    "    if sname == signal:\n",
    "        s[\"signal\"] = 1\n",
    "    else: \n",
    "        s[\"signal\"] = 0\n",
    "    if sname in samples:\n",
    "        samples[sname] = pd.concat([samples[sname], s], ignore_index=True)\n",
    "    else:\n",
    "        samples[sname] = s"
   ]
  },
  {
   "cell_type": "code",
   "execution_count": 5,
   "metadata": {
    "ExecuteTime": {
     "end_time": "2020-01-28T07:37:09.761473Z",
     "start_time": "2020-01-28T07:37:09.746324Z"
    },
    "scrolled": true
   },
   "outputs": [
    {
     "name": "stdout",
     "output_type": "stream",
     "text": [
      "Sample name DY        , nsamples:      63226,   XS total: 13527.263839141653\n",
      "Sample name VBS       , nsamples:     126560,   XS total: 570.2950969281825\n",
      "Sample name VV        , nsamples:     346341,   XS total: 5291.9715214773205\n",
      "Sample name Wjets     , nsamples:     617169,   XS total: 99751.35632940383\n",
      "Sample name top       , nsamples:      61959,   XS total: 16728.767881188673\n"
     ]
    }
   ],
   "source": [
    "for s, df in samples.items():\n",
    "    print(f\"Sample name {s:10}, nsamples: {len(df):10},   XS total: {(df.weight_).sum()*41.5 :15}\")"
   ]
  },
  {
   "cell_type": "code",
   "execution_count": 6,
   "metadata": {
    "ExecuteTime": {
     "end_time": "2020-01-27T09:33:40.343301Z",
     "start_time": "2020-01-27T09:33:37.169820Z"
    }
   },
   "outputs": [],
   "source": [
    "from sklearn.utils.class_weight import compute_sample_weight, compute_class_weight\n",
    "from sklearn.preprocessing import LabelEncoder "
   ]
  },
  {
   "cell_type": "markdown",
   "metadata": {},
   "source": [
    "## Balancing"
   ]
  },
  {
   "cell_type": "code",
   "execution_count": 7,
   "metadata": {
    "ExecuteTime": {
     "end_time": "2020-01-27T21:28:07.968604Z",
     "start_time": "2020-01-27T21:28:07.394402Z"
    }
   },
   "outputs": [
    {
     "data": {
      "image/png": "[encoded data removed]",
      "text/plain": [
       "<Figure size 432x288 with 1 Axes>"
      ]
     },
     "metadata": {},
     "output_type": "display_data"
    }
   ],
   "source": [
    "_ = plt.hist(samples[\"Wjets\"][\"weight_\"], bins=100, range=(0,0.1))\n"
   ]
  },
  {
   "cell_type": "code",
   "execution_count": 8,
   "metadata": {
    "ExecuteTime": {
     "end_time": "2020-01-27T10:10:29.912406Z",
     "start_time": "2020-01-27T10:10:29.336177Z"
    }
   },
   "outputs": [],
   "source": [
    "# _ = plt.hist(samples[\"top\"].XSWeight*130, bins=100, range=(0,1))\n",
    "#plt.xscale(\"log\")"
   ]
  },
  {
   "cell_type": "code",
   "execution_count": 9,
   "metadata": {
    "ExecuteTime": {
     "end_time": "2020-01-27T10:10:34.454832Z",
     "start_time": "2020-01-27T10:10:33.867054Z"
    }
   },
   "outputs": [],
   "source": [
    "# _ = plt.hist(samples[\"DY\"].XSWeight*130, bins=100, range=(0,1))"
   ]
  },
  {
   "cell_type": "code",
   "execution_count": 10,
   "metadata": {
    "ExecuteTime": {
     "end_time": "2020-01-27T08:14:18.529380Z",
     "start_time": "2020-01-27T08:14:17.908125Z"
    }
   },
   "outputs": [],
   "source": [
    "# _ = plt.hist(samples[\"VBS\"].XSWeight*(1/samples[\"VBS\"].XSWeight.mean()), bins=100, range=(0,2))"
   ]
  },
  {
   "cell_type": "code",
   "execution_count": 11,
   "metadata": {
    "ExecuteTime": {
     "end_time": "2020-01-27T08:45:20.082529Z",
     "start_time": "2020-01-27T08:45:19.446167Z"
    }
   },
   "outputs": [],
   "source": [
    "# _= plt.hist( samples[\"Wjets\"].XSWeight*1000, bins=100, range=(0, 2))"
   ]
  },
  {
   "cell_type": "code",
   "execution_count": 12,
   "metadata": {
    "ExecuteTime": {
     "end_time": "2020-01-27T08:36:28.930252Z",
     "start_time": "2020-01-27T08:36:28.325262Z"
    }
   },
   "outputs": [],
   "source": [
    "# _= plt.hist( (background.XSWeight *(1/ background.XSWeight.mean()))*10  , bins=100, range=(0, 10))"
   ]
  },
  {
   "cell_type": "code",
   "execution_count": 13,
   "metadata": {
    "ExecuteTime": {
     "end_time": "2020-01-28T07:43:13.556258Z",
     "start_time": "2020-01-28T07:43:13.064049Z"
    }
   },
   "outputs": [],
   "source": [
    "background = pd.concat([\n",
    "                samples[\"top\"],\n",
    "                samples[\"DY\"],\n",
    "                samples[\"Wjets\"],\n",
    "                samples[\"VV\"]\n",
    "                ], ignore_index=True)"
   ]
  },
  {
   "cell_type": "code",
   "execution_count": 14,
   "metadata": {
    "ExecuteTime": {
     "end_time": "2020-01-28T07:43:15.249927Z",
     "start_time": "2020-01-28T07:43:15.245280Z"
    }
   },
   "outputs": [],
   "source": [
    "signal = samples[\"VBS\"]"
   ]
  },
  {
   "cell_type": "code",
   "execution_count": 15,
   "metadata": {
    "ExecuteTime": {
     "end_time": "2020-01-28T07:43:49.543281Z",
     "start_time": "2020-01-28T07:43:49.537023Z"
    }
   },
   "outputs": [
    {
     "name": "stdout",
     "output_type": "stream",
     "text": [
      "8.602204487989885\n"
     ]
    }
   ],
   "source": [
    "ratio_neve_bkgsignal= len(background) / len(signal)\n",
    "print(ratio_neve_bkgsignal)"
   ]
  },
  {
   "cell_type": "code",
   "execution_count": 16,
   "metadata": {
    "ExecuteTime": {
     "end_time": "2020-01-28T07:43:50.163173Z",
     "start_time": "2020-01-28T07:43:50.155565Z"
    }
   },
   "outputs": [
    {
     "name": "stdout",
     "output_type": "stream",
     "text": [
      "TOT signal weighted events 126559.99999999996\n"
     ]
    }
   ],
   "source": [
    "tot_ev_weighted_sig = (signal.weight_ / signal.weight_.mean()).sum()\n",
    "print(\"TOT signal weighted events\", tot_ev_weighted_sig)"
   ]
  },
  {
   "cell_type": "code",
   "execution_count": 17,
   "metadata": {
    "ExecuteTime": {
     "end_time": "2020-01-28T07:43:50.755782Z",
     "start_time": "2020-01-28T07:43:50.742582Z"
    }
   },
   "outputs": [
    {
     "name": "stdout",
     "output_type": "stream",
     "text": [
      "333.9324195117137\n"
     ]
    }
   ],
   "source": [
    "rescale_factor_bkg = (tot_ev_weighted_sig *ratio_neve_bkgsignal )/ background.weight_.sum()\n",
    "print(rescale_factor_bkg)"
   ]
  },
  {
   "cell_type": "code",
   "execution_count": 18,
   "metadata": {
    "ExecuteTime": {
     "end_time": "2020-01-28T07:44:26.056766Z",
     "start_time": "2020-01-28T07:44:26.040089Z"
    }
   },
   "outputs": [],
   "source": [
    "signal[\"weight_norm\"] = signal.weight_ / signal.weight_.mean()\n",
    "background[\"weight_norm\"] = background.weight_ * rescale_factor_bkg"
   ]
  },
  {
   "cell_type": "markdown",
   "metadata": {},
   "source": [
    "## Save signal and bkg samples"
   ]
  },
  {
   "cell_type": "code",
   "execution_count": 19,
   "metadata": {
    "ExecuteTime": {
     "end_time": "2020-01-28T07:44:41.365466Z",
     "start_time": "2020-01-28T07:44:39.093719Z"
    }
   },
   "outputs": [],
   "source": [
    "import os\n",
    "\n",
    "os.makedirs(os.path.join(samples_dir, \"for_training\"), exist_ok=True)\n",
    "pickle.dump(background, open(os.path.join(samples_dir, \"for_training/background_balanced.pkl\"), \"wb\"))\n",
    "pickle.dump(signal, open(os.path.join(samples_dir, \"for_training/signal_balanced.pkl\"), \"wb\"))"
   ]
  },
  {
   "cell_type": "code",
   "execution_count": 20,
   "metadata": {
    "ExecuteTime": {
     "end_time": "2020-01-28T07:44:56.207171Z",
     "start_time": "2020-01-28T07:44:55.297009Z"
    }
   },
   "outputs": [
    {
     "data": {
      "image/png": "[encoded data removed]",
      "text/plain": [
       "<Figure size 432x288 with 1 Axes>"
      ]
     },
     "metadata": {},
     "output_type": "display_data"
    }
   ],
   "source": [
    "plt.hist(background[\"weight_norm\"], bins=100, range=(0, 100))\n",
    "plt.yscale(\"log\")"
   ]
  },
  {
   "cell_type": "markdown",
   "metadata": {},
   "source": [
    "The total number of events will be manually balanced"
   ]
  }
 ],
 "metadata": {
  "kernelspec": {
   "display_name": "Python 3",
   "language": "python",
   "name": "python3"
  },
  "language_info": {
   "codemirror_mode": {
    "name": "ipython",
    "version": 3
   },
   "file_extension": ".py",
   "mimetype": "text/x-python",
   "name": "python",
   "nbconvert_exporter": "python",
   "pygments_lexer": "ipython3",
   "version": "3.6.5"
  },
  "toc": {
   "base_numbering": 1,
   "nav_menu": {},
   "number_sections": true,
   "sideBar": true,
   "skip_h1_title": false,
   "title_cell": "Table of Contents",
   "title_sidebar": "Contents",
   "toc_cell": false,
   "toc_position": {},
   "toc_section_display": true,
   "toc_window_display": false
  },
  "varInspector": {
   "cols": {
    "lenName": 16,
    "lenType": 16,
    "lenVar": 40
   },
   "kernels_config": {
    "python": {
     "delete_cmd_postfix": "",
     "delete_cmd_prefix": "del ",
     "library": "var_list.py",
     "varRefreshCmd": "print(var_dic_list())"
    },
    "r": {
     "delete_cmd_postfix": ") ",
     "delete_cmd_prefix": "rm(",
     "library": "var_list.r",
     "varRefreshCmd": "cat(var_dic_list()) "
    }
   },
   "types_to_exclude": [
    "module",
    "function",
    "builtin_function_or_method",
    "instance",
    "_Feature"
   ],
   "window_display": false
  }
 },
 "nbformat": 4,
 "nbformat_minor": 2
}
