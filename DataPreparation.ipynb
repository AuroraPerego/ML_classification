{
 "cells": [
  {
   "cell_type": "code",
   "execution_count": 1,
   "metadata": {
    "ExecuteTime": {
     "end_time": "2020-01-20T14:11:42.166363Z",
     "start_time": "2020-01-20T14:11:40.927581Z"
    }
   },
   "outputs": [],
   "source": [
    "import pickle\n",
    "import pandas as pd\n",
    "import numpy as np\n",
    "import matplotlib.pyplot as plt\n",
    "import os\n",
    "from collections import defaultdict\n",
    "import matplotlib as mpl\n",
    "\n",
    "mpl.rcParams['figure.figsize'] = (5,5)\n",
    "mpl.rcParams['figure.dpi'] = 100\n",
    "mpl.rcParams[\"image.origin\"] = 'lower'"
   ]
  },
  {
   "cell_type": "code",
   "execution_count": 2,
   "metadata": {
    "ExecuteTime": {
     "end_time": "2020-01-20T14:11:42.214215Z",
     "start_time": "2020-01-20T14:11:42.211288Z"
    }
   },
   "outputs": [],
   "source": [
    "samples_dir = \"/eos/home-d/dmapelli/public/latino/Full2017v6_200120_v1\"\n",
    "cut = \"lowen_looseVBS\""
   ]
  },
  {
   "cell_type": "code",
   "execution_count": 3,
   "metadata": {
    "ExecuteTime": {
     "end_time": "2020-01-20T14:12:22.055669Z",
     "start_time": "2020-01-20T14:11:43.862401Z"
    }
   },
   "outputs": [
    {
     "name": "stdout",
     "output_type": "stream",
     "text": [
      "Welcome to JupyROOT 6.18/00\n"
     ]
    }
   ],
   "source": [
    "samples = {}\n",
    "for file in os.listdir(os.path.join(samples_dir, cut)):\n",
    "    s = pickle.load(open(os.path.join(samples_dir, cut, file), \"rb\"))\n",
    "    sname = file.split(\"_part\")[0]\n",
    "    s.rename(columns=lambda c: c.split(cut+\"_\")[1] if cut in c else c, inplace=True)\n",
    "    if sname in samples:\n",
    "        samples[sname] = pd.concat([samples[sname], s], ignore_index=True)\n",
    "    else:\n",
    "        samples[sname] = s\n"
   ]
  },
  {
   "cell_type": "code",
   "execution_count": 5,
   "metadata": {
    "ExecuteTime": {
     "end_time": "2020-01-20T14:16:18.665618Z",
     "start_time": "2020-01-20T14:16:18.580085Z"
    },
    "scrolled": false
   },
   "outputs": [
    {
     "name": "stdout",
     "output_type": "stream",
     "text": [
      "Sample name DY        , nsamples:     107499,   XS total: 269.02867965738903\n",
      "Sample name VBS       , nsamples:     123434,   XS total: 13.22248934438796\n",
      "Sample name Wjets     , nsamples:     605804,   XS total: 4073.941544052166\n",
      "Sample name top       , nsamples:      52217,   XS total: 345.00694427212994\n"
     ]
    }
   ],
   "source": [
    "for s, df in samples.items():\n",
    "    print(f\"Sample name {s:10}, nsamples: {len(df):10},   XS total: {(df.XSWeight*df.weight).sum():15}\")"
   ]
  },
  {
   "cell_type": "code",
   "execution_count": 15,
   "metadata": {
    "ExecuteTime": {
     "end_time": "2020-01-20T14:33:42.243967Z",
     "start_time": "2020-01-20T14:33:42.216173Z"
    }
   },
   "outputs": [
    {
     "data": {
      "text/plain": [
       "Index(['weight', 'XSWeight', 'TriggerEffWeight_1l', 'btagSF', 'puWeight',\n",
       "       'EMTFbug_veto', 'PrefireWeight', 'Lepton_RecoSF_0', 'LepWPCut',\n",
       "       'LepWPWeight', 'events', 'Lepton_pt', 'Lepton_eta', 'Lepton_phi',\n",
       "       'Lepton_flavour', 'PuppiMET', 'PuppiMET_phi', 'MET_pt', 'recoMET_pz',\n",
       "       'nJets', 'N_jets_central', 'N_jets_forward', 'mjj_vbs', 'deltaeta_vbs',\n",
       "       'deltaphi_vbs', 'vbs_etaprod', 'vbs_0_pt', 'vbs_1_pt', 'vbs_0_eta',\n",
       "       'vbs_1_eta', 'vbs_0_phi', 'vbs_1_phi', 'vbs_index_0', 'vbs_index_1',\n",
       "       'mjj_vjet', 'vjet_0_pt', 'vjet_1_pt', 'vjet_0_eta', 'vjet_1_eta',\n",
       "       'vjet_0_phi', 'vjet_1_phi', 'vjet_index_0', 'vjet_index_1', 'Zvjets_0',\n",
       "       'Zlep', 'Asym_vbs', 'Asym_vjet', 'Mw_lep_reco', 'Mtw_lep', 'w_lep_pt',\n",
       "       'Mww', 'R_ww', 'R_mw', 'A_ww', 'Centr_vbs', 'Centr_ww', 'nvtx', 'qgl'],\n",
       "      dtype='object')"
      ]
     },
     "execution_count": 15,
     "metadata": {},
     "output_type": "execute_result"
    }
   ],
   "source": [
    "df = samples[\"Wjets\"]\n",
    "df.columns"
   ]
  },
  {
   "cell_type": "code",
   "execution_count": 23,
   "metadata": {
    "ExecuteTime": {
     "end_time": "2020-01-20T15:20:38.003434Z",
     "start_time": "2020-01-20T15:20:13.322749Z"
    },
    "scrolled": false
   },
   "outputs": [
    {
     "data": {
      "text/plain": [
       "<matplotlib.collections.PathCollection at 0x7f318fc3e5c0>"
      ]
     },
     "execution_count": 23,
     "metadata": {},
     "output_type": "execute_result"
    },
    {
     "data": {
      "image/png": "[encoded data removed]",
      "text/plain": [
       "<Figure size 432x288 with 1 Axes>"
      ]
     },
     "metadata": {},
     "output_type": "display_data"
    }
   ],
   "source": [
    "plt.scatter(df.weight, df.btagSF)"
   ]
  },
  {
   "cell_type": "code",
   "execution_count": null,
   "metadata": {
    "ExecuteTime": {
     "start_time": "2020-01-20T15:21:16.752Z"
    }
   },
   "outputs": [],
   "source": [
    "plt.scatter(df.weight, df.Lepton_RecoSF)"
   ]
  },
  {
   "cell_type": "code",
   "execution_count": 12,
   "metadata": {
    "ExecuteTime": {
     "end_time": "2020-01-20T14:29:25.700107Z",
     "start_time": "2020-01-20T14:29:23.164862Z"
    }
   },
   "outputs": [
    {
     "data": {
      "image/png": "[encoded data removed]",
      "text/plain": [
       "<Figure size 432x288 with 1 Axes>"
      ]
     },
     "metadata": {},
     "output_type": "display_data"
    }
   ],
   "source": [
    "_ = plt.hist(df.btagSF, bins=100)\n",
    "plt.yscale(\"log\")\n",
    "\n"
   ]
  },
  {
   "cell_type": "code",
   "execution_count": 45,
   "metadata": {
    "ExecuteTime": {
     "end_time": "2020-01-20T11:09:59.103824Z",
     "start_time": "2020-01-20T11:09:57.955423Z"
    }
   },
   "outputs": [
    {
     "data": {
      "image/png": "[encoded data removed]",
      "text/plain": [
       "<Figure size 500x500 with 1 Axes>"
      ]
     },
     "metadata": {},
     "output_type": "display_data"
    }
   ],
   "source": [
    "df = samples[\"VBS\"]\n",
    "_ = plt.hist(df[(df.Lepton_flavour==11) & (df.Lepton_pt > 40)].Lepton_pt, bins=100 )\n",
    "plt.yscale(\"log\")"
   ]
  },
  {
   "cell_type": "code",
   "execution_count": null,
   "metadata": {},
   "outputs": [],
   "source": []
  }
 ],
 "metadata": {
  "kernelspec": {
   "display_name": "Python 3",
   "language": "python",
   "name": "python3"
  },
  "language_info": {
   "codemirror_mode": {
    "name": "ipython",
    "version": 3
   },
   "file_extension": ".py",
   "mimetype": "text/x-python",
   "name": "python",
   "nbconvert_exporter": "python",
   "pygments_lexer": "ipython3",
   "version": "3.6.5"
  },
  "toc": {
   "base_numbering": 1,
   "nav_menu": {},
   "number_sections": true,
   "sideBar": true,
   "skip_h1_title": false,
   "title_cell": "Table of Contents",
   "title_sidebar": "Contents",
   "toc_cell": false,
   "toc_position": {},
   "toc_section_display": true,
   "toc_window_display": false
  },
  "varInspector": {
   "cols": {
    "lenName": 16,
    "lenType": 16,
    "lenVar": 40
   },
   "kernels_config": {
    "python": {
     "delete_cmd_postfix": "",
     "delete_cmd_prefix": "del ",
     "library": "var_list.py",
     "varRefreshCmd": "print(var_dic_list())"
    },
    "r": {
     "delete_cmd_postfix": ") ",
     "delete_cmd_prefix": "rm(",
     "library": "var_list.r",
     "varRefreshCmd": "cat(var_dic_list()) "
    }
   },
   "types_to_exclude": [
    "module",
    "function",
    "builtin_function_or_method",
    "instance",
    "_Feature"
   ],
   "window_display": false
  }
 },
 "nbformat": 4,
 "nbformat_minor": 2
}
