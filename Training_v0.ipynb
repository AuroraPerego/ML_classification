{
 "cells": [
  {
   "cell_type": "code",
   "execution_count": 67,
   "metadata": {
    "ExecuteTime": {
     "end_time": "2020-01-21T08:58:40.100225Z",
     "start_time": "2020-01-21T08:58:40.092492Z"
    }
   },
   "outputs": [],
   "source": [
    "import pickle\n",
    "import pandas as pd\n",
    "import numpy as np\n",
    "import matplotlib.pyplot as plt\n",
    "import os\n",
    "from collections import defaultdict\n",
    "import matplotlib as mpl\n",
    "\n",
    "mpl.rcParams['figure.figsize'] = (6,6)\n",
    "mpl.rcParams['figure.dpi'] = 100\n",
    "mpl.rcParams[\"image.origin\"] = 'lower'"
   ]
  },
  {
   "cell_type": "code",
   "execution_count": 2,
   "metadata": {
    "ExecuteTime": {
     "end_time": "2020-01-21T08:40:49.171636Z",
     "start_time": "2020-01-21T08:40:49.166832Z"
    }
   },
   "outputs": [],
   "source": [
    "samples_dir = \"/eos/home-d/dmapelli/public/latino/Full2017v6_200121_v0\"\n",
    "cut = \"lowen_looseVBS\""
   ]
  },
  {
   "cell_type": "code",
   "execution_count": 3,
   "metadata": {
    "ExecuteTime": {
     "end_time": "2020-01-21T08:40:49.370435Z",
     "start_time": "2020-01-21T08:40:49.342101Z"
    }
   },
   "outputs": [
    {
     "data": {
      "text/plain": [
       "['DY_part1.pkl',\n",
       " 'DY_part2.pkl',\n",
       " 'DY_part3.pkl',\n",
       " 'VBS_part1.pkl',\n",
       " 'Wjets_part1.pkl',\n",
       " 'background_part1.pkl',\n",
       " 'top_part1.pkl']"
      ]
     },
     "execution_count": 3,
     "metadata": {},
     "output_type": "execute_result"
    }
   ],
   "source": [
    "os.listdir(os.path.join(samples_dir, cut))"
   ]
  },
  {
   "cell_type": "code",
   "execution_count": 4,
   "metadata": {
    "ExecuteTime": {
     "end_time": "2020-01-21T08:41:05.014645Z",
     "start_time": "2020-01-21T08:40:49.494535Z"
    }
   },
   "outputs": [],
   "source": [
    "samples = {}\n",
    "for sname in [\"VBS\", \"background\"]:\n",
    "    files = [f for f in os.listdir(os.path.join(samples_dir, cut)) if sname in f]\n",
    "    for file in files:\n",
    "        s = pickle.load(open(os.path.join(samples_dir, cut, file), \"rb\"))\n",
    "        sname = file.split(\"_part\")[0]\n",
    "        s.rename(columns=lambda c: c.split(cut+\"_\")[1] if cut in c else c, inplace=True)\n",
    "        s[\"sample\"]= sname\n",
    "\n",
    "        if sname in samples:\n",
    "            samples[sname] = pd.concat([samples[sname], s], ignore_index=True)\n",
    "        else:\n",
    "            samples[sname] = s\n"
   ]
  },
  {
   "cell_type": "code",
   "execution_count": 5,
   "metadata": {
    "ExecuteTime": {
     "end_time": "2020-01-21T08:41:06.421821Z",
     "start_time": "2020-01-21T08:41:06.399462Z"
    },
    "scrolled": false
   },
   "outputs": [
    {
     "name": "stdout",
     "output_type": "stream",
     "text": [
      "Sample name VBS       , nsamples:     123434,   XS total: 542.991743729673\n",
      "Sample name background, nsamples:     522170,   XS total: 177007.07816240547\n"
     ]
    }
   ],
   "source": [
    "for s, df in samples.items():\n",
    "    print(f\"Sample name {s:10}, nsamples: {len(df):10},   XS total: {(df.XSWeight*df.weight*df.puWeight).sum()*41:15}\")"
   ]
  },
  {
   "cell_type": "code",
   "execution_count": 93,
   "metadata": {
    "ExecuteTime": {
     "end_time": "2020-01-21T09:25:33.458982Z",
     "start_time": "2020-01-21T09:25:33.452172Z"
    }
   },
   "outputs": [
    {
     "data": {
      "text/plain": [
       "Index(['weight', 'XSWeight', 'Lepton_RecoSF', 'LepWPWeight', 'puWeight',\n",
       "       'TriggerEffWeight_1l', 'btagSF', 'PrefireWeight', 'events', 'Lepton_pt',\n",
       "       'Lepton_eta', 'Lepton_phi', 'Lepton_flavour', 'PuppiMET',\n",
       "       'PuppiMET_phi', 'MET_pt', 'recoMET_pz', 'nJets', 'N_jets_central',\n",
       "       'N_jets_forward', 'mjj_vbs', 'deltaeta_vbs', 'deltaphi_vbs',\n",
       "       'vbs_etaprod', 'vbs_0_pt', 'vbs_1_pt', 'vbs_0_eta', 'vbs_1_eta',\n",
       "       'vbs_0_phi', 'vbs_1_phi', 'vbs_index_0', 'vbs_index_1', 'mjj_vjet',\n",
       "       'vjet_0_pt', 'vjet_1_pt', 'vjet_0_eta', 'vjet_1_eta', 'vjet_0_phi',\n",
       "       'vjet_1_phi', 'vjet_index_0', 'vjet_index_1', 'Zvjets_0', 'Zlep',\n",
       "       'Asym_vbs', 'Asym_vjet', 'Mw_lep_reco', 'Mtw_lep', 'w_lep_pt', 'Mww',\n",
       "       'R_ww', 'R_mw', 'A_ww', 'Centr_vbs', 'Centr_ww', 'nvtx', 'qgl',\n",
       "       'sample'],\n",
       "      dtype='object')"
      ]
     },
     "execution_count": 93,
     "metadata": {},
     "output_type": "execute_result"
    }
   ],
   "source": [
    "samples[\"VBS\"].columns"
   ]
  },
  {
   "cell_type": "markdown",
   "metadata": {},
   "source": [
    "## Samples preparation for NN"
   ]
  },
  {
   "cell_type": "code",
   "execution_count": 6,
   "metadata": {
    "ExecuteTime": {
     "end_time": "2020-01-21T08:41:15.401944Z",
     "start_time": "2020-01-21T08:41:08.825127Z"
    }
   },
   "outputs": [
    {
     "name": "stderr",
     "output_type": "stream",
     "text": [
      "Using TensorFlow backend.\n"
     ]
    }
   ],
   "source": [
    "from sklearn.preprocessing import MinMaxScaler, StandardScaler, QuantileTransformer\n",
    "from sklearn.model_selection import train_test_split\n",
    "from imblearn.keras import balanced_batch_generator\n",
    "from imblearn.over_sampling import RandomOverSampler\n",
    "import tensorflow\n",
    "import keras\n",
    "import pandas as pd\n",
    "import numpy as np\n",
    "import matplotlib.pyplot as plt\n",
    "from keras.datasets import mnist\n",
    "from keras.models import Model, Sequential\n",
    "from keras.layers import Dense, Conv2D, Dropout, BatchNormalization, Input, Reshape, Flatten, Deconvolution2D, Conv2DTranspose, MaxPooling2D, UpSampling2D, Lambda\n",
    "from keras.layers.advanced_activations import LeakyReLU\n",
    "from keras.optimizers import adam\n",
    "from keras import backend as K\n",
    "from keras.callbacks import *"
   ]
  },
  {
   "cell_type": "code",
   "execution_count": 7,
   "metadata": {
    "ExecuteTime": {
     "end_time": "2020-01-21T08:41:16.930587Z",
     "start_time": "2020-01-21T08:41:16.924879Z"
    }
   },
   "outputs": [],
   "source": [
    "cols = [\"mjj_vbs\", \"mjj_vjet\", \"deltaeta_vbs\", \"vbs_0_pt\", \"vbs_1_pt\", \"vbs_0_eta\", \"vbs_1_eta\", \"Lepton_pt\", \"Lepton_eta\", \"Lepton_flavour\"]\n",
    "weights = [\"btagSF\", \"Lepton_Reco\"]"
   ]
  },
  {
   "cell_type": "code",
   "execution_count": 38,
   "metadata": {
    "ExecuteTime": {
     "end_time": "2020-01-21T08:50:31.754046Z",
     "start_time": "2020-01-21T08:50:31.667225Z"
    }
   },
   "outputs": [],
   "source": [
    "X_sig = samples[\"VBS\"][cols].values\n",
    "X_bkg = samples[\"background\"][cols].values\n",
    "Y_sig = np.ones(len(X_sig))\n",
    "Y_bkg = np.zeros(len(X_bkg))"
   ]
  },
  {
   "cell_type": "markdown",
   "metadata": {},
   "source": [
    "Stack arrays in one only ntuple"
   ]
  },
  {
   "cell_type": "code",
   "execution_count": 39,
   "metadata": {
    "ExecuteTime": {
     "end_time": "2020-01-21T08:50:34.079039Z",
     "start_time": "2020-01-21T08:50:34.018121Z"
    }
   },
   "outputs": [],
   "source": [
    "X = np.vstack([X_sig, X_bkg])\n",
    "Y = np.hstack([Y_sig, Y_bkg])"
   ]
  },
  {
   "cell_type": "code",
   "execution_count": 19,
   "metadata": {
    "ExecuteTime": {
     "end_time": "2020-01-21T08:47:47.577832Z",
     "start_time": "2020-01-21T08:47:47.251670Z"
    }
   },
   "outputs": [],
   "source": [
    "scaler = StandardScaler()\n",
    "X_scaled = scaler.fit_transform(X)\n",
    "pickle.dump(scaler, open(f\"{samples_dir}/{cut}/models/scaler_model_v0.pkl\", \"wb\"))"
   ]
  },
  {
   "cell_type": "code",
   "execution_count": 62,
   "metadata": {
    "ExecuteTime": {
     "end_time": "2020-01-21T08:57:59.219296Z",
     "start_time": "2020-01-21T08:57:59.214681Z"
    }
   },
   "outputs": [],
   "source": [
    "den=True"
   ]
  },
  {
   "cell_type": "code",
   "execution_count": 71,
   "metadata": {
    "ExecuteTime": {
     "end_time": "2020-01-21T08:59:15.906717Z",
     "start_time": "2020-01-21T08:59:14.201630Z"
    }
   },
   "outputs": [
    {
     "data": {
      "image/png": "[encoded data removed]",
      "text/plain": [
       "<Figure size 600x600 with 1 Axes>"
      ]
     },
     "metadata": {},
     "output_type": "display_data"
    }
   ],
   "source": [
    "_ = plt.hist(X[Y==0][:,7], bins=100, density=den, alpha=0.5)\n",
    "_ = plt.hist(X[Y==1][:,7], bins=100, color=\"r\", density=den, alpha=0.5)\n",
    "plt.yscale(\"log\")\n",
    "#plt.scatter(X_scaled[Y==1][:,4], X_scaled[Y==1][:,1], c=\"b\")"
   ]
  },
  {
   "cell_type": "markdown",
   "metadata": {
    "ExecuteTime": {
     "end_time": "2020-01-21T08:50:38.324736Z",
     "start_time": "2020-01-21T08:50:38.320100Z"
    }
   },
   "source": [
    "##  Balancing\n",
    "Let's give 25% to validation (validation during training + test). \n",
    "The validation is then split in 50%-50% for training validation and final result"
   ]
  },
  {
   "cell_type": "code",
   "execution_count": 72,
   "metadata": {
    "ExecuteTime": {
     "end_time": "2020-01-21T09:00:19.207875Z",
     "start_time": "2020-01-21T09:00:18.969080Z"
    }
   },
   "outputs": [],
   "source": [
    "X_train, X_test, y_train, y_test = train_test_split(X_scaled, Y, test_size=0.25)\n",
    "X_val, X_test, y_val, y_test = train_test_split(X_test, y_test, test_size=0.5)"
   ]
  },
  {
   "cell_type": "markdown",
   "metadata": {},
   "source": [
    "Create generators to balance signal and background"
   ]
  },
  {
   "cell_type": "code",
   "execution_count": 76,
   "metadata": {
    "ExecuteTime": {
     "end_time": "2020-01-21T09:01:22.030613Z",
     "start_time": "2020-01-21T09:01:21.557406Z"
    }
   },
   "outputs": [],
   "source": [
    "training_generator, steps_per_epoch_train = balanced_batch_generator(X_train, y_train,  batch_size=1024, sampler=RandomOverSampler())\n",
    "validation_generator, steps_per_epoch_val = balanced_batch_generator(X_val, y_val, batch_size=1024, sampler=RandomOverSampler())"
   ]
  },
  {
   "cell_type": "markdown",
   "metadata": {},
   "source": [
    "## Keras model"
   ]
  },
  {
   "cell_type": "code",
   "execution_count": 87,
   "metadata": {
    "ExecuteTime": {
     "end_time": "2020-01-21T09:12:02.084659Z",
     "start_time": "2020-01-21T09:12:01.890099Z"
    }
   },
   "outputs": [
    {
     "name": "stdout",
     "output_type": "stream",
     "text": [
      "_________________________________________________________________\n",
      "Layer (type)                 Output Shape              Param #   \n",
      "=================================================================\n",
      "dense_3 (Dense)              (None, 50)                550       \n",
      "_________________________________________________________________\n",
      "dense_4 (Dense)              (None, 50)                2550      \n",
      "_________________________________________________________________\n",
      "dense_5 (Dense)              (None, 1)                 51        \n",
      "=================================================================\n",
      "Total params: 3,151\n",
      "Trainable params: 3,151\n",
      "Non-trainable params: 0\n",
      "_________________________________________________________________\n"
     ]
    }
   ],
   "source": [
    "model = Sequential()\n",
    "model.add(Dense(50, input_dim=X_train.shape[1], activation=\"relu\"))\n",
    "#model.add(Dropout(0.3))\n",
    "#model.add(Dense(80, activation=\"relu\"))\n",
    "#model.add(Dropout(0.3))\n",
    "model.add(Dense(50, activation=\"relu\"))\n",
    "#model.add(Dropout(0.3))\n",
    "model.add(Dense(1, activation=\"sigmoid\"))\n",
    "\n",
    "model.compile(optimizer='adam',\n",
    "              loss='binary_crossentropy',\n",
    "              metrics=['accuracy'])\n",
    "\n",
    "model.summary()"
   ]
  },
  {
   "cell_type": "code",
   "execution_count": 88,
   "metadata": {
    "ExecuteTime": {
     "end_time": "2020-01-21T09:12:36.988008Z",
     "start_time": "2020-01-21T09:12:04.607800Z"
    },
    "scrolled": false
   },
   "outputs": [
    {
     "name": "stdout",
     "output_type": "stream",
     "text": [
      "Epoch 1/50\n",
      "764/764 [==============================] - 2s 3ms/step - loss: 0.5527 - acc: 0.7068 - val_loss: 0.5420 - val_acc: 0.7151\n",
      "Epoch 2/50\n",
      "764/764 [==============================] - 2s 3ms/step - loss: 0.5408 - acc: 0.7167 - val_loss: 0.5403 - val_acc: 0.7178\n",
      "Epoch 3/50\n",
      "764/764 [==============================] - 2s 3ms/step - loss: 0.5394 - acc: 0.7177 - val_loss: 0.5397 - val_acc: 0.7184\n",
      "Epoch 4/50\n",
      "764/764 [==============================] - 2s 3ms/step - loss: 0.5387 - acc: 0.7181 - val_loss: 0.5395 - val_acc: 0.7188\n",
      "Epoch 5/50\n",
      "764/764 [==============================] - 2s 3ms/step - loss: 0.5382 - acc: 0.7185 - val_loss: 0.5391 - val_acc: 0.7194\n",
      "Epoch 6/50\n",
      "764/764 [==============================] - 2s 3ms/step - loss: 0.5379 - acc: 0.7186 - val_loss: 0.5390 - val_acc: 0.7191\n",
      "Epoch 7/50\n",
      "764/764 [==============================] - 2s 3ms/step - loss: 0.5377 - acc: 0.7189 - val_loss: 0.5391 - val_acc: 0.7187\n",
      "Epoch 8/50\n",
      "764/764 [==============================] - 2s 3ms/step - loss: 0.5374 - acc: 0.7191 - val_loss: 0.5390 - val_acc: 0.7188\n",
      "Epoch 9/50\n",
      "764/764 [==============================] - 2s 3ms/step - loss: 0.5372 - acc: 0.7193 - val_loss: 0.5391 - val_acc: 0.7189\n",
      "Epoch 10/50\n",
      "764/764 [==============================] - 2s 3ms/step - loss: 0.5370 - acc: 0.7195 - val_loss: 0.5392 - val_acc: 0.7180\n",
      "Epoch 11/50\n",
      "764/764 [==============================] - 2s 3ms/step - loss: 0.5369 - acc: 0.7196 - val_loss: 0.5392 - val_acc: 0.7180\n",
      "Epoch 12/50\n",
      "764/764 [==============================] - 2s 2ms/step - loss: 0.5367 - acc: 0.7196 - val_loss: 0.5393 - val_acc: 0.7183\n",
      "Epoch 13/50\n",
      "764/764 [==============================] - 2s 2ms/step - loss: 0.5365 - acc: 0.7198 - val_loss: 0.5396 - val_acc: 0.7185\n",
      "Epoch 14/50\n",
      "764/764 [==============================] - 2s 3ms/step - loss: 0.5364 - acc: 0.7199 - val_loss: 0.5395 - val_acc: 0.7183\n",
      "Epoch 15/50\n",
      "764/764 [==============================] - 2s 2ms/step - loss: 0.5363 - acc: 0.7201 - val_loss: 0.5393 - val_acc: 0.7177\n",
      "Epoch 16/50\n",
      "764/764 [==============================] - 2s 2ms/step - loss: 0.5362 - acc: 0.7202 - val_loss: 0.5396 - val_acc: 0.7177\n",
      "Epoch 00016: early stopping\n"
     ]
    }
   ],
   "source": [
    "auto_save = ModelCheckpoint(\"../models/model12_balanced_100_50.hd5\", monitor='val_loss', \n",
    "                    verbose=1, save_best_only=True, save_weights_only=False, \n",
    "                    mode='auto', period=5)\n",
    "\n",
    "early_stop = EarlyStopping(monitor='val_loss', min_delta=0.0001, \n",
    "                            patience=10, verbose=1)\n",
    "\n",
    "history = model.fit_generator(\n",
    "            training_generator, \n",
    "            epochs=50,\n",
    "            steps_per_epoch=steps_per_epoch_train, \n",
    "            validation_data = validation_generator, \n",
    "            validation_steps = steps_per_epoch_val,\n",
    "            callbacks = [early_stop]\n",
    "            )"
   ]
  },
  {
   "cell_type": "code",
   "execution_count": 89,
   "metadata": {
    "ExecuteTime": {
     "end_time": "2020-01-21T09:12:44.080181Z",
     "start_time": "2020-01-21T09:12:43.188832Z"
    }
   },
   "outputs": [
    {
     "name": "stdout",
     "output_type": "stream",
     "text": [
      ">>> Computing AUC...\n",
      "AUC score: 0.8017602987021\n"
     ]
    }
   ],
   "source": [
    "# Evalutation\n",
    "print(\">>> Computing AUC...\")\n",
    "\n",
    "from sklearn.metrics import roc_auc_score, roc_curve\n",
    "\n",
    "pred = model.predict(X_test)\n",
    "auc = roc_auc_score(y_test,pred)\n",
    "fp, tp, th = roc_curve(y_test, pred)\n",
    "print(\"AUC score: \" + str(auc))"
   ]
  },
  {
   "cell_type": "code",
   "execution_count": 90,
   "metadata": {
    "ExecuteTime": {
     "end_time": "2020-01-21T09:12:47.451557Z",
     "start_time": "2020-01-21T09:12:47.045596Z"
    }
   },
   "outputs": [
    {
     "data": {
      "text/plain": [
       "<matplotlib.legend.Legend at 0x7fc828c11390>"
      ]
     },
     "execution_count": 90,
     "metadata": {},
     "output_type": "execute_result"
    },
    {
     "data": {
      "image/png": "[encoded data removed]",
      "text/plain": [
       "<Figure size 600x600 with 1 Axes>"
      ]
     },
     "metadata": {},
     "output_type": "display_data"
    }
   ],
   "source": [
    "plt.plot(history.epoch, history.history[\"val_loss\"], label=\"validation loss\")\n",
    "plt.plot(history.epoch, history.history[\"loss\"], label=\"training loss\")\n",
    "plt.legend()"
   ]
  },
  {
   "cell_type": "code",
   "execution_count": 91,
   "metadata": {
    "ExecuteTime": {
     "end_time": "2020-01-21T09:12:57.946750Z",
     "start_time": "2020-01-21T09:12:56.880286Z"
    }
   },
   "outputs": [
    {
     "data": {
      "text/plain": [
       "<matplotlib.legend.Legend at 0x7fc8282ad898>"
      ]
     },
     "execution_count": 91,
     "metadata": {},
     "output_type": "execute_result"
    },
    {
     "data": {
      "image/png": "[encoded data removed]",
      "text/plain": [
       "<Figure size 600x600 with 1 Axes>"
      ]
     },
     "metadata": {},
     "output_type": "display_data"
    }
   ],
   "source": [
    "results = model.predict(X_test)\n",
    "plt.hist(results[y_test==0], bins=100,density=True, label=\"false\", histtype=\"step\")\n",
    "plt.hist(results[y_test==1], bins=100, density=True, label=\"true\", histtype=\"step\")\n",
    "#plt.yscale(\"log\")\n",
    "plt.legend()"
   ]
  },
  {
   "cell_type": "code",
   "execution_count": 92,
   "metadata": {
    "ExecuteTime": {
     "end_time": "2020-01-21T09:13:00.420983Z",
     "start_time": "2020-01-21T09:13:00.115882Z"
    }
   },
   "outputs": [
    {
     "data": {
      "image/png": "[encoded data removed]",
      "text/plain": [
       "<Figure size 700x600 with 1 Axes>"
      ]
     },
     "metadata": {},
     "output_type": "display_data"
    }
   ],
   "source": [
    "fig, ax1 = plt.subplots(figsize=(7,6), dpi=100)\n",
    "\n",
    "ax1.plot(fp, tp, label=f\"ROC (AUC={auc:.3f})\", color=\"blue\")\n",
    "\n",
    "ax1.set_xlabel(\"Bkg contamination\", fontsize=18)\n",
    "ax1.set_ylabel(\"Signal efficiency\", fontsize=18)\n",
    "\n",
    "#ax1.plot([0,1],[1,1],\"b--\")\n",
    "ax1.tick_params(\"y\",labelsize=\"large\")\n",
    "\n",
    "ax1.grid()\n",
    "\n",
    "ax1.legend(loc=(0.4, 0.5), fontsize=\"large\")\n",
    "\n",
    "fig.tight_layout()"
   ]
  },
  {
   "cell_type": "code",
   "execution_count": null,
   "metadata": {},
   "outputs": [],
   "source": []
  }
 ],
 "metadata": {
  "kernelspec": {
   "display_name": "Python 3",
   "language": "python",
   "name": "python3"
  },
  "toc": {
   "base_numbering": 1,
   "nav_menu": {},
   "number_sections": true,
   "sideBar": true,
   "skip_h1_title": false,
   "title_cell": "Table of Contents",
   "title_sidebar": "Contents",
   "toc_cell": false,
   "toc_position": {},
   "toc_section_display": true,
   "toc_window_display": false
  },
  "varInspector": {
   "cols": {
    "lenName": 16,
    "lenType": 16,
    "lenVar": 40
   },
   "kernels_config": {
    "python": {
     "delete_cmd_postfix": "",
     "delete_cmd_prefix": "del ",
     "library": "var_list.py",
     "varRefreshCmd": "print(var_dic_list())"
    },
    "r": {
     "delete_cmd_postfix": ") ",
     "delete_cmd_prefix": "rm(",
     "library": "var_list.r",
     "varRefreshCmd": "cat(var_dic_list()) "
    }
   },
   "types_to_exclude": [
    "module",
    "function",
    "builtin_function_or_method",
    "instance",
    "_Feature"
   ],
   "window_display": false
  }
 },
 "nbformat": 4,
 "nbformat_minor": 2
}
