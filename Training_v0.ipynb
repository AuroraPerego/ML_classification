{
 "cells": [
  {
   "cell_type": "code",
   "execution_count": 63,
   "metadata": {
    "ExecuteTime": {
     "end_time": "2020-01-21T08:58:40.100225Z",
     "start_time": "2020-01-21T08:58:40.092492Z"
    }
   },
   "outputs": [],
   "source": [
    "import pickle\n",
    "import pandas as pd\n",
    "import numpy as np\n",
    "import matplotlib.pyplot as plt\n",
    "import os\n",
    "from collections import defaultdict\n",
    "import matplotlib as mpl\n",
    "\n",
    "mpl.rcParams['figure.figsize'] = (6,6)\n",
    "mpl.rcParams['figure.dpi'] = 100\n",
    "mpl.rcParams[\"image.origin\"] = 'lower'"
   ]
  },
  {
   "cell_type": "code",
   "execution_count": 64,
   "metadata": {
    "ExecuteTime": {
     "end_time": "2020-01-21T08:40:49.171636Z",
     "start_time": "2020-01-21T08:40:49.166832Z"
    }
   },
   "outputs": [],
   "source": [
    "samples_dir = \"/eos/home-d/dmapelli/public/latino/Full2017v6_200121_v1\"\n",
    "cut = \"lowen_looseVBS\""
   ]
  },
  {
   "cell_type": "code",
   "execution_count": 65,
   "metadata": {
    "ExecuteTime": {
     "end_time": "2020-01-21T08:40:49.370435Z",
     "start_time": "2020-01-21T08:40:49.342101Z"
    }
   },
   "outputs": [
    {
     "data": {
      "text/plain": [
       "['DY_part1.pkl',\n",
       " 'DY_part2.pkl',\n",
       " 'DY_part3.pkl',\n",
       " 'VBS_part1.pkl',\n",
       " 'Wjets_part1.pkl',\n",
       " 'background_part1.pkl',\n",
       " 'models',\n",
       " 'top_part1.pkl']"
      ]
     },
     "execution_count": 65,
     "metadata": {},
     "output_type": "execute_result"
    }
   ],
   "source": [
    "os.listdir(os.path.join(samples_dir, cut))"
   ]
  },
  {
   "cell_type": "code",
   "execution_count": 66,
   "metadata": {
    "ExecuteTime": {
     "end_time": "2020-01-21T08:41:05.014645Z",
     "start_time": "2020-01-21T08:40:49.494535Z"
    }
   },
   "outputs": [],
   "source": [
    "samples = {}\n",
    "for sname in [\"VBS\", \"background\"]:\n",
    "    files = [f for f in os.listdir(os.path.join(samples_dir, cut)) if sname in f]\n",
    "    for file in files:\n",
    "        s = pickle.load(open(os.path.join(samples_dir, cut, file), \"rb\"))\n",
    "        sname = file.split(\"_part\")[0]\n",
    "        s.rename(columns=lambda c: c.split(cut+\"_\")[1] if cut in c else c, inplace=True)\n",
    "\n",
    "        if sname in samples:\n",
    "            samples[sname] = pd.concat([samples[sname], s], ignore_index=True)\n",
    "        else:\n",
    "            samples[sname] = s\n"
   ]
  },
  {
   "cell_type": "code",
   "execution_count": 67,
   "metadata": {
    "ExecuteTime": {
     "end_time": "2020-01-21T08:41:06.421821Z",
     "start_time": "2020-01-21T08:41:06.399462Z"
    },
    "scrolled": false
   },
   "outputs": [
    {
     "name": "stdout",
     "output_type": "stream",
     "text": [
      "Sample name VBS       , nsamples:     123434,   XS total: 542.9917437296729\n",
      "Sample name background, nsamples:     522170,   XS total: 176608.83388072244\n"
     ]
    }
   ],
   "source": [
    "for s, df in samples.items():\n",
    "    print(f\"Sample name {s:10}, nsamples: {len(df):10},   XS total: {(df.XSWeight*df.weight*df.puWeight).sum()*41:15}\")"
   ]
  },
  {
   "cell_type": "code",
   "execution_count": 68,
   "metadata": {
    "ExecuteTime": {
     "end_time": "2020-01-21T09:25:33.458982Z",
     "start_time": "2020-01-21T09:25:33.452172Z"
    }
   },
   "outputs": [
    {
     "data": {
      "text/plain": [
       "Index(['weight', 'XSWeight', 'Lepton_RecoSF', 'LepWPWeight', 'puWeight',\n",
       "       'TriggerEffWeight_1l', 'btagSF', 'PrefireWeight', 'events', 'Lepton_pt',\n",
       "       'Lepton_eta', 'Lepton_phi', 'Lepton_flavour', 'PuppiMET',\n",
       "       'PuppiMET_phi', 'MET_pt', 'recoMET_pz', 'nJets', 'N_jets_central',\n",
       "       'N_jets_forward', 'mjj_vbs', 'deltaeta_vbs', 'deltaphi_vbs',\n",
       "       'vbs_etaprod', 'vbs_0_pt', 'vbs_1_pt', 'vbs_0_eta', 'vbs_1_eta',\n",
       "       'vbs_0_phi', 'vbs_1_phi', 'vbs_index_0', 'vbs_index_1', 'mjj_vjet',\n",
       "       'vjet_0_pt', 'vjet_1_pt', 'vjet_0_eta', 'vjet_1_eta', 'vjet_0_phi',\n",
       "       'vjet_1_phi', 'vjet_index_0', 'vjet_index_1', 'Zvjets_0', 'Zlep',\n",
       "       'Asym_vbs', 'Asym_vjet', 'Mw_lep_reco', 'Mtw_lep', 'w_lep_pt', 'Mww',\n",
       "       'R_ww', 'R_mw', 'A_ww', 'Centr_vbs', 'Centr_ww', 'nvtx', 'qgl'],\n",
       "      dtype='object')"
      ]
     },
     "execution_count": 68,
     "metadata": {},
     "output_type": "execute_result"
    }
   ],
   "source": [
    "samples[\"VBS\"].columns"
   ]
  },
  {
   "cell_type": "code",
   "execution_count": 69,
   "metadata": {},
   "outputs": [
    {
     "name": "stdout",
     "output_type": "stream",
     "text": [
      "Empty DataFrame\n",
      "Columns: [weight, XSWeight, Lepton_RecoSF, LepWPWeight, puWeight, TriggerEffWeight_1l, btagSF, PrefireWeight, events, Lepton_pt, Lepton_eta, Lepton_phi, Lepton_flavour, PuppiMET, PuppiMET_phi, MET_pt, recoMET_pz, nJets, N_jets_central, N_jets_forward, mjj_vbs, deltaeta_vbs, deltaphi_vbs, vbs_etaprod, vbs_0_pt, vbs_1_pt, vbs_0_eta, vbs_1_eta, vbs_0_phi, vbs_1_phi, vbs_index_0, vbs_index_1, mjj_vjet, vjet_0_pt, vjet_1_pt, vjet_0_eta, vjet_1_eta, vjet_0_phi, vjet_1_phi, vjet_index_0, vjet_index_1, Zvjets_0, Zlep, Asym_vbs, Asym_vjet, Mw_lep_reco, Mtw_lep, w_lep_pt, Mww, R_ww, R_mw, A_ww, Centr_vbs, Centr_ww, nvtx, qgl]\n",
      "Index: []\n",
      "\n",
      "[0 rows x 56 columns]\n",
      "Empty DataFrame\n",
      "Columns: [weight, XSWeight, Lepton_RecoSF, LepWPWeight, puWeight, TriggerEffWeight_1l, btagSF, PrefireWeight, events, Lepton_pt, Lepton_eta, Lepton_phi, Lepton_flavour, PuppiMET, PuppiMET_phi, MET_pt, recoMET_pz, nJets, N_jets_central, N_jets_forward, mjj_vbs, deltaeta_vbs, deltaphi_vbs, vbs_etaprod, vbs_0_pt, vbs_1_pt, vbs_0_eta, vbs_1_eta, vbs_0_phi, vbs_1_phi, vbs_index_0, vbs_index_1, mjj_vjet, vjet_0_pt, vjet_1_pt, vjet_0_eta, vjet_1_eta, vjet_0_phi, vjet_1_phi, vjet_index_0, vjet_index_1, Zvjets_0, Zlep, Asym_vbs, Asym_vjet, Mw_lep_reco, Mtw_lep, w_lep_pt, Mww, R_ww, R_mw, A_ww, Centr_vbs, Centr_ww, nvtx, qgl, sample]\n",
      "Index: []\n",
      "\n",
      "[0 rows x 57 columns]\n"
     ]
    }
   ],
   "source": [
    "## check if there is any event with weight == 0.0\n",
    "for sname in [\"VBS\", \"background\"]:\n",
    "    print(samples[sname][ samples[sname][\"weight\"] == 0.0 ])"
   ]
  },
  {
   "cell_type": "markdown",
   "metadata": {},
   "source": [
    "## Samples preparation for NN"
   ]
  },
  {
   "cell_type": "code",
   "execution_count": 70,
   "metadata": {},
   "outputs": [],
   "source": [
    "## using \n",
    "## source /cvmfs/sft.cern.ch/lcg/views/LCG_96python3/x86_64-centos7-gcc8-opt/setup.sh\n",
    "#!pip3 install --user imbalanced-learn==0.5"
   ]
  },
  {
   "cell_type": "code",
   "execution_count": 71,
   "metadata": {
    "ExecuteTime": {
     "end_time": "2020-01-21T08:41:15.401944Z",
     "start_time": "2020-01-21T08:41:08.825127Z"
    }
   },
   "outputs": [],
   "source": [
    "from sklearn.preprocessing import MinMaxScaler, StandardScaler, QuantileTransformer\n",
    "from sklearn.model_selection import train_test_split\n",
    "from imblearn.keras import balanced_batch_generator\n",
    "from imblearn.over_sampling import RandomOverSampler\n",
    "import tensorflow\n",
    "import keras\n",
    "import pandas as pd\n",
    "import numpy as np\n",
    "import matplotlib.pyplot as plt\n",
    "from keras.datasets import mnist\n",
    "from keras.models import Model, Sequential\n",
    "from keras.layers import Dense, Conv2D, Dropout, BatchNormalization, Input, Reshape, Flatten, Deconvolution2D, Conv2DTranspose, MaxPooling2D, UpSampling2D, Lambda\n",
    "from keras.layers.advanced_activations import LeakyReLU\n",
    "from keras.optimizers import adam\n",
    "from keras import backend as K\n",
    "from keras.callbacks import *"
   ]
  },
  {
   "cell_type": "code",
   "execution_count": 74,
   "metadata": {
    "ExecuteTime": {
     "end_time": "2020-01-21T08:41:16.930587Z",
     "start_time": "2020-01-21T08:41:16.924879Z"
    }
   },
   "outputs": [],
   "source": [
    "# cols = [\"mjj_vbs\", \"mjj_vjet\", \"deltaeta_vbs\", \"vbs_0_pt\", \"vbs_1_pt\", \"vbs_0_eta\", \"vbs_1_eta\", \"Lepton_pt\", \"Lepton_eta\", \"Lepton_flavour\"]\n",
    "cols = [\"mjj_vbs\", \n",
    "        \"vbs_0_pt\", \"vbs_1_pt\", \"vbs_0_eta\", \"vbs_1_eta\", \n",
    "        \"vbs_index_0\", \"vbs_index_1\",\n",
    "        \"deltaeta_vbs\", \"deltaphi_vbs\", \n",
    "        \"mjj_vjet\", \n",
    "        \"vjet_0_pt\", \"vjet_1_pt\", \"vjet_0_eta\", \"vjet_1_eta\", \n",
    "        \"vjet_index_0\", \"vjet_index_1\", \n",
    "        \"Lepton_pt\", \"Lepton_eta\", \"Lepton_flavour\",\n",
    "        \"PuppiMET\", \n",
    "        \"nJets\", \"N_jets_central\", \"N_jets_forward\", \n",
    "        \"Zvjets_0\", \"Zlep\", \n",
    "        \"Asym_vbs\", \"Asym_vjet\", \n",
    "        \"A_ww\", \n",
    "        \"Mw_lep_reco\", \"Mtw_lep\", \"w_lep_pt\", \"Mww\", \n",
    "        \"R_ww\", \"R_mw\", \n",
    "        \"Centr_vbs\", \"Centr_ww\",\n",
    "       ]"
   ]
  },
  {
   "cell_type": "code",
   "execution_count": 75,
   "metadata": {
    "ExecuteTime": {
     "end_time": "2020-01-21T08:50:31.754046Z",
     "start_time": "2020-01-21T08:50:31.667225Z"
    }
   },
   "outputs": [],
   "source": [
    "X_sig = samples[\"VBS\"][cols].values\n",
    "X_bkg = samples[\"background\"][cols].values\n",
    "Y_sig = np.ones(len(X_sig))\n",
    "Y_bkg = np.zeros(len(X_bkg))\n",
    "W_sig = samples[\"VBS\"][\"weight\"].values\n",
    "W_bkg = samples[\"background\"][\"weight\"].values"
   ]
  },
  {
   "cell_type": "markdown",
   "metadata": {},
   "source": [
    "Stack arrays in one only ntuple"
   ]
  },
  {
   "cell_type": "code",
   "execution_count": 76,
   "metadata": {
    "ExecuteTime": {
     "end_time": "2020-01-21T08:50:34.079039Z",
     "start_time": "2020-01-21T08:50:34.018121Z"
    }
   },
   "outputs": [],
   "source": [
    "X = np.vstack([X_sig, X_bkg])\n",
    "Y = np.hstack([Y_sig, Y_bkg])\n",
    "W = np.hstack([W_sig, W_bkg])"
   ]
  },
  {
   "cell_type": "code",
   "execution_count": 77,
   "metadata": {
    "ExecuteTime": {
     "end_time": "2020-01-21T08:47:47.577832Z",
     "start_time": "2020-01-21T08:47:47.251670Z"
    }
   },
   "outputs": [],
   "source": [
    "scaler = StandardScaler()\n",
    "X_scaled = scaler.fit_transform(X)\n",
    "model_dir = samples_dir + \"/\" + cut + \"/models/\"\n",
    "import os \n",
    "os.makedirs(model_dir, exist_ok=True)\n",
    "pickle.dump(scaler, open(f\"{model_dir}/scaler_model_v0.pkl\", \"wb\"))"
   ]
  },
  {
   "cell_type": "code",
   "execution_count": 78,
   "metadata": {
    "ExecuteTime": {
     "end_time": "2020-01-21T08:57:59.219296Z",
     "start_time": "2020-01-21T08:57:59.214681Z"
    }
   },
   "outputs": [],
   "source": [
    "den=True"
   ]
  },
  {
   "cell_type": "code",
   "execution_count": 80,
   "metadata": {
    "ExecuteTime": {
     "end_time": "2020-01-21T08:59:15.906717Z",
     "start_time": "2020-01-21T08:59:14.201630Z"
    }
   },
   "outputs": [],
   "source": [
    "#_ = plt.hist(X[Y==0][:,7], bins=100, density=den, alpha=0.5)\n",
    "#_ = plt.hist(X[Y==1][:,7], bins=100, color=\"r\", density=den, alpha=0.5)\n",
    "#plt.yscale(\"log\")\n",
    "#plt.scatter(X_scaled[Y==1][:,4], X_scaled[Y==1][:,1], c=\"b\")"
   ]
  },
  {
   "cell_type": "markdown",
   "metadata": {
    "ExecuteTime": {
     "end_time": "2020-01-21T08:50:38.324736Z",
     "start_time": "2020-01-21T08:50:38.320100Z"
    }
   },
   "source": [
    "##  Balancing\n",
    "Let's give 25% to validation (validation during training + test). \n",
    "The validation is then split in 50%-50% for training validation and final result"
   ]
  },
  {
   "cell_type": "code",
   "execution_count": 81,
   "metadata": {
    "ExecuteTime": {
     "end_time": "2020-01-21T09:00:19.207875Z",
     "start_time": "2020-01-21T09:00:18.969080Z"
    }
   },
   "outputs": [],
   "source": [
    "X_train, X_temp, y_train, y_temp, W_train, W_temp = train_test_split(X_scaled, Y,      W,      test_size=0.25)\n",
    "X_val,   X_test, y_val,   y_test, W_val,   W_test = train_test_split(X_temp,   y_temp, W_temp, test_size=0.5)"
   ]
  },
  {
   "cell_type": "markdown",
   "metadata": {},
   "source": [
    "Create generators to balance signal and background"
   ]
  },
  {
   "cell_type": "code",
   "execution_count": 82,
   "metadata": {
    "ExecuteTime": {
     "end_time": "2020-01-21T09:01:22.030613Z",
     "start_time": "2020-01-21T09:01:21.557406Z"
    }
   },
   "outputs": [],
   "source": [
    "training_generator,   steps_per_epoch_train = balanced_batch_generator(X_train, y_train, W_train, batch_size=1024, sampler=RandomOverSampler())\n",
    "validation_generator, steps_per_epoch_val   = balanced_batch_generator(X_val,   y_val,   W_val,   batch_size=1024, sampler=RandomOverSampler())"
   ]
  },
  {
   "cell_type": "markdown",
   "metadata": {},
   "source": [
    "## Keras model"
   ]
  },
  {
   "cell_type": "code",
   "execution_count": 92,
   "metadata": {
    "ExecuteTime": {
     "end_time": "2020-01-21T09:12:02.084659Z",
     "start_time": "2020-01-21T09:12:01.890099Z"
    }
   },
   "outputs": [
    {
     "name": "stderr",
     "output_type": "stream",
     "text": [
      "W0121 14:14:24.892412 140559107684160 deprecation.py:506] From /cvmfs/sft.cern.ch/lcg/views/LCG_96python3/x86_64-centos7-gcc8-opt/lib/python3.6/site-packages/keras/backend/tensorflow_backend.py:3445: calling dropout (from tensorflow.python.ops.nn_ops) with keep_prob is deprecated and will be removed in a future version.\n",
      "Instructions for updating:\n",
      "Please use `rate` instead of `keep_prob`. Rate should be set to `rate = 1 - keep_prob`.\n"
     ]
    },
    {
     "name": "stdout",
     "output_type": "stream",
     "text": [
      "_________________________________________________________________\n",
      "Layer (type)                 Output Shape              Param #   \n",
      "=================================================================\n",
      "dense_10 (Dense)             (None, 100)               3700      \n",
      "_________________________________________________________________\n",
      "dropout_1 (Dropout)          (None, 100)               0         \n",
      "_________________________________________________________________\n",
      "dense_11 (Dense)             (None, 80)                8080      \n",
      "_________________________________________________________________\n",
      "dropout_2 (Dropout)          (None, 80)                0         \n",
      "_________________________________________________________________\n",
      "dense_12 (Dense)             (None, 50)                4050      \n",
      "_________________________________________________________________\n",
      "dropout_3 (Dropout)          (None, 50)                0         \n",
      "_________________________________________________________________\n",
      "dense_13 (Dense)             (None, 1)                 51        \n",
      "=================================================================\n",
      "Total params: 15,881\n",
      "Trainable params: 15,881\n",
      "Non-trainable params: 0\n",
      "_________________________________________________________________\n"
     ]
    }
   ],
   "source": [
    "model = Sequential()\n",
    "model.add(Dense(100, input_dim=X_train.shape[1], activation=\"relu\"))\n",
    "model.add(Dropout(0.3))\n",
    "model.add(Dense(80, activation=\"relu\"))\n",
    "model.add(Dropout(0.3))\n",
    "model.add(Dense(50, activation=\"relu\"))\n",
    "model.add(Dropout(0.3))\n",
    "model.add(Dense(1, activation=\"sigmoid\"))\n",
    "\n",
    "model.compile(optimizer='adam',\n",
    "              loss='binary_crossentropy',\n",
    "              metrics=['accuracy'])\n",
    "\n",
    "model.summary()"
   ]
  },
  {
   "cell_type": "code",
   "execution_count": 93,
   "metadata": {
    "ExecuteTime": {
     "end_time": "2020-01-21T09:12:36.988008Z",
     "start_time": "2020-01-21T09:12:04.607800Z"
    },
    "scrolled": false
   },
   "outputs": [
    {
     "name": "stdout",
     "output_type": "stream",
     "text": [
      "Epoch 1/100\n",
      "764/764 [==============================] - 6s 8ms/step - loss: 0.3992 - acc: 0.7520 - val_loss: 0.3725 - val_acc: 0.7733\n",
      "Epoch 2/100\n",
      "764/764 [==============================] - 5s 7ms/step - loss: 0.3782 - acc: 0.7696 - val_loss: 0.3670 - val_acc: 0.7778\n",
      "Epoch 3/100\n",
      "764/764 [==============================] - 6s 8ms/step - loss: 0.3733 - acc: 0.7743 - val_loss: 0.3650 - val_acc: 0.7812\n",
      "Epoch 4/100\n",
      "764/764 [==============================] - 5s 7ms/step - loss: 0.3703 - acc: 0.7764 - val_loss: 0.3630 - val_acc: 0.7819\n",
      "Epoch 5/100\n",
      "764/764 [==============================] - 5s 6ms/step - loss: 0.3681 - acc: 0.7785 - val_loss: 0.3614 - val_acc: 0.7830\n",
      "Epoch 6/100\n",
      "764/764 [==============================] - 5s 7ms/step - loss: 0.3668 - acc: 0.7798 - val_loss: 0.3612 - val_acc: 0.7834\n",
      "Epoch 7/100\n",
      "764/764 [==============================] - 5s 6ms/step - loss: 0.3654 - acc: 0.7808 - val_loss: 0.3608 - val_acc: 0.7823\n",
      "Epoch 8/100\n",
      "764/764 [==============================] - 5s 7ms/step - loss: 0.3646 - acc: 0.7817 - val_loss: 0.3604 - val_acc: 0.7831\n",
      "Epoch 9/100\n",
      "764/764 [==============================] - 5s 6ms/step - loss: 0.3639 - acc: 0.7818 - val_loss: 0.3601 - val_acc: 0.7832\n",
      "Epoch 10/100\n",
      "764/764 [==============================] - 5s 7ms/step - loss: 0.3631 - acc: 0.7829 - val_loss: 0.3599 - val_acc: 0.7838\n",
      "Epoch 11/100\n",
      "764/764 [==============================] - 5s 6ms/step - loss: 0.3628 - acc: 0.7828 - val_loss: 0.3597 - val_acc: 0.7839\n",
      "Epoch 12/100\n",
      "764/764 [==============================] - 5s 7ms/step - loss: 0.3622 - acc: 0.7835 - val_loss: 0.3596 - val_acc: 0.7844\n",
      "Epoch 13/100\n",
      "764/764 [==============================] - 5s 6ms/step - loss: 0.3619 - acc: 0.7834 - val_loss: 0.3600 - val_acc: 0.7843\n",
      "Epoch 14/100\n",
      "764/764 [==============================] - 5s 7ms/step - loss: 0.3614 - acc: 0.7839 - val_loss: 0.3593 - val_acc: 0.7843\n",
      "Epoch 15/100\n",
      "764/764 [==============================] - 5s 7ms/step - loss: 0.3613 - acc: 0.7841 - val_loss: 0.3590 - val_acc: 0.7849\n",
      "Epoch 16/100\n",
      "764/764 [==============================] - 6s 7ms/step - loss: 0.3610 - acc: 0.7845 - val_loss: 0.3595 - val_acc: 0.7850\n",
      "Epoch 17/100\n",
      "764/764 [==============================] - 5s 7ms/step - loss: 0.3607 - acc: 0.7843 - val_loss: 0.3585 - val_acc: 0.7855\n",
      "Epoch 18/100\n",
      "764/764 [==============================] - 5s 7ms/step - loss: 0.3603 - acc: 0.7847 - val_loss: 0.3589 - val_acc: 0.7846\n",
      "Epoch 19/100\n",
      "764/764 [==============================] - 5s 7ms/step - loss: 0.3602 - acc: 0.7844 - val_loss: 0.3590 - val_acc: 0.7844\n",
      "Epoch 20/100\n",
      "764/764 [==============================] - 5s 7ms/step - loss: 0.3600 - acc: 0.7849 - val_loss: 0.3589 - val_acc: 0.7844\n",
      "Epoch 21/100\n",
      "764/764 [==============================] - 6s 7ms/step - loss: 0.3596 - acc: 0.7850 - val_loss: 0.3587 - val_acc: 0.7838\n",
      "Epoch 22/100\n",
      "764/764 [==============================] - 5s 7ms/step - loss: 0.3595 - acc: 0.7853 - val_loss: 0.3579 - val_acc: 0.7850\n",
      "Epoch 23/100\n",
      "764/764 [==============================] - 5s 7ms/step - loss: 0.3594 - acc: 0.7850 - val_loss: 0.3581 - val_acc: 0.7850\n",
      "Epoch 24/100\n",
      "764/764 [==============================] - 5s 7ms/step - loss: 0.3595 - acc: 0.7852 - val_loss: 0.3578 - val_acc: 0.7849\n",
      "Epoch 25/100\n",
      "764/764 [==============================] - 5s 7ms/step - loss: 0.3592 - acc: 0.7857 - val_loss: 0.3576 - val_acc: 0.7853\n",
      "Epoch 26/100\n",
      "764/764 [==============================] - 5s 7ms/step - loss: 0.3590 - acc: 0.7858 - val_loss: 0.3578 - val_acc: 0.7849\n",
      "Epoch 27/100\n",
      "764/764 [==============================] - 5s 7ms/step - loss: 0.3589 - acc: 0.7857 - val_loss: 0.3581 - val_acc: 0.7855\n",
      "Epoch 28/100\n",
      "764/764 [==============================] - 6s 7ms/step - loss: 0.3587 - acc: 0.7858 - val_loss: 0.3578 - val_acc: 0.7857\n",
      "Epoch 29/100\n",
      "764/764 [==============================] - 5s 7ms/step - loss: 0.3587 - acc: 0.7859 - val_loss: 0.3579 - val_acc: 0.7853\n",
      "Epoch 30/100\n",
      "764/764 [==============================] - 6s 7ms/step - loss: 0.3586 - acc: 0.7861 - val_loss: 0.3577 - val_acc: 0.7851\n",
      "Epoch 31/100\n",
      "764/764 [==============================] - 6s 7ms/step - loss: 0.3583 - acc: 0.7861 - val_loss: 0.3575 - val_acc: 0.7852\n",
      "Epoch 32/100\n",
      "764/764 [==============================] - 5s 7ms/step - loss: 0.3585 - acc: 0.7859 - val_loss: 0.3578 - val_acc: 0.7854\n",
      "Epoch 33/100\n",
      "764/764 [==============================] - 5s 7ms/step - loss: 0.3584 - acc: 0.7862 - val_loss: 0.3574 - val_acc: 0.7852\n",
      "Epoch 34/100\n",
      "764/764 [==============================] - 5s 7ms/step - loss: 0.3584 - acc: 0.7864 - val_loss: 0.3575 - val_acc: 0.7848\n",
      "Epoch 35/100\n",
      "764/764 [==============================] - 5s 7ms/step - loss: 0.3582 - acc: 0.7863 - val_loss: 0.3577 - val_acc: 0.7854\n",
      "Epoch 36/100\n",
      "764/764 [==============================] - 6s 7ms/step - loss: 0.3579 - acc: 0.7864 - val_loss: 0.3572 - val_acc: 0.7860\n",
      "Epoch 37/100\n",
      "764/764 [==============================] - 5s 7ms/step - loss: 0.3578 - acc: 0.7866 - val_loss: 0.3570 - val_acc: 0.7847\n",
      "Epoch 38/100\n",
      "764/764 [==============================] - 5s 7ms/step - loss: 0.3576 - acc: 0.7864 - val_loss: 0.3574 - val_acc: 0.7853\n",
      "Epoch 39/100\n",
      "764/764 [==============================] - 5s 7ms/step - loss: 0.3576 - acc: 0.7866 - val_loss: 0.3576 - val_acc: 0.7851\n",
      "Epoch 40/100\n",
      "764/764 [==============================] - 5s 7ms/step - loss: 0.3576 - acc: 0.7862 - val_loss: 0.3573 - val_acc: 0.7853\n",
      "Epoch 41/100\n",
      "764/764 [==============================] - 6s 7ms/step - loss: 0.3576 - acc: 0.7863 - val_loss: 0.3578 - val_acc: 0.7850\n",
      "Epoch 42/100\n",
      "764/764 [==============================] - 5s 7ms/step - loss: 0.3574 - acc: 0.7865 - val_loss: 0.3580 - val_acc: 0.7843\n",
      "Epoch 43/100\n",
      "764/764 [==============================] - 5s 7ms/step - loss: 0.3574 - acc: 0.7869 - val_loss: 0.3580 - val_acc: 0.7847\n",
      "Epoch 44/100\n",
      "764/764 [==============================] - 5s 7ms/step - loss: 0.3572 - acc: 0.7867 - val_loss: 0.3578 - val_acc: 0.7853\n",
      "Epoch 45/100\n",
      "764/764 [==============================] - 5s 7ms/step - loss: 0.3573 - acc: 0.7873 - val_loss: 0.3583 - val_acc: 0.7848\n",
      "Epoch 46/100\n",
      "764/764 [==============================] - 5s 7ms/step - loss: 0.3570 - acc: 0.7871 - val_loss: 0.3590 - val_acc: 0.7843\n",
      "Epoch 47/100\n",
      "764/764 [==============================] - 5s 7ms/step - loss: 0.3568 - acc: 0.7872 - val_loss: 0.3579 - val_acc: 0.7856\n",
      "Epoch 48/100\n",
      "764/764 [==============================] - 5s 7ms/step - loss: 0.3571 - acc: 0.7870 - val_loss: 0.3590 - val_acc: 0.7837\n",
      "Epoch 49/100\n",
      "764/764 [==============================] - 5s 7ms/step - loss: 0.3568 - acc: 0.7870 - val_loss: 0.3592 - val_acc: 0.7856\n",
      "Epoch 50/100\n",
      "764/764 [==============================] - 5s 7ms/step - loss: 0.3568 - acc: 0.7873 - val_loss: 0.3590 - val_acc: 0.7859\n",
      "Epoch 51/100\n",
      "764/764 [==============================] - 5s 7ms/step - loss: 0.3564 - acc: 0.7872 - val_loss: 0.3592 - val_acc: 0.7848\n",
      "Epoch 52/100\n",
      "764/764 [==============================] - 5s 7ms/step - loss: 0.3568 - acc: 0.7874 - val_loss: 0.3595 - val_acc: 0.7856\n",
      "Epoch 53/100\n",
      "764/764 [==============================] - 5s 6ms/step - loss: 0.3568 - acc: 0.7874 - val_loss: 0.3598 - val_acc: 0.7861\n",
      "Epoch 54/100\n",
      "764/764 [==============================] - 5s 7ms/step - loss: 0.3562 - acc: 0.7873 - val_loss: 0.3596 - val_acc: 0.7856\n",
      "Epoch 55/100\n",
      "764/764 [==============================] - 5s 7ms/step - loss: 0.3562 - acc: 0.7880 - val_loss: 0.3597 - val_acc: 0.7856\n",
      "Epoch 56/100\n",
      "764/764 [==============================] - 5s 7ms/step - loss: 0.3563 - acc: 0.7872 - val_loss: 0.3595 - val_acc: 0.7853\n",
      "Epoch 57/100\n",
      "764/764 [==============================] - 5s 7ms/step - loss: 0.3564 - acc: 0.7872 - val_loss: 0.3605 - val_acc: 0.7846\n",
      "Epoch 58/100\n",
      "764/764 [==============================] - 5s 7ms/step - loss: 0.3564 - acc: 0.7869 - val_loss: 0.3599 - val_acc: 0.7847\n",
      "Epoch 59/100\n",
      "764/764 [==============================] - 5s 7ms/step - loss: 0.3563 - acc: 0.7874 - val_loss: 0.3605 - val_acc: 0.7853\n",
      "Epoch 60/100\n",
      "764/764 [==============================] - 5s 7ms/step - loss: 0.3561 - acc: 0.7874 - val_loss: 0.3606 - val_acc: 0.7863\n",
      "Epoch 61/100\n",
      "764/764 [==============================] - 5s 7ms/step - loss: 0.3560 - acc: 0.7875 - val_loss: 0.3593 - val_acc: 0.7864\n",
      "Epoch 62/100\n"
     ]
    },
    {
     "name": "stdout",
     "output_type": "stream",
     "text": [
      "764/764 [==============================] - 5s 7ms/step - loss: 0.3562 - acc: 0.7875 - val_loss: 0.3596 - val_acc: 0.7865\n",
      "Epoch 63/100\n",
      "764/764 [==============================] - 5s 7ms/step - loss: 0.3561 - acc: 0.7876 - val_loss: 0.3597 - val_acc: 0.7864\n",
      "Epoch 64/100\n",
      "764/764 [==============================] - 5s 7ms/step - loss: 0.3558 - acc: 0.7875 - val_loss: 0.3600 - val_acc: 0.7860\n",
      "Epoch 65/100\n",
      "764/764 [==============================] - 6s 7ms/step - loss: 0.3559 - acc: 0.7877 - val_loss: 0.3606 - val_acc: 0.7857\n",
      "Epoch 66/100\n",
      "764/764 [==============================] - 5s 7ms/step - loss: 0.3560 - acc: 0.7872 - val_loss: 0.3598 - val_acc: 0.7858\n",
      "Epoch 67/100\n",
      "764/764 [==============================] - 5s 7ms/step - loss: 0.3560 - acc: 0.7878 - val_loss: 0.3593 - val_acc: 0.7856\n",
      "Epoch 68/100\n",
      "764/764 [==============================] - 5s 7ms/step - loss: 0.3560 - acc: 0.7877 - val_loss: 0.3593 - val_acc: 0.7865\n",
      "Epoch 69/100\n",
      "764/764 [==============================] - 5s 7ms/step - loss: 0.3556 - acc: 0.7883 - val_loss: 0.3591 - val_acc: 0.7868\n",
      "Epoch 70/100\n",
      "764/764 [==============================] - 5s 6ms/step - loss: 0.3557 - acc: 0.7876 - val_loss: 0.3591 - val_acc: 0.7852\n",
      "Epoch 71/100\n",
      "764/764 [==============================] - 5s 7ms/step - loss: 0.3557 - acc: 0.7878 - val_loss: 0.3586 - val_acc: 0.7863\n",
      "Epoch 72/100\n",
      "764/764 [==============================] - 5s 7ms/step - loss: 0.3557 - acc: 0.7881 - val_loss: 0.3582 - val_acc: 0.7862\n",
      "Epoch 73/100\n",
      "764/764 [==============================] - 5s 6ms/step - loss: 0.3555 - acc: 0.7877 - val_loss: 0.3579 - val_acc: 0.7855\n",
      "Epoch 74/100\n",
      "764/764 [==============================] - 5s 6ms/step - loss: 0.3555 - acc: 0.7879 - val_loss: 0.3581 - val_acc: 0.7862\n",
      "Epoch 75/100\n",
      "764/764 [==============================] - 5s 6ms/step - loss: 0.3556 - acc: 0.7874 - val_loss: 0.3581 - val_acc: 0.7860\n",
      "Epoch 76/100\n",
      "764/764 [==============================] - 5s 7ms/step - loss: 0.3557 - acc: 0.7876 - val_loss: 0.3584 - val_acc: 0.7856\n",
      "Epoch 77/100\n",
      "764/764 [==============================] - 6s 7ms/step - loss: 0.3554 - acc: 0.7878 - val_loss: 0.3587 - val_acc: 0.7861\n",
      "Epoch 78/100\n",
      "764/764 [==============================] - 5s 7ms/step - loss: 0.3555 - acc: 0.7879 - val_loss: 0.3586 - val_acc: 0.7856\n",
      "Epoch 79/100\n",
      "764/764 [==============================] - 6s 7ms/step - loss: 0.3553 - acc: 0.7878 - val_loss: 0.3581 - val_acc: 0.7859\n",
      "Epoch 80/100\n",
      "764/764 [==============================] - 5s 7ms/step - loss: 0.3554 - acc: 0.7878 - val_loss: 0.3583 - val_acc: 0.7859\n",
      "Epoch 81/100\n",
      "764/764 [==============================] - 6s 7ms/step - loss: 0.3553 - acc: 0.7880 - val_loss: 0.3586 - val_acc: 0.7860\n",
      "Epoch 82/100\n",
      "764/764 [==============================] - 5s 7ms/step - loss: 0.3553 - acc: 0.7876 - val_loss: 0.3587 - val_acc: 0.7851\n",
      "Epoch 83/100\n",
      "764/764 [==============================] - 5s 7ms/step - loss: 0.3555 - acc: 0.7877 - val_loss: 0.3588 - val_acc: 0.7856\n",
      "Epoch 84/100\n",
      "764/764 [==============================] - 6s 7ms/step - loss: 0.3550 - acc: 0.7879 - val_loss: 0.3597 - val_acc: 0.7844\n",
      "Epoch 85/100\n",
      "764/764 [==============================] - 5s 7ms/step - loss: 0.3551 - acc: 0.7877 - val_loss: 0.3598 - val_acc: 0.7857\n",
      "Epoch 86/100\n",
      "764/764 [==============================] - 5s 7ms/step - loss: 0.3554 - acc: 0.7876 - val_loss: 0.3595 - val_acc: 0.7848\n",
      "Epoch 87/100\n",
      "764/764 [==============================] - 5s 7ms/step - loss: 0.3552 - acc: 0.7879 - val_loss: 0.3591 - val_acc: 0.7851\n",
      "Epoch 88/100\n",
      "764/764 [==============================] - 5s 7ms/step - loss: 0.3552 - acc: 0.7881 - val_loss: 0.3599 - val_acc: 0.7853\n",
      "Epoch 89/100\n",
      "764/764 [==============================] - 6s 7ms/step - loss: 0.3551 - acc: 0.7879 - val_loss: 0.3596 - val_acc: 0.7846\n",
      "Epoch 90/100\n",
      "764/764 [==============================] - 5s 7ms/step - loss: 0.3553 - acc: 0.7882 - val_loss: 0.3601 - val_acc: 0.7854\n",
      "Epoch 91/100\n",
      "764/764 [==============================] - 5s 7ms/step - loss: 0.3546 - acc: 0.7885 - val_loss: 0.3596 - val_acc: 0.7843\n",
      "Epoch 92/100\n",
      "764/764 [==============================] - 5s 7ms/step - loss: 0.3547 - acc: 0.7885 - val_loss: 0.3590 - val_acc: 0.7850\n",
      "Epoch 93/100\n",
      "764/764 [==============================] - 5s 7ms/step - loss: 0.3551 - acc: 0.7881 - val_loss: 0.3594 - val_acc: 0.7850\n",
      "Epoch 94/100\n",
      "764/764 [==============================] - 5s 7ms/step - loss: 0.3550 - acc: 0.7884 - val_loss: 0.3590 - val_acc: 0.7861\n",
      "Epoch 95/100\n",
      "764/764 [==============================] - 5s 6ms/step - loss: 0.3546 - acc: 0.7884 - val_loss: 0.3596 - val_acc: 0.7849\n",
      "Epoch 96/100\n",
      "764/764 [==============================] - 5s 7ms/step - loss: 0.3550 - acc: 0.7882 - val_loss: 0.3590 - val_acc: 0.7858\n",
      "Epoch 97/100\n",
      "764/764 [==============================] - 5s 7ms/step - loss: 0.3547 - acc: 0.7887 - val_loss: 0.3593 - val_acc: 0.7858\n",
      "Epoch 98/100\n",
      "764/764 [==============================] - 5s 7ms/step - loss: 0.3551 - acc: 0.7875 - val_loss: 0.3592 - val_acc: 0.7854\n",
      "Epoch 99/100\n",
      "764/764 [==============================] - 6s 7ms/step - loss: 0.3547 - acc: 0.7881 - val_loss: 0.3594 - val_acc: 0.7857\n",
      "Epoch 100/100\n",
      "764/764 [==============================] - 5s 7ms/step - loss: 0.3544 - acc: 0.7884 - val_loss: 0.3592 - val_acc: 0.7861\n"
     ]
    }
   ],
   "source": [
    "auto_save = ModelCheckpoint(\"../models/model12_balanced_100_50.hd5\", monitor='val_loss', \n",
    "                    verbose=1, save_best_only=True, save_weights_only=False, \n",
    "                    mode='auto', period=5)\n",
    "\n",
    "early_stop = EarlyStopping(monitor='val_loss', min_delta=0.0001, \n",
    "                            patience=10, verbose=1)\n",
    "\n",
    "history = model.fit_generator(\n",
    "            training_generator, \n",
    "            epochs=100,\n",
    "            steps_per_epoch=steps_per_epoch_train, \n",
    "            validation_data = validation_generator, \n",
    "            validation_steps = steps_per_epoch_val,\n",
    "            callbacks = []\n",
    "            )"
   ]
  },
  {
   "cell_type": "code",
   "execution_count": 94,
   "metadata": {
    "ExecuteTime": {
     "end_time": "2020-01-21T09:12:44.080181Z",
     "start_time": "2020-01-21T09:12:43.188832Z"
    }
   },
   "outputs": [
    {
     "name": "stdout",
     "output_type": "stream",
     "text": [
      ">>> Computing AUC...\n",
      "AUC score: 0.8711258703284769\n"
     ]
    }
   ],
   "source": [
    "# Evalutation\n",
    "print(\">>> Computing AUC...\")\n",
    "\n",
    "from sklearn.metrics import roc_auc_score, roc_curve\n",
    "\n",
    "pred = model.predict(X_test)\n",
    "auc = roc_auc_score(y_test,pred)\n",
    "fp, tp, th = roc_curve(y_test, pred)\n",
    "print(\"AUC score: \" + str(auc))"
   ]
  },
  {
   "cell_type": "code",
   "execution_count": 95,
   "metadata": {
    "ExecuteTime": {
     "end_time": "2020-01-21T09:12:47.451557Z",
     "start_time": "2020-01-21T09:12:47.045596Z"
    }
   },
   "outputs": [
    {
     "data": {
      "text/plain": [
       "<matplotlib.legend.Legend at 0x7fd618c367b8>"
      ]
     },
     "execution_count": 95,
     "metadata": {},
     "output_type": "execute_result"
    },
    {
     "data": {
      "image/png": "[encoded data removed]",
      "text/plain": [
       "<Figure size 600x600 with 1 Axes>"
      ]
     },
     "metadata": {},
     "output_type": "display_data"
    }
   ],
   "source": [
    "plt.plot(history.epoch, history.history[\"val_loss\"], label=\"validation loss\")\n",
    "plt.plot(history.epoch, history.history[\"loss\"], label=\"training loss\")\n",
    "plt.legend()"
   ]
  },
  {
   "cell_type": "code",
   "execution_count": 96,
   "metadata": {
    "ExecuteTime": {
     "end_time": "2020-01-21T09:12:57.946750Z",
     "start_time": "2020-01-21T09:12:56.880286Z"
    }
   },
   "outputs": [
    {
     "data": {
      "text/plain": [
       "<matplotlib.legend.Legend at 0x7fd618c24470>"
      ]
     },
     "execution_count": 96,
     "metadata": {},
     "output_type": "execute_result"
    },
    {
     "data": {
      "image/png": "[encoded data removed]",
      "text/plain": [
       "<Figure size 600x600 with 1 Axes>"
      ]
     },
     "metadata": {},
     "output_type": "display_data"
    }
   ],
   "source": [
    "results = model.predict(X_test)\n",
    "plt.hist(results[y_test==0], bins=100,density=True, label=\"false\", histtype=\"step\")\n",
    "plt.hist(results[y_test==1], bins=100, density=True, label=\"true\", histtype=\"step\")\n",
    "#plt.yscale(\"log\")\n",
    "plt.legend()"
   ]
  },
  {
   "cell_type": "code",
   "execution_count": 97,
   "metadata": {
    "ExecuteTime": {
     "end_time": "2020-01-21T09:13:00.420983Z",
     "start_time": "2020-01-21T09:13:00.115882Z"
    }
   },
   "outputs": [
    {
     "data": {
      "image/png": "[encoded data removed]",
      "text/plain": [
       "<Figure size 700x600 with 1 Axes>"
      ]
     },
     "metadata": {},
     "output_type": "display_data"
    }
   ],
   "source": [
    "fig, ax1 = plt.subplots(figsize=(7,6), dpi=100)\n",
    "\n",
    "ax1.plot(fp, tp, label=f\"ROC (AUC={auc:.3f})\", color=\"blue\")\n",
    "\n",
    "ax1.set_xlabel(\"Bkg contamination\", fontsize=18)\n",
    "ax1.set_ylabel(\"Signal efficiency\", fontsize=18)\n",
    "\n",
    "#ax1.plot([0,1],[1,1],\"b--\")\n",
    "ax1.tick_params(\"y\",labelsize=\"large\")\n",
    "\n",
    "ax1.grid()\n",
    "\n",
    "ax1.legend(loc=(0.4, 0.5), fontsize=\"large\")\n",
    "\n",
    "fig.tight_layout()"
   ]
  },
  {
   "cell_type": "code",
   "execution_count": null,
   "metadata": {},
   "outputs": [],
   "source": []
  }
 ],
 "metadata": {
  "kernelspec": {
   "display_name": "Python 3",
   "language": "python",
   "name": "python3"
  },
  "language_info": {
   "codemirror_mode": {
    "name": "ipython",
    "version": 3
   },
   "file_extension": ".py",
   "mimetype": "text/x-python",
   "name": "python",
   "nbconvert_exporter": "python",
   "pygments_lexer": "ipython3",
   "version": "3.6.5"
  },
  "toc": {
   "base_numbering": 1,
   "nav_menu": {},
   "number_sections": true,
   "sideBar": true,
   "skip_h1_title": false,
   "title_cell": "Table of Contents",
   "title_sidebar": "Contents",
   "toc_cell": false,
   "toc_position": {},
   "toc_section_display": true,
   "toc_window_display": false
  },
  "varInspector": {
   "cols": {
    "lenName": 16,
    "lenType": 16,
    "lenVar": 40
   },
   "kernels_config": {
    "python": {
     "delete_cmd_postfix": "",
     "delete_cmd_prefix": "del ",
     "library": "var_list.py",
     "varRefreshCmd": "print(var_dic_list())"
    },
    "r": {
     "delete_cmd_postfix": ") ",
     "delete_cmd_prefix": "rm(",
     "library": "var_list.r",
     "varRefreshCmd": "cat(var_dic_list()) "
    }
   },
   "types_to_exclude": [
    "module",
    "function",
    "builtin_function_or_method",
    "instance",
    "_Feature"
   ],
   "window_display": false
  }
 },
 "nbformat": 4,
 "nbformat_minor": 2
}
