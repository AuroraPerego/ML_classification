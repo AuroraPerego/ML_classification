{
 "cells": [
  {
   "cell_type": "code",
   "execution_count": 7,
   "metadata": {
    "ExecuteTime": {
     "end_time": "2020-01-24T11:24:22.723657Z",
     "start_time": "2020-01-24T11:24:22.715975Z"
    }
   },
   "outputs": [],
   "source": [
    "import pickle\n",
    "import pandas as pd\n",
    "import numpy as np\n",
    "import matplotlib.pyplot as plt\n",
    "import os\n",
    "from collections import defaultdict\n",
    "import matplotlib as mpl\n",
    "\n",
    "mpl.rcParams['figure.figsize'] = (6,6)\n",
    "mpl.rcParams['figure.dpi'] = 100\n",
    "mpl.rcParams[\"image.origin\"] = 'lower'"
   ]
  },
  {
   "cell_type": "code",
   "execution_count": 8,
   "metadata": {
    "ExecuteTime": {
     "end_time": "2020-01-24T11:24:23.224112Z",
     "start_time": "2020-01-24T11:24:23.221338Z"
    }
   },
   "outputs": [],
   "source": [
    "samples_dir = \"/eos/home-d/dmapelli/public/latino/Full2017v6_200121_v1\"\n",
    "cut = \"lowen_looseVBS\""
   ]
  },
  {
   "cell_type": "code",
   "execution_count": 5,
   "metadata": {
    "ExecuteTime": {
     "end_time": "2020-01-24T09:59:51.844554Z",
     "start_time": "2020-01-24T09:59:51.810020Z"
    }
   },
   "outputs": [
    {
     "data": {
      "text/plain": [
       "['DY_part1.pkl',\n",
       " 'DY_part2.pkl',\n",
       " 'DY_part3.pkl',\n",
       " 'VBS_part1.pkl',\n",
       " 'Wjets_part1.pkl',\n",
       " 'background_part1.pkl',\n",
       " 'models',\n",
       " 'top_part1.pkl']"
      ]
     },
     "execution_count": 5,
     "metadata": {},
     "output_type": "execute_result"
    }
   ],
   "source": [
    "os.listdir(os.path.join(samples_dir, cut))"
   ]
  },
  {
   "cell_type": "code",
   "execution_count": 6,
   "metadata": {
    "ExecuteTime": {
     "end_time": "2020-01-24T09:59:52.964408Z",
     "start_time": "2020-01-24T09:59:52.405673Z"
    }
   },
   "outputs": [],
   "source": [
    "samples = {}\n",
    "for sname in [\"VBS\", \"background\"]:\n",
    "    files = [f for f in os.listdir(os.path.join(samples_dir, cut)) if sname in f]\n",
    "    for file in files:\n",
    "        s = pickle.load(open(os.path.join(samples_dir, cut, file), \"rb\"))\n",
    "        sname = file.split(\"_part\")[0]\n",
    "        s.rename(columns=lambda c: c.split(cut+\"_\")[1] if cut in c else c, inplace=True)\n",
    "\n",
    "        if sname in samples:\n",
    "            samples[sname] = pd.concat([samples[sname], s], ignore_index=True)\n",
    "        else:\n",
    "            samples[sname] = s\n"
   ]
  },
  {
   "cell_type": "code",
   "execution_count": 5,
   "metadata": {
    "ExecuteTime": {
     "end_time": "2020-01-23T16:21:34.178919Z",
     "start_time": "2020-01-23T16:21:34.150961Z"
    },
    "scrolled": false
   },
   "outputs": [
    {
     "name": "stdout",
     "output_type": "stream",
     "text": [
      "Sample name VBS       , nsamples:     123434,   XS total: 542.9917437296729\n",
      "Sample name background, nsamples:     522170,   XS total: 176608.83388072244\n"
     ]
    }
   ],
   "source": [
    "for s, df in samples.items():\n",
    "    print(f\"Sample name {s:10}, nsamples: {len(df):10},   XS total: {(df.XSWeight*df.weight*df.puWeight).sum()*41:15}\")"
   ]
  },
  {
   "cell_type": "code",
   "execution_count": 6,
   "metadata": {
    "ExecuteTime": {
     "end_time": "2020-01-23T16:21:34.582589Z",
     "start_time": "2020-01-23T16:21:34.577483Z"
    }
   },
   "outputs": [
    {
     "data": {
      "text/plain": [
       "Index(['weight', 'XSWeight', 'Lepton_RecoSF', 'LepWPWeight', 'puWeight',\n",
       "       'TriggerEffWeight_1l', 'btagSF', 'PrefireWeight', 'events', 'Lepton_pt',\n",
       "       'Lepton_eta', 'Lepton_phi', 'Lepton_flavour', 'PuppiMET',\n",
       "       'PuppiMET_phi', 'MET_pt', 'recoMET_pz', 'nJets', 'N_jets_central',\n",
       "       'N_jets_forward', 'mjj_vbs', 'deltaeta_vbs', 'deltaphi_vbs',\n",
       "       'vbs_etaprod', 'vbs_0_pt', 'vbs_1_pt', 'vbs_0_eta', 'vbs_1_eta',\n",
       "       'vbs_0_phi', 'vbs_1_phi', 'vbs_index_0', 'vbs_index_1', 'mjj_vjet',\n",
       "       'vjet_0_pt', 'vjet_1_pt', 'vjet_0_eta', 'vjet_1_eta', 'vjet_0_phi',\n",
       "       'vjet_1_phi', 'vjet_index_0', 'vjet_index_1', 'Zvjets_0', 'Zlep',\n",
       "       'Asym_vbs', 'Asym_vjet', 'Mw_lep_reco', 'Mtw_lep', 'w_lep_pt', 'Mww',\n",
       "       'R_ww', 'R_mw', 'A_ww', 'Centr_vbs', 'Centr_ww', 'nvtx', 'qgl'],\n",
       "      dtype='object')"
      ]
     },
     "execution_count": 6,
     "metadata": {},
     "output_type": "execute_result"
    }
   ],
   "source": [
    "samples[\"VBS\"].columns"
   ]
  },
  {
   "cell_type": "code",
   "execution_count": 7,
   "metadata": {
    "ExecuteTime": {
     "end_time": "2020-01-23T16:21:35.020758Z",
     "start_time": "2020-01-23T16:21:35.002903Z"
    }
   },
   "outputs": [
    {
     "name": "stdout",
     "output_type": "stream",
     "text": [
      "Empty DataFrame\n",
      "Columns: [weight, XSWeight, Lepton_RecoSF, LepWPWeight, puWeight, TriggerEffWeight_1l, btagSF, PrefireWeight, events, Lepton_pt, Lepton_eta, Lepton_phi, Lepton_flavour, PuppiMET, PuppiMET_phi, MET_pt, recoMET_pz, nJets, N_jets_central, N_jets_forward, mjj_vbs, deltaeta_vbs, deltaphi_vbs, vbs_etaprod, vbs_0_pt, vbs_1_pt, vbs_0_eta, vbs_1_eta, vbs_0_phi, vbs_1_phi, vbs_index_0, vbs_index_1, mjj_vjet, vjet_0_pt, vjet_1_pt, vjet_0_eta, vjet_1_eta, vjet_0_phi, vjet_1_phi, vjet_index_0, vjet_index_1, Zvjets_0, Zlep, Asym_vbs, Asym_vjet, Mw_lep_reco, Mtw_lep, w_lep_pt, Mww, R_ww, R_mw, A_ww, Centr_vbs, Centr_ww, nvtx, qgl]\n",
      "Index: []\n",
      "\n",
      "[0 rows x 56 columns]\n",
      "Empty DataFrame\n",
      "Columns: [weight, XSWeight, Lepton_RecoSF, LepWPWeight, puWeight, TriggerEffWeight_1l, btagSF, PrefireWeight, events, Lepton_pt, Lepton_eta, Lepton_phi, Lepton_flavour, PuppiMET, PuppiMET_phi, MET_pt, recoMET_pz, nJets, N_jets_central, N_jets_forward, mjj_vbs, deltaeta_vbs, deltaphi_vbs, vbs_etaprod, vbs_0_pt, vbs_1_pt, vbs_0_eta, vbs_1_eta, vbs_0_phi, vbs_1_phi, vbs_index_0, vbs_index_1, mjj_vjet, vjet_0_pt, vjet_1_pt, vjet_0_eta, vjet_1_eta, vjet_0_phi, vjet_1_phi, vjet_index_0, vjet_index_1, Zvjets_0, Zlep, Asym_vbs, Asym_vjet, Mw_lep_reco, Mtw_lep, w_lep_pt, Mww, R_ww, R_mw, A_ww, Centr_vbs, Centr_ww, nvtx, qgl, sample]\n",
      "Index: []\n",
      "\n",
      "[0 rows x 57 columns]\n"
     ]
    }
   ],
   "source": [
    "## check if there is any event with weight == 0.0\n",
    "for sname in [\"VBS\", \"background\"]:\n",
    "    print(samples[sname][ samples[sname][\"weight\"] == 0.0 ])"
   ]
  },
  {
   "cell_type": "markdown",
   "metadata": {},
   "source": [
    "## Samples preparation for NN"
   ]
  },
  {
   "cell_type": "code",
   "execution_count": 70,
   "metadata": {},
   "outputs": [],
   "source": [
    "## using \n",
    "## source /cvmfs/sft.cern.ch/lcg/views/LCG_96python3/x86_64-centos7-gcc8-opt/setup.sh\n",
    "#!pip3 install --user imbalanced-learn==0.5"
   ]
  },
  {
   "cell_type": "code",
   "execution_count": 8,
   "metadata": {
    "ExecuteTime": {
     "end_time": "2020-01-23T16:22:29.876469Z",
     "start_time": "2020-01-23T16:21:45.063457Z"
    }
   },
   "outputs": [
    {
     "name": "stderr",
     "output_type": "stream",
     "text": [
      "Using TensorFlow backend.\n"
     ]
    }
   ],
   "source": [
    "from sklearn.preprocessing import MinMaxScaler, StandardScaler, QuantileTransformer\n",
    "from sklearn.model_selection import train_test_split\n",
    "from imblearn.keras import balanced_batch_generator\n",
    "from imblearn.over_sampling import RandomOverSampler\n",
    "import tensorflow\n",
    "import keras\n",
    "import pandas as pd\n",
    "import numpy as np\n",
    "import matplotlib.pyplot as plt\n",
    "from keras.datasets import mnist\n",
    "from keras.models import Model, Sequential\n",
    "from keras.layers import Dense, Conv2D, Dropout, BatchNormalization, Input, Reshape, Flatten, Deconvolution2D, Conv2DTranspose, MaxPooling2D, UpSampling2D, Lambda\n",
    "from keras.layers.advanced_activations import LeakyReLU\n",
    "from keras.optimizers import adam\n",
    "from keras import backend as K\n",
    "from keras.callbacks import *"
   ]
  },
  {
   "cell_type": "code",
   "execution_count": 1,
   "metadata": {
    "ExecuteTime": {
     "end_time": "2020-01-24T08:03:29.618321Z",
     "start_time": "2020-01-24T08:03:29.010090Z"
    }
   },
   "outputs": [
    {
     "ename": "NameError",
     "evalue": "name 'samples_dir' is not defined",
     "output_type": "error",
     "traceback": [
      "\u001b[0;31m---------------------------------------------------------------------------\u001b[0m",
      "\u001b[0;31mNameError\u001b[0m                                 Traceback (most recent call last)",
      "\u001b[0;32m<ipython-input-1-d89d2d881637>\u001b[0m in \u001b[0;36m<module>\u001b[0;34m\u001b[0m\n\u001b[1;32m      1\u001b[0m \u001b[0;32mimport\u001b[0m \u001b[0myaml\u001b[0m\u001b[0;34m\u001b[0m\u001b[0m\n\u001b[0;32m----> 2\u001b[0;31m \u001b[0myaml_vars\u001b[0m \u001b[0;34m=\u001b[0m \u001b[0myaml\u001b[0m\u001b[0;34m.\u001b[0m\u001b[0msafe_load\u001b[0m\u001b[0;34m(\u001b[0m\u001b[0mopen\u001b[0m\u001b[0;34m(\u001b[0m\u001b[0msamples_dir\u001b[0m \u001b[0;34m+\u001b[0m \u001b[0;34m\"/\"\u001b[0m \u001b[0;34m+\u001b[0m \u001b[0mcut\u001b[0m \u001b[0;34m+\u001b[0m \u001b[0;34m\"/models/variables.yml\"\u001b[0m\u001b[0;34m)\u001b[0m\u001b[0;34m)\u001b[0m\u001b[0;34m\u001b[0m\u001b[0m\n\u001b[0m\u001b[1;32m      3\u001b[0m \u001b[0mprint\u001b[0m\u001b[0;34m(\u001b[0m\u001b[0mtype\u001b[0m\u001b[0;34m(\u001b[0m\u001b[0myaml_vars\u001b[0m\u001b[0;34m)\u001b[0m\u001b[0;34m,\u001b[0m \u001b[0myaml_vars\u001b[0m\u001b[0;34m)\u001b[0m\u001b[0;34m\u001b[0m\u001b[0m\n",
      "\u001b[0;31mNameError\u001b[0m: name 'samples_dir' is not defined"
     ]
    }
   ],
   "source": [
    "import yaml\n",
    "yaml_vars = yaml.safe_load(open(samples_dir + \"/\" + cut + \"/models/variables.yml\"))\n",
    "print(type(yaml_vars), yaml_vars)\n",
    "cols = yaml_vars"
   ]
  },
  {
   "cell_type": "code",
   "execution_count": 10,
   "metadata": {
    "ExecuteTime": {
     "end_time": "2020-01-23T16:22:39.416292Z",
     "start_time": "2020-01-23T16:22:39.411660Z"
    }
   },
   "outputs": [],
   "source": [
    "# cols = [\"mjj_vbs\", \"mjj_vjet\", \"deltaeta_vbs\", \"vbs_0_pt\", \"vbs_1_pt\", \"vbs_0_eta\", \"vbs_1_eta\", \"Lepton_pt\", \"Lepton_eta\", \"Lepton_flavour\"]\n",
    "cols = [\"mjj_vbs\", \n",
    "        \"vbs_0_pt\", \"vbs_1_pt\", \"vbs_0_eta\", \"vbs_1_eta\", \n",
    "        \"vbs_index_0\", \"vbs_index_1\",\n",
    "        \"deltaeta_vbs\", \"deltaphi_vbs\", \n",
    "        \"mjj_vjet\", \n",
    "        \"vjet_0_pt\", \"vjet_1_pt\", \"vjet_0_eta\", \"vjet_1_eta\", \n",
    "        \"vjet_index_0\", \"vjet_index_1\", \n",
    "        \"Lepton_pt\", \"Lepton_eta\", \"Lepton_flavour\",\n",
    "        \"PuppiMET\", \n",
    "        \"nJets\", \"N_jets_central\", \"N_jets_forward\", \n",
    "        \"Zvjets_0\", \"Zlep\", \n",
    "        \"Asym_vbs\", \"Asym_vjet\", \n",
    "        \"A_ww\", a\n",
    "        \"Mw_lep_reco\", \"Mtw_lep\", \"w_lep_pt\", \"Mww\", \n",
    "        \"R_ww\", \"R_mw\", \n",
    "        \"Centr_vbs\", \"Centr_ww\",\n",
    "       ]"
   ]
  },
  {
   "cell_type": "code",
   "execution_count": 11,
   "metadata": {
    "ExecuteTime": {
     "end_time": "2020-01-23T16:22:41.674168Z",
     "start_time": "2020-01-23T16:22:39.775579Z"
    }
   },
   "outputs": [],
   "source": [
    "X_sig = samples[\"VBS\"][cols].values\n",
    "X_bkg = samples[\"background\"][cols].values\n",
    "Y_sig = np.ones(len(X_sig))\n",
    "Y_bkg = np.zeros(len(X_bkg))\n",
    "W_sig = samples[\"VBS\"][\"weight\"].values\n",
    "W_bkg = samples[\"background\"][\"weight\"].values"
   ]
  },
  {
   "cell_type": "markdown",
   "metadata": {},
   "source": [
    "Stack arrays in one only ntuple"
   ]
  },
  {
   "cell_type": "code",
   "execution_count": 12,
   "metadata": {
    "ExecuteTime": {
     "end_time": "2020-01-23T16:22:44.575107Z",
     "start_time": "2020-01-23T16:22:42.247006Z"
    }
   },
   "outputs": [],
   "source": [
    "X = np.vstack([X_sig, X_bkg])\n",
    "Y = np.hstack([Y_sig, Y_bkg])\n",
    "W = np.hstack([W_sig, W_bkg])"
   ]
  },
  {
   "cell_type": "code",
   "execution_count": 13,
   "metadata": {
    "ExecuteTime": {
     "end_time": "2020-01-23T16:22:51.362158Z",
     "start_time": "2020-01-23T16:22:50.176750Z"
    }
   },
   "outputs": [],
   "source": [
    "scaler = StandardScaler()\n",
    "X_scaled = scaler.fit_transform(X)\n",
    "model_dir = samples_dir + \"/\" + cut + \"/models/\""
   ]
  },
  {
   "cell_type": "code",
   "execution_count": 40,
   "metadata": {
    "ExecuteTime": {
     "end_time": "2020-01-23T16:27:36.507296Z",
     "start_time": "2020-01-23T16:27:34.870472Z"
    }
   },
   "outputs": [
    {
     "name": "stdout",
     "output_type": "stream",
     "text": [
      "deltaphi_vbs\n"
     ]
    },
    {
     "data": {
      "image/png": "[encoded data removed]",
      "text/plain": [
       "<Figure size 1000x500 with 2 Axes>"
      ]
     },
     "metadata": {},
     "output_type": "display_data"
    }
   ],
   "source": [
    "i = 8\n",
    "print(cols[i])\n",
    "fig, (ax1, ax2) = plt.subplots(ncols=2, figsize=(10,5), dpi=100)\n",
    "ax1.hist(X[:,i], bins=50)\n",
    "ax1.set_yscale(\"log\")\n",
    "ax2.hist(X_scaled[:,i], bins=50)\n",
    "plt.yscale(\"log\")"
   ]
  },
  {
   "cell_type": "code",
   "execution_count": null,
   "metadata": {},
   "outputs": [],
   "source": [
    "import os \n",
    "os.makedirs(model_dir, exist_ok=True)\n",
    "pickle.dump(scaler, open(f\"{model_dir}/scaler_model_v0.pkl\", \"wb\"))"
   ]
  },
  {
   "cell_type": "code",
   "execution_count": 78,
   "metadata": {
    "ExecuteTime": {
     "end_time": "2020-01-21T08:57:59.219296Z",
     "start_time": "2020-01-21T08:57:59.214681Z"
    }
   },
   "outputs": [],
   "source": [
    "den=True"
   ]
  },
  {
   "cell_type": "code",
   "execution_count": 80,
   "metadata": {
    "ExecuteTime": {
     "end_time": "2020-01-21T08:59:15.906717Z",
     "start_time": "2020-01-21T08:59:14.201630Z"
    }
   },
   "outputs": [],
   "source": [
    "#_ = plt.hist(X[Y==0][:,7], bins=100, density=den, alpha=0.5)\n",
    "#_ = plt.hist(X[Y==1][:,7], bins=100, color=\"r\", density=den, alpha=0.5)\n",
    "#plt.yscale(\"log\")\n",
    "#plt.scatter(X_scaled[Y==1][:,4], X_scaled[Y==1][:,1], c=\"b\")"
   ]
  },
  {
   "cell_type": "markdown",
   "metadata": {
    "ExecuteTime": {
     "end_time": "2020-01-21T08:50:38.324736Z",
     "start_time": "2020-01-21T08:50:38.320100Z"
    }
   },
   "source": [
    "##  Balancing\n",
    "Let's give 25% to validation (validation during training + test). \n",
    "The validation is then split in 50%-50% for training validation and final result"
   ]
  },
  {
   "cell_type": "code",
   "execution_count": 50,
   "metadata": {
    "ExecuteTime": {
     "end_time": "2020-01-23T16:50:32.473187Z",
     "start_time": "2020-01-23T16:50:31.609737Z"
    }
   },
   "outputs": [],
   "source": [
    "X_train, X_temp, y_train, y_temp, W_train, W_temp = train_test_split(X_scaled, Y,      W,      test_size=0.25)\n",
    "X_val,   X_test, y_val,   y_test, W_val,   W_test = train_test_split(X_temp,   y_temp, W_temp, test_size=0.25)"
   ]
  },
  {
   "cell_type": "code",
   "execution_count": 51,
   "metadata": {
    "ExecuteTime": {
     "end_time": "2020-01-23T16:50:45.810982Z",
     "start_time": "2020-01-23T16:50:45.805980Z"
    }
   },
   "outputs": [
    {
     "name": "stdout",
     "output_type": "stream",
     "text": [
      "Training dataset:  (484203, 36)\n"
     ]
    }
   ],
   "source": [
    "print(\"Training dataset: \", X_train.shape)"
   ]
  },
  {
   "cell_type": "markdown",
   "metadata": {},
   "source": [
    "Create generators to balance signal and background"
   ]
  },
  {
   "cell_type": "code",
   "execution_count": 52,
   "metadata": {
    "ExecuteTime": {
     "end_time": "2020-01-23T16:50:58.056773Z",
     "start_time": "2020-01-23T16:50:57.331940Z"
    }
   },
   "outputs": [],
   "source": [
    "training_generator,   steps_per_epoch_train = balanced_batch_generator(X_train, y_train, W_train, batch_size=1024, sampler=RandomOverSampler())\n",
    "validation_generator, steps_per_epoch_val   = balanced_batch_generator(X_val,   y_val,   W_val,   batch_size=1024, sampler=RandomOverSampler())"
   ]
  },
  {
   "cell_type": "markdown",
   "metadata": {},
   "source": [
    "## Keras model"
   ]
  },
  {
   "cell_type": "code",
   "execution_count": 53,
   "metadata": {
    "ExecuteTime": {
     "end_time": "2020-01-23T16:51:10.644762Z",
     "start_time": "2020-01-23T16:51:10.427752Z"
    }
   },
   "outputs": [
    {
     "name": "stdout",
     "output_type": "stream",
     "text": [
      "_________________________________________________________________\n",
      "Layer (type)                 Output Shape              Param #   \n",
      "=================================================================\n",
      "dense_5 (Dense)              (None, 100)               3700      \n",
      "_________________________________________________________________\n",
      "dropout_4 (Dropout)          (None, 100)               0         \n",
      "_________________________________________________________________\n",
      "dense_6 (Dense)              (None, 50)                5050      \n",
      "_________________________________________________________________\n",
      "dropout_5 (Dropout)          (None, 50)                0         \n",
      "_________________________________________________________________\n",
      "dense_7 (Dense)              (None, 1)                 51        \n",
      "=================================================================\n",
      "Total params: 8,801\n",
      "Trainable params: 8,801\n",
      "Non-trainable params: 0\n",
      "_________________________________________________________________\n"
     ]
    }
   ],
   "source": [
    "model = Sequential()\n",
    "model.add(Dense(100, input_dim=X_train.shape[1], activation=\"relu\"))\n",
    "model.add(Dropout(0.3))\n",
    "#model.add(Dense(100, activation=\"relu\"))\n",
    "#model.add(Dropout(0.3))\n",
    "model.add(Dense(50, activation=\"relu\"))\n",
    "model.add(Dropout(0.3))\n",
    "model.add(Dense(1, activation=\"sigmoid\"))\n",
    "\n",
    "model.compile(optimizer='adam',\n",
    "              loss='binary_crossentropy',\n",
    "              metrics=['accuracy'])\n",
    "\n",
    "model.summary()"
   ]
  },
  {
   "cell_type": "code",
   "execution_count": null,
   "metadata": {},
   "outputs": [],
   "source": [
    "auto_save = ModelCheckpoint(\"../models/model12_balanced_100_50.hd5\", monitor='val_loss', \n",
    "                    verbose=1, save_best_only=True, save_weights_only=False, \n",
    "                    mode='auto', period=5)\n",
    "\n",
    "early_stop = EarlyStopping(monitor='val_loss', min_delta=0.0001, \n",
    "                            patience=10, verbose=1)"
   ]
  },
  {
   "cell_type": "code",
   "execution_count": 54,
   "metadata": {
    "ExecuteTime": {
     "end_time": "2020-01-23T16:58:37.500945Z",
     "start_time": "2020-01-23T16:51:15.964316Z"
    },
    "scrolled": true
   },
   "outputs": [
    {
     "name": "stdout",
     "output_type": "stream",
     "text": [
      "Epoch 1/100\n",
      "764/764 [==============================] - 5s 7ms/step - loss: 0.4001 - acc: 0.7513 - val_loss: 0.3735 - val_acc: 0.7714\n",
      "Epoch 2/100\n",
      "764/764 [==============================] - 4s 6ms/step - loss: 0.3774 - acc: 0.7709 - val_loss: 0.3678 - val_acc: 0.7766\n",
      "Epoch 3/100\n",
      "764/764 [==============================] - 4s 5ms/step - loss: 0.3725 - acc: 0.7744 - val_loss: 0.3650 - val_acc: 0.7799\n",
      "Epoch 4/100\n",
      "764/764 [==============================] - 4s 5ms/step - loss: 0.3697 - acc: 0.7767 - val_loss: 0.3630 - val_acc: 0.7825\n",
      "Epoch 5/100\n",
      "764/764 [==============================] - 4s 5ms/step - loss: 0.3676 - acc: 0.7787 - val_loss: 0.3616 - val_acc: 0.7837\n",
      "Epoch 6/100\n",
      "764/764 [==============================] - 4s 5ms/step - loss: 0.3664 - acc: 0.7796 - val_loss: 0.3607 - val_acc: 0.7835\n",
      "Epoch 7/100\n",
      "764/764 [==============================] - 4s 5ms/step - loss: 0.3650 - acc: 0.7804 - val_loss: 0.3601 - val_acc: 0.7837\n",
      "Epoch 8/100\n",
      "764/764 [==============================] - 4s 5ms/step - loss: 0.3641 - acc: 0.7813 - val_loss: 0.3594 - val_acc: 0.7843\n",
      "Epoch 9/100\n",
      "764/764 [==============================] - 4s 5ms/step - loss: 0.3637 - acc: 0.7820 - val_loss: 0.3595 - val_acc: 0.7839\n",
      "Epoch 10/100\n",
      "764/764 [==============================] - 4s 5ms/step - loss: 0.3630 - acc: 0.7821 - val_loss: 0.3589 - val_acc: 0.7844\n",
      "Epoch 11/100\n",
      "764/764 [==============================] - 4s 6ms/step - loss: 0.3625 - acc: 0.7828 - val_loss: 0.3592 - val_acc: 0.7842\n",
      "Epoch 12/100\n",
      "764/764 [==============================] - 4s 5ms/step - loss: 0.3623 - acc: 0.7826 - val_loss: 0.3587 - val_acc: 0.7839\n",
      "Epoch 13/100\n",
      "764/764 [==============================] - 4s 5ms/step - loss: 0.3617 - acc: 0.7825 - val_loss: 0.3587 - val_acc: 0.7843\n",
      "Epoch 14/100\n",
      "764/764 [==============================] - 4s 5ms/step - loss: 0.3616 - acc: 0.7837 - val_loss: 0.3584 - val_acc: 0.7842\n",
      "Epoch 15/100\n",
      "764/764 [==============================] - 4s 5ms/step - loss: 0.3611 - acc: 0.7831 - val_loss: 0.3582 - val_acc: 0.7844\n",
      "Epoch 16/100\n",
      "764/764 [==============================] - 4s 5ms/step - loss: 0.3608 - acc: 0.7837 - val_loss: 0.3580 - val_acc: 0.7846\n",
      "Epoch 17/100\n",
      "764/764 [==============================] - 4s 5ms/step - loss: 0.3609 - acc: 0.7838 - val_loss: 0.3578 - val_acc: 0.7844\n",
      "Epoch 18/100\n",
      "764/764 [==============================] - 4s 5ms/step - loss: 0.3605 - acc: 0.7842 - val_loss: 0.3576 - val_acc: 0.7846\n",
      "Epoch 19/100\n",
      "764/764 [==============================] - 4s 5ms/step - loss: 0.3601 - acc: 0.7843 - val_loss: 0.3575 - val_acc: 0.7853\n",
      "Epoch 20/100\n",
      "764/764 [==============================] - 4s 6ms/step - loss: 0.3600 - acc: 0.7842 - val_loss: 0.3577 - val_acc: 0.7848\n",
      "Epoch 21/100\n",
      "764/764 [==============================] - 4s 5ms/step - loss: 0.3599 - acc: 0.7845 - val_loss: 0.3576 - val_acc: 0.7850\n",
      "Epoch 22/100\n",
      "764/764 [==============================] - 4s 5ms/step - loss: 0.3598 - acc: 0.7847 - val_loss: 0.3577 - val_acc: 0.7850\n",
      "Epoch 23/100\n",
      "764/764 [==============================] - 4s 5ms/step - loss: 0.3594 - acc: 0.7845 - val_loss: 0.3577 - val_acc: 0.7849\n",
      "Epoch 24/100\n",
      "764/764 [==============================] - 4s 6ms/step - loss: 0.3594 - acc: 0.7849 - val_loss: 0.3579 - val_acc: 0.7841\n",
      "Epoch 25/100\n",
      "764/764 [==============================] - 4s 5ms/step - loss: 0.3591 - acc: 0.7850 - val_loss: 0.3575 - val_acc: 0.7853\n",
      "Epoch 26/100\n",
      "764/764 [==============================] - 4s 5ms/step - loss: 0.3592 - acc: 0.7849 - val_loss: 0.3575 - val_acc: 0.7855\n",
      "Epoch 27/100\n",
      "764/764 [==============================] - 4s 5ms/step - loss: 0.3590 - acc: 0.7849 - val_loss: 0.3578 - val_acc: 0.7846\n",
      "Epoch 28/100\n",
      "764/764 [==============================] - 4s 5ms/step - loss: 0.3588 - acc: 0.7851 - val_loss: 0.3576 - val_acc: 0.7846\n",
      "Epoch 29/100\n",
      "764/764 [==============================] - 4s 5ms/step - loss: 0.3589 - acc: 0.7852 - val_loss: 0.3579 - val_acc: 0.7844\n",
      "Epoch 30/100\n",
      "764/764 [==============================] - 4s 5ms/step - loss: 0.3586 - acc: 0.7849 - val_loss: 0.3581 - val_acc: 0.7842\n",
      "Epoch 31/100\n",
      "764/764 [==============================] - 4s 6ms/step - loss: 0.3586 - acc: 0.7850 - val_loss: 0.3580 - val_acc: 0.7834\n",
      "Epoch 32/100\n",
      "764/764 [==============================] - 4s 5ms/step - loss: 0.3585 - acc: 0.7854 - val_loss: 0.3580 - val_acc: 0.7845\n",
      "Epoch 33/100\n",
      "764/764 [==============================] - 4s 5ms/step - loss: 0.3582 - acc: 0.7854 - val_loss: 0.3578 - val_acc: 0.7842\n",
      "Epoch 34/100\n",
      "764/764 [==============================] - 4s 5ms/step - loss: 0.3583 - acc: 0.7854 - val_loss: 0.3576 - val_acc: 0.7847\n",
      "Epoch 35/100\n",
      "764/764 [==============================] - 4s 5ms/step - loss: 0.3581 - acc: 0.7855 - val_loss: 0.3575 - val_acc: 0.7847\n",
      "Epoch 36/100\n",
      "764/764 [==============================] - 4s 5ms/step - loss: 0.3581 - acc: 0.7856 - val_loss: 0.3579 - val_acc: 0.7836\n",
      "Epoch 37/100\n",
      "764/764 [==============================] - 4s 5ms/step - loss: 0.3580 - acc: 0.7858 - val_loss: 0.3579 - val_acc: 0.7842\n",
      "Epoch 38/100\n",
      "764/764 [==============================] - 4s 5ms/step - loss: 0.3579 - acc: 0.7858 - val_loss: 0.3579 - val_acc: 0.7848\n",
      "Epoch 39/100\n",
      "764/764 [==============================] - 4s 5ms/step - loss: 0.3579 - acc: 0.7855 - val_loss: 0.3577 - val_acc: 0.7846\n",
      "Epoch 40/100\n",
      "764/764 [==============================] - 4s 5ms/step - loss: 0.3580 - acc: 0.7859 - val_loss: 0.3577 - val_acc: 0.7849\n",
      "Epoch 41/100\n",
      "764/764 [==============================] - 4s 5ms/step - loss: 0.3577 - acc: 0.7860 - val_loss: 0.3579 - val_acc: 0.7846\n",
      "Epoch 42/100\n",
      "764/764 [==============================] - 4s 5ms/step - loss: 0.3575 - acc: 0.7862 - val_loss: 0.3579 - val_acc: 0.7842\n",
      "Epoch 43/100\n",
      "764/764 [==============================] - 4s 5ms/step - loss: 0.3575 - acc: 0.7863 - val_loss: 0.3577 - val_acc: 0.7846\n",
      "Epoch 44/100\n",
      "764/764 [==============================] - 5s 6ms/step - loss: 0.3576 - acc: 0.7863 - val_loss: 0.3578 - val_acc: 0.7836\n",
      "Epoch 45/100\n",
      "764/764 [==============================] - 5s 6ms/step - loss: 0.3575 - acc: 0.7861 - val_loss: 0.3580 - val_acc: 0.7837\n",
      "Epoch 46/100\n",
      "764/764 [==============================] - 5s 7ms/step - loss: 0.3573 - acc: 0.7865 - val_loss: 0.3581 - val_acc: 0.7840\n",
      "Epoch 47/100\n",
      "764/764 [==============================] - 5s 7ms/step - loss: 0.3574 - acc: 0.7857 - val_loss: 0.3582 - val_acc: 0.7847\n",
      "Epoch 48/100\n",
      "764/764 [==============================] - 5s 7ms/step - loss: 0.3572 - acc: 0.7864 - val_loss: 0.3584 - val_acc: 0.7837\n",
      "Epoch 49/100\n",
      "764/764 [==============================] - 5s 7ms/step - loss: 0.3575 - acc: 0.7858 - val_loss: 0.3580 - val_acc: 0.7843\n",
      "Epoch 50/100\n",
      "764/764 [==============================] - 5s 7ms/step - loss: 0.3572 - acc: 0.7862 - val_loss: 0.3580 - val_acc: 0.7849\n",
      "Epoch 51/100\n",
      "764/764 [==============================] - 5s 7ms/step - loss: 0.3573 - acc: 0.7864 - val_loss: 0.3580 - val_acc: 0.7844\n",
      "Epoch 52/100\n",
      "764/764 [==============================] - 5s 7ms/step - loss: 0.3572 - acc: 0.7864 - val_loss: 0.3582 - val_acc: 0.7842\n",
      "Epoch 53/100\n",
      "764/764 [==============================] - 5s 7ms/step - loss: 0.3570 - acc: 0.7865 - val_loss: 0.3578 - val_acc: 0.7843\n",
      "Epoch 54/100\n",
      "764/764 [==============================] - 6s 8ms/step - loss: 0.3570 - acc: 0.7867 - val_loss: 0.3581 - val_acc: 0.7846\n",
      "Epoch 55/100\n",
      "764/764 [==============================] - 5s 7ms/step - loss: 0.3568 - acc: 0.7863 - val_loss: 0.3581 - val_acc: 0.7842\n",
      "Epoch 56/100\n",
      "764/764 [==============================] - 5s 7ms/step - loss: 0.3571 - acc: 0.7865 - val_loss: 0.3583 - val_acc: 0.7841\n",
      "Epoch 57/100\n",
      "764/764 [==============================] - 5s 6ms/step - loss: 0.3568 - acc: 0.7868 - val_loss: 0.3577 - val_acc: 0.7844\n",
      "Epoch 58/100\n",
      "764/764 [==============================] - 4s 6ms/step - loss: 0.3568 - acc: 0.7864 - val_loss: 0.3579 - val_acc: 0.7845\n",
      "Epoch 59/100\n",
      "764/764 [==============================] - 5s 6ms/step - loss: 0.3566 - acc: 0.7866 - val_loss: 0.3579 - val_acc: 0.7843\n",
      "Epoch 60/100\n",
      "764/764 [==============================] - 5s 7ms/step - loss: 0.3567 - acc: 0.7869 - val_loss: 0.3582 - val_acc: 0.7842\n",
      "Epoch 61/100\n",
      "764/764 [==============================] - 5s 6ms/step - loss: 0.3566 - acc: 0.7865 - val_loss: 0.3577 - val_acc: 0.7847\n",
      "Epoch 62/100\n",
      "764/764 [==============================] - 5s 6ms/step - loss: 0.3567 - acc: 0.7864 - val_loss: 0.3579 - val_acc: 0.7849\n",
      "Epoch 63/100\n",
      "764/764 [==============================] - 4s 6ms/step - loss: 0.3568 - acc: 0.7869 - val_loss: 0.3581 - val_acc: 0.7848\n",
      "Epoch 64/100\n",
      "764/764 [==============================] - 4s 6ms/step - loss: 0.3563 - acc: 0.7869 - val_loss: 0.3581 - val_acc: 0.7854\n",
      "Epoch 65/100\n",
      "764/764 [==============================] - 5s 6ms/step - loss: 0.3563 - acc: 0.7869 - val_loss: 0.3579 - val_acc: 0.7855\n",
      "Epoch 66/100\n",
      "764/764 [==============================] - 5s 6ms/step - loss: 0.3565 - acc: 0.7872 - val_loss: 0.3581 - val_acc: 0.7848\n",
      "Epoch 67/100\n",
      "764/764 [==============================] - 4s 6ms/step - loss: 0.3564 - acc: 0.7866 - val_loss: 0.3577 - val_acc: 0.7838\n",
      "Epoch 68/100\n",
      "764/764 [==============================] - 4s 5ms/step - loss: 0.3562 - acc: 0.7869 - val_loss: 0.3581 - val_acc: 0.7846\n",
      "Epoch 69/100\n",
      "764/764 [==============================] - 4s 5ms/step - loss: 0.3564 - acc: 0.7871 - val_loss: 0.3582 - val_acc: 0.7836\n",
      "Epoch 70/100\n",
      "764/764 [==============================] - 4s 6ms/step - loss: 0.3564 - acc: 0.7869 - val_loss: 0.3579 - val_acc: 0.7848\n",
      "Epoch 71/100\n",
      "764/764 [==============================] - 4s 6ms/step - loss: 0.3563 - acc: 0.7871 - val_loss: 0.3581 - val_acc: 0.7850\n",
      "Epoch 72/100\n",
      "764/764 [==============================] - 5s 7ms/step - loss: 0.3562 - acc: 0.7869 - val_loss: 0.3581 - val_acc: 0.7851\n",
      "Epoch 73/100\n",
      "764/764 [==============================] - 6s 8ms/step - loss: 0.3562 - acc: 0.7867 - val_loss: 0.3582 - val_acc: 0.7843\n",
      "Epoch 74/100\n",
      "764/764 [==============================] - 6s 7ms/step - loss: 0.3560 - acc: 0.7870 - val_loss: 0.3582 - val_acc: 0.7843\n",
      "Epoch 75/100\n",
      "764/764 [==============================] - 6s 7ms/step - loss: 0.3561 - acc: 0.7871 - val_loss: 0.3580 - val_acc: 0.7842\n",
      "Epoch 76/100\n",
      "764/764 [==============================] - 5s 6ms/step - loss: 0.3561 - acc: 0.7872 - val_loss: 0.3581 - val_acc: 0.7842\n",
      "Epoch 77/100\n",
      "764/764 [==============================] - 4s 5ms/step - loss: 0.3561 - acc: 0.7872 - val_loss: 0.3580 - val_acc: 0.7852\n",
      "Epoch 78/100\n",
      "764/764 [==============================] - 4s 6ms/step - loss: 0.3560 - acc: 0.7872 - val_loss: 0.3582 - val_acc: 0.7847\n",
      "Epoch 79/100\n",
      "764/764 [==============================] - 5s 6ms/step - loss: 0.3561 - acc: 0.7874 - val_loss: 0.3580 - val_acc: 0.7840\n",
      "Epoch 80/100\n",
      "764/764 [==============================] - 4s 6ms/step - loss: 0.3560 - acc: 0.7872 - val_loss: 0.3580 - val_acc: 0.7843\n",
      "Epoch 81/100\n",
      "764/764 [==============================] - 4s 6ms/step - loss: 0.3560 - acc: 0.7870 - val_loss: 0.3585 - val_acc: 0.7842\n",
      "Epoch 82/100\n",
      "764/764 [==============================] - 4s 6ms/step - loss: 0.3561 - acc: 0.7869 - val_loss: 0.3580 - val_acc: 0.7845\n",
      "Epoch 83/100\n",
      "764/764 [==============================] - 5s 6ms/step - loss: 0.3558 - acc: 0.7873 - val_loss: 0.3581 - val_acc: 0.7847\n",
      "Epoch 84/100\n",
      "764/764 [==============================] - 4s 6ms/step - loss: 0.3558 - acc: 0.7869 - val_loss: 0.3579 - val_acc: 0.7843\n",
      "Epoch 85/100\n",
      "764/764 [==============================] - 5s 7ms/step - loss: 0.3557 - acc: 0.7876 - val_loss: 0.3581 - val_acc: 0.7841\n",
      "Epoch 86/100\n",
      "764/764 [==============================] - 5s 7ms/step - loss: 0.3557 - acc: 0.7874 - val_loss: 0.3582 - val_acc: 0.7842\n",
      "Epoch 87/100\n",
      "764/764 [==============================] - 6s 7ms/step - loss: 0.3558 - acc: 0.7873 - val_loss: 0.3578 - val_acc: 0.7849\n",
      "Epoch 88/100\n",
      "764/764 [==============================] - 5s 7ms/step - loss: 0.3555 - acc: 0.7874 - val_loss: 0.3582 - val_acc: 0.7850\n",
      "Epoch 89/100\n",
      "764/764 [==============================] - 4s 5ms/step - loss: 0.3558 - acc: 0.7873 - val_loss: 0.3582 - val_acc: 0.7848\n",
      "Epoch 90/100\n",
      "764/764 [==============================] - 4s 5ms/step - loss: 0.3557 - acc: 0.7874 - val_loss: 0.3581 - val_acc: 0.7850\n",
      "Epoch 91/100\n",
      "764/764 [==============================] - 4s 6ms/step - loss: 0.3560 - acc: 0.7875 - val_loss: 0.3580 - val_acc: 0.7847\n",
      "Epoch 92/100\n",
      "764/764 [==============================] - 5s 6ms/step - loss: 0.3558 - acc: 0.7875 - val_loss: 0.3581 - val_acc: 0.7849\n",
      "Epoch 93/100\n",
      "764/764 [==============================] - 4s 5ms/step - loss: 0.3557 - acc: 0.7875 - val_loss: 0.3577 - val_acc: 0.7855\n",
      "Epoch 94/100\n",
      "764/764 [==============================] - 4s 6ms/step - loss: 0.3552 - acc: 0.7874 - val_loss: 0.3576 - val_acc: 0.7851\n",
      "Epoch 95/100\n",
      "764/764 [==============================] - 4s 6ms/step - loss: 0.3554 - acc: 0.7879 - val_loss: 0.3575 - val_acc: 0.7852\n",
      "Epoch 96/100\n",
      "764/764 [==============================] - 4s 5ms/step - loss: 0.3559 - acc: 0.7872 - val_loss: 0.3579 - val_acc: 0.7854\n",
      "Epoch 97/100\n",
      "764/764 [==============================] - 4s 5ms/step - loss: 0.3557 - acc: 0.7876 - val_loss: 0.3579 - val_acc: 0.7851\n",
      "Epoch 98/100\n",
      "764/764 [==============================] - 4s 5ms/step - loss: 0.3556 - acc: 0.7874 - val_loss: 0.3582 - val_acc: 0.7838\n",
      "Epoch 99/100\n",
      "764/764 [==============================] - 4s 5ms/step - loss: 0.3554 - acc: 0.7880 - val_loss: 0.3582 - val_acc: 0.7841\n",
      "Epoch 100/100\n",
      "764/764 [==============================] - 4s 5ms/step - loss: 0.3557 - acc: 0.7877 - val_loss: 0.3580 - val_acc: 0.7841\n"
     ]
    }
   ],
   "source": [
    "history = model.fit_generator(\n",
    "            training_generator, \n",
    "            epochs=100,\n",
    "            steps_per_epoch=steps_per_epoch_train, \n",
    "            validation_data = validation_generator, \n",
    "            validation_steps = steps_per_epoch_val,\n",
    "            callbacks = []\n",
    "            )"
   ]
  },
  {
   "cell_type": "code",
   "execution_count": 55,
   "metadata": {
    "ExecuteTime": {
     "end_time": "2020-01-23T16:58:41.964830Z",
     "start_time": "2020-01-23T16:58:41.293117Z"
    }
   },
   "outputs": [
    {
     "name": "stdout",
     "output_type": "stream",
     "text": [
      ">>> Computing AUC...\n",
      "AUC score: 0.8703737647819222\n"
     ]
    }
   ],
   "source": [
    "# Evalutation\n",
    "print(\">>> Computing AUC...\")\n",
    "\n",
    "from sklearn.metrics import roc_auc_score, roc_curve\n",
    "\n",
    "pred = model.predict(X_test)\n",
    "auc = roc_auc_score(y_test,pred)\n",
    "fp, tp, th = roc_curve(y_test, pred)\n",
    "print(\"AUC score: \" + str(auc))"
   ]
  },
  {
   "cell_type": "code",
   "execution_count": 56,
   "metadata": {
    "ExecuteTime": {
     "end_time": "2020-01-23T16:58:44.814025Z",
     "start_time": "2020-01-23T16:58:44.539434Z"
    }
   },
   "outputs": [
    {
     "data": {
      "text/plain": [
       "<matplotlib.legend.Legend at 0x7f48145b59e8>"
      ]
     },
     "execution_count": 56,
     "metadata": {},
     "output_type": "execute_result"
    },
    {
     "data": {
      "image/png": "[encoded data removed]",
      "text/plain": [
       "<Figure size 432x288 with 1 Axes>"
      ]
     },
     "metadata": {},
     "output_type": "display_data"
    }
   ],
   "source": [
    "plt.plot(history.epoch, history.history[\"val_loss\"], label=\"validation loss\")\n",
    "plt.plot(history.epoch, history.history[\"loss\"], label=\"training loss\")\n",
    "plt.legend()"
   ]
  },
  {
   "cell_type": "code",
   "execution_count": 59,
   "metadata": {
    "ExecuteTime": {
     "end_time": "2020-01-23T16:59:11.289504Z",
     "start_time": "2020-01-23T16:59:10.315332Z"
    }
   },
   "outputs": [
    {
     "data": {
      "text/plain": [
       "<matplotlib.legend.Legend at 0x7f4813da3d68>"
      ]
     },
     "execution_count": 59,
     "metadata": {},
     "output_type": "execute_result"
    },
    {
     "data": {
      "image/png": "[encoded data removed]",
      "text/plain": [
       "<Figure size 700x600 with 1 Axes>"
      ]
     },
     "metadata": {},
     "output_type": "display_data"
    }
   ],
   "source": [
    "results = model.predict(X_test)\n",
    "fig, ax1 = plt.subplots(figsize=(7,6), dpi=100)\n",
    "plt.hist(results[y_test==0], bins=50,density=True, label=\"false\", histtype=\"step\")\n",
    "plt.hist(results[y_test==0], bins=50,density=True, label=\"false\", histtype=\"step\")\n",
    "plt.hist(results[y_test==1], bins=50, density=True, label=\"true\", histtype=\"step\")\n",
    "#plt.yscale(\"log\")\n",
    "plt.legend()"
   ]
  },
  {
   "cell_type": "code",
   "execution_count": 60,
   "metadata": {
    "ExecuteTime": {
     "end_time": "2020-01-23T17:02:21.892469Z",
     "start_time": "2020-01-23T17:02:12.558101Z"
    }
   },
   "outputs": [],
   "source": [
    "samples[\"background\"][\"y\"] = model.predict(scaler.transform(samples[\"background\"][cols].values))"
   ]
  },
  {
   "cell_type": "code",
   "execution_count": 71,
   "metadata": {
    "ExecuteTime": {
     "end_time": "2020-01-23T17:07:21.222500Z",
     "start_time": "2020-01-23T17:07:19.372786Z"
    }
   },
   "outputs": [],
   "source": [
    "samples[\"VBS\"][\"y\"] = model.predict(scaler.transform(samples[\"VBS\"][cols].values))"
   ]
  },
  {
   "cell_type": "code",
   "execution_count": null,
   "metadata": {},
   "outputs": [],
   "source": [
    "results = model.predict(X_test)\n",
    "fig, ax1 = plt.subplots(figsize=(7,6), dpi=100)\n",
    "bkg = samples[\"background\"]\n",
    "plt.hist(bkg[bkg[\"sample\"] == \"Wjets\"][\"y\"], bins=50,density=True, label=\"W+jets\", histtype=\"step\")\n",
    "plt.hist(bkg[bkg[\"sample\"] == \"top\"][\"y\"], bins=50,density=True, label=\"top\", histtype=\"step\")\n",
    "plt.hist(bkg[bkg[\"sample\"] == \"DY\"][\"y\"], bins=50,density=True, label=\"DY\", histtype=\"step\")\n",
    "#plt.hist(bkg[\"y\"], bins=50,density=True, label=\"Tot. bkg\", histtype=\"step\")\n",
    "plt.hist(samples[\"VBS\"][\"y\"], bins=50,density=True, label=\"signal\", histtype=\"step\")\n",
    "#plt.hist(results[y_test==0], bins=50,density=True, label=\"false\", histtype=\"step\")\n",
    "#plt.hist(results[y_test==1], bins=50, density=True, label=\"true\", histtype=\"step\")\n",
    "#plt.yscale(\"log\")\n",
    "plt.legend()"
   ]
  },
  {
   "cell_type": "code",
   "execution_count": 74,
   "metadata": {
    "ExecuteTime": {
     "end_time": "2020-01-23T17:09:26.415155Z",
     "start_time": "2020-01-23T17:09:25.186521Z"
    }
   },
   "outputs": [
    {
     "data": {
      "text/plain": [
       "<matplotlib.legend.Legend at 0x7f487bdc0da0>"
      ]
     },
     "execution_count": 74,
     "metadata": {},
     "output_type": "execute_result"
    },
    {
     "data": {
      "image/png": "[encoded data removed]",
      "text/plain": [
       "<Figure size 700x600 with 1 Axes>"
      ]
     },
     "metadata": {},
     "output_type": "display_data"
    }
   ],
   "source": [
    "results = model.predict(X_test)\n",
    "fig, ax1 = plt.subplots(figsize=(7,6), dpi=100)\n",
    "bkg = samples[\"background\"]\n",
    "plt.hist(bkg[bkg[\"sample\"] == \"Wjets\"][\"y\"], bins=50,density=True, label=\"W+jets\", histtype=\"step\")\n",
    "plt.hist(bkg[bkg[\"sample\"] == \"top\"][\"y\"], bins=50,density=True, label=\"top\", histtype=\"step\")\n",
    "plt.hist(bkg[bkg[\"sample\"] == \"DY\"][\"y\"], bins=50,density=True, label=\"DY\", histtype=\"step\")\n",
    "#plt.hist(bkg[\"y\"], bins=50,density=True, label=\"Tot. bkg\", histtype=\"step\")\n",
    "plt.hist(samples[\"VBS\"][\"y\"], bins=50,density=True, label=\"signal\", histtype=\"step\")\n",
    "#plt.hist(results[y_test==0], bins=50,density=True, label=\"false\", histtype=\"step\")\n",
    "#plt.hist(results[y_test==1], bins=50, density=True, label=\"true\", histtype=\"step\")\n",
    "#plt.yscale(\"log\")\n",
    "plt.legend()"
   ]
  },
  {
   "cell_type": "code",
   "execution_count": 83,
   "metadata": {
    "ExecuteTime": {
     "end_time": "2020-01-23T17:33:26.654837Z",
     "start_time": "2020-01-23T17:33:26.155880Z"
    }
   },
   "outputs": [
    {
     "data": {
      "text/plain": [
       "(array([4.600e+01, 1.790e+02, 3.910e+02, 5.130e+02, 6.830e+02, 7.790e+02,\n",
       "        1.046e+03, 1.135e+03, 1.384e+03, 1.758e+03, 2.200e+03, 2.586e+03,\n",
       "        3.193e+03, 3.558e+03, 4.044e+03, 4.250e+03, 4.232e+03, 3.948e+03,\n",
       "        3.574e+03, 2.990e+03, 2.444e+03, 2.029e+03, 1.550e+03, 1.089e+03,\n",
       "        7.830e+02, 5.680e+02, 4.150e+02, 2.840e+02, 1.750e+02, 1.220e+02,\n",
       "        6.700e+01, 6.000e+01, 4.800e+01, 3.400e+01, 1.100e+01, 1.200e+01,\n",
       "        8.000e+00, 6.000e+00, 9.000e+00, 3.000e+00, 2.000e+00, 2.000e+00,\n",
       "        1.000e+00, 2.000e+00, 1.000e+00, 0.000e+00, 0.000e+00, 1.000e+00,\n",
       "        1.000e+00, 1.000e+00]),\n",
       " array([0.02267686, 0.07800204, 0.13332722, 0.18865241, 0.24397759,\n",
       "        0.29930277, 0.35462795, 0.40995313, 0.46527831, 0.52060349,\n",
       "        0.57592867, 0.63125385, 0.68657903, 0.74190421, 0.79722939,\n",
       "        0.85255457, 0.90787975, 0.96320493, 1.01853012, 1.0738553 ,\n",
       "        1.12918048, 1.18450566, 1.23983084, 1.29515602, 1.3504812 ,\n",
       "        1.40580638, 1.46113156, 1.51645674, 1.57178192, 1.6271071 ,\n",
       "        1.68243228, 1.73775746, 1.79308264, 1.84840783, 1.90373301,\n",
       "        1.95905819, 2.01438337, 2.06970855, 2.12503373, 2.18035891,\n",
       "        2.23568409, 2.29100927, 2.34633445, 2.40165963, 2.45698481,\n",
       "        2.51230999, 2.56763517, 2.62296036, 2.67828554, 2.73361072,\n",
       "        2.7889359 ]),\n",
       " <a list of 50 Patch objects>)"
      ]
     },
     "execution_count": 83,
     "metadata": {},
     "output_type": "execute_result"
    },
    {
     "data": {
      "image/png": "[encoded data removed]",
      "text/plain": [
       "<Figure size 432x288 with 1 Axes>"
      ]
     },
     "metadata": {},
     "output_type": "display_data"
    }
   ],
   "source": [
    "plt.hist(bkg[bkg[\"sample\"] == \"DY\"][\"weight\"], bins=50)"
   ]
  },
  {
   "cell_type": "code",
   "execution_count": 79,
   "metadata": {
    "ExecuteTime": {
     "end_time": "2020-01-23T17:32:41.182702Z",
     "start_time": "2020-01-23T17:32:39.823943Z"
    }
   },
   "outputs": [
    {
     "data": {
      "text/plain": [
       "<matplotlib.legend.Legend at 0x7f487bc8afd0>"
      ]
     },
     "execution_count": 79,
     "metadata": {},
     "output_type": "execute_result"
    },
    {
     "data": {
      "image/png": "[encoded data removed]",
      "text/plain": [
       "<Figure size 700x600 with 1 Axes>"
      ]
     },
     "metadata": {},
     "output_type": "display_data"
    }
   ],
   "source": [
    "results = model.predict(X_test)\n",
    "fig, ax1 = plt.subplots(figsize=(7,6), dpi=100)\n",
    "bkg = samples[\"background\"]\n",
    "plt.hist(bkg[bkg[\"sample\"] == \"Wjets\"][\"y\"],weights=bkg[bkg[\"sample\"] == \"Wjets\"][\"weight\"], bins=50,density=True, label=\"W+jets (weighted)\", histtype=\"step\")\n",
    "plt.hist(bkg[bkg[\"sample\"] == \"Wjets\"][\"y\"], bins=50,density=True, label=\"W+jets\", histtype=\"step\")\n",
    "plt.hist(samples[\"VBS\"][\"y\"], weights=samples[\"VBS\"][\"weight\"], bins=50,density=True, label=\"VBS weighted\", histtype=\"step\")\n",
    "plt.hist(samples[\"VBS\"][\"y\"], bins=50,density=True, label=\"VBS\", histtype=\"step\")\n",
    "#plt.yscale(\"log\")\n",
    "plt.legend()"
   ]
  },
  {
   "cell_type": "code",
   "execution_count": 48,
   "metadata": {
    "ExecuteTime": {
     "end_time": "2020-01-23T16:50:02.433475Z",
     "start_time": "2020-01-23T16:50:02.047390Z"
    }
   },
   "outputs": [
    {
     "data": {
      "image/png": "[encoded data removed]",
      "text/plain": [
       "<Figure size 700x600 with 1 Axes>"
      ]
     },
     "metadata": {},
     "output_type": "display_data"
    }
   ],
   "source": [
    "fig, ax1 = plt.subplots(figsize=(7,6), dpi=100)\n",
    "\n",
    "ax1.plot(fp, tp, label=f\"ROC (AUC={auc:.3f})\", color=\"blue\")\n",
    "\n",
    "ax1.set_xlabel(\"Bkg contamination\", fontsize=18)\n",
    "ax1.set_ylabel(\"Signal efficiency\", fontsize=18)\n",
    "\n",
    "#ax1.plot([0,1],[1,1],\"b--\")\n",
    "ax1.tick_params(\"y\",labelsize=\"large\")\n",
    "\n",
    "ax1.grid()\n",
    "\n",
    "ax1.legend(loc=(0.4, 0.5), fontsize=\"large\")\n",
    "\n",
    "fig.tight_layout()"
   ]
  },
  {
   "cell_type": "code",
   "execution_count": null,
   "metadata": {},
   "outputs": [],
   "source": []
  }
 ],
 "metadata": {
  "kernelspec": {
   "display_name": "Python 3",
   "language": "python",
   "name": "python3"
  },
  "language_info": {
   "codemirror_mode": {
    "name": "ipython",
    "version": 3
   },
   "file_extension": ".py",
   "mimetype": "text/x-python",
   "name": "python",
   "nbconvert_exporter": "python",
   "pygments_lexer": "ipython3",
   "version": "3.6.5"
  },
  "toc": {
   "base_numbering": 1,
   "nav_menu": {},
   "number_sections": true,
   "sideBar": true,
   "skip_h1_title": false,
   "title_cell": "Table of Contents",
   "title_sidebar": "Contents",
   "toc_cell": false,
   "toc_position": {},
   "toc_section_display": true,
   "toc_window_display": false
  },
  "varInspector": {
   "cols": {
    "lenName": 16,
    "lenType": 16,
    "lenVar": 40
   },
   "kernels_config": {
    "python": {
     "delete_cmd_postfix": "",
     "delete_cmd_prefix": "del ",
     "library": "var_list.py",
     "varRefreshCmd": "print(var_dic_list())"
    },
    "r": {
     "delete_cmd_postfix": ") ",
     "delete_cmd_prefix": "rm(",
     "library": "var_list.r",
     "varRefreshCmd": "cat(var_dic_list()) "
    }
   },
   "types_to_exclude": [
    "module",
    "function",
    "builtin_function_or_method",
    "instance",
    "_Feature"
   ],
   "window_display": false
  }
 },
 "nbformat": 4,
 "nbformat_minor": 2
}
