{
 "cells": [
  {
   "cell_type": "code",
   "execution_count": 1,
   "metadata": {
    "ExecuteTime": {
     "end_time": "2020-01-27T10:17:08.744141Z",
     "start_time": "2020-01-27T10:17:07.742537Z"
    }
   },
   "outputs": [],
   "source": [
    "import pickle\n",
    "import pandas as pd\n",
    "import numpy as np\n",
    "import matplotlib.pyplot as plt\n",
    "import os\n",
    "from collections import defaultdict\n",
    "import matplotlib as mpl\n",
    "\n",
    "mpl.rcParams['figure.figsize'] = (6,6)\n",
    "mpl.rcParams['figure.dpi'] = 100\n",
    "mpl.rcParams[\"image.origin\"] = 'lower'"
   ]
  },
  {
   "cell_type": "code",
   "execution_count": 2,
   "metadata": {
    "ExecuteTime": {
     "end_time": "2020-01-27T10:17:08.807967Z",
     "start_time": "2020-01-27T10:17:08.805229Z"
    }
   },
   "outputs": [],
   "source": [
    "samples_base_dir = \"/eos/home-d/dmapelli/public/latino/Full2017v6\"\n",
    "cut = \"lowen_looseVBS\"\n",
    "version = \"v7\"\n",
    "\n",
    "samples_dir = os.path.join(samples_base_dir, cut, \"samples\", version)\n",
    "model_dir   = os.path.join(samples_base_dir, cut, \"models\",  version)\n",
    "import os \n",
    "os.makedirs(model_dir, exist_ok=True)\n"
   ]
  },
  {
   "cell_type": "code",
   "execution_count": 3,
   "metadata": {
    "ExecuteTime": {
     "end_time": "2020-01-27T10:38:23.026303Z",
     "start_time": "2020-01-27T10:38:22.620559Z"
    }
   },
   "outputs": [],
   "source": [
    "signal = pickle.load(open(os.path.join(samples_dir, \"for_training/signal_balanced.pkl\"),     \"rb\"))\n",
    "bkg    = pickle.load(open(os.path.join(samples_dir, \"for_training/background_balanced.pkl\"), \"rb\"))"
   ]
  },
  {
   "cell_type": "markdown",
   "metadata": {},
   "source": [
    "## Samples preparation for NN"
   ]
  },
  {
   "cell_type": "code",
   "execution_count": 4,
   "metadata": {},
   "outputs": [],
   "source": [
    "## using \n",
    "## source /cvmfs/sft.cern.ch/lcg/views/LCG_96python3/x86_64-centos7-gcc8-opt/setup.sh\n",
    "#!pip3 install --user imbalanced-learn==0.5"
   ]
  },
  {
   "cell_type": "code",
   "execution_count": 5,
   "metadata": {
    "ExecuteTime": {
     "end_time": "2020-01-27T10:17:29.125979Z",
     "start_time": "2020-01-27T10:17:18.939862Z"
    }
   },
   "outputs": [
    {
     "name": "stderr",
     "output_type": "stream",
     "text": [
      "Using TensorFlow backend.\n"
     ]
    }
   ],
   "source": [
    "from sklearn.preprocessing import MinMaxScaler, StandardScaler, QuantileTransformer\n",
    "from sklearn.model_selection import train_test_split\n",
    "from imblearn.keras import balanced_batch_generator\n",
    "from imblearn.over_sampling import RandomOverSampler\n",
    "import tensorflow\n",
    "import keras\n",
    "import pandas as pd\n",
    "import numpy as np\n",
    "import matplotlib.pyplot as plt\n",
    "from keras.datasets import mnist\n",
    "from keras.models import Model, Sequential\n",
    "from keras.layers import Dense, Conv2D, Dropout, BatchNormalization, Input, Reshape, Flatten, Deconvolution2D, Conv2DTranspose, MaxPooling2D, UpSampling2D, Lambda\n",
    "from keras.layers.advanced_activations import LeakyReLU\n",
    "from keras.optimizers import adam\n",
    "from keras import backend as K\n",
    "from keras.callbacks import *"
   ]
  },
  {
   "cell_type": "markdown",
   "metadata": {
    "ExecuteTime": {
     "end_time": "2020-01-27T12:57:19.511653Z",
     "start_time": "2020-01-27T12:57:19.437298Z"
    }
   },
   "source": [
    "'mjj_vbs', 'vbs_0_pt', 'vbs_1_pt', 'vbs_0_eta', 'vbs_1_eta', 'deltaeta_vbs', 'deltaphi_vbs', \n",
    "'mjj_vjet', 'vjet_0_pt', 'vjet_1_pt', 'vjet_0_eta', 'vjet_1_eta', 'Lepton_pt', 'Lepton_eta', \n",
    "'Lepton_flavour', 'PuppiMET', 'nJets', 'N_jets_central', 'N_jets_forward', 'Zvjets_0', \n",
    "'Zlep', 'Asym_vbs', 'Asym_vjet', 'A_ww', 'Mw_lep_reco', 'Mtw_lep', 'w_lep_pt', 'Mww', 'R_ww', 'R_mw', 'Centr_vbs', 'Centr_ww"
   ]
  },
  {
   "cell_type": "code",
   "execution_count": 6,
   "metadata": {
    "ExecuteTime": {
     "end_time": "2020-01-27T10:17:31.734886Z",
     "start_time": "2020-01-27T10:17:31.723341Z"
    }
   },
   "outputs": [
    {
     "name": "stdout",
     "output_type": "stream",
     "text": [
      "<class 'list'> ['mjj_vbs', 'vbs_0_pt', 'vbs_1_pt', 'vbs_0_eta', 'vbs_1_eta', 'deltaeta_vbs', 'deltaphi_vbs', 'mjj_vjet', 'vjet_0_pt', 'vjet_1_pt', 'vjet_0_eta', 'vjet_1_eta', 'Lepton_pt', 'Lepton_eta', 'Lepton_flavour', 'PuppiMET', 'nJets', 'N_jets_central', 'N_jets_forward', 'Zvjets_0', 'Zlep', 'Asym_vbs', 'Asym_vjet', 'A_ww', 'Mw_lep_reco', 'Mtw_lep', 'w_lep_pt', 'Mww', 'R_ww', 'R_mw', 'Centr_vbs', 'Centr_ww']\n"
     ]
    }
   ],
   "source": [
    "import yaml\n",
    "yaml_vars = yaml.safe_load(open(os.path.join(model_dir, \"variables.yml\")))\n",
    "print(type(yaml_vars), yaml_vars)\n",
    "cols = yaml_vars"
   ]
  },
  {
   "cell_type": "code",
   "execution_count": 7,
   "metadata": {
    "ExecuteTime": {
     "end_time": "2020-01-27T10:43:23.689119Z",
     "start_time": "2020-01-27T10:43:23.381391Z"
    }
   },
   "outputs": [],
   "source": [
    "X_sig = signal[cols].values\n",
    "X_bkg = bkg[cols].values\n",
    "Y_sig = np.ones(len(X_sig))\n",
    "Y_bkg = np.zeros(len(X_bkg))\n",
    "W_sig = (signal[\"weight_norm\"]).values\n",
    "W_bkg = (bkg[\"weight_norm\"]).values"
   ]
  },
  {
   "cell_type": "code",
   "execution_count": 8,
   "metadata": {
    "ExecuteTime": {
     "end_time": "2020-01-27T10:43:27.283132Z",
     "start_time": "2020-01-27T10:43:27.081356Z"
    }
   },
   "outputs": [],
   "source": [
    "X = np.vstack([X_sig, X_bkg])\n",
    "Y = np.hstack([Y_sig, Y_bkg])\n",
    "W = np.hstack([W_sig, W_bkg])"
   ]
  },
  {
   "cell_type": "code",
   "execution_count": 9,
   "metadata": {
    "ExecuteTime": {
     "end_time": "2020-01-27T10:43:32.170798Z",
     "start_time": "2020-01-27T10:43:30.694579Z"
    }
   },
   "outputs": [],
   "source": [
    "scaler = StandardScaler()\n",
    "X_scaled = scaler.fit_transform(X)\n",
    "pickle.dump(scaler, open(f\"{model_dir}/scaler_model.pkl\", \"wb\"))"
   ]
  },
  {
   "cell_type": "code",
   "execution_count": 10,
   "metadata": {
    "ExecuteTime": {
     "end_time": "2020-01-27T08:46:36.955475Z",
     "start_time": "2020-01-27T08:46:34.860619Z"
    }
   },
   "outputs": [
    {
     "name": "stdout",
     "output_type": "stream",
     "text": [
      "vjet_0_eta\n"
     ]
    },
    {
     "data": {
      "image/png": "[encoded data removed]",
      "text/plain": [
       "<Figure size 1000x500 with 2 Axes>"
      ]
     },
     "metadata": {},
     "output_type": "display_data"
    }
   ],
   "source": [
    "i = 10\n",
    "print(cols[i])\n",
    "fig, (ax1, ax2) = plt.subplots(ncols=2, figsize=(10,5), dpi=100)\n",
    "ax1.hist(X[:,i], bins=50)\n",
    "ax1.set_yscale(\"log\")\n",
    "ax2.hist(X_scaled[:,i], weights=W, bins=50)\n",
    "plt.yscale(\"log\")"
   ]
  },
  {
   "cell_type": "code",
   "execution_count": 11,
   "metadata": {
    "ExecuteTime": {
     "end_time": "2020-01-27T10:17:47.639149Z",
     "start_time": "2020-01-27T10:17:47.039479Z"
    }
   },
   "outputs": [
    {
     "data": {
      "image/png": "[encoded data removed]",
      "text/plain": [
       "<Figure size 432x288 with 1 Axes>"
      ]
     },
     "metadata": {},
     "output_type": "display_data"
    }
   ],
   "source": [
    "_ = plt.hist(W, bins=100, range=(0,2))"
   ]
  },
  {
   "cell_type": "markdown",
   "metadata": {
    "ExecuteTime": {
     "end_time": "2020-01-21T08:50:38.324736Z",
     "start_time": "2020-01-21T08:50:38.320100Z"
    }
   },
   "source": [
    "##  Balancing\n",
    "Let's give 25% to validation (validation during training + test). \n",
    "The validation is then split in 50%-50% for training validation and final result"
   ]
  },
  {
   "cell_type": "code",
   "execution_count": 12,
   "metadata": {
    "ExecuteTime": {
     "end_time": "2020-01-27T10:43:36.951718Z",
     "start_time": "2020-01-27T10:43:36.191197Z"
    }
   },
   "outputs": [],
   "source": [
    "X_train, X_temp, y_train, y_temp, W_train, W_temp = train_test_split(X_scaled, Y,      W,      test_size=0.25)\n",
    "X_val,   X_test, y_val,   y_test, W_val,   W_test = train_test_split(X_temp,   y_temp, W_temp, test_size=0.5)"
   ]
  },
  {
   "cell_type": "code",
   "execution_count": 28,
   "metadata": {
    "ExecuteTime": {
     "end_time": "2020-01-27T10:43:41.448774Z",
     "start_time": "2020-01-27T10:43:41.444471Z"
    }
   },
   "outputs": [
    {
     "name": "stdout",
     "output_type": "stream",
     "text": [
      "Training dataset:  (632280, 32)\n"
     ]
    }
   ],
   "source": [
    "print(\"Training dataset: \", X_train.shape)"
   ]
  },
  {
   "cell_type": "markdown",
   "metadata": {},
   "source": [
    "Create generators to balance signal and background"
   ]
  },
  {
   "cell_type": "code",
   "execution_count": 14,
   "metadata": {
    "ExecuteTime": {
     "end_time": "2020-01-27T10:43:47.072964Z",
     "start_time": "2020-01-27T10:43:46.189735Z"
    }
   },
   "outputs": [],
   "source": [
    "training_generator,   steps_per_epoch_train = balanced_batch_generator(X_train, y_train, W_train, batch_size=1024, sampler=RandomOverSampler())\n",
    "validation_generator, steps_per_epoch_val   = balanced_batch_generator(X_val,   y_val,   W_val,   batch_size=1024, sampler=RandomOverSampler())"
   ]
  },
  {
   "cell_type": "markdown",
   "metadata": {},
   "source": [
    "## Keras model"
   ]
  },
  {
   "cell_type": "code",
   "execution_count": 15,
   "metadata": {
    "ExecuteTime": {
     "end_time": "2020-01-27T10:43:12.667494Z",
     "start_time": "2020-01-27T10:43:12.356313Z"
    }
   },
   "outputs": [
    {
     "name": "stderr",
     "output_type": "stream",
     "text": [
      "WARNING: Logging before flag parsing goes to stderr.\n",
      "W0128 15:24:22.223883 140453911623488 deprecation_wrapper.py:119] From /cvmfs/sft.cern.ch/lcg/views/LCG_96python3/x86_64-centos7-gcc8-opt/lib/python3.6/site-packages/keras/backend/tensorflow_backend.py:74: The name tf.get_default_graph is deprecated. Please use tf.compat.v1.get_default_graph instead.\n",
      "\n",
      "W0128 15:24:22.245102 140453911623488 deprecation_wrapper.py:119] From /cvmfs/sft.cern.ch/lcg/views/LCG_96python3/x86_64-centos7-gcc8-opt/lib/python3.6/site-packages/keras/backend/tensorflow_backend.py:517: The name tf.placeholder is deprecated. Please use tf.compat.v1.placeholder instead.\n",
      "\n",
      "W0128 15:24:22.250231 140453911623488 deprecation_wrapper.py:119] From /cvmfs/sft.cern.ch/lcg/views/LCG_96python3/x86_64-centos7-gcc8-opt/lib/python3.6/site-packages/keras/backend/tensorflow_backend.py:4138: The name tf.random_uniform is deprecated. Please use tf.random.uniform instead.\n",
      "\n",
      "W0128 15:24:22.292778 140453911623488 deprecation_wrapper.py:119] From /cvmfs/sft.cern.ch/lcg/views/LCG_96python3/x86_64-centos7-gcc8-opt/lib/python3.6/site-packages/keras/backend/tensorflow_backend.py:133: The name tf.placeholder_with_default is deprecated. Please use tf.compat.v1.placeholder_with_default instead.\n",
      "\n",
      "W0128 15:24:22.311401 140453911623488 deprecation.py:506] From /cvmfs/sft.cern.ch/lcg/views/LCG_96python3/x86_64-centos7-gcc8-opt/lib/python3.6/site-packages/keras/backend/tensorflow_backend.py:3445: calling dropout (from tensorflow.python.ops.nn_ops) with keep_prob is deprecated and will be removed in a future version.\n",
      "Instructions for updating:\n",
      "Please use `rate` instead of `keep_prob`. Rate should be set to `rate = 1 - keep_prob`.\n",
      "W0128 15:24:22.469920 140453911623488 deprecation_wrapper.py:119] From /cvmfs/sft.cern.ch/lcg/views/LCG_96python3/x86_64-centos7-gcc8-opt/lib/python3.6/site-packages/keras/optimizers.py:790: The name tf.train.Optimizer is deprecated. Please use tf.compat.v1.train.Optimizer instead.\n",
      "\n",
      "W0128 15:24:22.507377 140453911623488 deprecation_wrapper.py:119] From /cvmfs/sft.cern.ch/lcg/views/LCG_96python3/x86_64-centos7-gcc8-opt/lib/python3.6/site-packages/keras/backend/tensorflow_backend.py:3376: The name tf.log is deprecated. Please use tf.math.log instead.\n",
      "\n",
      "W0128 15:24:22.516198 140453911623488 deprecation.py:323] From /cvmfs/sft.cern.ch/lcg/views/LCG_96python3/x86_64-centos7-gcc8-opt/lib/python3.6/site-packages/tensorflow/python/ops/nn_impl.py:180: add_dispatch_support.<locals>.wrapper (from tensorflow.python.ops.array_ops) is deprecated and will be removed in a future version.\n",
      "Instructions for updating:\n",
      "Use tf.where in 2.0, which has the same broadcast rule as np.where\n"
     ]
    },
    {
     "name": "stdout",
     "output_type": "stream",
     "text": [
      "_________________________________________________________________\n",
      "Layer (type)                 Output Shape              Param #   \n",
      "=================================================================\n",
      "dense_1 (Dense)              (None, 100)               3300      \n",
      "_________________________________________________________________\n",
      "dropout_1 (Dropout)          (None, 100)               0         \n",
      "_________________________________________________________________\n",
      "dense_2 (Dense)              (None, 80)                8080      \n",
      "_________________________________________________________________\n",
      "dropout_2 (Dropout)          (None, 80)                0         \n",
      "_________________________________________________________________\n",
      "dense_3 (Dense)              (None, 50)                4050      \n",
      "_________________________________________________________________\n",
      "dropout_3 (Dropout)          (None, 50)                0         \n",
      "_________________________________________________________________\n",
      "dense_4 (Dense)              (None, 1)                 51        \n",
      "=================================================================\n",
      "Total params: 15,481\n",
      "Trainable params: 15,481\n",
      "Non-trainable params: 0\n",
      "_________________________________________________________________\n"
     ]
    }
   ],
   "source": [
    "model = Sequential()\n",
    "model.add(Dense(100, input_dim=X_train.shape[1], activation=\"relu\"))\n",
    "model.add(Dropout(0.3))\n",
    "model.add(Dense(80, activation=\"relu\"))\n",
    "model.add(Dropout(0.3))\n",
    "model.add(Dense(50, activation=\"relu\"))\n",
    "model.add(Dropout(0.3))\n",
    "model.add(Dense(1, activation=\"sigmoid\"))\n",
    "\n",
    "model.compile(optimizer='adam',\n",
    "              loss='binary_crossentropy',\n",
    "              metrics=['accuracy'])\n",
    "\n",
    "model.summary()"
   ]
  },
  {
   "cell_type": "code",
   "execution_count": 16,
   "metadata": {},
   "outputs": [],
   "source": [
    "## callbacks\n",
    "\n",
    "# auto_save = ModelCheckpoint(\"../models/model12_balanced_100_50.hd5\", monitor='val_loss', \n",
    "#                     verbose=1, save_best_only=True, save_weights_only=False, \n",
    "#                     mode='auto', period=5)\n",
    "#\n",
    "# early_stop = EarlyStopping(monitor='val_loss', min_delta=0.0001, \n",
    "#                             patience=10, verbose=1)"
   ]
  },
  {
   "cell_type": "code",
   "execution_count": 17,
   "metadata": {
    "ExecuteTime": {
     "end_time": "2020-01-27T09:07:50.476922Z",
     "start_time": "2020-01-27T09:05:14.296465Z"
    },
    "scrolled": true
   },
   "outputs": [],
   "source": [
    "## In case you do not want to use the generators\n",
    "\n",
    "# history = model.fit(\n",
    "#             X_train,y_train, \n",
    "#             sample_weight=W_train, \n",
    "#             epochs=50,\n",
    "#             validation_data = (X_val, y_val, W_val),\n",
    "#             batch_size=1024,\n",
    "#             shuffle=True \n",
    "#             )"
   ]
  },
  {
   "cell_type": "code",
   "execution_count": 18,
   "metadata": {
    "ExecuteTime": {
     "end_time": "2020-01-27T11:49:32.295591Z",
     "start_time": "2020-01-27T11:13:58.490544Z"
    },
    "scrolled": true
   },
   "outputs": [
    {
     "name": "stdout",
     "output_type": "stream",
     "text": [
      "Epoch 1/300\n",
      "1054/1054 [==============================] - 7s 7ms/step - loss: 0.5679 - acc: 0.5664 - val_loss: 0.5467 - val_acc: 0.5745\n",
      "Epoch 2/300\n",
      "1054/1054 [==============================] - 6s 6ms/step - loss: 0.5476 - acc: 0.5834 - val_loss: 0.5403 - val_acc: 0.5820\n",
      "Epoch 3/300\n",
      "1054/1054 [==============================] - 6s 6ms/step - loss: 0.5397 - acc: 0.5872 - val_loss: 0.5367 - val_acc: 0.5776\n",
      "Epoch 4/300\n",
      "1054/1054 [==============================] - 7s 6ms/step - loss: 0.5347 - acc: 0.5914 - val_loss: 0.5338 - val_acc: 0.5832\n",
      "Epoch 5/300\n",
      "1054/1054 [==============================] - 6s 6ms/step - loss: 0.5323 - acc: 0.5925 - val_loss: 0.5339 - val_acc: 0.5843\n",
      "Epoch 6/300\n",
      "1054/1054 [==============================] - 6s 6ms/step - loss: 0.5307 - acc: 0.5930 - val_loss: 0.5333 - val_acc: 0.5797\n",
      "Epoch 7/300\n",
      "1054/1054 [==============================] - 6s 6ms/step - loss: 0.5285 - acc: 0.5956 - val_loss: 0.5314 - val_acc: 0.5884\n",
      "Epoch 8/300\n",
      "1054/1054 [==============================] - 6s 6ms/step - loss: 0.5272 - acc: 0.5961 - val_loss: 0.5315 - val_acc: 0.5857\n",
      "Epoch 9/300\n",
      "1054/1054 [==============================] - 6s 6ms/step - loss: 0.5255 - acc: 0.5963 - val_loss: 0.5314 - val_acc: 0.5869\n",
      "Epoch 10/300\n",
      "1054/1054 [==============================] - 6s 6ms/step - loss: 0.5252 - acc: 0.5970 - val_loss: 0.5318 - val_acc: 0.5822\n",
      "Epoch 11/300\n",
      "1054/1054 [==============================] - 6s 6ms/step - loss: 0.5242 - acc: 0.6001 - val_loss: 0.5320 - val_acc: 0.5922\n",
      "Epoch 12/300\n",
      "1054/1054 [==============================] - 6s 6ms/step - loss: 0.5233 - acc: 0.5992 - val_loss: 0.5301 - val_acc: 0.5942\n",
      "Epoch 13/300\n",
      "1054/1054 [==============================] - 6s 6ms/step - loss: 0.5233 - acc: 0.5983 - val_loss: 0.5308 - val_acc: 0.5938\n",
      "Epoch 14/300\n",
      "1054/1054 [==============================] - 6s 6ms/step - loss: 0.5224 - acc: 0.5986 - val_loss: 0.5298 - val_acc: 0.5948\n",
      "Epoch 15/300\n",
      "1054/1054 [==============================] - 6s 6ms/step - loss: 0.5227 - acc: 0.5994 - val_loss: 0.5294 - val_acc: 0.5922\n",
      "Epoch 16/300\n",
      "1054/1054 [==============================] - 6s 6ms/step - loss: 0.5217 - acc: 0.5998 - val_loss: 0.5297 - val_acc: 0.5959\n",
      "Epoch 17/300\n",
      "1054/1054 [==============================] - 6s 6ms/step - loss: 0.5209 - acc: 0.6009 - val_loss: 0.5286 - val_acc: 0.5967\n",
      "Epoch 18/300\n",
      "1054/1054 [==============================] - 6s 6ms/step - loss: 0.5201 - acc: 0.6027 - val_loss: 0.5294 - val_acc: 0.5922\n",
      "Epoch 19/300\n",
      "1054/1054 [==============================] - 6s 6ms/step - loss: 0.5204 - acc: 0.6007 - val_loss: 0.5286 - val_acc: 0.5938\n",
      "Epoch 20/300\n",
      "1054/1054 [==============================] - 6s 6ms/step - loss: 0.5197 - acc: 0.6006 - val_loss: 0.5302 - val_acc: 0.5955\n",
      "Epoch 21/300\n",
      "1054/1054 [==============================] - 6s 6ms/step - loss: 0.5191 - acc: 0.5995 - val_loss: 0.5298 - val_acc: 0.5953\n",
      "Epoch 22/300\n",
      "1054/1054 [==============================] - 6s 6ms/step - loss: 0.5191 - acc: 0.6012 - val_loss: 0.5282 - val_acc: 0.5944\n",
      "Epoch 23/300\n",
      "1054/1054 [==============================] - 6s 6ms/step - loss: 0.5181 - acc: 0.6013 - val_loss: 0.5282 - val_acc: 0.5962\n",
      "Epoch 24/300\n",
      "1054/1054 [==============================] - 6s 6ms/step - loss: 0.5176 - acc: 0.6011 - val_loss: 0.5283 - val_acc: 0.5990\n",
      "Epoch 25/300\n",
      "1054/1054 [==============================] - 6s 6ms/step - loss: 0.5178 - acc: 0.6008 - val_loss: 0.5285 - val_acc: 0.5957\n",
      "Epoch 26/300\n",
      "1054/1054 [==============================] - 6s 6ms/step - loss: 0.5174 - acc: 0.6011 - val_loss: 0.5287 - val_acc: 0.5988\n",
      "Epoch 27/300\n",
      "1054/1054 [==============================] - 7s 6ms/step - loss: 0.5179 - acc: 0.6043 - val_loss: 0.5305 - val_acc: 0.5956\n",
      "Epoch 28/300\n",
      "1054/1054 [==============================] - 6s 6ms/step - loss: 0.5165 - acc: 0.6034 - val_loss: 0.5304 - val_acc: 0.5993\n",
      "Epoch 29/300\n",
      "1054/1054 [==============================] - 6s 6ms/step - loss: 0.5162 - acc: 0.6026 - val_loss: 0.5297 - val_acc: 0.5971\n",
      "Epoch 30/300\n",
      "1054/1054 [==============================] - 6s 6ms/step - loss: 0.5162 - acc: 0.6026 - val_loss: 0.5295 - val_acc: 0.6006\n",
      "Epoch 31/300\n",
      "1054/1054 [==============================] - 6s 6ms/step - loss: 0.5173 - acc: 0.6020 - val_loss: 0.5292 - val_acc: 0.5960\n",
      "Epoch 32/300\n",
      "1054/1054 [==============================] - 7s 6ms/step - loss: 0.5163 - acc: 0.6045 - val_loss: 0.5295 - val_acc: 0.6015\n",
      "Epoch 33/300\n",
      "1054/1054 [==============================] - 6s 6ms/step - loss: 0.5156 - acc: 0.6059 - val_loss: 0.5311 - val_acc: 0.6023\n",
      "Epoch 34/300\n",
      "1054/1054 [==============================] - 6s 6ms/step - loss: 0.5157 - acc: 0.6057 - val_loss: 0.5300 - val_acc: 0.5983\n",
      "Epoch 35/300\n",
      "1054/1054 [==============================] - 6s 6ms/step - loss: 0.5152 - acc: 0.6031 - val_loss: 0.5299 - val_acc: 0.5966\n",
      "Epoch 36/300\n",
      "1054/1054 [==============================] - 6s 6ms/step - loss: 0.5158 - acc: 0.6040 - val_loss: 0.5302 - val_acc: 0.5984\n",
      "Epoch 37/300\n",
      "1054/1054 [==============================] - 6s 6ms/step - loss: 0.5137 - acc: 0.6051 - val_loss: 0.5297 - val_acc: 0.5991\n",
      "Epoch 38/300\n",
      "1054/1054 [==============================] - 6s 6ms/step - loss: 0.5147 - acc: 0.6043 - val_loss: 0.5309 - val_acc: 0.6001\n",
      "Epoch 39/300\n",
      "1054/1054 [==============================] - 6s 6ms/step - loss: 0.5147 - acc: 0.6041 - val_loss: 0.5302 - val_acc: 0.5972\n",
      "Epoch 40/300\n",
      "1054/1054 [==============================] - 6s 6ms/step - loss: 0.5140 - acc: 0.6041 - val_loss: 0.5302 - val_acc: 0.6011\n",
      "Epoch 41/300\n",
      "1054/1054 [==============================] - 6s 6ms/step - loss: 0.5142 - acc: 0.6064 - val_loss: 0.5284 - val_acc: 0.6011\n",
      "Epoch 42/300\n",
      "1054/1054 [==============================] - 6s 6ms/step - loss: 0.5134 - acc: 0.6068 - val_loss: 0.5292 - val_acc: 0.6036\n",
      "Epoch 43/300\n",
      "1054/1054 [==============================] - 6s 6ms/step - loss: 0.5130 - acc: 0.6059 - val_loss: 0.5289 - val_acc: 0.6041\n",
      "Epoch 44/300\n",
      "1054/1054 [==============================] - 6s 6ms/step - loss: 0.5128 - acc: 0.6062 - val_loss: 0.5300 - val_acc: 0.6005\n",
      "Epoch 45/300\n",
      "1054/1054 [==============================] - 6s 6ms/step - loss: 0.5140 - acc: 0.6059 - val_loss: 0.5296 - val_acc: 0.5996\n",
      "Epoch 46/300\n",
      "1054/1054 [==============================] - 7s 6ms/step - loss: 0.5130 - acc: 0.6061 - val_loss: 0.5301 - val_acc: 0.6010\n",
      "Epoch 47/300\n",
      "1054/1054 [==============================] - 6s 6ms/step - loss: 0.5131 - acc: 0.6061 - val_loss: 0.5286 - val_acc: 0.5992\n",
      "Epoch 48/300\n",
      "1054/1054 [==============================] - 6s 6ms/step - loss: 0.5133 - acc: 0.6083 - val_loss: 0.5299 - val_acc: 0.6012\n",
      "Epoch 49/300\n",
      "1054/1054 [==============================] - 6s 6ms/step - loss: 0.5125 - acc: 0.6097 - val_loss: 0.5307 - val_acc: 0.6008\n",
      "Epoch 50/300\n",
      "1054/1054 [==============================] - 6s 6ms/step - loss: 0.5123 - acc: 0.6056 - val_loss: 0.5304 - val_acc: 0.5990\n",
      "Epoch 51/300\n",
      "1054/1054 [==============================] - 6s 6ms/step - loss: 0.5118 - acc: 0.6067 - val_loss: 0.5299 - val_acc: 0.5994\n",
      "Epoch 52/300\n",
      "1054/1054 [==============================] - 6s 6ms/step - loss: 0.5116 - acc: 0.6091 - val_loss: 0.5307 - val_acc: 0.5954\n",
      "Epoch 53/300\n",
      "1054/1054 [==============================] - 6s 6ms/step - loss: 0.5122 - acc: 0.6085 - val_loss: 0.5302 - val_acc: 0.6016\n",
      "Epoch 54/300\n",
      "1054/1054 [==============================] - 7s 7ms/step - loss: 0.5117 - acc: 0.6083 - val_loss: 0.5313 - val_acc: 0.6015\n",
      "Epoch 55/300\n",
      "1054/1054 [==============================] - 6s 6ms/step - loss: 0.5113 - acc: 0.6090 - val_loss: 0.5306 - val_acc: 0.5972\n",
      "Epoch 56/300\n",
      "1054/1054 [==============================] - 6s 6ms/step - loss: 0.5130 - acc: 0.6067 - val_loss: 0.5311 - val_acc: 0.6021\n",
      "Epoch 57/300\n",
      "1054/1054 [==============================] - 6s 6ms/step - loss: 0.5105 - acc: 0.6102 - val_loss: 0.5307 - val_acc: 0.5977\n",
      "Epoch 58/300\n",
      "1054/1054 [==============================] - 6s 6ms/step - loss: 0.5115 - acc: 0.6087 - val_loss: 0.5301 - val_acc: 0.5996\n",
      "Epoch 59/300\n",
      "1054/1054 [==============================] - 6s 6ms/step - loss: 0.5114 - acc: 0.6084 - val_loss: 0.5304 - val_acc: 0.6010\n",
      "Epoch 60/300\n",
      "1054/1054 [==============================] - 6s 6ms/step - loss: 0.5111 - acc: 0.6089 - val_loss: 0.5316 - val_acc: 0.5987\n",
      "Epoch 61/300\n"
     ]
    },
    {
     "name": "stdout",
     "output_type": "stream",
     "text": [
      "1054/1054 [==============================] - 6s 6ms/step - loss: 0.5124 - acc: 0.6098 - val_loss: 0.5295 - val_acc: 0.5974\n",
      "Epoch 62/300\n",
      "1054/1054 [==============================] - 6s 6ms/step - loss: 0.5103 - acc: 0.6109 - val_loss: 0.5305 - val_acc: 0.6018\n",
      "Epoch 63/300\n",
      "1054/1054 [==============================] - 6s 6ms/step - loss: 0.5110 - acc: 0.6090 - val_loss: 0.5296 - val_acc: 0.6116\n",
      "Epoch 64/300\n",
      "1054/1054 [==============================] - 6s 6ms/step - loss: 0.5099 - acc: 0.6108 - val_loss: 0.5288 - val_acc: 0.6137\n",
      "Epoch 65/300\n",
      "1054/1054 [==============================] - 6s 6ms/step - loss: 0.5115 - acc: 0.6089 - val_loss: 0.5298 - val_acc: 0.6049\n",
      "Epoch 66/300\n",
      "1054/1054 [==============================] - 6s 6ms/step - loss: 0.5097 - acc: 0.6115 - val_loss: 0.5316 - val_acc: 0.6152\n",
      "Epoch 67/300\n",
      "1054/1054 [==============================] - 6s 6ms/step - loss: 0.5107 - acc: 0.6123 - val_loss: 0.5310 - val_acc: 0.6129\n",
      "Epoch 68/300\n",
      "1054/1054 [==============================] - 6s 6ms/step - loss: 0.5101 - acc: 0.6111 - val_loss: 0.5314 - val_acc: 0.6126\n",
      "Epoch 69/300\n",
      "1054/1054 [==============================] - 6s 6ms/step - loss: 0.5102 - acc: 0.6125 - val_loss: 0.5316 - val_acc: 0.6163\n",
      "Epoch 70/300\n",
      "1054/1054 [==============================] - 6s 6ms/step - loss: 0.5109 - acc: 0.6133 - val_loss: 0.5314 - val_acc: 0.6148\n",
      "Epoch 71/300\n",
      "1054/1054 [==============================] - 6s 6ms/step - loss: 0.5098 - acc: 0.6125 - val_loss: 0.5322 - val_acc: 0.6002\n",
      "Epoch 72/300\n",
      "1054/1054 [==============================] - 6s 6ms/step - loss: 0.5099 - acc: 0.6102 - val_loss: 0.5320 - val_acc: 0.5931\n",
      "Epoch 73/300\n",
      "1054/1054 [==============================] - 6s 6ms/step - loss: 0.5099 - acc: 0.6120 - val_loss: 0.5335 - val_acc: 0.6194\n",
      "Epoch 74/300\n",
      "1054/1054 [==============================] - 6s 6ms/step - loss: 0.5099 - acc: 0.6119 - val_loss: 0.5316 - val_acc: 0.6168\n",
      "Epoch 75/300\n",
      "1054/1054 [==============================] - 6s 6ms/step - loss: 0.5104 - acc: 0.6114 - val_loss: 0.5331 - val_acc: 0.6153\n",
      "Epoch 76/300\n",
      "1054/1054 [==============================] - 6s 6ms/step - loss: 0.5094 - acc: 0.6115 - val_loss: 0.5322 - val_acc: 0.5972\n",
      "Epoch 77/300\n",
      "1054/1054 [==============================] - 6s 6ms/step - loss: 0.5098 - acc: 0.6113 - val_loss: 0.5330 - val_acc: 0.6198\n",
      "Epoch 78/300\n",
      "1054/1054 [==============================] - 6s 6ms/step - loss: 0.5100 - acc: 0.6131 - val_loss: 0.5325 - val_acc: 0.6195\n",
      "Epoch 79/300\n",
      "1054/1054 [==============================] - 6s 6ms/step - loss: 0.5098 - acc: 0.6114 - val_loss: 0.5318 - val_acc: 0.6202\n",
      "Epoch 80/300\n",
      "1054/1054 [==============================] - 6s 6ms/step - loss: 0.5090 - acc: 0.6119 - val_loss: 0.5340 - val_acc: 0.6156\n",
      "Epoch 81/300\n",
      "1054/1054 [==============================] - 6s 6ms/step - loss: 0.5088 - acc: 0.6120 - val_loss: 0.5330 - val_acc: 0.6156\n",
      "Epoch 82/300\n",
      "1054/1054 [==============================] - 6s 6ms/step - loss: 0.5094 - acc: 0.6121 - val_loss: 0.5335 - val_acc: 0.6169\n",
      "Epoch 83/300\n",
      "1054/1054 [==============================] - 6s 6ms/step - loss: 0.5089 - acc: 0.6132 - val_loss: 0.5331 - val_acc: 0.6200\n",
      "Epoch 84/300\n",
      "1054/1054 [==============================] - 6s 6ms/step - loss: 0.5089 - acc: 0.6112 - val_loss: 0.5329 - val_acc: 0.6169\n",
      "Epoch 85/300\n",
      "1054/1054 [==============================] - 6s 6ms/step - loss: 0.5090 - acc: 0.6137 - val_loss: 0.5331 - val_acc: 0.6185\n",
      "Epoch 86/300\n",
      "1054/1054 [==============================] - 6s 6ms/step - loss: 0.5090 - acc: 0.6145 - val_loss: 0.5324 - val_acc: 0.6200\n",
      "Epoch 87/300\n",
      "1054/1054 [==============================] - 6s 6ms/step - loss: 0.5094 - acc: 0.6131 - val_loss: 0.5321 - val_acc: 0.6165\n",
      "Epoch 88/300\n",
      "1054/1054 [==============================] - 6s 6ms/step - loss: 0.5088 - acc: 0.6128 - val_loss: 0.5334 - val_acc: 0.6200\n",
      "Epoch 89/300\n",
      "1054/1054 [==============================] - 6s 6ms/step - loss: 0.5085 - acc: 0.6138 - val_loss: 0.5330 - val_acc: 0.6237\n",
      "Epoch 90/300\n",
      "1054/1054 [==============================] - 6s 6ms/step - loss: 0.5078 - acc: 0.6143 - val_loss: 0.5314 - val_acc: 0.6268\n",
      "Epoch 91/300\n",
      "1054/1054 [==============================] - 6s 6ms/step - loss: 0.5086 - acc: 0.6150 - val_loss: 0.5322 - val_acc: 0.6233\n",
      "Epoch 92/300\n",
      "1054/1054 [==============================] - 7s 6ms/step - loss: 0.5091 - acc: 0.6135 - val_loss: 0.5322 - val_acc: 0.6155\n",
      "Epoch 93/300\n",
      "1054/1054 [==============================] - 6s 6ms/step - loss: 0.5078 - acc: 0.6150 - val_loss: 0.5318 - val_acc: 0.6207\n",
      "Epoch 94/300\n",
      "1054/1054 [==============================] - 6s 6ms/step - loss: 0.5079 - acc: 0.6127 - val_loss: 0.5333 - val_acc: 0.6217\n",
      "Epoch 95/300\n",
      "1054/1054 [==============================] - 6s 6ms/step - loss: 0.5090 - acc: 0.6126 - val_loss: 0.5319 - val_acc: 0.6173\n",
      "Epoch 96/300\n",
      "1054/1054 [==============================] - 6s 6ms/step - loss: 0.5075 - acc: 0.6153 - val_loss: 0.5332 - val_acc: 0.6207\n",
      "Epoch 97/300\n",
      "1054/1054 [==============================] - 6s 6ms/step - loss: 0.5076 - acc: 0.6154 - val_loss: 0.5325 - val_acc: 0.6253\n",
      "Epoch 98/300\n",
      "1054/1054 [==============================] - 6s 6ms/step - loss: 0.5080 - acc: 0.6165 - val_loss: 0.5314 - val_acc: 0.6241\n",
      "Epoch 99/300\n",
      "1054/1054 [==============================] - 6s 6ms/step - loss: 0.5071 - acc: 0.6161 - val_loss: 0.5302 - val_acc: 0.6200\n",
      "Epoch 100/300\n",
      "1054/1054 [==============================] - 6s 6ms/step - loss: 0.5083 - acc: 0.6157 - val_loss: 0.5315 - val_acc: 0.6248\n",
      "Epoch 101/300\n",
      "1054/1054 [==============================] - 6s 6ms/step - loss: 0.5075 - acc: 0.6163 - val_loss: 0.5313 - val_acc: 0.6193\n",
      "Epoch 102/300\n",
      "1054/1054 [==============================] - 6s 6ms/step - loss: 0.5072 - acc: 0.6163 - val_loss: 0.5334 - val_acc: 0.6187\n",
      "Epoch 103/300\n",
      "1054/1054 [==============================] - 6s 6ms/step - loss: 0.5074 - acc: 0.6136 - val_loss: 0.5321 - val_acc: 0.6177\n",
      "Epoch 104/300\n",
      "1054/1054 [==============================] - 6s 6ms/step - loss: 0.5076 - acc: 0.6138 - val_loss: 0.5318 - val_acc: 0.6204\n",
      "Epoch 105/300\n",
      "1054/1054 [==============================] - 6s 6ms/step - loss: 0.5070 - acc: 0.6164 - val_loss: 0.5314 - val_acc: 0.6198\n",
      "Epoch 106/300\n",
      "1054/1054 [==============================] - 6s 6ms/step - loss: 0.5068 - acc: 0.6159 - val_loss: 0.5316 - val_acc: 0.6187\n",
      "Epoch 107/300\n",
      "1054/1054 [==============================] - 6s 6ms/step - loss: 0.5066 - acc: 0.6139 - val_loss: 0.5325 - val_acc: 0.6145\n",
      "Epoch 108/300\n",
      "1054/1054 [==============================] - 6s 6ms/step - loss: 0.5071 - acc: 0.6132 - val_loss: 0.5326 - val_acc: 0.6181\n",
      "Epoch 109/300\n",
      "1054/1054 [==============================] - 6s 6ms/step - loss: 0.5075 - acc: 0.6143 - val_loss: 0.5305 - val_acc: 0.6145\n",
      "Epoch 110/300\n",
      "1054/1054 [==============================] - 6s 6ms/step - loss: 0.5073 - acc: 0.6142 - val_loss: 0.5312 - val_acc: 0.6181\n",
      "Epoch 111/300\n",
      "1054/1054 [==============================] - 6s 6ms/step - loss: 0.5073 - acc: 0.6151 - val_loss: 0.5305 - val_acc: 0.6162\n",
      "Epoch 112/300\n",
      "1054/1054 [==============================] - 6s 6ms/step - loss: 0.5069 - acc: 0.6155 - val_loss: 0.5321 - val_acc: 0.6175\n",
      "Epoch 113/300\n",
      "1054/1054 [==============================] - 6s 6ms/step - loss: 0.5072 - acc: 0.6134 - val_loss: 0.5292 - val_acc: 0.6194\n",
      "Epoch 114/300\n",
      "1054/1054 [==============================] - 6s 6ms/step - loss: 0.5066 - acc: 0.6145 - val_loss: 0.5298 - val_acc: 0.6209\n",
      "Epoch 115/300\n",
      "1054/1054 [==============================] - 6s 6ms/step - loss: 0.5061 - acc: 0.6176 - val_loss: 0.5314 - val_acc: 0.6200\n",
      "Epoch 116/300\n",
      "1054/1054 [==============================] - 6s 6ms/step - loss: 0.5070 - acc: 0.6153 - val_loss: 0.5317 - val_acc: 0.6211\n",
      "Epoch 117/300\n",
      "1054/1054 [==============================] - 6s 6ms/step - loss: 0.5060 - acc: 0.6160 - val_loss: 0.5322 - val_acc: 0.6184\n",
      "Epoch 118/300\n",
      "1054/1054 [==============================] - 6s 6ms/step - loss: 0.5065 - acc: 0.6148 - val_loss: 0.5309 - val_acc: 0.6196\n",
      "Epoch 119/300\n",
      "1054/1054 [==============================] - 6s 6ms/step - loss: 0.5067 - acc: 0.6137 - val_loss: 0.5313 - val_acc: 0.6171\n",
      "Epoch 120/300\n",
      "1054/1054 [==============================] - 6s 6ms/step - loss: 0.5066 - acc: 0.6132 - val_loss: 0.5312 - val_acc: 0.6145\n",
      "Epoch 121/300\n"
     ]
    },
    {
     "name": "stdout",
     "output_type": "stream",
     "text": [
      "1054/1054 [==============================] - 6s 6ms/step - loss: 0.5062 - acc: 0.6133 - val_loss: 0.5314 - val_acc: 0.6148\n",
      "Epoch 122/300\n",
      "1054/1054 [==============================] - 6s 6ms/step - loss: 0.5057 - acc: 0.6135 - val_loss: 0.5320 - val_acc: 0.6188\n",
      "Epoch 123/300\n",
      "1054/1054 [==============================] - 6s 6ms/step - loss: 0.5066 - acc: 0.6141 - val_loss: 0.5318 - val_acc: 0.6170\n",
      "Epoch 124/300\n",
      "1054/1054 [==============================] - 6s 6ms/step - loss: 0.5058 - acc: 0.6151 - val_loss: 0.5324 - val_acc: 0.6186\n",
      "Epoch 125/300\n",
      "1054/1054 [==============================] - 6s 6ms/step - loss: 0.5060 - acc: 0.6152 - val_loss: 0.5331 - val_acc: 0.6143\n",
      "Epoch 126/300\n",
      "1054/1054 [==============================] - 6s 6ms/step - loss: 0.5067 - acc: 0.6134 - val_loss: 0.5319 - val_acc: 0.6123\n",
      "Epoch 127/300\n",
      "1054/1054 [==============================] - 6s 6ms/step - loss: 0.5068 - acc: 0.6153 - val_loss: 0.5322 - val_acc: 0.6153\n",
      "Epoch 128/300\n",
      "1054/1054 [==============================] - 6s 6ms/step - loss: 0.5061 - acc: 0.6176 - val_loss: 0.5327 - val_acc: 0.6168\n",
      "Epoch 129/300\n",
      "1054/1054 [==============================] - 6s 6ms/step - loss: 0.5061 - acc: 0.6138 - val_loss: 0.5330 - val_acc: 0.6123\n",
      "Epoch 130/300\n",
      "1054/1054 [==============================] - 6s 6ms/step - loss: 0.5066 - acc: 0.6124 - val_loss: 0.5322 - val_acc: 0.6139\n",
      "Epoch 131/300\n",
      "1054/1054 [==============================] - 6s 6ms/step - loss: 0.5050 - acc: 0.6167 - val_loss: 0.5334 - val_acc: 0.6198\n",
      "Epoch 132/300\n",
      "1054/1054 [==============================] - 6s 6ms/step - loss: 0.5053 - acc: 0.6162 - val_loss: 0.5317 - val_acc: 0.6154\n",
      "Epoch 133/300\n",
      "1054/1054 [==============================] - 6s 6ms/step - loss: 0.5053 - acc: 0.6156 - val_loss: 0.5316 - val_acc: 0.6151\n",
      "Epoch 134/300\n",
      "1054/1054 [==============================] - 6s 6ms/step - loss: 0.5054 - acc: 0.6131 - val_loss: 0.5320 - val_acc: 0.6129\n",
      "Epoch 135/300\n",
      "1054/1054 [==============================] - 6s 6ms/step - loss: 0.5062 - acc: 0.6131 - val_loss: 0.5326 - val_acc: 0.6174\n",
      "Epoch 136/300\n",
      "1054/1054 [==============================] - 6s 6ms/step - loss: 0.5061 - acc: 0.6146 - val_loss: 0.5324 - val_acc: 0.6170\n",
      "Epoch 137/300\n",
      "1054/1054 [==============================] - 6s 6ms/step - loss: 0.5061 - acc: 0.6156 - val_loss: 0.5331 - val_acc: 0.6202\n",
      "Epoch 138/300\n",
      "1054/1054 [==============================] - 6s 6ms/step - loss: 0.5058 - acc: 0.6161 - val_loss: 0.5319 - val_acc: 0.6172\n",
      "Epoch 139/300\n",
      "1054/1054 [==============================] - 6s 6ms/step - loss: 0.5069 - acc: 0.6136 - val_loss: 0.5323 - val_acc: 0.6156\n",
      "Epoch 140/300\n",
      "1054/1054 [==============================] - 6s 6ms/step - loss: 0.5052 - acc: 0.6153 - val_loss: 0.5333 - val_acc: 0.6168\n",
      "Epoch 141/300\n",
      "1054/1054 [==============================] - 6s 6ms/step - loss: 0.5052 - acc: 0.6152 - val_loss: 0.5326 - val_acc: 0.6151\n",
      "Epoch 142/300\n",
      "1054/1054 [==============================] - 6s 6ms/step - loss: 0.5055 - acc: 0.6145 - val_loss: 0.5333 - val_acc: 0.6156\n",
      "Epoch 143/300\n",
      "1054/1054 [==============================] - 6s 6ms/step - loss: 0.5057 - acc: 0.6143 - val_loss: 0.5324 - val_acc: 0.6138\n",
      "Epoch 144/300\n",
      "1054/1054 [==============================] - 7s 6ms/step - loss: 0.5054 - acc: 0.6133 - val_loss: 0.5324 - val_acc: 0.6176\n",
      "Epoch 145/300\n",
      "1054/1054 [==============================] - 6s 6ms/step - loss: 0.5054 - acc: 0.6152 - val_loss: 0.5330 - val_acc: 0.6147\n",
      "Epoch 146/300\n",
      "1054/1054 [==============================] - 6s 6ms/step - loss: 0.5059 - acc: 0.6147 - val_loss: 0.5334 - val_acc: 0.6154\n",
      "Epoch 147/300\n",
      "1054/1054 [==============================] - 6s 6ms/step - loss: 0.5051 - acc: 0.6156 - val_loss: 0.5343 - val_acc: 0.6162\n",
      "Epoch 148/300\n",
      "1054/1054 [==============================] - 6s 6ms/step - loss: 0.5058 - acc: 0.6151 - val_loss: 0.5335 - val_acc: 0.6148\n",
      "Epoch 149/300\n",
      "1054/1054 [==============================] - 6s 6ms/step - loss: 0.5053 - acc: 0.6158 - val_loss: 0.5330 - val_acc: 0.6194\n",
      "Epoch 150/300\n",
      "1054/1054 [==============================] - 6s 6ms/step - loss: 0.5052 - acc: 0.6168 - val_loss: 0.5338 - val_acc: 0.6196\n",
      "Epoch 151/300\n",
      "1054/1054 [==============================] - 6s 6ms/step - loss: 0.5051 - acc: 0.6179 - val_loss: 0.5345 - val_acc: 0.6183\n",
      "Epoch 152/300\n",
      "1054/1054 [==============================] - 6s 6ms/step - loss: 0.5058 - acc: 0.6165 - val_loss: 0.5350 - val_acc: 0.6144\n",
      "Epoch 153/300\n",
      "1054/1054 [==============================] - 6s 6ms/step - loss: 0.5057 - acc: 0.6160 - val_loss: 0.5319 - val_acc: 0.6170\n",
      "Epoch 154/300\n",
      "1054/1054 [==============================] - 6s 6ms/step - loss: 0.5052 - acc: 0.6158 - val_loss: 0.5348 - val_acc: 0.6163\n",
      "Epoch 155/300\n",
      "1054/1054 [==============================] - 6s 6ms/step - loss: 0.5053 - acc: 0.6152 - val_loss: 0.5353 - val_acc: 0.6186\n",
      "Epoch 156/300\n",
      "1054/1054 [==============================] - 6s 6ms/step - loss: 0.5045 - acc: 0.6146 - val_loss: 0.5350 - val_acc: 0.6160\n",
      "Epoch 157/300\n",
      "1054/1054 [==============================] - 6s 6ms/step - loss: 0.5041 - acc: 0.6185 - val_loss: 0.5360 - val_acc: 0.6207\n",
      "Epoch 158/300\n",
      "1054/1054 [==============================] - 6s 6ms/step - loss: 0.5054 - acc: 0.6170 - val_loss: 0.5365 - val_acc: 0.6217\n",
      "Epoch 159/300\n",
      "1054/1054 [==============================] - 6s 6ms/step - loss: 0.5056 - acc: 0.6169 - val_loss: 0.5331 - val_acc: 0.6194\n",
      "Epoch 160/300\n",
      "1054/1054 [==============================] - 6s 6ms/step - loss: 0.5056 - acc: 0.6175 - val_loss: 0.5348 - val_acc: 0.6175\n",
      "Epoch 161/300\n",
      "1054/1054 [==============================] - 6s 6ms/step - loss: 0.5057 - acc: 0.6192 - val_loss: 0.5345 - val_acc: 0.6229\n",
      "Epoch 162/300\n",
      "1054/1054 [==============================] - 6s 6ms/step - loss: 0.5047 - acc: 0.6173 - val_loss: 0.5349 - val_acc: 0.6178\n",
      "Epoch 163/300\n",
      "1054/1054 [==============================] - 6s 6ms/step - loss: 0.5043 - acc: 0.6177 - val_loss: 0.5366 - val_acc: 0.6212\n",
      "Epoch 164/300\n",
      "1054/1054 [==============================] - 6s 6ms/step - loss: 0.5051 - acc: 0.6168 - val_loss: 0.5339 - val_acc: 0.6172\n",
      "Epoch 165/300\n",
      "1054/1054 [==============================] - 6s 6ms/step - loss: 0.5053 - acc: 0.6144 - val_loss: 0.5356 - val_acc: 0.6216\n",
      "Epoch 166/300\n",
      "1054/1054 [==============================] - 6s 6ms/step - loss: 0.5054 - acc: 0.6165 - val_loss: 0.5344 - val_acc: 0.6161\n",
      "Epoch 167/300\n",
      "1054/1054 [==============================] - 6s 6ms/step - loss: 0.5052 - acc: 0.6148 - val_loss: 0.5373 - val_acc: 0.6222\n",
      "Epoch 168/300\n",
      "1054/1054 [==============================] - 6s 6ms/step - loss: 0.5049 - acc: 0.6179 - val_loss: 0.5351 - val_acc: 0.6197\n",
      "Epoch 169/300\n",
      "1054/1054 [==============================] - 6s 6ms/step - loss: 0.5044 - acc: 0.6170 - val_loss: 0.5342 - val_acc: 0.6196\n",
      "Epoch 170/300\n",
      "1054/1054 [==============================] - 6s 6ms/step - loss: 0.5051 - acc: 0.6170 - val_loss: 0.5339 - val_acc: 0.6161\n",
      "Epoch 171/300\n",
      "1054/1054 [==============================] - 6s 6ms/step - loss: 0.5048 - acc: 0.6153 - val_loss: 0.5345 - val_acc: 0.6167\n",
      "Epoch 172/300\n",
      "1054/1054 [==============================] - 6s 6ms/step - loss: 0.5050 - acc: 0.6169 - val_loss: 0.5342 - val_acc: 0.6214\n",
      "Epoch 173/300\n",
      "1054/1054 [==============================] - 6s 6ms/step - loss: 0.5040 - acc: 0.6182 - val_loss: 0.5343 - val_acc: 0.6189\n",
      "Epoch 174/300\n",
      "1054/1054 [==============================] - 6s 6ms/step - loss: 0.5032 - acc: 0.6171 - val_loss: 0.5345 - val_acc: 0.6184\n",
      "Epoch 175/300\n",
      "1054/1054 [==============================] - 6s 6ms/step - loss: 0.5049 - acc: 0.6149 - val_loss: 0.5347 - val_acc: 0.6129\n",
      "Epoch 176/300\n",
      "1054/1054 [==============================] - 6s 6ms/step - loss: 0.5036 - acc: 0.6148 - val_loss: 0.5336 - val_acc: 0.6170\n",
      "Epoch 177/300\n",
      "1054/1054 [==============================] - 6s 6ms/step - loss: 0.5046 - acc: 0.6185 - val_loss: 0.5343 - val_acc: 0.6163\n",
      "Epoch 178/300\n",
      "1054/1054 [==============================] - 6s 6ms/step - loss: 0.5040 - acc: 0.6165 - val_loss: 0.5328 - val_acc: 0.6166\n",
      "Epoch 179/300\n",
      "1054/1054 [==============================] - 6s 6ms/step - loss: 0.5045 - acc: 0.6173 - val_loss: 0.5347 - val_acc: 0.6211\n",
      "Epoch 180/300\n",
      "1054/1054 [==============================] - 6s 6ms/step - loss: 0.5043 - acc: 0.6175 - val_loss: 0.5336 - val_acc: 0.6178\n"
     ]
    },
    {
     "name": "stdout",
     "output_type": "stream",
     "text": [
      "Epoch 181/300\n",
      "1054/1054 [==============================] - 6s 6ms/step - loss: 0.5044 - acc: 0.6173 - val_loss: 0.5328 - val_acc: 0.6202\n",
      "Epoch 182/300\n",
      "1054/1054 [==============================] - 6s 6ms/step - loss: 0.5034 - acc: 0.6180 - val_loss: 0.5337 - val_acc: 0.6206\n",
      "Epoch 183/300\n",
      "1054/1054 [==============================] - 6s 6ms/step - loss: 0.5042 - acc: 0.6184 - val_loss: 0.5337 - val_acc: 0.6238\n",
      "Epoch 184/300\n",
      "1054/1054 [==============================] - 6s 6ms/step - loss: 0.5038 - acc: 0.6180 - val_loss: 0.5335 - val_acc: 0.6173\n",
      "Epoch 185/300\n",
      "1054/1054 [==============================] - 6s 6ms/step - loss: 0.5039 - acc: 0.6181 - val_loss: 0.5345 - val_acc: 0.6151\n",
      "Epoch 186/300\n",
      "1054/1054 [==============================] - 6s 6ms/step - loss: 0.5042 - acc: 0.6164 - val_loss: 0.5335 - val_acc: 0.6209\n",
      "Epoch 187/300\n",
      "1054/1054 [==============================] - 6s 6ms/step - loss: 0.5054 - acc: 0.6166 - val_loss: 0.5332 - val_acc: 0.6184\n",
      "Epoch 188/300\n",
      "1054/1054 [==============================] - 6s 6ms/step - loss: 0.5047 - acc: 0.6168 - val_loss: 0.5327 - val_acc: 0.6179\n",
      "Epoch 189/300\n",
      "1054/1054 [==============================] - 6s 6ms/step - loss: 0.5041 - acc: 0.6191 - val_loss: 0.5324 - val_acc: 0.6204\n",
      "Epoch 190/300\n",
      "1054/1054 [==============================] - 6s 6ms/step - loss: 0.5039 - acc: 0.6177 - val_loss: 0.5316 - val_acc: 0.6164\n",
      "Epoch 191/300\n",
      "1054/1054 [==============================] - 6s 6ms/step - loss: 0.5032 - acc: 0.6179 - val_loss: 0.5322 - val_acc: 0.6156\n",
      "Epoch 192/300\n",
      "1054/1054 [==============================] - 6s 6ms/step - loss: 0.5047 - acc: 0.6184 - val_loss: 0.5335 - val_acc: 0.6213\n",
      "Epoch 193/300\n",
      "1054/1054 [==============================] - 6s 6ms/step - loss: 0.5033 - acc: 0.6168 - val_loss: 0.5325 - val_acc: 0.6222\n",
      "Epoch 194/300\n",
      "1054/1054 [==============================] - 6s 6ms/step - loss: 0.5039 - acc: 0.6191 - val_loss: 0.5325 - val_acc: 0.6194\n",
      "Epoch 195/300\n",
      "1054/1054 [==============================] - 6s 6ms/step - loss: 0.5047 - acc: 0.6192 - val_loss: 0.5341 - val_acc: 0.6221\n",
      "Epoch 196/300\n",
      "1054/1054 [==============================] - 7s 7ms/step - loss: 0.5052 - acc: 0.6174 - val_loss: 0.5334 - val_acc: 0.6221\n",
      "Epoch 197/300\n",
      "1054/1054 [==============================] - 6s 6ms/step - loss: 0.5036 - acc: 0.6197 - val_loss: 0.5339 - val_acc: 0.6160\n",
      "Epoch 198/300\n",
      "1054/1054 [==============================] - 7s 6ms/step - loss: 0.5039 - acc: 0.6199 - val_loss: 0.5337 - val_acc: 0.6210\n",
      "Epoch 199/300\n",
      "1054/1054 [==============================] - 7s 6ms/step - loss: 0.5037 - acc: 0.6179 - val_loss: 0.5329 - val_acc: 0.6145\n",
      "Epoch 200/300\n",
      "1054/1054 [==============================] - 7s 6ms/step - loss: 0.5037 - acc: 0.6177 - val_loss: 0.5335 - val_acc: 0.6152\n",
      "Epoch 201/300\n",
      "1054/1054 [==============================] - 7s 6ms/step - loss: 0.5047 - acc: 0.6197 - val_loss: 0.5331 - val_acc: 0.6172\n",
      "Epoch 202/300\n",
      "1054/1054 [==============================] - 7s 6ms/step - loss: 0.5034 - acc: 0.6160 - val_loss: 0.5333 - val_acc: 0.6170\n",
      "Epoch 203/300\n",
      "1054/1054 [==============================] - 6s 6ms/step - loss: 0.5035 - acc: 0.6191 - val_loss: 0.5338 - val_acc: 0.6168\n",
      "Epoch 204/300\n",
      "1054/1054 [==============================] - 6s 6ms/step - loss: 0.5047 - acc: 0.6173 - val_loss: 0.5343 - val_acc: 0.6152\n",
      "Epoch 205/300\n",
      "1054/1054 [==============================] - 7s 6ms/step - loss: 0.5042 - acc: 0.6173 - val_loss: 0.5343 - val_acc: 0.6185\n",
      "Epoch 206/300\n",
      "1054/1054 [==============================] - 7s 6ms/step - loss: 0.5034 - acc: 0.6192 - val_loss: 0.5335 - val_acc: 0.6164\n",
      "Epoch 207/300\n",
      "1054/1054 [==============================] - 7s 6ms/step - loss: 0.5042 - acc: 0.6172 - val_loss: 0.5353 - val_acc: 0.6156\n",
      "Epoch 208/300\n",
      "1054/1054 [==============================] - 7s 6ms/step - loss: 0.5035 - acc: 0.6162 - val_loss: 0.5352 - val_acc: 0.6158\n",
      "Epoch 209/300\n",
      "1054/1054 [==============================] - 7s 6ms/step - loss: 0.5037 - acc: 0.6179 - val_loss: 0.5344 - val_acc: 0.6165\n",
      "Epoch 210/300\n",
      "1054/1054 [==============================] - 7s 6ms/step - loss: 0.5046 - acc: 0.6182 - val_loss: 0.5352 - val_acc: 0.6180\n",
      "Epoch 211/300\n",
      "1054/1054 [==============================] - 7s 6ms/step - loss: 0.5037 - acc: 0.6187 - val_loss: 0.5346 - val_acc: 0.6186\n",
      "Epoch 212/300\n",
      "1054/1054 [==============================] - 7s 6ms/step - loss: 0.5030 - acc: 0.6187 - val_loss: 0.5347 - val_acc: 0.6215\n",
      "Epoch 213/300\n",
      "1054/1054 [==============================] - 6s 6ms/step - loss: 0.5025 - acc: 0.6199 - val_loss: 0.5346 - val_acc: 0.6197\n",
      "Epoch 214/300\n",
      "1054/1054 [==============================] - 6s 6ms/step - loss: 0.5044 - acc: 0.6203 - val_loss: 0.5348 - val_acc: 0.6205\n",
      "Epoch 215/300\n",
      "1054/1054 [==============================] - 6s 6ms/step - loss: 0.5041 - acc: 0.6168 - val_loss: 0.5341 - val_acc: 0.6184\n",
      "Epoch 216/300\n",
      "1054/1054 [==============================] - 6s 6ms/step - loss: 0.5038 - acc: 0.6179 - val_loss: 0.5350 - val_acc: 0.6189\n",
      "Epoch 217/300\n",
      "1054/1054 [==============================] - 7s 6ms/step - loss: 0.5032 - acc: 0.6178 - val_loss: 0.5347 - val_acc: 0.6200\n",
      "Epoch 218/300\n",
      "1054/1054 [==============================] - 7s 6ms/step - loss: 0.5040 - acc: 0.6179 - val_loss: 0.5344 - val_acc: 0.6146\n",
      "Epoch 219/300\n",
      "1054/1054 [==============================] - 7s 6ms/step - loss: 0.5039 - acc: 0.6157 - val_loss: 0.5356 - val_acc: 0.6172\n",
      "Epoch 220/300\n",
      "1054/1054 [==============================] - 7s 6ms/step - loss: 0.5037 - acc: 0.6177 - val_loss: 0.5347 - val_acc: 0.6181\n",
      "Epoch 221/300\n",
      "1054/1054 [==============================] - 7s 6ms/step - loss: 0.5035 - acc: 0.6176 - val_loss: 0.5355 - val_acc: 0.6202\n",
      "Epoch 222/300\n",
      "1054/1054 [==============================] - 6s 6ms/step - loss: 0.5038 - acc: 0.6190 - val_loss: 0.5339 - val_acc: 0.6174\n",
      "Epoch 223/300\n",
      "1054/1054 [==============================] - 7s 6ms/step - loss: 0.5045 - acc: 0.6176 - val_loss: 0.5344 - val_acc: 0.6177\n",
      "Epoch 224/300\n",
      "1054/1054 [==============================] - 7s 6ms/step - loss: 0.5031 - acc: 0.6182 - val_loss: 0.5337 - val_acc: 0.6193\n",
      "Epoch 225/300\n",
      "1054/1054 [==============================] - 7s 6ms/step - loss: 0.5040 - acc: 0.6183 - val_loss: 0.5343 - val_acc: 0.6184\n",
      "Epoch 226/300\n",
      "1054/1054 [==============================] - 7s 6ms/step - loss: 0.5026 - acc: 0.6196 - val_loss: 0.5341 - val_acc: 0.6145\n",
      "Epoch 227/300\n",
      "1054/1054 [==============================] - 7s 6ms/step - loss: 0.5025 - acc: 0.6210 - val_loss: 0.5343 - val_acc: 0.6172\n",
      "Epoch 228/300\n",
      "1054/1054 [==============================] - 6s 6ms/step - loss: 0.5032 - acc: 0.6176 - val_loss: 0.5329 - val_acc: 0.6207\n",
      "Epoch 229/300\n",
      "1054/1054 [==============================] - 7s 6ms/step - loss: 0.5026 - acc: 0.6191 - val_loss: 0.5341 - val_acc: 0.6186\n",
      "Epoch 230/300\n",
      "1054/1054 [==============================] - 7s 6ms/step - loss: 0.5028 - acc: 0.6205 - val_loss: 0.5350 - val_acc: 0.6197\n",
      "Epoch 231/300\n",
      "1054/1054 [==============================] - 6s 6ms/step - loss: 0.5032 - acc: 0.6191 - val_loss: 0.5347 - val_acc: 0.6181\n",
      "Epoch 232/300\n",
      "1054/1054 [==============================] - 7s 6ms/step - loss: 0.5025 - acc: 0.6199 - val_loss: 0.5340 - val_acc: 0.6188\n",
      "Epoch 233/300\n",
      "1054/1054 [==============================] - 7s 6ms/step - loss: 0.5023 - acc: 0.6209 - val_loss: 0.5333 - val_acc: 0.6198\n",
      "Epoch 234/300\n",
      "1054/1054 [==============================] - 7s 6ms/step - loss: 0.5026 - acc: 0.6207 - val_loss: 0.5324 - val_acc: 0.6196\n",
      "Epoch 235/300\n",
      "1054/1054 [==============================] - 7s 6ms/step - loss: 0.5041 - acc: 0.6198 - val_loss: 0.5331 - val_acc: 0.6214\n",
      "Epoch 236/300\n",
      "1054/1054 [==============================] - 7s 6ms/step - loss: 0.5039 - acc: 0.6197 - val_loss: 0.5324 - val_acc: 0.6197\n",
      "Epoch 237/300\n",
      "1054/1054 [==============================] - 7s 6ms/step - loss: 0.5030 - acc: 0.6204 - val_loss: 0.5333 - val_acc: 0.6222\n",
      "Epoch 238/300\n",
      "1054/1054 [==============================] - 7s 6ms/step - loss: 0.5030 - acc: 0.6207 - val_loss: 0.5330 - val_acc: 0.6180\n",
      "Epoch 239/300\n",
      "1054/1054 [==============================] - 7s 6ms/step - loss: 0.5039 - acc: 0.6195 - val_loss: 0.5333 - val_acc: 0.6212\n",
      "Epoch 240/300\n",
      "1054/1054 [==============================] - 7s 6ms/step - loss: 0.5029 - acc: 0.6202 - val_loss: 0.5325 - val_acc: 0.6247\n"
     ]
    },
    {
     "name": "stdout",
     "output_type": "stream",
     "text": [
      "Epoch 241/300\n",
      "1054/1054 [==============================] - 7s 6ms/step - loss: 0.5035 - acc: 0.6212 - val_loss: 0.5335 - val_acc: 0.6218\n",
      "Epoch 242/300\n",
      "1054/1054 [==============================] - 7s 6ms/step - loss: 0.5028 - acc: 0.6216 - val_loss: 0.5327 - val_acc: 0.6238\n",
      "Epoch 243/300\n",
      "1054/1054 [==============================] - 7s 6ms/step - loss: 0.5027 - acc: 0.6207 - val_loss: 0.5326 - val_acc: 0.6207\n",
      "Epoch 244/300\n",
      "1054/1054 [==============================] - 7s 6ms/step - loss: 0.5026 - acc: 0.6196 - val_loss: 0.5332 - val_acc: 0.6213\n",
      "Epoch 245/300\n",
      "1054/1054 [==============================] - 6s 6ms/step - loss: 0.5034 - acc: 0.6219 - val_loss: 0.5324 - val_acc: 0.6186\n",
      "Epoch 246/300\n",
      "1054/1054 [==============================] - 7s 6ms/step - loss: 0.5020 - acc: 0.6189 - val_loss: 0.5337 - val_acc: 0.6174\n",
      "Epoch 247/300\n",
      "1054/1054 [==============================] - 7s 6ms/step - loss: 0.5031 - acc: 0.6187 - val_loss: 0.5331 - val_acc: 0.6151\n",
      "Epoch 248/300\n",
      "1054/1054 [==============================] - 7s 6ms/step - loss: 0.5027 - acc: 0.6185 - val_loss: 0.5328 - val_acc: 0.6201\n",
      "Epoch 249/300\n",
      "1054/1054 [==============================] - 6s 6ms/step - loss: 0.5030 - acc: 0.6198 - val_loss: 0.5329 - val_acc: 0.6227\n",
      "Epoch 250/300\n",
      "1054/1054 [==============================] - 6s 6ms/step - loss: 0.5028 - acc: 0.6206 - val_loss: 0.5324 - val_acc: 0.6214\n",
      "Epoch 251/300\n",
      "1054/1054 [==============================] - 6s 6ms/step - loss: 0.5024 - acc: 0.6195 - val_loss: 0.5338 - val_acc: 0.6262\n",
      "Epoch 252/300\n",
      "1054/1054 [==============================] - 7s 6ms/step - loss: 0.5026 - acc: 0.6208 - val_loss: 0.5326 - val_acc: 0.6246\n",
      "Epoch 253/300\n",
      "1054/1054 [==============================] - 7s 6ms/step - loss: 0.5026 - acc: 0.6215 - val_loss: 0.5331 - val_acc: 0.6226\n",
      "Epoch 254/300\n",
      "1054/1054 [==============================] - 7s 6ms/step - loss: 0.5026 - acc: 0.6188 - val_loss: 0.5325 - val_acc: 0.6222\n",
      "Epoch 255/300\n",
      "1054/1054 [==============================] - 7s 6ms/step - loss: 0.5031 - acc: 0.6198 - val_loss: 0.5316 - val_acc: 0.6218\n",
      "Epoch 256/300\n",
      "1054/1054 [==============================] - 7s 6ms/step - loss: 0.5024 - acc: 0.6212 - val_loss: 0.5344 - val_acc: 0.6242\n",
      "Epoch 257/300\n",
      "1054/1054 [==============================] - 6s 6ms/step - loss: 0.5024 - acc: 0.6204 - val_loss: 0.5329 - val_acc: 0.6245\n",
      "Epoch 258/300\n",
      "1054/1054 [==============================] - 6s 6ms/step - loss: 0.5020 - acc: 0.6195 - val_loss: 0.5331 - val_acc: 0.6226\n",
      "Epoch 259/300\n",
      "1054/1054 [==============================] - 6s 6ms/step - loss: 0.5022 - acc: 0.6201 - val_loss: 0.5324 - val_acc: 0.6195\n",
      "Epoch 260/300\n",
      "1054/1054 [==============================] - 7s 6ms/step - loss: 0.5032 - acc: 0.6203 - val_loss: 0.5330 - val_acc: 0.6176\n",
      "Epoch 261/300\n",
      "1054/1054 [==============================] - 6s 6ms/step - loss: 0.5028 - acc: 0.6192 - val_loss: 0.5331 - val_acc: 0.6210\n",
      "Epoch 262/300\n",
      "1054/1054 [==============================] - 6s 6ms/step - loss: 0.5032 - acc: 0.6191 - val_loss: 0.5330 - val_acc: 0.6186\n",
      "Epoch 263/300\n",
      "1054/1054 [==============================] - 6s 6ms/step - loss: 0.5023 - acc: 0.6194 - val_loss: 0.5341 - val_acc: 0.6221\n",
      "Epoch 264/300\n",
      "1054/1054 [==============================] - 7s 6ms/step - loss: 0.5026 - acc: 0.6190 - val_loss: 0.5336 - val_acc: 0.6165\n",
      "Epoch 265/300\n",
      "1054/1054 [==============================] - 6s 6ms/step - loss: 0.5029 - acc: 0.6177 - val_loss: 0.5334 - val_acc: 0.6187\n",
      "Epoch 266/300\n",
      "1054/1054 [==============================] - 6s 6ms/step - loss: 0.5013 - acc: 0.6192 - val_loss: 0.5331 - val_acc: 0.6171\n",
      "Epoch 267/300\n",
      "1054/1054 [==============================] - 6s 6ms/step - loss: 0.5016 - acc: 0.6206 - val_loss: 0.5331 - val_acc: 0.6227\n",
      "Epoch 268/300\n",
      "1054/1054 [==============================] - 6s 6ms/step - loss: 0.5017 - acc: 0.6197 - val_loss: 0.5347 - val_acc: 0.6210\n",
      "Epoch 269/300\n",
      "1054/1054 [==============================] - 6s 6ms/step - loss: 0.5027 - acc: 0.6207 - val_loss: 0.5324 - val_acc: 0.6223\n",
      "Epoch 270/300\n",
      "1054/1054 [==============================] - 6s 6ms/step - loss: 0.5023 - acc: 0.6210 - val_loss: 0.5318 - val_acc: 0.6243\n",
      "Epoch 271/300\n",
      "1054/1054 [==============================] - 6s 6ms/step - loss: 0.5024 - acc: 0.6218 - val_loss: 0.5330 - val_acc: 0.6220\n",
      "Epoch 272/300\n",
      "1054/1054 [==============================] - 6s 6ms/step - loss: 0.5020 - acc: 0.6202 - val_loss: 0.5339 - val_acc: 0.6196\n",
      "Epoch 273/300\n",
      "1054/1054 [==============================] - 6s 6ms/step - loss: 0.5031 - acc: 0.6212 - val_loss: 0.5331 - val_acc: 0.6179\n",
      "Epoch 274/300\n",
      "1054/1054 [==============================] - 6s 6ms/step - loss: 0.5018 - acc: 0.6203 - val_loss: 0.5336 - val_acc: 0.6190\n",
      "Epoch 275/300\n",
      "1054/1054 [==============================] - 6s 6ms/step - loss: 0.5024 - acc: 0.6184 - val_loss: 0.5335 - val_acc: 0.6184\n",
      "Epoch 276/300\n",
      "1054/1054 [==============================] - 6s 6ms/step - loss: 0.5014 - acc: 0.6214 - val_loss: 0.5339 - val_acc: 0.6248\n",
      "Epoch 277/300\n",
      "1054/1054 [==============================] - 6s 6ms/step - loss: 0.5020 - acc: 0.6218 - val_loss: 0.5341 - val_acc: 0.6225\n",
      "Epoch 278/300\n",
      "1054/1054 [==============================] - 6s 6ms/step - loss: 0.5023 - acc: 0.6208 - val_loss: 0.5334 - val_acc: 0.6207\n",
      "Epoch 279/300\n",
      "1054/1054 [==============================] - 6s 6ms/step - loss: 0.5026 - acc: 0.6198 - val_loss: 0.5333 - val_acc: 0.6221\n",
      "Epoch 280/300\n",
      "1054/1054 [==============================] - 6s 6ms/step - loss: 0.5014 - acc: 0.6204 - val_loss: 0.5346 - val_acc: 0.6244\n",
      "Epoch 281/300\n",
      "1054/1054 [==============================] - 7s 6ms/step - loss: 0.5018 - acc: 0.6212 - val_loss: 0.5335 - val_acc: 0.6199\n",
      "Epoch 282/300\n",
      "1054/1054 [==============================] - 7s 6ms/step - loss: 0.5013 - acc: 0.6200 - val_loss: 0.5339 - val_acc: 0.6227\n",
      "Epoch 283/300\n",
      "1054/1054 [==============================] - 6s 6ms/step - loss: 0.5018 - acc: 0.6199 - val_loss: 0.5333 - val_acc: 0.6178\n",
      "Epoch 284/300\n",
      "1054/1054 [==============================] - 6s 6ms/step - loss: 0.5011 - acc: 0.6185 - val_loss: 0.5343 - val_acc: 0.6161\n",
      "Epoch 285/300\n",
      "1054/1054 [==============================] - 7s 6ms/step - loss: 0.5022 - acc: 0.6205 - val_loss: 0.5345 - val_acc: 0.6186\n",
      "Epoch 286/300\n",
      "1054/1054 [==============================] - 7s 6ms/step - loss: 0.5023 - acc: 0.6198 - val_loss: 0.5354 - val_acc: 0.6230\n",
      "Epoch 287/300\n",
      "1054/1054 [==============================] - 6s 6ms/step - loss: 0.5024 - acc: 0.6186 - val_loss: 0.5340 - val_acc: 0.6189\n",
      "Epoch 288/300\n",
      "1054/1054 [==============================] - 7s 6ms/step - loss: 0.5019 - acc: 0.6204 - val_loss: 0.5336 - val_acc: 0.6172\n",
      "Epoch 289/300\n",
      "1054/1054 [==============================] - 6s 6ms/step - loss: 0.5018 - acc: 0.6184 - val_loss: 0.5328 - val_acc: 0.6167\n",
      "Epoch 290/300\n",
      "1054/1054 [==============================] - 7s 6ms/step - loss: 0.5026 - acc: 0.6167 - val_loss: 0.5336 - val_acc: 0.6161\n",
      "Epoch 291/300\n",
      "1054/1054 [==============================] - 7s 6ms/step - loss: 0.5026 - acc: 0.6176 - val_loss: 0.5340 - val_acc: 0.6173\n",
      "Epoch 292/300\n",
      "1054/1054 [==============================] - 7s 6ms/step - loss: 0.5017 - acc: 0.6192 - val_loss: 0.5347 - val_acc: 0.6205\n",
      "Epoch 293/300\n",
      "1054/1054 [==============================] - 7s 6ms/step - loss: 0.5009 - acc: 0.6205 - val_loss: 0.5345 - val_acc: 0.6170\n",
      "Epoch 294/300\n",
      "1054/1054 [==============================] - 7s 6ms/step - loss: 0.5020 - acc: 0.6181 - val_loss: 0.5337 - val_acc: 0.6207\n",
      "Epoch 295/300\n",
      "1054/1054 [==============================] - 7s 6ms/step - loss: 0.5022 - acc: 0.6186 - val_loss: 0.5345 - val_acc: 0.6197\n",
      "Epoch 296/300\n",
      "1054/1054 [==============================] - 7s 6ms/step - loss: 0.5022 - acc: 0.6197 - val_loss: 0.5341 - val_acc: 0.6213\n",
      "Epoch 297/300\n",
      "1054/1054 [==============================] - 7s 6ms/step - loss: 0.5023 - acc: 0.6187 - val_loss: 0.5331 - val_acc: 0.6181\n",
      "Epoch 298/300\n",
      "1054/1054 [==============================] - 7s 6ms/step - loss: 0.5026 - acc: 0.6184 - val_loss: 0.5345 - val_acc: 0.6218\n",
      "Epoch 299/300\n",
      "1054/1054 [==============================] - 7s 6ms/step - loss: 0.5018 - acc: 0.6204 - val_loss: 0.5330 - val_acc: 0.6198\n",
      "Epoch 300/300\n",
      "1054/1054 [==============================] - 6s 6ms/step - loss: 0.5015 - acc: 0.6215 - val_loss: 0.5352 - val_acc: 0.6206\n"
     ]
    }
   ],
   "source": [
    "history = model.fit_generator(\n",
    "            training_generator, \n",
    "            epochs=300,\n",
    "            #initial_epoch=200,\n",
    "            steps_per_epoch=steps_per_epoch_train, \n",
    "            validation_data = validation_generator, \n",
    "            validation_steps = steps_per_epoch_val,\n",
    "            callbacks = [], \n",
    "            )"
   ]
  },
  {
   "cell_type": "code",
   "execution_count": 19,
   "metadata": {
    "ExecuteTime": {
     "end_time": "2020-01-27T12:55:58.730850Z",
     "start_time": "2020-01-27T12:55:57.810345Z"
    }
   },
   "outputs": [],
   "source": [
    "model.save(f\"{model_dir}/model.h5\")"
   ]
  },
  {
   "cell_type": "code",
   "execution_count": 39,
   "metadata": {
    "ExecuteTime": {
     "end_time": "2020-01-27T12:56:04.845533Z",
     "start_time": "2020-01-27T12:56:02.953256Z"
    }
   },
   "outputs": [
    {
     "name": "stdout",
     "output_type": "stream",
     "text": [
      ">>> Computing AUC...\n"
     ]
    },
    {
     "data": {
      "image/png": "[encoded data removed]",
      "text/plain": [
       "<Figure size 700x600 with 1 Axes>"
      ]
     },
     "metadata": {},
     "output_type": "display_data"
    }
   ],
   "source": [
    "# Evalutation\n",
    "print(\">>> Computing AUC...\")\n",
    "\n",
    "from sklearn.metrics import roc_auc_score, roc_curve\n",
    "\n",
    "pred = model.predict(X_test)\n",
    "auc = roc_auc_score(y_test,pred)\n",
    "auc_w = roc_auc_score(y_test,pred, sample_weight=W_test)\n",
    "fpW, tpW, thW = roc_curve(y_test, pred, sample_weight=W_test)\n",
    "fp, tp, th = roc_curve(y_test, pred)\n",
    "#print(\"AUC score: \" + str(auc))\n",
    "\n",
    "fig, ax1 = plt.subplots(figsize=(7,6), dpi=100)\n",
    "\n",
    "# ax1.plot(fp, tp, label=f\"ROC (AUC={auc:.3f})\", color=\"blue\")\n",
    "ax1.plot(fpW, tpW, label=f\"ROC W (AUC={auc_w:.3f})\", color=\"red\")\n",
    "\n",
    "ax1.set_xlabel(\"Bkg contamination\", fontsize=18)\n",
    "ax1.set_ylabel(\"Signal efficiency\", fontsize=18)\n",
    "\n",
    "#ax1.plot([0,1],[1,1],\"b--\")\n",
    "ax1.tick_params(\"y\",labelsize=\"large\")\n",
    "\n",
    "ax1.grid()\n",
    "\n",
    "ax1.legend(loc=(0.4, 0.5), fontsize=\"large\")\n",
    "\n",
    "fig.tight_layout()"
   ]
  },
  {
   "cell_type": "code",
   "execution_count": 21,
   "metadata": {
    "ExecuteTime": {
     "end_time": "2020-01-27T12:49:29.244227Z",
     "start_time": "2020-01-27T12:49:28.845434Z"
    }
   },
   "outputs": [
    {
     "data": {
      "text/plain": [
       "<matplotlib.legend.Legend at 0x7fbdccba1ac8>"
      ]
     },
     "execution_count": 21,
     "metadata": {},
     "output_type": "execute_result"
    },
    {
     "data": {
      "image/png": "[encoded data removed]",
      "text/plain": [
       "<Figure size 700x600 with 1 Axes>"
      ]
     },
     "metadata": {},
     "output_type": "display_data"
    }
   ],
   "source": [
    "fig, ax = plt.subplots(figsize=(7,6), dpi=100)\n",
    "ax.plot(history.epoch, history.history[\"val_loss\"], label=\"validation loss\")\n",
    "ax.plot(history.epoch, history.history[\"loss\"], label=\"training loss\")\n",
    "plt.legend()"
   ]
  },
  {
   "cell_type": "code",
   "execution_count": 22,
   "metadata": {
    "ExecuteTime": {
     "end_time": "2020-01-27T12:50:20.776939Z",
     "start_time": "2020-01-27T12:50:20.294558Z"
    }
   },
   "outputs": [
    {
     "data": {
      "text/plain": [
       "<matplotlib.legend.Legend at 0x7fbda98c6ef0>"
      ]
     },
     "execution_count": 22,
     "metadata": {},
     "output_type": "execute_result"
    },
    {
     "data": {
      "image/png": "[encoded data removed]",
      "text/plain": [
       "<Figure size 700x600 with 1 Axes>"
      ]
     },
     "metadata": {},
     "output_type": "display_data"
    }
   ],
   "source": [
    "results = model.predict(X_test, batch_size=2048)\n",
    "fig, ax1 = plt.subplots(figsize=(7,6), dpi=100)\n",
    "plt.hist(results[y_test==0],weights=W_test[y_test==0], bins=40,density=True, label=\"false\", histtype=\"step\")\n",
    "plt.hist(results[y_test==1],weights=W_test[y_test==1], bins=40, density=True, label=\"true\", histtype=\"step\")\n",
    "#plt.yscale(\"log\")\n",
    "plt.legend()"
   ]
  },
  {
   "cell_type": "markdown",
   "metadata": {},
   "source": [
    "## Evaluation by sample"
   ]
  },
  {
   "cell_type": "code",
   "execution_count": 23,
   "metadata": {
    "ExecuteTime": {
     "end_time": "2020-01-27T12:50:31.732230Z",
     "start_time": "2020-01-27T12:50:30.443931Z"
    }
   },
   "outputs": [],
   "source": [
    "bkg[\"y\"] = model.predict(scaler.transform(bkg[cols].values), batch_size=2048)"
   ]
  },
  {
   "cell_type": "code",
   "execution_count": 24,
   "metadata": {
    "ExecuteTime": {
     "end_time": "2020-01-27T12:50:36.367097Z",
     "start_time": "2020-01-27T12:50:36.146436Z"
    }
   },
   "outputs": [],
   "source": [
    "signal[\"y\"] = model.predict(scaler.transform(signal[cols].values), batch_size=2048)"
   ]
  },
  {
   "cell_type": "code",
   "execution_count": 25,
   "metadata": {
    "ExecuteTime": {
     "end_time": "2020-01-27T12:50:40.753728Z",
     "start_time": "2020-01-27T12:50:40.440558Z"
    }
   },
   "outputs": [],
   "source": [
    "wjets = bkg[bkg[\"sample_name\"] == \"Wjets\"]\n",
    "top = bkg[bkg[\"sample_name\"] == \"top\"]\n",
    "dy = bkg[bkg[\"sample_name\"] == \"DY\"]"
   ]
  },
  {
   "cell_type": "code",
   "execution_count": 26,
   "metadata": {
    "ExecuteTime": {
     "end_time": "2020-01-27T12:50:45.162949Z",
     "start_time": "2020-01-27T12:50:44.453275Z"
    }
   },
   "outputs": [
    {
     "data": {
      "text/plain": [
       "<matplotlib.legend.Legend at 0x7fbdccad7eb8>"
      ]
     },
     "execution_count": 26,
     "metadata": {},
     "output_type": "execute_result"
    },
    {
     "data": {
      "image/png": "[encoded data removed]",
      "text/plain": [
       "<Figure size 700x600 with 1 Axes>"
      ]
     },
     "metadata": {},
     "output_type": "display_data"
    }
   ],
   "source": [
    "fig, ax1 = plt.subplots(figsize=(7,6), dpi=100)\n",
    "plt.hist(bkg[bkg[\"sample_name\"] == \"Wjets\"][\"y\"], bins=50, density=True, label=\"W+jets\", histtype=\"step\")\n",
    "plt.hist(bkg[bkg[\"sample_name\"] == \"top\"][\"y\"],   bins=50, density=True, label=\"top\",    histtype=\"step\")\n",
    "plt.hist(bkg[bkg[\"sample_name\"] == \"DY\"][\"y\"],    bins=50, density=True, label=\"DY\",     histtype=\"step\")\n",
    "\n",
    "plt.hist(signal[\"y\"], bins=50,density=True, label=\"signal\", histtype=\"step\")\n",
    "#plt.yscale(\"log\")\n",
    "plt.legend()"
   ]
  },
  {
   "cell_type": "code",
   "execution_count": 27,
   "metadata": {
    "ExecuteTime": {
     "end_time": "2020-01-27T12:50:49.149563Z",
     "start_time": "2020-01-27T12:50:48.775604Z"
    }
   },
   "outputs": [
    {
     "data": {
      "text/plain": [
       "<matplotlib.legend.Legend at 0x7fbda892a128>"
      ]
     },
     "execution_count": 27,
     "metadata": {},
     "output_type": "execute_result"
    },
    {
     "data": {
      "image/png": "[encoded data removed]",
      "text/plain": [
       "<Figure size 700x600 with 1 Axes>"
      ]
     },
     "metadata": {},
     "output_type": "display_data"
    }
   ],
   "source": [
    "fig, ax1 = plt.subplots(figsize=(7,6), dpi=100)\n",
    "plt.hist(wjets[\"y\"], weights=wjets.weight_norm, bins=50, density=True, label=\"W+jets\", histtype=\"step\")\n",
    "plt.hist(top[\"y\"],   weights=top.weight_norm,  bins=50, density=True, label=\"top\",    histtype=\"step\")\n",
    "plt.hist(dy[\"y\"],    weights=dy.weight_norm,  bins=50, density=True, label=\"DY\",     histtype=\"step\")\n",
    "\n",
    "plt.hist(signal[\"y\"], weights=signal.weight_norm, bins=50,density=True, label=\"signal\", histtype=\"step\")\n",
    "#plt.yscale(\"log\")\n",
    "plt.legend()"
   ]
  },
  {
   "cell_type": "code",
   "execution_count": null,
   "metadata": {},
   "outputs": [],
   "source": []
  }
 ],
 "metadata": {
  "kernelspec": {
   "display_name": "Python 3",
   "language": "python",
   "name": "python3"
  },
  "language_info": {
   "codemirror_mode": {
    "name": "ipython",
    "version": 3
   },
   "file_extension": ".py",
   "mimetype": "text/x-python",
   "name": "python",
   "nbconvert_exporter": "python",
   "pygments_lexer": "ipython3",
   "version": "3.6.5"
  },
  "toc": {
   "base_numbering": 1,
   "nav_menu": {},
   "number_sections": true,
   "sideBar": true,
   "skip_h1_title": false,
   "title_cell": "Table of Contents",
   "title_sidebar": "Contents",
   "toc_cell": false,
   "toc_position": {},
   "toc_section_display": true,
   "toc_window_display": false
  },
  "varInspector": {
   "cols": {
    "lenName": 16,
    "lenType": 16,
    "lenVar": 40
   },
   "kernels_config": {
    "python": {
     "delete_cmd_postfix": "",
     "delete_cmd_prefix": "del ",
     "library": "var_list.py",
     "varRefreshCmd": "print(var_dic_list())"
    },
    "r": {
     "delete_cmd_postfix": ") ",
     "delete_cmd_prefix": "rm(",
     "library": "var_list.r",
     "varRefreshCmd": "cat(var_dic_list()) "
    }
   },
   "types_to_exclude": [
    "module",
    "function",
    "builtin_function_or_method",
    "instance",
    "_Feature"
   ],
   "window_display": false
  }
 },
 "nbformat": 4,
 "nbformat_minor": 2
}
