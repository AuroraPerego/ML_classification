{
 "cells": [
  {
   "cell_type": "code",
   "execution_count": 1,
   "metadata": {
    "ExecuteTime": {
     "end_time": "2020-01-27T10:17:08.744141Z",
     "start_time": "2020-01-27T10:17:07.742537Z"
    }
   },
   "outputs": [],
   "source": [
    "import pickle\n",
    "import pandas as pd\n",
    "import numpy as np\n",
    "import matplotlib.pyplot as plt\n",
    "import os\n",
    "from collections import defaultdict\n",
    "import matplotlib as mpl\n",
    "\n",
    "mpl.rcParams['figure.figsize'] = (6,6)\n",
    "mpl.rcParams['figure.dpi'] = 100\n",
    "mpl.rcParams[\"image.origin\"] = 'lower'"
   ]
  },
  {
   "cell_type": "code",
   "execution_count": 2,
   "metadata": {
    "ExecuteTime": {
     "end_time": "2020-01-27T10:17:08.807967Z",
     "start_time": "2020-01-27T10:17:08.805229Z"
    }
   },
   "outputs": [],
   "source": [
    "samples_dir = \"/eos/home-d/dmapelli/public/latino/Full2017v6\"\n",
    "cut = \"lowen_looseVBS\"\n",
    "version = \"v3\""
   ]
  },
  {
   "cell_type": "code",
   "execution_count": 3,
   "metadata": {
    "ExecuteTime": {
     "end_time": "2020-01-27T10:17:08.879793Z",
     "start_time": "2020-01-27T10:17:08.866606Z"
    }
   },
   "outputs": [],
   "source": [
    "model_dir = f\"{samples_dir}/{cut}/models/{version}\"\n",
    "import os \n",
    "os.makedirs(model_dir, exist_ok=True)"
   ]
  },
  {
   "cell_type": "code",
   "execution_count": 40,
   "metadata": {
    "ExecuteTime": {
     "end_time": "2020-01-27T10:38:23.026303Z",
     "start_time": "2020-01-27T10:38:22.620559Z"
    }
   },
   "outputs": [],
   "source": [
    "signal = pickle.load(open(f\"{samples_dir}/{cut}/samples/for_training/signal_balanced.pkl\", \"rb\"))\n",
    "bkg = pickle.load(open(f\"{samples_dir}/{cut}/samples/for_training/background_balanced.pkl\", \"rb\"))"
   ]
  },
  {
   "cell_type": "markdown",
   "metadata": {},
   "source": [
    "## Samples preparation for NN"
   ]
  },
  {
   "cell_type": "code",
   "execution_count": 70,
   "metadata": {},
   "outputs": [],
   "source": [
    "## using \n",
    "## source /cvmfs/sft.cern.ch/lcg/views/LCG_96python3/x86_64-centos7-gcc8-opt/setup.sh\n",
    "#!pip3 install --user imbalanced-learn==0.5"
   ]
  },
  {
   "cell_type": "code",
   "execution_count": 5,
   "metadata": {
    "ExecuteTime": {
     "end_time": "2020-01-27T10:17:29.125979Z",
     "start_time": "2020-01-27T10:17:18.939862Z"
    }
   },
   "outputs": [
    {
     "name": "stderr",
     "output_type": "stream",
     "text": [
      "Using TensorFlow backend.\n"
     ]
    }
   ],
   "source": [
    "from sklearn.preprocessing import MinMaxScaler, StandardScaler, QuantileTransformer\n",
    "from sklearn.model_selection import train_test_split\n",
    "from imblearn.keras import balanced_batch_generator\n",
    "from imblearn.over_sampling import RandomOverSampler\n",
    "import tensorflow\n",
    "import keras\n",
    "import pandas as pd\n",
    "import numpy as np\n",
    "import matplotlib.pyplot as plt\n",
    "from keras.datasets import mnist\n",
    "from keras.models import Model, Sequential\n",
    "from keras.layers import Dense, Conv2D, Dropout, BatchNormalization, Input, Reshape, Flatten, Deconvolution2D, Conv2DTranspose, MaxPooling2D, UpSampling2D, Lambda\n",
    "from keras.layers.advanced_activations import LeakyReLU\n",
    "from keras.optimizers import adam\n",
    "from keras import backend as K\n",
    "from keras.callbacks import *"
   ]
  },
  {
   "cell_type": "markdown",
   "metadata": {
    "ExecuteTime": {
     "end_time": "2020-01-27T12:57:19.511653Z",
     "start_time": "2020-01-27T12:57:19.437298Z"
    }
   },
   "source": [
    "'mjj_vbs', 'vbs_0_pt', 'vbs_1_pt', 'vbs_0_eta', 'vbs_1_eta', 'deltaeta_vbs', 'deltaphi_vbs', \n",
    "'mjj_vjet', 'vjet_0_pt', 'vjet_1_pt', 'vjet_0_eta', 'vjet_1_eta', 'Lepton_pt', 'Lepton_eta', \n",
    "'Lepton_flavour', 'PuppiMET', 'nJets', 'N_jets_central', 'N_jets_forward', 'Zvjets_0', \n",
    "'Zlep', 'Asym_vbs', 'Asym_vjet', 'A_ww', 'Mw_lep_reco', 'Mtw_lep', 'w_lep_pt', 'Mww', 'R_ww', 'R_mw', 'Centr_vbs', 'Centr_ww"
   ]
  },
  {
   "cell_type": "code",
   "execution_count": 6,
   "metadata": {
    "ExecuteTime": {
     "end_time": "2020-01-27T10:17:31.734886Z",
     "start_time": "2020-01-27T10:17:31.723341Z"
    }
   },
   "outputs": [
    {
     "name": "stdout",
     "output_type": "stream",
     "text": [
      "<class 'list'> ['mjj_vbs', 'vbs_0_pt', 'vbs_1_pt', 'vbs_0_eta', 'vbs_1_eta', 'deltaeta_vbs', 'deltaphi_vbs', 'mjj_vjet', 'vjet_0_pt', 'vjet_1_pt', 'vjet_0_eta', 'vjet_1_eta', 'Lepton_pt', 'Lepton_eta', 'Lepton_flavour', 'PuppiMET', 'nJets', 'N_jets_central', 'N_jets_forward', 'Zvjets_0', 'Zlep', 'Asym_vbs', 'Asym_vjet', 'A_ww', 'Mw_lep_reco', 'Mtw_lep', 'w_lep_pt', 'Mww', 'R_ww', 'R_mw', 'Centr_vbs', 'Centr_ww']\n"
     ]
    }
   ],
   "source": [
    "import yaml\n",
    "yaml_vars = yaml.safe_load(open(f\"{samples_dir}/{cut}/models/{version}/variables.yml\"))\n",
    "print(type(yaml_vars), yaml_vars)\n",
    "cols = yaml_vars"
   ]
  },
  {
   "cell_type": "code",
   "execution_count": 52,
   "metadata": {
    "ExecuteTime": {
     "end_time": "2020-01-27T10:43:23.689119Z",
     "start_time": "2020-01-27T10:43:23.381391Z"
    }
   },
   "outputs": [],
   "source": [
    "X_sig = signal[cols].values\n",
    "X_bkg = bkg[cols].values\n",
    "Y_sig = np.ones(len(X_sig))\n",
    "Y_bkg = np.zeros(len(X_bkg))\n",
    "W_sig = (signal[\"weight\"]*signal[\"XSWeight_norm\"]).values\n",
    "W_bkg = (bkg[\"weight\"]*bkg[\"XSWeight_norm\"]).values"
   ]
  },
  {
   "cell_type": "code",
   "execution_count": 53,
   "metadata": {
    "ExecuteTime": {
     "end_time": "2020-01-27T10:43:27.283132Z",
     "start_time": "2020-01-27T10:43:27.081356Z"
    }
   },
   "outputs": [],
   "source": [
    "X = np.vstack([X_sig, X_bkg])\n",
    "Y = np.hstack([Y_sig, Y_bkg])\n",
    "W = np.hstack([W_sig, W_bkg])"
   ]
  },
  {
   "cell_type": "code",
   "execution_count": 54,
   "metadata": {
    "ExecuteTime": {
     "end_time": "2020-01-27T10:43:32.170798Z",
     "start_time": "2020-01-27T10:43:30.694579Z"
    }
   },
   "outputs": [],
   "source": [
    "scaler = StandardScaler()\n",
    "X_scaled = scaler.fit_transform(X)\n",
    "pickle.dump(scaler, open(f\"{model_dir}/scaler_model.pkl\", \"wb\"))"
   ]
  },
  {
   "cell_type": "code",
   "execution_count": 11,
   "metadata": {
    "ExecuteTime": {
     "end_time": "2020-01-27T08:46:36.955475Z",
     "start_time": "2020-01-27T08:46:34.860619Z"
    }
   },
   "outputs": [
    {
     "name": "stdout",
     "output_type": "stream",
     "text": [
      "vjet_0_eta\n"
     ]
    },
    {
     "data": {
      "image/png": "[encoded data removed]",
      "text/plain": [
       "<Figure size 1000x500 with 2 Axes>"
      ]
     },
     "metadata": {},
     "output_type": "display_data"
    }
   ],
   "source": [
    "i = 10\n",
    "print(cols[i])\n",
    "fig, (ax1, ax2) = plt.subplots(ncols=2, figsize=(10,5), dpi=100)\n",
    "ax1.hist(X[:,i], bins=50)\n",
    "ax1.set_yscale(\"log\")\n",
    "ax2.hist(X_scaled[:,i], weights=W, bins=50)\n",
    "plt.yscale(\"log\")"
   ]
  },
  {
   "cell_type": "code",
   "execution_count": 11,
   "metadata": {
    "ExecuteTime": {
     "end_time": "2020-01-27T10:17:47.639149Z",
     "start_time": "2020-01-27T10:17:47.039479Z"
    }
   },
   "outputs": [
    {
     "data": {
      "image/png": "[encoded data removed]",
      "text/plain": [
       "<Figure size 432x288 with 1 Axes>"
      ]
     },
     "metadata": {},
     "output_type": "display_data"
    }
   ],
   "source": [
    "_ = plt.hist(W, bins=100, range=(0,2))"
   ]
  },
  {
   "cell_type": "markdown",
   "metadata": {
    "ExecuteTime": {
     "end_time": "2020-01-21T08:50:38.324736Z",
     "start_time": "2020-01-21T08:50:38.320100Z"
    }
   },
   "source": [
    "##  Balancing\n",
    "Let's give 25% to validation (validation during training + test). \n",
    "The validation is then split in 50%-50% for training validation and final result"
   ]
  },
  {
   "cell_type": "code",
   "execution_count": 55,
   "metadata": {
    "ExecuteTime": {
     "end_time": "2020-01-27T10:43:36.951718Z",
     "start_time": "2020-01-27T10:43:36.191197Z"
    }
   },
   "outputs": [],
   "source": [
    "X_train, X_temp, y_train, y_temp, W_train, W_temp = train_test_split(X_scaled, Y,      W,      test_size=0.2)\n",
    "X_val,   X_test, y_val,   y_test, W_val,   W_test = train_test_split(X_temp,   y_temp, W_temp, test_size=0.5)"
   ]
  },
  {
   "cell_type": "code",
   "execution_count": 56,
   "metadata": {
    "ExecuteTime": {
     "end_time": "2020-01-27T10:43:41.448774Z",
     "start_time": "2020-01-27T10:43:41.444471Z"
    }
   },
   "outputs": [
    {
     "name": "stdout",
     "output_type": "stream",
     "text": [
      "Training dataset:  (692845, 32)\n"
     ]
    }
   ],
   "source": [
    "print(\"Training dataset: \", X_train.shape)"
   ]
  },
  {
   "cell_type": "markdown",
   "metadata": {},
   "source": [
    "Create generators to balance signal and background"
   ]
  },
  {
   "cell_type": "code",
   "execution_count": 57,
   "metadata": {
    "ExecuteTime": {
     "end_time": "2020-01-27T10:43:47.072964Z",
     "start_time": "2020-01-27T10:43:46.189735Z"
    }
   },
   "outputs": [],
   "source": [
    "training_generator,   steps_per_epoch_train = balanced_batch_generator(X_train, y_train, W_train, batch_size=1024, sampler=RandomOverSampler())\n",
    "validation_generator, steps_per_epoch_val   = balanced_batch_generator(X_val,   y_val,   W_val,   batch_size=1024, sampler=RandomOverSampler())"
   ]
  },
  {
   "cell_type": "markdown",
   "metadata": {},
   "source": [
    "## Keras model"
   ]
  },
  {
   "cell_type": "code",
   "execution_count": 51,
   "metadata": {
    "ExecuteTime": {
     "end_time": "2020-01-27T10:43:12.667494Z",
     "start_time": "2020-01-27T10:43:12.356313Z"
    }
   },
   "outputs": [
    {
     "name": "stdout",
     "output_type": "stream",
     "text": [
      "_________________________________________________________________\n",
      "Layer (type)                 Output Shape              Param #   \n",
      "=================================================================\n",
      "dense_8 (Dense)              (None, 100)               3300      \n",
      "_________________________________________________________________\n",
      "dropout_6 (Dropout)          (None, 100)               0         \n",
      "_________________________________________________________________\n",
      "dense_9 (Dense)              (None, 80)                8080      \n",
      "_________________________________________________________________\n",
      "dropout_7 (Dropout)          (None, 80)                0         \n",
      "_________________________________________________________________\n",
      "dense_10 (Dense)             (None, 50)                4050      \n",
      "_________________________________________________________________\n",
      "dropout_8 (Dropout)          (None, 50)                0         \n",
      "_________________________________________________________________\n",
      "dense_11 (Dense)             (None, 1)                 51        \n",
      "=================================================================\n",
      "Total params: 15,481\n",
      "Trainable params: 15,481\n",
      "Non-trainable params: 0\n",
      "_________________________________________________________________\n"
     ]
    }
   ],
   "source": [
    "model = Sequential()\n",
    "model.add(Dense(100, input_dim=X_train.shape[1], activation=\"relu\"))\n",
    "model.add(Dropout(0.4))\n",
    "#model.add(Dense(50, activation=\"relu\"))\n",
    "#model.add(Dropout(0.3))\n",
    "model.add(Dense(80, activation=\"relu\"))\n",
    "model.add(Dropout(0.4))\n",
    "model.add(Dense(50, activation=\"relu\"))\n",
    "model.add(Dropout(0.3))\n",
    "model.add(Dense(1, activation=\"sigmoid\"))\n",
    "\n",
    "model.compile(optimizer='adam',\n",
    "              loss='binary_crossentropy',\n",
    "              metrics=['accuracy'])\n",
    "\n",
    "model.summary()"
   ]
  },
  {
   "cell_type": "code",
   "execution_count": null,
   "metadata": {},
   "outputs": [],
   "source": [
    "auto_save = ModelCheckpoint(\"../models/model12_balanced_100_50.hd5\", monitor='val_loss', \n",
    "                    verbose=1, save_best_only=True, save_weights_only=False, \n",
    "                    mode='auto', period=5)\n",
    "\n",
    "early_stop = EarlyStopping(monitor='val_loss', min_delta=0.0001, \n",
    "                            patience=10, verbose=1)"
   ]
  },
  {
   "cell_type": "code",
   "execution_count": 18,
   "metadata": {
    "ExecuteTime": {
     "end_time": "2020-01-27T09:07:50.476922Z",
     "start_time": "2020-01-27T09:05:14.296465Z"
    },
    "scrolled": true
   },
   "outputs": [
    {
     "name": "stdout",
     "output_type": "stream",
     "text": [
      "Train on 649542 samples, validate on 162386 samples\n",
      "Epoch 1/50\n",
      "649542/649542 [==============================] - 4s 5us/step - loss: 2.6958e-04 - acc: 0.8436 - val_loss: 1.0066e-04 - val_acc: 0.8571\n",
      "Epoch 2/50\n",
      "649542/649542 [==============================] - 3s 5us/step - loss: 1.0855e-04 - acc: 0.8575 - val_loss: 9.5359e-05 - val_acc: 0.8571\n",
      "Epoch 3/50\n",
      "649542/649542 [==============================] - 3s 5us/step - loss: 1.0484e-04 - acc: 0.8575 - val_loss: 9.4330e-05 - val_acc: 0.8571\n",
      "Epoch 4/50\n",
      "649542/649542 [==============================] - 3s 5us/step - loss: 1.0311e-04 - acc: 0.8575 - val_loss: 9.3976e-05 - val_acc: 0.8571\n",
      "Epoch 5/50\n",
      "649542/649542 [==============================] - 3s 5us/step - loss: 1.0224e-04 - acc: 0.8576 - val_loss: 9.2399e-05 - val_acc: 0.8571\n",
      "Epoch 6/50\n",
      "649542/649542 [==============================] - 3s 5us/step - loss: 1.0064e-04 - acc: 0.8576 - val_loss: 9.2163e-05 - val_acc: 0.8571\n",
      "Epoch 7/50\n",
      "649542/649542 [==============================] - 3s 5us/step - loss: 1.0099e-04 - acc: 0.8576 - val_loss: 9.2869e-05 - val_acc: 0.8571\n",
      "Epoch 8/50\n",
      "649542/649542 [==============================] - 3s 4us/step - loss: 9.8452e-05 - acc: 0.8576 - val_loss: 9.0555e-05 - val_acc: 0.8571\n",
      "Epoch 9/50\n",
      "649542/649542 [==============================] - 3s 5us/step - loss: 9.8954e-05 - acc: 0.8576 - val_loss: 9.0188e-05 - val_acc: 0.8571\n",
      "Epoch 10/50\n",
      "649542/649542 [==============================] - 3s 5us/step - loss: 9.7642e-05 - acc: 0.8576 - val_loss: 9.1777e-05 - val_acc: 0.8571\n",
      "Epoch 11/50\n",
      "649542/649542 [==============================] - 3s 5us/step - loss: 9.6371e-05 - acc: 0.8576 - val_loss: 9.0692e-05 - val_acc: 0.8571\n",
      "Epoch 12/50\n",
      "649542/649542 [==============================] - 3s 5us/step - loss: 9.6637e-05 - acc: 0.8576 - val_loss: 9.0943e-05 - val_acc: 0.8571\n",
      "Epoch 13/50\n",
      "649542/649542 [==============================] - 3s 4us/step - loss: 9.5480e-05 - acc: 0.8576 - val_loss: 9.0184e-05 - val_acc: 0.8571\n",
      "Epoch 14/50\n",
      "649542/649542 [==============================] - 3s 4us/step - loss: 9.5785e-05 - acc: 0.8576 - val_loss: 9.0276e-05 - val_acc: 0.8571\n",
      "Epoch 15/50\n",
      "649542/649542 [==============================] - 3s 5us/step - loss: 9.4672e-05 - acc: 0.8575 - val_loss: 9.0201e-05 - val_acc: 0.8571\n",
      "Epoch 16/50\n",
      "649542/649542 [==============================] - 3s 5us/step - loss: 9.4085e-05 - acc: 0.8576 - val_loss: 8.9557e-05 - val_acc: 0.8571\n",
      "Epoch 17/50\n",
      "649542/649542 [==============================] - 3s 5us/step - loss: 9.4060e-05 - acc: 0.8577 - val_loss: 9.0156e-05 - val_acc: 0.8571\n",
      "Epoch 18/50\n",
      "649542/649542 [==============================] - 3s 5us/step - loss: 9.3495e-05 - acc: 0.8576 - val_loss: 8.9804e-05 - val_acc: 0.8571\n",
      "Epoch 19/50\n",
      "649542/649542 [==============================] - 3s 5us/step - loss: 9.3363e-05 - acc: 0.8577 - val_loss: 8.9457e-05 - val_acc: 0.8571\n",
      "Epoch 20/50\n",
      "649542/649542 [==============================] - 3s 5us/step - loss: 9.3187e-05 - acc: 0.8577 - val_loss: 8.9517e-05 - val_acc: 0.8571\n",
      "Epoch 21/50\n",
      "649542/649542 [==============================] - 3s 5us/step - loss: 9.3246e-05 - acc: 0.8578 - val_loss: 8.9857e-05 - val_acc: 0.8571\n",
      "Epoch 22/50\n",
      "649542/649542 [==============================] - 3s 5us/step - loss: 9.2622e-05 - acc: 0.8578 - val_loss: 8.9563e-05 - val_acc: 0.8571\n",
      "Epoch 23/50\n",
      "649542/649542 [==============================] - 3s 5us/step - loss: 9.2886e-05 - acc: 0.8577 - val_loss: 8.9619e-05 - val_acc: 0.8571\n",
      "Epoch 24/50\n",
      "649542/649542 [==============================] - 3s 5us/step - loss: 9.2323e-05 - acc: 0.8578 - val_loss: 8.9779e-05 - val_acc: 0.8571\n",
      "Epoch 25/50\n",
      "649542/649542 [==============================] - 3s 4us/step - loss: 9.2490e-05 - acc: 0.8577 - val_loss: 8.9302e-05 - val_acc: 0.8571\n",
      "Epoch 26/50\n",
      "649542/649542 [==============================] - 3s 5us/step - loss: 9.1939e-05 - acc: 0.8577 - val_loss: 8.9556e-05 - val_acc: 0.8571\n",
      "Epoch 27/50\n",
      "649542/649542 [==============================] - 3s 5us/step - loss: 9.2188e-05 - acc: 0.8577 - val_loss: 8.9368e-05 - val_acc: 0.8571\n",
      "Epoch 28/50\n",
      "649542/649542 [==============================] - 3s 5us/step - loss: 9.1657e-05 - acc: 0.8578 - val_loss: 8.9947e-05 - val_acc: 0.8571\n",
      "Epoch 29/50\n",
      "649542/649542 [==============================] - 3s 5us/step - loss: 9.1293e-05 - acc: 0.8578 - val_loss: 8.9211e-05 - val_acc: 0.8571\n",
      "Epoch 30/50\n",
      "649542/649542 [==============================] - 3s 5us/step - loss: 9.1761e-05 - acc: 0.8577 - val_loss: 8.9108e-05 - val_acc: 0.8571\n",
      "Epoch 31/50\n",
      "649542/649542 [==============================] - 3s 4us/step - loss: 9.1212e-05 - acc: 0.8578 - val_loss: 8.9626e-05 - val_acc: 0.8571\n",
      "Epoch 32/50\n",
      "649542/649542 [==============================] - 3s 5us/step - loss: 9.0884e-05 - acc: 0.8577 - val_loss: 8.9684e-05 - val_acc: 0.8571\n",
      "Epoch 33/50\n",
      "649542/649542 [==============================] - 3s 5us/step - loss: 9.1030e-05 - acc: 0.8577 - val_loss: 8.9075e-05 - val_acc: 0.8571\n",
      "Epoch 34/50\n",
      "649542/649542 [==============================] - 3s 5us/step - loss: 9.0863e-05 - acc: 0.8577 - val_loss: 8.8956e-05 - val_acc: 0.8571\n",
      "Epoch 35/50\n",
      "649542/649542 [==============================] - 3s 5us/step - loss: 9.0425e-05 - acc: 0.8578 - val_loss: 8.9277e-05 - val_acc: 0.8571\n",
      "Epoch 36/50\n",
      "649542/649542 [==============================] - 3s 5us/step - loss: 9.0504e-05 - acc: 0.8576 - val_loss: 8.8989e-05 - val_acc: 0.8571\n",
      "Epoch 37/50\n",
      "649542/649542 [==============================] - 3s 5us/step - loss: 9.0255e-05 - acc: 0.8577 - val_loss: 8.9206e-05 - val_acc: 0.8571\n",
      "Epoch 38/50\n",
      "649542/649542 [==============================] - 3s 5us/step - loss: 9.0110e-05 - acc: 0.8576 - val_loss: 8.9041e-05 - val_acc: 0.8571\n",
      "Epoch 39/50\n",
      "649542/649542 [==============================] - 3s 5us/step - loss: 8.9743e-05 - acc: 0.8577 - val_loss: 8.9471e-05 - val_acc: 0.8571\n",
      "Epoch 40/50\n",
      "649542/649542 [==============================] - 3s 5us/step - loss: 9.0532e-05 - acc: 0.8576 - val_loss: 8.9227e-05 - val_acc: 0.8571\n",
      "Epoch 41/50\n",
      "649542/649542 [==============================] - 3s 5us/step - loss: 8.9723e-05 - acc: 0.8576 - val_loss: 8.9003e-05 - val_acc: 0.8571\n",
      "Epoch 42/50\n",
      "649542/649542 [==============================] - 3s 5us/step - loss: 8.9522e-05 - acc: 0.8577 - val_loss: 8.8971e-05 - val_acc: 0.8571\n",
      "Epoch 43/50\n",
      "649542/649542 [==============================] - 3s 4us/step - loss: 8.9694e-05 - acc: 0.8576 - val_loss: 8.8913e-05 - val_acc: 0.8571\n",
      "Epoch 44/50\n",
      "649542/649542 [==============================] - 3s 5us/step - loss: 8.9416e-05 - acc: 0.8576 - val_loss: 8.9073e-05 - val_acc: 0.8571\n",
      "Epoch 45/50\n",
      "649542/649542 [==============================] - 3s 5us/step - loss: 8.9579e-05 - acc: 0.8576 - val_loss: 8.8957e-05 - val_acc: 0.8571\n",
      "Epoch 46/50\n",
      "649542/649542 [==============================] - 3s 5us/step - loss: 8.9506e-05 - acc: 0.8577 - val_loss: 8.8909e-05 - val_acc: 0.8571\n",
      "Epoch 47/50\n",
      "649542/649542 [==============================] - 3s 5us/step - loss: 8.9165e-05 - acc: 0.8576 - val_loss: 8.8653e-05 - val_acc: 0.8571\n",
      "Epoch 48/50\n",
      "649542/649542 [==============================] - 3s 5us/step - loss: 8.9312e-05 - acc: 0.8577 - val_loss: 8.8915e-05 - val_acc: 0.8571\n",
      "Epoch 49/50\n",
      "649542/649542 [==============================] - 3s 5us/step - loss: 8.9966e-05 - acc: 0.8575 - val_loss: 8.9893e-05 - val_acc: 0.8571\n",
      "Epoch 50/50\n",
      "649542/649542 [==============================] - 3s 5us/step - loss: 8.9086e-05 - acc: 0.8575 - val_loss: 8.8734e-05 - val_acc: 0.8571\n"
     ]
    }
   ],
   "source": [
    "history = model.fit(\n",
    "            X_train,y_train, \n",
    "            sample_weight=W_train, \n",
    "            epochs=50,\n",
    "            validation_data = (X_val, y_val, W_val),\n",
    "            batch_size=1024,\n",
    "            shuffle=True \n",
    "            )"
   ]
  },
  {
   "cell_type": "code",
   "execution_count": 72,
   "metadata": {
    "ExecuteTime": {
     "end_time": "2020-01-27T11:49:32.295591Z",
     "start_time": "2020-01-27T11:13:58.490544Z"
    },
    "scrolled": true
   },
   "outputs": [
    {
     "name": "stdout",
     "output_type": "stream",
     "text": [
      "Epoch 201/500\n",
      "1160/1160 [==============================] - 7s 6ms/step - loss: 0.4007 - acc: 0.5970 - val_loss: 0.4173 - val_acc: 0.6169\n",
      "Epoch 202/500\n",
      "1160/1160 [==============================] - 7s 6ms/step - loss: 0.4011 - acc: 0.5992 - val_loss: 0.4171 - val_acc: 0.6189\n",
      "Epoch 203/500\n",
      "1160/1160 [==============================] - 7s 6ms/step - loss: 0.4020 - acc: 0.6018 - val_loss: 0.4179 - val_acc: 0.6243\n",
      "Epoch 204/500\n",
      "1160/1160 [==============================] - 7s 6ms/step - loss: 0.4018 - acc: 0.5992 - val_loss: 0.4140 - val_acc: 0.6151\n",
      "Epoch 205/500\n",
      "1160/1160 [==============================] - 7s 6ms/step - loss: 0.4015 - acc: 0.6015 - val_loss: 0.4171 - val_acc: 0.6184\n",
      "Epoch 206/500\n",
      "1160/1160 [==============================] - 7s 6ms/step - loss: 0.4024 - acc: 0.6012 - val_loss: 0.4198 - val_acc: 0.6272\n",
      "Epoch 207/500\n",
      "1160/1160 [==============================] - 7s 6ms/step - loss: 0.4015 - acc: 0.6006 - val_loss: 0.4183 - val_acc: 0.6248\n",
      "Epoch 208/500\n",
      "1160/1160 [==============================] - 7s 6ms/step - loss: 0.4008 - acc: 0.6008 - val_loss: 0.4176 - val_acc: 0.6109\n",
      "Epoch 209/500\n",
      "1160/1160 [==============================] - 8s 7ms/step - loss: 0.4029 - acc: 0.5984 - val_loss: 0.4173 - val_acc: 0.6108\n",
      "Epoch 210/500\n",
      "1160/1160 [==============================] - 7s 6ms/step - loss: 0.4008 - acc: 0.5976 - val_loss: 0.4160 - val_acc: 0.6170\n",
      "Epoch 211/500\n",
      "1160/1160 [==============================] - 7s 6ms/step - loss: 0.4024 - acc: 0.6011 - val_loss: 0.4188 - val_acc: 0.6241\n",
      "Epoch 212/500\n",
      "1160/1160 [==============================] - 7s 6ms/step - loss: 0.4013 - acc: 0.5996 - val_loss: 0.4178 - val_acc: 0.6173\n",
      "Epoch 213/500\n",
      "1160/1160 [==============================] - 7s 6ms/step - loss: 0.4006 - acc: 0.5978 - val_loss: 0.4180 - val_acc: 0.6265\n",
      "Epoch 214/500\n",
      "1160/1160 [==============================] - 7s 6ms/step - loss: 0.4036 - acc: 0.5986 - val_loss: 0.4183 - val_acc: 0.6149\n",
      "Epoch 215/500\n",
      "1160/1160 [==============================] - 7s 6ms/step - loss: 0.4013 - acc: 0.5971 - val_loss: 0.4174 - val_acc: 0.6152\n",
      "Epoch 216/500\n",
      "1160/1160 [==============================] - 7s 6ms/step - loss: 0.4019 - acc: 0.6005 - val_loss: 0.4184 - val_acc: 0.6237\n",
      "Epoch 217/500\n",
      "1160/1160 [==============================] - 7s 6ms/step - loss: 0.4000 - acc: 0.5973 - val_loss: 0.4186 - val_acc: 0.6093\n",
      "Epoch 218/500\n",
      "1160/1160 [==============================] - 7s 6ms/step - loss: 0.4018 - acc: 0.5962 - val_loss: 0.4193 - val_acc: 0.6234\n",
      "Epoch 219/500\n",
      "1160/1160 [==============================] - 7s 6ms/step - loss: 0.4018 - acc: 0.5980 - val_loss: 0.4198 - val_acc: 0.6058\n",
      "Epoch 220/500\n",
      "1160/1160 [==============================] - 7s 6ms/step - loss: 0.4012 - acc: 0.5972 - val_loss: 0.4187 - val_acc: 0.6267\n",
      "Epoch 221/500\n",
      "1160/1160 [==============================] - 7s 6ms/step - loss: 0.4002 - acc: 0.5970 - val_loss: 0.4176 - val_acc: 0.6018\n",
      "Epoch 222/500\n",
      "1160/1160 [==============================] - 7s 6ms/step - loss: 0.4021 - acc: 0.5936 - val_loss: 0.4185 - val_acc: 0.6176\n",
      "Epoch 223/500\n",
      "1160/1160 [==============================] - 7s 6ms/step - loss: 0.4018 - acc: 0.5986 - val_loss: 0.4191 - val_acc: 0.6338\n",
      "Epoch 224/500\n",
      "1160/1160 [==============================] - 7s 6ms/step - loss: 0.4004 - acc: 0.5941 - val_loss: 0.4167 - val_acc: 0.6075\n",
      "Epoch 225/500\n",
      "1160/1160 [==============================] - 7s 6ms/step - loss: 0.4040 - acc: 0.5954 - val_loss: 0.4175 - val_acc: 0.6100\n",
      "Epoch 226/500\n",
      "1160/1160 [==============================] - 7s 6ms/step - loss: 0.4000 - acc: 0.5964 - val_loss: 0.4182 - val_acc: 0.6085\n",
      "Epoch 227/500\n",
      "1160/1160 [==============================] - 7s 6ms/step - loss: 0.4019 - acc: 0.5977 - val_loss: 0.4180 - val_acc: 0.6075\n",
      "Epoch 228/500\n",
      "1160/1160 [==============================] - 7s 6ms/step - loss: 0.4019 - acc: 0.5984 - val_loss: 0.4190 - val_acc: 0.6064\n",
      "Epoch 229/500\n",
      "1160/1160 [==============================] - 7s 6ms/step - loss: 0.3998 - acc: 0.5983 - val_loss: 0.4194 - val_acc: 0.6137\n",
      "Epoch 230/500\n",
      "1160/1160 [==============================] - 7s 6ms/step - loss: 0.4003 - acc: 0.5986 - val_loss: 0.4200 - val_acc: 0.6184\n",
      "Epoch 231/500\n",
      "1160/1160 [==============================] - 7s 6ms/step - loss: 0.3995 - acc: 0.5976 - val_loss: 0.4187 - val_acc: 0.6139\n",
      "Epoch 232/500\n",
      "1160/1160 [==============================] - 7s 6ms/step - loss: 0.3995 - acc: 0.5997 - val_loss: 0.4184 - val_acc: 0.6135\n",
      "Epoch 233/500\n",
      "1160/1160 [==============================] - 7s 6ms/step - loss: 0.4002 - acc: 0.6017 - val_loss: 0.4165 - val_acc: 0.6199\n",
      "Epoch 234/500\n",
      "1160/1160 [==============================] - 7s 6ms/step - loss: 0.4008 - acc: 0.5988 - val_loss: 0.4167 - val_acc: 0.6171\n",
      "Epoch 235/500\n",
      "1160/1160 [==============================] - 7s 6ms/step - loss: 0.4005 - acc: 0.5984 - val_loss: 0.4178 - val_acc: 0.6099\n",
      "Epoch 236/500\n",
      "1160/1160 [==============================] - 7s 6ms/step - loss: 0.4006 - acc: 0.5986 - val_loss: 0.4177 - val_acc: 0.6074\n",
      "Epoch 237/500\n",
      "1160/1160 [==============================] - 7s 6ms/step - loss: 0.4014 - acc: 0.5994 - val_loss: 0.4176 - val_acc: 0.6132\n",
      "Epoch 238/500\n",
      "1160/1160 [==============================] - 7s 6ms/step - loss: 0.3999 - acc: 0.5963 - val_loss: 0.4191 - val_acc: 0.6070\n",
      "Epoch 239/500\n",
      "1160/1160 [==============================] - 7s 6ms/step - loss: 0.3995 - acc: 0.5969 - val_loss: 0.4158 - val_acc: 0.6056\n",
      "Epoch 240/500\n",
      "1160/1160 [==============================] - 7s 6ms/step - loss: 0.3994 - acc: 0.5957 - val_loss: 0.4183 - val_acc: 0.6292\n",
      "Epoch 241/500\n",
      "1160/1160 [==============================] - 7s 6ms/step - loss: 0.4004 - acc: 0.5973 - val_loss: 0.4175 - val_acc: 0.6164\n",
      "Epoch 242/500\n",
      "1160/1160 [==============================] - 7s 6ms/step - loss: 0.4039 - acc: 0.5993 - val_loss: 0.4163 - val_acc: 0.6121\n",
      "Epoch 243/500\n",
      "1160/1160 [==============================] - 7s 6ms/step - loss: 0.4023 - acc: 0.6008 - val_loss: 0.4178 - val_acc: 0.6240\n",
      "Epoch 244/500\n",
      "1160/1160 [==============================] - 7s 6ms/step - loss: 0.3989 - acc: 0.6015 - val_loss: 0.4184 - val_acc: 0.6068\n",
      "Epoch 245/500\n",
      "1160/1160 [==============================] - 7s 6ms/step - loss: 0.4013 - acc: 0.5970 - val_loss: 0.4178 - val_acc: 0.6119\n",
      "Epoch 246/500\n",
      "1160/1160 [==============================] - 7s 6ms/step - loss: 0.4024 - acc: 0.5981 - val_loss: 0.4181 - val_acc: 0.6189\n",
      "Epoch 247/500\n",
      "1160/1160 [==============================] - 7s 6ms/step - loss: 0.4008 - acc: 0.6001 - val_loss: 0.4171 - val_acc: 0.6099\n",
      "Epoch 248/500\n",
      "1160/1160 [==============================] - 7s 6ms/step - loss: 0.4004 - acc: 0.5975 - val_loss: 0.4176 - val_acc: 0.6094\n",
      "Epoch 249/500\n",
      "1160/1160 [==============================] - 7s 6ms/step - loss: 0.4008 - acc: 0.5995 - val_loss: 0.4192 - val_acc: 0.6238\n",
      "Epoch 250/500\n",
      "1160/1160 [==============================] - 7s 6ms/step - loss: 0.3999 - acc: 0.6002 - val_loss: 0.4166 - val_acc: 0.6152\n",
      "Epoch 251/500\n",
      "1160/1160 [==============================] - 7s 6ms/step - loss: 0.4010 - acc: 0.6012 - val_loss: 0.4179 - val_acc: 0.6257\n",
      "Epoch 252/500\n",
      "1160/1160 [==============================] - 7s 6ms/step - loss: 0.3996 - acc: 0.6031 - val_loss: 0.4194 - val_acc: 0.6308\n",
      "Epoch 253/500\n",
      "1160/1160 [==============================] - 7s 6ms/step - loss: 0.3991 - acc: 0.6020 - val_loss: 0.4187 - val_acc: 0.6288\n",
      "Epoch 254/500\n",
      "1160/1160 [==============================] - 7s 6ms/step - loss: 0.4016 - acc: 0.5953 - val_loss: 0.4197 - val_acc: 0.6153\n",
      "Epoch 255/500\n",
      "1160/1160 [==============================] - 7s 6ms/step - loss: 0.4002 - acc: 0.6023 - val_loss: 0.4174 - val_acc: 0.6122\n",
      "Epoch 256/500\n",
      "1160/1160 [==============================] - 7s 6ms/step - loss: 0.4024 - acc: 0.6004 - val_loss: 0.4193 - val_acc: 0.6330\n",
      "Epoch 257/500\n",
      "1160/1160 [==============================] - 7s 6ms/step - loss: 0.4023 - acc: 0.5992 - val_loss: 0.4198 - val_acc: 0.6291\n",
      "Epoch 258/500\n",
      "1160/1160 [==============================] - 7s 6ms/step - loss: 0.4015 - acc: 0.6031 - val_loss: 0.4193 - val_acc: 0.6189\n",
      "Epoch 259/500\n",
      "1160/1160 [==============================] - 7s 6ms/step - loss: 0.4005 - acc: 0.6028 - val_loss: 0.4179 - val_acc: 0.6111\n",
      "Epoch 260/500\n",
      "1160/1160 [==============================] - 7s 6ms/step - loss: 0.4030 - acc: 0.5998 - val_loss: 0.4178 - val_acc: 0.6102\n"
     ]
    },
    {
     "name": "stdout",
     "output_type": "stream",
     "text": [
      "Epoch 261/500\n",
      "1160/1160 [==============================] - 7s 6ms/step - loss: 0.4006 - acc: 0.5998 - val_loss: 0.4143 - val_acc: 0.6157\n",
      "Epoch 262/500\n",
      "1160/1160 [==============================] - 7s 6ms/step - loss: 0.4001 - acc: 0.6024 - val_loss: 0.4192 - val_acc: 0.6145\n",
      "Epoch 263/500\n",
      "1160/1160 [==============================] - 7s 6ms/step - loss: 0.4001 - acc: 0.6021 - val_loss: 0.4201 - val_acc: 0.6342\n",
      "Epoch 264/500\n",
      "1160/1160 [==============================] - 7s 6ms/step - loss: 0.4018 - acc: 0.6039 - val_loss: 0.4192 - val_acc: 0.6238\n",
      "Epoch 265/500\n",
      "1160/1160 [==============================] - 7s 6ms/step - loss: 0.3999 - acc: 0.6003 - val_loss: 0.4193 - val_acc: 0.6121\n",
      "Epoch 266/500\n",
      "1160/1160 [==============================] - 7s 6ms/step - loss: 0.3999 - acc: 0.5985 - val_loss: 0.4173 - val_acc: 0.6293\n",
      "Epoch 267/500\n",
      "1160/1160 [==============================] - 7s 6ms/step - loss: 0.4004 - acc: 0.5975 - val_loss: 0.4187 - val_acc: 0.6105\n",
      "Epoch 268/500\n",
      "1160/1160 [==============================] - 7s 6ms/step - loss: 0.3993 - acc: 0.5991 - val_loss: 0.4191 - val_acc: 0.6157\n",
      "Epoch 269/500\n",
      "1160/1160 [==============================] - 7s 6ms/step - loss: 0.4007 - acc: 0.5964 - val_loss: 0.4178 - val_acc: 0.5993\n",
      "Epoch 270/500\n",
      "1160/1160 [==============================] - 7s 6ms/step - loss: 0.4012 - acc: 0.5982 - val_loss: 0.4189 - val_acc: 0.6073\n",
      "Epoch 271/500\n",
      "1160/1160 [==============================] - 7s 6ms/step - loss: 0.3997 - acc: 0.6006 - val_loss: 0.4185 - val_acc: 0.6093\n",
      "Epoch 272/500\n",
      "1160/1160 [==============================] - 7s 6ms/step - loss: 0.3999 - acc: 0.5988 - val_loss: 0.4167 - val_acc: 0.6170\n",
      "Epoch 273/500\n",
      "1160/1160 [==============================] - 7s 6ms/step - loss: 0.3986 - acc: 0.5983 - val_loss: 0.4180 - val_acc: 0.6014\n",
      "Epoch 274/500\n",
      "1160/1160 [==============================] - 7s 6ms/step - loss: 0.3988 - acc: 0.6006 - val_loss: 0.4181 - val_acc: 0.6139\n",
      "Epoch 275/500\n",
      "1160/1160 [==============================] - 7s 6ms/step - loss: 0.3994 - acc: 0.6019 - val_loss: 0.4189 - val_acc: 0.6176\n",
      "Epoch 276/500\n",
      "1160/1160 [==============================] - 7s 6ms/step - loss: 0.4007 - acc: 0.6014 - val_loss: 0.4189 - val_acc: 0.6137\n",
      "Epoch 277/500\n",
      "1160/1160 [==============================] - 7s 6ms/step - loss: 0.3993 - acc: 0.6032 - val_loss: 0.4167 - val_acc: 0.6175\n",
      "Epoch 278/500\n",
      "1160/1160 [==============================] - 7s 6ms/step - loss: 0.4010 - acc: 0.6007 - val_loss: 0.4182 - val_acc: 0.6063\n",
      "Epoch 279/500\n",
      "1160/1160 [==============================] - 7s 6ms/step - loss: 0.4000 - acc: 0.5984 - val_loss: 0.4185 - val_acc: 0.6252\n",
      "Epoch 280/500\n",
      "1160/1160 [==============================] - 7s 6ms/step - loss: 0.3986 - acc: 0.5994 - val_loss: 0.4169 - val_acc: 0.6046\n",
      "Epoch 281/500\n",
      "1160/1160 [==============================] - 7s 6ms/step - loss: 0.4013 - acc: 0.5995 - val_loss: 0.4174 - val_acc: 0.6141\n",
      "Epoch 282/500\n",
      "1160/1160 [==============================] - 7s 6ms/step - loss: 0.4024 - acc: 0.5990 - val_loss: 0.4177 - val_acc: 0.6049\n",
      "Epoch 283/500\n",
      "1160/1160 [==============================] - 7s 6ms/step - loss: 0.4011 - acc: 0.5985 - val_loss: 0.4167 - val_acc: 0.6111\n",
      "Epoch 284/500\n",
      "1160/1160 [==============================] - 7s 6ms/step - loss: 0.4015 - acc: 0.5995 - val_loss: 0.4151 - val_acc: 0.6085\n",
      "Epoch 285/500\n",
      "1160/1160 [==============================] - 7s 6ms/step - loss: 0.3980 - acc: 0.5984 - val_loss: 0.4157 - val_acc: 0.6127\n",
      "Epoch 286/500\n",
      "1160/1160 [==============================] - 7s 6ms/step - loss: 0.4007 - acc: 0.5959 - val_loss: 0.4173 - val_acc: 0.6007\n",
      "Epoch 287/500\n",
      "1160/1160 [==============================] - 7s 6ms/step - loss: 0.4018 - acc: 0.5979 - val_loss: 0.4180 - val_acc: 0.6049\n",
      "Epoch 288/500\n",
      "1160/1160 [==============================] - 7s 6ms/step - loss: 0.4023 - acc: 0.5977 - val_loss: 0.4195 - val_acc: 0.6397\n",
      "Epoch 289/500\n",
      "1160/1160 [==============================] - 7s 6ms/step - loss: 0.3985 - acc: 0.5983 - val_loss: 0.4179 - val_acc: 0.6047\n",
      "Epoch 290/500\n",
      "1160/1160 [==============================] - 7s 6ms/step - loss: 0.3990 - acc: 0.5969 - val_loss: 0.4186 - val_acc: 0.6141\n",
      "Epoch 291/500\n",
      "1160/1160 [==============================] - 7s 6ms/step - loss: 0.3992 - acc: 0.5974 - val_loss: 0.4181 - val_acc: 0.6184\n",
      "Epoch 292/500\n",
      "1160/1160 [==============================] - 7s 6ms/step - loss: 0.4001 - acc: 0.5966 - val_loss: 0.4188 - val_acc: 0.6309\n",
      "Epoch 293/500\n",
      "1160/1160 [==============================] - 7s 6ms/step - loss: 0.4009 - acc: 0.6005 - val_loss: 0.4203 - val_acc: 0.6357\n",
      "Epoch 294/500\n",
      "1160/1160 [==============================] - 7s 6ms/step - loss: 0.4007 - acc: 0.6006 - val_loss: 0.4207 - val_acc: 0.6349\n",
      "Epoch 295/500\n",
      "1160/1160 [==============================] - 7s 6ms/step - loss: 0.3987 - acc: 0.5996 - val_loss: 0.4183 - val_acc: 0.6338\n",
      "Epoch 296/500\n",
      "1160/1160 [==============================] - 7s 6ms/step - loss: 0.3977 - acc: 0.6008 - val_loss: 0.4188 - val_acc: 0.6200\n",
      "Epoch 297/500\n",
      "1160/1160 [==============================] - 7s 6ms/step - loss: 0.3997 - acc: 0.5972 - val_loss: 0.4168 - val_acc: 0.6127\n",
      "Epoch 298/500\n",
      "1160/1160 [==============================] - 7s 6ms/step - loss: 0.3999 - acc: 0.5972 - val_loss: 0.4201 - val_acc: 0.6297\n",
      "Epoch 299/500\n",
      "1160/1160 [==============================] - 7s 6ms/step - loss: 0.3986 - acc: 0.5978 - val_loss: 0.4169 - val_acc: 0.6140\n",
      "Epoch 300/500\n",
      "1160/1160 [==============================] - 7s 6ms/step - loss: 0.4006 - acc: 0.5989 - val_loss: 0.4163 - val_acc: 0.6233\n",
      "Epoch 301/500\n",
      "1160/1160 [==============================] - 7s 6ms/step - loss: 0.4012 - acc: 0.6024 - val_loss: 0.4180 - val_acc: 0.6261\n",
      "Epoch 302/500\n",
      "1160/1160 [==============================] - 7s 6ms/step - loss: 0.3980 - acc: 0.5997 - val_loss: 0.4188 - val_acc: 0.6190\n",
      "Epoch 303/500\n",
      "1160/1160 [==============================] - 7s 6ms/step - loss: 0.3989 - acc: 0.5999 - val_loss: 0.4194 - val_acc: 0.6119\n",
      "Epoch 304/500\n",
      "1160/1160 [==============================] - 7s 6ms/step - loss: 0.4008 - acc: 0.6043 - val_loss: 0.4197 - val_acc: 0.6309\n",
      "Epoch 305/500\n",
      "1160/1160 [==============================] - 7s 6ms/step - loss: 0.3980 - acc: 0.6036 - val_loss: 0.4214 - val_acc: 0.6357\n",
      "Epoch 306/500\n",
      "1160/1160 [==============================] - 7s 6ms/step - loss: 0.4003 - acc: 0.6035 - val_loss: 0.4197 - val_acc: 0.6302\n",
      "Epoch 307/500\n",
      "1160/1160 [==============================] - 7s 6ms/step - loss: 0.3977 - acc: 0.5996 - val_loss: 0.4198 - val_acc: 0.6154\n",
      "Epoch 308/500\n",
      "1160/1160 [==============================] - 7s 6ms/step - loss: 0.3997 - acc: 0.5982 - val_loss: 0.4191 - val_acc: 0.6177\n",
      "Epoch 309/500\n",
      "1160/1160 [==============================] - 7s 6ms/step - loss: 0.3990 - acc: 0.5999 - val_loss: 0.4178 - val_acc: 0.6109\n",
      "Epoch 310/500\n",
      "1160/1160 [==============================] - 7s 6ms/step - loss: 0.3999 - acc: 0.6013 - val_loss: 0.4181 - val_acc: 0.6161\n",
      "Epoch 311/500\n",
      "1160/1160 [==============================] - 7s 6ms/step - loss: 0.3991 - acc: 0.5994 - val_loss: 0.4173 - val_acc: 0.6099\n",
      "Epoch 312/500\n",
      "1160/1160 [==============================] - 7s 6ms/step - loss: 0.3991 - acc: 0.5985 - val_loss: 0.4189 - val_acc: 0.6159\n",
      "Epoch 313/500\n",
      "1160/1160 [==============================] - 7s 6ms/step - loss: 0.3974 - acc: 0.6018 - val_loss: 0.4192 - val_acc: 0.6096\n",
      "Epoch 314/500\n",
      "1160/1160 [==============================] - 7s 6ms/step - loss: 0.3985 - acc: 0.5978 - val_loss: 0.4199 - val_acc: 0.6170\n",
      "Epoch 315/500\n",
      "1160/1160 [==============================] - 7s 6ms/step - loss: 0.3985 - acc: 0.6006 - val_loss: 0.4190 - val_acc: 0.6106\n",
      "Epoch 316/500\n",
      "1160/1160 [==============================] - 7s 6ms/step - loss: 0.3979 - acc: 0.5989 - val_loss: 0.4169 - val_acc: 0.6166\n",
      "Epoch 317/500\n",
      "1160/1160 [==============================] - 7s 6ms/step - loss: 0.3995 - acc: 0.5987 - val_loss: 0.4200 - val_acc: 0.6096\n",
      "Epoch 318/500\n",
      "1160/1160 [==============================] - 7s 6ms/step - loss: 0.3997 - acc: 0.5986 - val_loss: 0.4207 - val_acc: 0.6007\n",
      "Epoch 319/500\n",
      "1160/1160 [==============================] - 7s 6ms/step - loss: 0.3997 - acc: 0.5991 - val_loss: 0.4197 - val_acc: 0.6120\n",
      "Epoch 320/500\n",
      "1160/1160 [==============================] - 7s 6ms/step - loss: 0.3987 - acc: 0.6034 - val_loss: 0.4193 - val_acc: 0.6100\n"
     ]
    },
    {
     "name": "stdout",
     "output_type": "stream",
     "text": [
      "Epoch 321/500\n",
      "1160/1160 [==============================] - 7s 6ms/step - loss: 0.3981 - acc: 0.5968 - val_loss: 0.4156 - val_acc: 0.6067\n",
      "Epoch 322/500\n",
      "1160/1160 [==============================] - 7s 6ms/step - loss: 0.4010 - acc: 0.5973 - val_loss: 0.4203 - val_acc: 0.6161\n",
      "Epoch 323/500\n",
      "1160/1160 [==============================] - 7s 6ms/step - loss: 0.3985 - acc: 0.6017 - val_loss: 0.4189 - val_acc: 0.6129\n",
      "Epoch 324/500\n",
      "1160/1160 [==============================] - 7s 6ms/step - loss: 0.4003 - acc: 0.6030 - val_loss: 0.4177 - val_acc: 0.6083\n",
      "Epoch 325/500\n",
      "1160/1160 [==============================] - 7s 6ms/step - loss: 0.3986 - acc: 0.6013 - val_loss: 0.4221 - val_acc: 0.6076\n",
      "Epoch 326/500\n",
      "1160/1160 [==============================] - 7s 6ms/step - loss: 0.4009 - acc: 0.6017 - val_loss: 0.4207 - val_acc: 0.6071\n",
      "Epoch 327/500\n",
      "1160/1160 [==============================] - 7s 6ms/step - loss: 0.4004 - acc: 0.6036 - val_loss: 0.4178 - val_acc: 0.6066\n",
      "Epoch 328/500\n",
      "1160/1160 [==============================] - 7s 6ms/step - loss: 0.3959 - acc: 0.6007 - val_loss: 0.4178 - val_acc: 0.6049\n",
      "Epoch 329/500\n",
      "1160/1160 [==============================] - 7s 6ms/step - loss: 0.3985 - acc: 0.6009 - val_loss: 0.4170 - val_acc: 0.6146\n",
      "Epoch 330/500\n",
      "1160/1160 [==============================] - 7s 6ms/step - loss: 0.3992 - acc: 0.6044 - val_loss: 0.4169 - val_acc: 0.6075\n",
      "Epoch 331/500\n",
      "1160/1160 [==============================] - 7s 6ms/step - loss: 0.3969 - acc: 0.5996 - val_loss: 0.4167 - val_acc: 0.6057\n",
      "Epoch 332/500\n",
      "1160/1160 [==============================] - 7s 6ms/step - loss: 0.3978 - acc: 0.6022 - val_loss: 0.4206 - val_acc: 0.6049\n",
      "Epoch 333/500\n",
      "1160/1160 [==============================] - 7s 6ms/step - loss: 0.3986 - acc: 0.6047 - val_loss: 0.4212 - val_acc: 0.6136\n",
      "Epoch 334/500\n",
      "1160/1160 [==============================] - 7s 6ms/step - loss: 0.3975 - acc: 0.6034 - val_loss: 0.4219 - val_acc: 0.6078\n",
      "Epoch 335/500\n",
      "1160/1160 [==============================] - 7s 6ms/step - loss: 0.3981 - acc: 0.6023 - val_loss: 0.4165 - val_acc: 0.6047\n",
      "Epoch 336/500\n",
      "1160/1160 [==============================] - 8s 7ms/step - loss: 0.3998 - acc: 0.5993 - val_loss: 0.4182 - val_acc: 0.6076\n",
      "Epoch 337/500\n",
      "1160/1160 [==============================] - 7s 6ms/step - loss: 0.3998 - acc: 0.6013 - val_loss: 0.4184 - val_acc: 0.6108\n",
      "Epoch 338/500\n",
      "1160/1160 [==============================] - 7s 6ms/step - loss: 0.3995 - acc: 0.6051 - val_loss: 0.4204 - val_acc: 0.6119\n",
      "Epoch 339/500\n",
      "1160/1160 [==============================] - 7s 6ms/step - loss: 0.3978 - acc: 0.6055 - val_loss: 0.4213 - val_acc: 0.6071\n",
      "Epoch 340/500\n",
      "1160/1160 [==============================] - 7s 6ms/step - loss: 0.3986 - acc: 0.6024 - val_loss: 0.4188 - val_acc: 0.6042\n",
      "Epoch 341/500\n",
      "1160/1160 [==============================] - 7s 6ms/step - loss: 0.3968 - acc: 0.5982 - val_loss: 0.4194 - val_acc: 0.5986\n",
      "Epoch 342/500\n",
      "1160/1160 [==============================] - 7s 6ms/step - loss: 0.4000 - acc: 0.5973 - val_loss: 0.4153 - val_acc: 0.6097\n",
      "Epoch 343/500\n",
      "1160/1160 [==============================] - 7s 6ms/step - loss: 0.3975 - acc: 0.6011 - val_loss: 0.4225 - val_acc: 0.6074\n",
      "Epoch 344/500\n",
      "1160/1160 [==============================] - 7s 6ms/step - loss: 0.3982 - acc: 0.6006 - val_loss: 0.4187 - val_acc: 0.6205\n",
      "Epoch 345/500\n",
      "1160/1160 [==============================] - 7s 6ms/step - loss: 0.3999 - acc: 0.6012 - val_loss: 0.4185 - val_acc: 0.6102\n",
      "Epoch 346/500\n",
      "1160/1160 [==============================] - 7s 6ms/step - loss: 0.4005 - acc: 0.5971 - val_loss: 0.4178 - val_acc: 0.6093\n",
      "Epoch 347/500\n",
      "1160/1160 [==============================] - 7s 6ms/step - loss: 0.3971 - acc: 0.6002 - val_loss: 0.4184 - val_acc: 0.6110\n",
      "Epoch 348/500\n",
      "1160/1160 [==============================] - 7s 6ms/step - loss: 0.3975 - acc: 0.6015 - val_loss: 0.4201 - val_acc: 0.6139\n",
      "Epoch 349/500\n",
      "1160/1160 [==============================] - 7s 6ms/step - loss: 0.3981 - acc: 0.6018 - val_loss: 0.4173 - val_acc: 0.6092\n",
      "Epoch 350/500\n",
      "1160/1160 [==============================] - 7s 6ms/step - loss: 0.3998 - acc: 0.6020 - val_loss: 0.4150 - val_acc: 0.6050\n",
      "Epoch 351/500\n",
      "1160/1160 [==============================] - 7s 6ms/step - loss: 0.3982 - acc: 0.5994 - val_loss: 0.4179 - val_acc: 0.6308\n",
      "Epoch 352/500\n",
      "1160/1160 [==============================] - 7s 6ms/step - loss: 0.3995 - acc: 0.6017 - val_loss: 0.4161 - val_acc: 0.6071\n",
      "Epoch 353/500\n",
      "1160/1160 [==============================] - 7s 6ms/step - loss: 0.3993 - acc: 0.6018 - val_loss: 0.4189 - val_acc: 0.6153\n",
      "Epoch 354/500\n",
      "1160/1160 [==============================] - 7s 6ms/step - loss: 0.3968 - acc: 0.6025 - val_loss: 0.4172 - val_acc: 0.6048\n",
      "Epoch 355/500\n",
      "1160/1160 [==============================] - 7s 6ms/step - loss: 0.3992 - acc: 0.6007 - val_loss: 0.4190 - val_acc: 0.6101\n",
      "Epoch 356/500\n",
      "1160/1160 [==============================] - 7s 6ms/step - loss: 0.3997 - acc: 0.6047 - val_loss: 0.4188 - val_acc: 0.6260\n",
      "Epoch 357/500\n",
      "1160/1160 [==============================] - 7s 6ms/step - loss: 0.3985 - acc: 0.6028 - val_loss: 0.4178 - val_acc: 0.6181\n",
      "Epoch 358/500\n",
      "1160/1160 [==============================] - 7s 6ms/step - loss: 0.3971 - acc: 0.6025 - val_loss: 0.4179 - val_acc: 0.6175\n",
      "Epoch 359/500\n",
      "1160/1160 [==============================] - 7s 6ms/step - loss: 0.3969 - acc: 0.5992 - val_loss: 0.4183 - val_acc: 0.6069\n",
      "Epoch 360/500\n",
      "1160/1160 [==============================] - 7s 6ms/step - loss: 0.3976 - acc: 0.6023 - val_loss: 0.4202 - val_acc: 0.6146\n",
      "Epoch 361/500\n",
      "1160/1160 [==============================] - 7s 6ms/step - loss: 0.3998 - acc: 0.6042 - val_loss: 0.4179 - val_acc: 0.6205\n",
      "Epoch 362/500\n",
      "1160/1160 [==============================] - 7s 6ms/step - loss: 0.3986 - acc: 0.6028 - val_loss: 0.4178 - val_acc: 0.6203\n",
      "Epoch 363/500\n",
      "1160/1160 [==============================] - 7s 6ms/step - loss: 0.3979 - acc: 0.6023 - val_loss: 0.4196 - val_acc: 0.6263\n",
      "Epoch 364/500\n",
      "1160/1160 [==============================] - 7s 6ms/step - loss: 0.3984 - acc: 0.6009 - val_loss: 0.4196 - val_acc: 0.6158\n",
      "Epoch 365/500\n",
      "1160/1160 [==============================] - 7s 6ms/step - loss: 0.3993 - acc: 0.6017 - val_loss: 0.4199 - val_acc: 0.6249\n",
      "Epoch 366/500\n",
      "1160/1160 [==============================] - 7s 6ms/step - loss: 0.3969 - acc: 0.6032 - val_loss: 0.4184 - val_acc: 0.6195\n",
      "Epoch 367/500\n",
      "1160/1160 [==============================] - 7s 6ms/step - loss: 0.3959 - acc: 0.6006 - val_loss: 0.4190 - val_acc: 0.6116\n",
      "Epoch 368/500\n",
      "1160/1160 [==============================] - 7s 6ms/step - loss: 0.3997 - acc: 0.6035 - val_loss: 0.4182 - val_acc: 0.6216\n",
      "Epoch 369/500\n",
      "1160/1160 [==============================] - 7s 6ms/step - loss: 0.3973 - acc: 0.6015 - val_loss: 0.4176 - val_acc: 0.6188\n",
      "Epoch 370/500\n",
      "1160/1160 [==============================] - 7s 6ms/step - loss: 0.3968 - acc: 0.6024 - val_loss: 0.4181 - val_acc: 0.6133\n",
      "Epoch 371/500\n",
      "1160/1160 [==============================] - 7s 6ms/step - loss: 0.3971 - acc: 0.6027 - val_loss: 0.4182 - val_acc: 0.6105\n",
      "Epoch 372/500\n",
      "1160/1160 [==============================] - 7s 6ms/step - loss: 0.3972 - acc: 0.6025 - val_loss: 0.4173 - val_acc: 0.6137\n",
      "Epoch 373/500\n",
      "1160/1160 [==============================] - 7s 6ms/step - loss: 0.3966 - acc: 0.6021 - val_loss: 0.4180 - val_acc: 0.6179\n",
      "Epoch 374/500\n",
      "1160/1160 [==============================] - 7s 6ms/step - loss: 0.3966 - acc: 0.6038 - val_loss: 0.4203 - val_acc: 0.6220\n",
      "Epoch 375/500\n",
      "1160/1160 [==============================] - 7s 6ms/step - loss: 0.3970 - acc: 0.6020 - val_loss: 0.4192 - val_acc: 0.6386\n",
      "Epoch 376/500\n",
      "1160/1160 [==============================] - 7s 6ms/step - loss: 0.3988 - acc: 0.6051 - val_loss: 0.4186 - val_acc: 0.6225\n",
      "Epoch 377/500\n",
      "1160/1160 [==============================] - 7s 6ms/step - loss: 0.3979 - acc: 0.6038 - val_loss: 0.4196 - val_acc: 0.6126\n",
      "Epoch 378/500\n",
      "1160/1160 [==============================] - 7s 6ms/step - loss: 0.3972 - acc: 0.6019 - val_loss: 0.4185 - val_acc: 0.6104\n",
      "Epoch 379/500\n",
      "1160/1160 [==============================] - 7s 6ms/step - loss: 0.3978 - acc: 0.6005 - val_loss: 0.4197 - val_acc: 0.6116\n",
      "Epoch 380/500\n",
      "1160/1160 [==============================] - 7s 6ms/step - loss: 0.3968 - acc: 0.6034 - val_loss: 0.4213 - val_acc: 0.6141\n"
     ]
    },
    {
     "name": "stdout",
     "output_type": "stream",
     "text": [
      "Epoch 381/500\n",
      "1160/1160 [==============================] - 7s 6ms/step - loss: 0.4007 - acc: 0.6034 - val_loss: 0.4219 - val_acc: 0.6229\n",
      "Epoch 382/500\n",
      "1160/1160 [==============================] - 7s 6ms/step - loss: 0.3987 - acc: 0.6049 - val_loss: 0.4203 - val_acc: 0.6097\n",
      "Epoch 383/500\n",
      "1160/1160 [==============================] - 7s 6ms/step - loss: 0.3983 - acc: 0.6029 - val_loss: 0.4177 - val_acc: 0.6124\n",
      "Epoch 384/500\n",
      "1160/1160 [==============================] - 7s 6ms/step - loss: 0.4005 - acc: 0.6027 - val_loss: 0.4193 - val_acc: 0.6131\n",
      "Epoch 385/500\n",
      "1160/1160 [==============================] - 7s 6ms/step - loss: 0.3978 - acc: 0.6041 - val_loss: 0.4184 - val_acc: 0.6099\n",
      "Epoch 386/500\n",
      "1160/1160 [==============================] - 7s 6ms/step - loss: 0.3973 - acc: 0.6019 - val_loss: 0.4198 - val_acc: 0.6115\n",
      "Epoch 387/500\n",
      "1160/1160 [==============================] - 7s 6ms/step - loss: 0.3983 - acc: 0.6020 - val_loss: 0.4201 - val_acc: 0.6164\n",
      "Epoch 388/500\n",
      "1160/1160 [==============================] - 7s 6ms/step - loss: 0.4002 - acc: 0.6046 - val_loss: 0.4185 - val_acc: 0.6157\n",
      "Epoch 389/500\n",
      "1160/1160 [==============================] - 7s 6ms/step - loss: 0.3988 - acc: 0.6048 - val_loss: 0.4186 - val_acc: 0.6240\n",
      "Epoch 390/500\n",
      "1160/1160 [==============================] - 7s 6ms/step - loss: 0.3992 - acc: 0.6057 - val_loss: 0.4173 - val_acc: 0.6184\n",
      "Epoch 391/500\n",
      "1160/1160 [==============================] - 7s 6ms/step - loss: 0.3982 - acc: 0.6047 - val_loss: 0.4190 - val_acc: 0.6145\n",
      "Epoch 392/500\n",
      "1160/1160 [==============================] - 7s 6ms/step - loss: 0.3971 - acc: 0.6036 - val_loss: 0.4198 - val_acc: 0.6208\n",
      "Epoch 393/500\n",
      "1160/1160 [==============================] - 7s 6ms/step - loss: 0.3989 - acc: 0.6059 - val_loss: 0.4181 - val_acc: 0.6341\n",
      "Epoch 394/500\n",
      "1160/1160 [==============================] - 7s 6ms/step - loss: 0.3966 - acc: 0.6028 - val_loss: 0.4185 - val_acc: 0.6167\n",
      "Epoch 395/500\n",
      "1160/1160 [==============================] - 7s 6ms/step - loss: 0.3951 - acc: 0.6018 - val_loss: 0.4229 - val_acc: 0.6336\n",
      "Epoch 396/500\n",
      "1160/1160 [==============================] - 7s 6ms/step - loss: 0.3973 - acc: 0.6008 - val_loss: 0.4197 - val_acc: 0.6169\n",
      "Epoch 397/500\n",
      "1160/1160 [==============================] - 7s 6ms/step - loss: 0.3988 - acc: 0.6019 - val_loss: 0.4204 - val_acc: 0.6112\n",
      "Epoch 398/500\n",
      "1160/1160 [==============================] - 7s 6ms/step - loss: 0.3965 - acc: 0.6002 - val_loss: 0.4214 - val_acc: 0.6081\n",
      "Epoch 399/500\n",
      "1160/1160 [==============================] - 7s 6ms/step - loss: 0.3975 - acc: 0.6015 - val_loss: 0.4207 - val_acc: 0.6182\n",
      "Epoch 400/500\n",
      "1160/1160 [==============================] - 7s 6ms/step - loss: 0.3990 - acc: 0.6006 - val_loss: 0.4229 - val_acc: 0.6224\n",
      "Epoch 401/500\n",
      "1160/1160 [==============================] - 7s 6ms/step - loss: 0.3980 - acc: 0.6016 - val_loss: 0.4220 - val_acc: 0.6124\n",
      "Epoch 402/500\n",
      "1160/1160 [==============================] - 7s 6ms/step - loss: 0.3989 - acc: 0.6008 - val_loss: 0.4203 - val_acc: 0.6117\n",
      "Epoch 403/500\n",
      "1160/1160 [==============================] - 7s 6ms/step - loss: 0.3969 - acc: 0.6004 - val_loss: 0.4204 - val_acc: 0.6126\n",
      "Epoch 404/500\n",
      "1160/1160 [==============================] - 7s 6ms/step - loss: 0.3969 - acc: 0.5998 - val_loss: 0.4205 - val_acc: 0.6197\n",
      "Epoch 405/500\n",
      "1160/1160 [==============================] - 7s 6ms/step - loss: 0.3968 - acc: 0.6019 - val_loss: 0.4211 - val_acc: 0.6021\n",
      "Epoch 406/500\n",
      "1160/1160 [==============================] - 7s 6ms/step - loss: 0.3974 - acc: 0.6022 - val_loss: 0.4211 - val_acc: 0.6169\n",
      "Epoch 407/500\n",
      "1160/1160 [==============================] - 7s 6ms/step - loss: 0.3965 - acc: 0.6000 - val_loss: 0.4161 - val_acc: 0.6172\n",
      "Epoch 408/500\n",
      "1160/1160 [==============================] - 7s 6ms/step - loss: 0.3991 - acc: 0.6009 - val_loss: 0.4205 - val_acc: 0.5995\n",
      "Epoch 409/500\n",
      "1160/1160 [==============================] - 7s 6ms/step - loss: 0.3975 - acc: 0.6006 - val_loss: 0.4206 - val_acc: 0.6107\n",
      "Epoch 410/500\n",
      "1160/1160 [==============================] - 7s 6ms/step - loss: 0.3966 - acc: 0.5985 - val_loss: 0.4209 - val_acc: 0.6005\n",
      "Epoch 411/500\n",
      "1160/1160 [==============================] - 7s 6ms/step - loss: 0.3974 - acc: 0.6028 - val_loss: 0.4226 - val_acc: 0.6074\n",
      "Epoch 412/500\n",
      "1160/1160 [==============================] - 7s 6ms/step - loss: 0.3981 - acc: 0.6003 - val_loss: 0.4210 - val_acc: 0.6020\n",
      "Epoch 413/500\n",
      "1160/1160 [==============================] - 7s 6ms/step - loss: 0.3979 - acc: 0.6013 - val_loss: 0.4220 - val_acc: 0.6075\n",
      "Epoch 414/500\n",
      "1160/1160 [==============================] - 7s 6ms/step - loss: 0.3961 - acc: 0.6008 - val_loss: 0.4231 - val_acc: 0.6002\n",
      "Epoch 415/500\n",
      "1160/1160 [==============================] - 7s 6ms/step - loss: 0.3978 - acc: 0.6001 - val_loss: 0.4215 - val_acc: 0.6104\n",
      "Epoch 416/500\n",
      "1160/1160 [==============================] - 7s 6ms/step - loss: 0.3963 - acc: 0.6020 - val_loss: 0.4210 - val_acc: 0.6123\n",
      "Epoch 417/500\n",
      "1160/1160 [==============================] - 7s 6ms/step - loss: 0.3965 - acc: 0.6052 - val_loss: 0.4202 - val_acc: 0.6086\n",
      "Epoch 418/500\n",
      "1160/1160 [==============================] - 7s 6ms/step - loss: 0.3987 - acc: 0.6006 - val_loss: 0.4203 - val_acc: 0.6023\n",
      "Epoch 419/500\n",
      "1160/1160 [==============================] - 7s 6ms/step - loss: 0.3973 - acc: 0.6017 - val_loss: 0.4215 - val_acc: 0.6032\n",
      "Epoch 420/500\n",
      "1160/1160 [==============================] - 7s 6ms/step - loss: 0.3964 - acc: 0.6032 - val_loss: 0.4211 - val_acc: 0.6132\n",
      "Epoch 421/500\n",
      "1160/1160 [==============================] - 7s 6ms/step - loss: 0.3978 - acc: 0.6035 - val_loss: 0.4211 - val_acc: 0.6099\n",
      "Epoch 422/500\n",
      "1160/1160 [==============================] - 7s 6ms/step - loss: 0.3982 - acc: 0.6063 - val_loss: 0.4206 - val_acc: 0.6077\n",
      "Epoch 423/500\n",
      "1160/1160 [==============================] - 7s 6ms/step - loss: 0.3991 - acc: 0.6063 - val_loss: 0.4209 - val_acc: 0.6019\n",
      "Epoch 424/500\n",
      "1160/1160 [==============================] - 7s 6ms/step - loss: 0.3963 - acc: 0.6025 - val_loss: 0.4206 - val_acc: 0.6023\n",
      "Epoch 425/500\n",
      "1160/1160 [==============================] - 7s 6ms/step - loss: 0.3992 - acc: 0.6037 - val_loss: 0.4200 - val_acc: 0.6041\n",
      "Epoch 426/500\n",
      "1160/1160 [==============================] - 7s 6ms/step - loss: 0.3958 - acc: 0.6003 - val_loss: 0.4209 - val_acc: 0.6064\n",
      "Epoch 427/500\n",
      "1160/1160 [==============================] - 7s 6ms/step - loss: 0.3972 - acc: 0.5983 - val_loss: 0.4205 - val_acc: 0.6055\n",
      "Epoch 428/500\n",
      "1160/1160 [==============================] - 7s 6ms/step - loss: 0.3980 - acc: 0.6010 - val_loss: 0.4210 - val_acc: 0.6013\n",
      "Epoch 429/500\n",
      "1160/1160 [==============================] - 7s 6ms/step - loss: 0.3984 - acc: 0.6024 - val_loss: 0.4191 - val_acc: 0.6098\n",
      "Epoch 430/500\n",
      "1160/1160 [==============================] - 7s 6ms/step - loss: 0.3958 - acc: 0.6010 - val_loss: 0.4184 - val_acc: 0.6093\n",
      "Epoch 431/500\n",
      "1160/1160 [==============================] - 7s 6ms/step - loss: 0.3975 - acc: 0.6035 - val_loss: 0.4186 - val_acc: 0.5995\n",
      "Epoch 432/500\n",
      "1160/1160 [==============================] - 7s 6ms/step - loss: 0.3974 - acc: 0.6021 - val_loss: 0.4196 - val_acc: 0.6171\n",
      "Epoch 433/500\n",
      "1160/1160 [==============================] - 7s 6ms/step - loss: 0.3980 - acc: 0.6023 - val_loss: 0.4198 - val_acc: 0.6028\n",
      "Epoch 434/500\n",
      "1160/1160 [==============================] - 7s 6ms/step - loss: 0.3959 - acc: 0.6017 - val_loss: 0.4186 - val_acc: 0.6086\n",
      "Epoch 435/500\n",
      "1160/1160 [==============================] - 7s 6ms/step - loss: 0.3962 - acc: 0.6024 - val_loss: 0.4183 - val_acc: 0.6082\n",
      "Epoch 436/500\n",
      "1160/1160 [==============================] - 7s 6ms/step - loss: 0.3967 - acc: 0.6037 - val_loss: 0.4203 - val_acc: 0.6123\n",
      "Epoch 437/500\n",
      "1160/1160 [==============================] - 7s 6ms/step - loss: 0.3973 - acc: 0.6045 - val_loss: 0.4213 - val_acc: 0.6114\n",
      "Epoch 438/500\n",
      "1160/1160 [==============================] - 7s 6ms/step - loss: 0.3974 - acc: 0.6041 - val_loss: 0.4190 - val_acc: 0.6118\n",
      "Epoch 439/500\n",
      "1160/1160 [==============================] - 7s 6ms/step - loss: 0.3977 - acc: 0.6038 - val_loss: 0.4193 - val_acc: 0.6193\n",
      "Epoch 440/500\n",
      "1160/1160 [==============================] - 7s 6ms/step - loss: 0.3978 - acc: 0.6020 - val_loss: 0.4203 - val_acc: 0.6052\n"
     ]
    },
    {
     "name": "stdout",
     "output_type": "stream",
     "text": [
      "Epoch 441/500\n",
      "1160/1160 [==============================] - 7s 6ms/step - loss: 0.3948 - acc: 0.6006 - val_loss: 0.4198 - val_acc: 0.6042\n",
      "Epoch 442/500\n",
      "1160/1160 [==============================] - 7s 6ms/step - loss: 0.3985 - acc: 0.6025 - val_loss: 0.4183 - val_acc: 0.6106\n",
      "Epoch 443/500\n",
      "1160/1160 [==============================] - 7s 6ms/step - loss: 0.3973 - acc: 0.6043 - val_loss: 0.4188 - val_acc: 0.6185\n",
      "Epoch 444/500\n",
      "1160/1160 [==============================] - 7s 6ms/step - loss: 0.3974 - acc: 0.6016 - val_loss: 0.4208 - val_acc: 0.5998\n",
      "Epoch 445/500\n",
      "1160/1160 [==============================] - 7s 6ms/step - loss: 0.3955 - acc: 0.6000 - val_loss: 0.4217 - val_acc: 0.6097\n",
      "Epoch 446/500\n",
      "1160/1160 [==============================] - 7s 6ms/step - loss: 0.3970 - acc: 0.6010 - val_loss: 0.4210 - val_acc: 0.6051\n",
      "Epoch 447/500\n",
      "1160/1160 [==============================] - 7s 6ms/step - loss: 0.3955 - acc: 0.6042 - val_loss: 0.4189 - val_acc: 0.6087\n",
      "Epoch 448/500\n",
      "1160/1160 [==============================] - 7s 6ms/step - loss: 0.3969 - acc: 0.6041 - val_loss: 0.4190 - val_acc: 0.6089\n",
      "Epoch 449/500\n",
      "1160/1160 [==============================] - 7s 6ms/step - loss: 0.3962 - acc: 0.6019 - val_loss: 0.4209 - val_acc: 0.6103\n",
      "Epoch 450/500\n",
      "1160/1160 [==============================] - 7s 6ms/step - loss: 0.3954 - acc: 0.6032 - val_loss: 0.4203 - val_acc: 0.6146\n",
      "Epoch 451/500\n",
      "1160/1160 [==============================] - 7s 6ms/step - loss: 0.3989 - acc: 0.6035 - val_loss: 0.4201 - val_acc: 0.6161\n",
      "Epoch 452/500\n",
      "1160/1160 [==============================] - 7s 6ms/step - loss: 0.3953 - acc: 0.6013 - val_loss: 0.4217 - val_acc: 0.6077\n",
      "Epoch 453/500\n",
      "1160/1160 [==============================] - 7s 6ms/step - loss: 0.3981 - acc: 0.6004 - val_loss: 0.4214 - val_acc: 0.6014\n",
      "Epoch 454/500\n",
      "1160/1160 [==============================] - 7s 6ms/step - loss: 0.3958 - acc: 0.6013 - val_loss: 0.4210 - val_acc: 0.6136\n",
      "Epoch 455/500\n",
      "1160/1160 [==============================] - 7s 6ms/step - loss: 0.3978 - acc: 0.6036 - val_loss: 0.4182 - val_acc: 0.6137\n",
      "Epoch 456/500\n",
      "1160/1160 [==============================] - 7s 6ms/step - loss: 0.3982 - acc: 0.6045 - val_loss: 0.4207 - val_acc: 0.6103\n",
      "Epoch 457/500\n",
      "1160/1160 [==============================] - 7s 6ms/step - loss: 0.3959 - acc: 0.6019 - val_loss: 0.4199 - val_acc: 0.6129\n",
      "Epoch 458/500\n",
      "1160/1160 [==============================] - 7s 6ms/step - loss: 0.3976 - acc: 0.6030 - val_loss: 0.4203 - val_acc: 0.6178\n",
      "Epoch 459/500\n",
      "1160/1160 [==============================] - 7s 6ms/step - loss: 0.3973 - acc: 0.6062 - val_loss: 0.4210 - val_acc: 0.6276\n",
      "Epoch 460/500\n",
      "1160/1160 [==============================] - 7s 6ms/step - loss: 0.3974 - acc: 0.6047 - val_loss: 0.4225 - val_acc: 0.6221\n",
      "Epoch 461/500\n",
      "1160/1160 [==============================] - 7s 6ms/step - loss: 0.3972 - acc: 0.6043 - val_loss: 0.4224 - val_acc: 0.6155\n",
      "Epoch 462/500\n",
      "1160/1160 [==============================] - 7s 6ms/step - loss: 0.3986 - acc: 0.6031 - val_loss: 0.4209 - val_acc: 0.6130\n",
      "Epoch 463/500\n",
      "1160/1160 [==============================] - 8s 7ms/step - loss: 0.3952 - acc: 0.6036 - val_loss: 0.4230 - val_acc: 0.6328\n",
      "Epoch 464/500\n",
      "1160/1160 [==============================] - 7s 6ms/step - loss: 0.3980 - acc: 0.6048 - val_loss: 0.4217 - val_acc: 0.6084\n",
      "Epoch 465/500\n",
      "1160/1160 [==============================] - 7s 6ms/step - loss: 0.3959 - acc: 0.6034 - val_loss: 0.4223 - val_acc: 0.6154\n",
      "Epoch 466/500\n",
      "1160/1160 [==============================] - 7s 6ms/step - loss: 0.3976 - acc: 0.6058 - val_loss: 0.4235 - val_acc: 0.6143\n",
      "Epoch 467/500\n",
      "1160/1160 [==============================] - 7s 6ms/step - loss: 0.3965 - acc: 0.6066 - val_loss: 0.4186 - val_acc: 0.6184\n",
      "Epoch 468/500\n",
      "1160/1160 [==============================] - 7s 6ms/step - loss: 0.3971 - acc: 0.6096 - val_loss: 0.4202 - val_acc: 0.6169\n",
      "Epoch 469/500\n",
      "1160/1160 [==============================] - 7s 6ms/step - loss: 0.3971 - acc: 0.6081 - val_loss: 0.4204 - val_acc: 0.6126\n",
      "Epoch 470/500\n",
      "1160/1160 [==============================] - 7s 6ms/step - loss: 0.3963 - acc: 0.6054 - val_loss: 0.4215 - val_acc: 0.6093\n",
      "Epoch 471/500\n",
      "1160/1160 [==============================] - 7s 6ms/step - loss: 0.3973 - acc: 0.6050 - val_loss: 0.4230 - val_acc: 0.6014\n",
      "Epoch 472/500\n",
      "1160/1160 [==============================] - 7s 6ms/step - loss: 0.3980 - acc: 0.6023 - val_loss: 0.4263 - val_acc: 0.6341\n",
      "Epoch 473/500\n",
      "1160/1160 [==============================] - 7s 6ms/step - loss: 0.3956 - acc: 0.6027 - val_loss: 0.4217 - val_acc: 0.6138\n",
      "Epoch 474/500\n",
      "1160/1160 [==============================] - 7s 6ms/step - loss: 0.3975 - acc: 0.6023 - val_loss: 0.4214 - val_acc: 0.6055\n",
      "Epoch 475/500\n",
      "1160/1160 [==============================] - 7s 6ms/step - loss: 0.3978 - acc: 0.6005 - val_loss: 0.4214 - val_acc: 0.6033\n",
      "Epoch 476/500\n",
      "1160/1160 [==============================] - 7s 6ms/step - loss: 0.3972 - acc: 0.6023 - val_loss: 0.4185 - val_acc: 0.6163\n",
      "Epoch 477/500\n",
      "1160/1160 [==============================] - 7s 6ms/step - loss: 0.3986 - acc: 0.6035 - val_loss: 0.4199 - val_acc: 0.6172\n",
      "Epoch 478/500\n",
      "1160/1160 [==============================] - 7s 6ms/step - loss: 0.3961 - acc: 0.6032 - val_loss: 0.4226 - val_acc: 0.6039\n",
      "Epoch 479/500\n",
      "1160/1160 [==============================] - 7s 6ms/step - loss: 0.3961 - acc: 0.6028 - val_loss: 0.4216 - val_acc: 0.6131\n",
      "Epoch 480/500\n",
      "1160/1160 [==============================] - 7s 6ms/step - loss: 0.3977 - acc: 0.6049 - val_loss: 0.4234 - val_acc: 0.6088\n",
      "Epoch 481/500\n",
      "1160/1160 [==============================] - 7s 6ms/step - loss: 0.3968 - acc: 0.6039 - val_loss: 0.4197 - val_acc: 0.6057\n",
      "Epoch 482/500\n",
      "1160/1160 [==============================] - 7s 6ms/step - loss: 0.3984 - acc: 0.6043 - val_loss: 0.4210 - val_acc: 0.6070\n",
      "Epoch 483/500\n",
      "1160/1160 [==============================] - 7s 6ms/step - loss: 0.3960 - acc: 0.6011 - val_loss: 0.4205 - val_acc: 0.6011\n",
      "Epoch 484/500\n",
      "1160/1160 [==============================] - 7s 6ms/step - loss: 0.3952 - acc: 0.6019 - val_loss: 0.4221 - val_acc: 0.6087\n",
      "Epoch 485/500\n",
      "1160/1160 [==============================] - 7s 6ms/step - loss: 0.3980 - acc: 0.6041 - val_loss: 0.4224 - val_acc: 0.6095\n",
      "Epoch 486/500\n",
      "1160/1160 [==============================] - 7s 6ms/step - loss: 0.3980 - acc: 0.6056 - val_loss: 0.4202 - val_acc: 0.6140\n",
      "Epoch 487/500\n",
      "1160/1160 [==============================] - 7s 6ms/step - loss: 0.3982 - acc: 0.6051 - val_loss: 0.4198 - val_acc: 0.6130\n",
      "Epoch 488/500\n",
      "1160/1160 [==============================] - 7s 6ms/step - loss: 0.3971 - acc: 0.6044 - val_loss: 0.4175 - val_acc: 0.6053\n",
      "Epoch 489/500\n",
      "1160/1160 [==============================] - 7s 6ms/step - loss: 0.3957 - acc: 0.6032 - val_loss: 0.4229 - val_acc: 0.6121\n",
      "Epoch 490/500\n",
      "1160/1160 [==============================] - 7s 6ms/step - loss: 0.3965 - acc: 0.6050 - val_loss: 0.4187 - val_acc: 0.6086\n",
      "Epoch 491/500\n",
      "1160/1160 [==============================] - 7s 6ms/step - loss: 0.3962 - acc: 0.6017 - val_loss: 0.4207 - val_acc: 0.6135\n",
      "Epoch 492/500\n",
      "1160/1160 [==============================] - 7s 6ms/step - loss: 0.3966 - acc: 0.6034 - val_loss: 0.4235 - val_acc: 0.6212\n",
      "Epoch 493/500\n",
      "1160/1160 [==============================] - 7s 6ms/step - loss: 0.3984 - acc: 0.6043 - val_loss: 0.4213 - val_acc: 0.6110\n",
      "Epoch 494/500\n",
      "1160/1160 [==============================] - 7s 6ms/step - loss: 0.3967 - acc: 0.6035 - val_loss: 0.4199 - val_acc: 0.6083\n",
      "Epoch 495/500\n",
      "1160/1160 [==============================] - 7s 6ms/step - loss: 0.3967 - acc: 0.6026 - val_loss: 0.4227 - val_acc: 0.6051\n",
      "Epoch 496/500\n",
      "1160/1160 [==============================] - 7s 6ms/step - loss: 0.3980 - acc: 0.6055 - val_loss: 0.4181 - val_acc: 0.6120\n",
      "Epoch 497/500\n",
      "1160/1160 [==============================] - 7s 6ms/step - loss: 0.3963 - acc: 0.6048 - val_loss: 0.4239 - val_acc: 0.6121\n",
      "Epoch 498/500\n",
      "1160/1160 [==============================] - 7s 6ms/step - loss: 0.3962 - acc: 0.6009 - val_loss: 0.4202 - val_acc: 0.6062\n",
      "Epoch 499/500\n",
      "1160/1160 [==============================] - 7s 6ms/step - loss: 0.3973 - acc: 0.6022 - val_loss: 0.4227 - val_acc: 0.6034\n",
      "Epoch 500/500\n",
      "1160/1160 [==============================] - 7s 6ms/step - loss: 0.3957 - acc: 0.6023 - val_loss: 0.4208 - val_acc: 0.6075\n"
     ]
    }
   ],
   "source": [
    "history = model.fit_generator(\n",
    "            training_generator, \n",
    "            epochs=500,\n",
    "            initial_epoch=200,\n",
    "            steps_per_epoch=steps_per_epoch_train, \n",
    "            validation_data = validation_generator, \n",
    "            validation_steps = steps_per_epoch_val,\n",
    "            callbacks = [], \n",
    "            )"
   ]
  },
  {
   "cell_type": "code",
   "execution_count": 82,
   "metadata": {
    "ExecuteTime": {
     "end_time": "2020-01-27T12:55:58.730850Z",
     "start_time": "2020-01-27T12:55:57.810345Z"
    }
   },
   "outputs": [],
   "source": [
    "model.save(f\"{model_dir}/model.h5\")"
   ]
  },
  {
   "cell_type": "code",
   "execution_count": 83,
   "metadata": {
    "ExecuteTime": {
     "end_time": "2020-01-27T12:56:04.845533Z",
     "start_time": "2020-01-27T12:56:02.953256Z"
    }
   },
   "outputs": [
    {
     "name": "stdout",
     "output_type": "stream",
     "text": [
      ">>> Computing AUC...\n"
     ]
    },
    {
     "data": {
      "image/png": "[encoded data removed]",
      "text/plain": [
       "<Figure size 700x600 with 1 Axes>"
      ]
     },
     "metadata": {},
     "output_type": "display_data"
    }
   ],
   "source": [
    "# Evalutation\n",
    "print(\">>> Computing AUC...\")\n",
    "\n",
    "from sklearn.metrics import roc_auc_score, roc_curve\n",
    "\n",
    "pred = model.predict(X_test)\n",
    "auc = roc_auc_score(y_test,pred)\n",
    "fpW, tpW, thW = roc_curve(y_test, pred, sample_weight=W_test)\n",
    "fp, tp, th = roc_curve(y_test, pred)\n",
    "#print(\"AUC score: \" + str(auc))\n",
    "\n",
    "fig, ax1 = plt.subplots(figsize=(7,6), dpi=100)\n",
    "\n",
    "ax1.plot(fp, tp, label=f\"ROC (AUC={auc:.3f})\", color=\"blue\")\n",
    "ax1.plot(fpW, tpW, label=f\"ROC (Weighted)\", color=\"red\")\n",
    "\n",
    "ax1.set_xlabel(\"Bkg contamination\", fontsize=18)\n",
    "ax1.set_ylabel(\"Signal efficiency\", fontsize=18)\n",
    "\n",
    "#ax1.plot([0,1],[1,1],\"b--\")\n",
    "ax1.tick_params(\"y\",labelsize=\"large\")\n",
    "\n",
    "ax1.grid()\n",
    "\n",
    "ax1.legend(loc=(0.4, 0.5), fontsize=\"large\")\n",
    "\n",
    "fig.tight_layout()"
   ]
  },
  {
   "cell_type": "code",
   "execution_count": 73,
   "metadata": {
    "ExecuteTime": {
     "end_time": "2020-01-27T12:49:29.244227Z",
     "start_time": "2020-01-27T12:49:28.845434Z"
    }
   },
   "outputs": [
    {
     "data": {
      "text/plain": [
       "<matplotlib.legend.Legend at 0x7f6785e3ada0>"
      ]
     },
     "execution_count": 73,
     "metadata": {},
     "output_type": "execute_result"
    },
    {
     "data": {
      "image/png": "[encoded data removed]",
      "text/plain": [
       "<Figure size 700x600 with 1 Axes>"
      ]
     },
     "metadata": {},
     "output_type": "display_data"
    }
   ],
   "source": [
    "fig, ax = plt.subplots(figsize=(7,6), dpi=100)\n",
    "ax.plot(history.epoch, history.history[\"val_loss\"], label=\"validation loss\")\n",
    "ax.plot(history.epoch, history.history[\"loss\"], label=\"training loss\")\n",
    "plt.legend()"
   ]
  },
  {
   "cell_type": "code",
   "execution_count": 74,
   "metadata": {
    "ExecuteTime": {
     "end_time": "2020-01-27T12:50:08.569486Z",
     "start_time": "2020-01-27T12:49:57.573546Z"
    }
   },
   "outputs": [
    {
     "data": {
      "text/plain": [
       "<matplotlib.legend.Legend at 0x7f6785dd1160>"
      ]
     },
     "execution_count": 74,
     "metadata": {},
     "output_type": "execute_result"
    },
    {
     "data": {
      "image/png": "[encoded data removed]",
      "text/plain": [
       "<Figure size 700x600 with 1 Axes>"
      ]
     },
     "metadata": {},
     "output_type": "display_data"
    }
   ],
   "source": [
    "results = model.predict(X_train)\n",
    "fig, ax1 = plt.subplots(figsize=(7,6), dpi=100)\n",
    "plt.hist(results[y_train==0], bins=50,density=True, label=\"false\", histtype=\"step\")\n",
    "plt.hist(results[y_train==1], bins=50, density=True, label=\"true\", histtype=\"step\")\n",
    "#plt.yscale(\"log\")\n",
    "plt.legend()"
   ]
  },
  {
   "cell_type": "code",
   "execution_count": 75,
   "metadata": {
    "ExecuteTime": {
     "end_time": "2020-01-27T12:50:20.776939Z",
     "start_time": "2020-01-27T12:50:20.294558Z"
    }
   },
   "outputs": [
    {
     "data": {
      "text/plain": [
       "<matplotlib.legend.Legend at 0x7f6785ddbb70>"
      ]
     },
     "execution_count": 75,
     "metadata": {},
     "output_type": "execute_result"
    },
    {
     "data": {
      "image/png": "[encoded data removed]",
      "text/plain": [
       "<Figure size 700x600 with 1 Axes>"
      ]
     },
     "metadata": {},
     "output_type": "display_data"
    }
   ],
   "source": [
    "results = model.predict(X_test, batch_size=2048)\n",
    "fig, ax1 = plt.subplots(figsize=(7,6), dpi=100)\n",
    "plt.hist(results[y_test==0],weights=W_test[y_test==0], bins=40,density=True, label=\"false\", histtype=\"step\")\n",
    "plt.hist(results[y_test==1],weights=W_test[y_test==1], bins=40, density=True, label=\"true\", histtype=\"step\")\n",
    "#plt.yscale(\"log\")\n",
    "plt.legend()"
   ]
  },
  {
   "cell_type": "markdown",
   "metadata": {},
   "source": [
    "## Evaluation by sample"
   ]
  },
  {
   "cell_type": "code",
   "execution_count": 76,
   "metadata": {
    "ExecuteTime": {
     "end_time": "2020-01-27T12:50:31.732230Z",
     "start_time": "2020-01-27T12:50:30.443931Z"
    }
   },
   "outputs": [],
   "source": [
    "bkg[\"y\"] = model.predict(scaler.transform(bkg[cols].values), batch_size=2048)"
   ]
  },
  {
   "cell_type": "code",
   "execution_count": 77,
   "metadata": {
    "ExecuteTime": {
     "end_time": "2020-01-27T12:50:36.367097Z",
     "start_time": "2020-01-27T12:50:36.146436Z"
    }
   },
   "outputs": [],
   "source": [
    "signal[\"y\"] = model.predict(scaler.transform(signal[cols].values), batch_size=2048)"
   ]
  },
  {
   "cell_type": "code",
   "execution_count": 78,
   "metadata": {
    "ExecuteTime": {
     "end_time": "2020-01-27T12:50:40.753728Z",
     "start_time": "2020-01-27T12:50:40.440558Z"
    }
   },
   "outputs": [],
   "source": [
    "wjets = bkg[bkg[\"sample_name\"] == \"Wjets\"]\n",
    "top = bkg[bkg[\"sample_name\"] == \"top\"]\n",
    "dy = bkg[bkg[\"sample_name\"] == \"DY\"]"
   ]
  },
  {
   "cell_type": "code",
   "execution_count": 79,
   "metadata": {
    "ExecuteTime": {
     "end_time": "2020-01-27T12:50:45.162949Z",
     "start_time": "2020-01-27T12:50:44.453275Z"
    }
   },
   "outputs": [
    {
     "data": {
      "text/plain": [
       "<matplotlib.legend.Legend at 0x7f6785cce6a0>"
      ]
     },
     "execution_count": 79,
     "metadata": {},
     "output_type": "execute_result"
    },
    {
     "data": {
      "image/png": "[encoded data removed]",
      "text/plain": [
       "<Figure size 700x600 with 1 Axes>"
      ]
     },
     "metadata": {},
     "output_type": "display_data"
    }
   ],
   "source": [
    "fig, ax1 = plt.subplots(figsize=(7,6), dpi=100)\n",
    "plt.hist(bkg[bkg[\"sample_name\"] == \"Wjets\"][\"y\"], bins=50, density=True, label=\"W+jets\", histtype=\"step\")\n",
    "plt.hist(bkg[bkg[\"sample_name\"] == \"top\"][\"y\"],   bins=50, density=True, label=\"top\",    histtype=\"step\")\n",
    "plt.hist(bkg[bkg[\"sample_name\"] == \"DY\"][\"y\"],    bins=50, density=True, label=\"DY\",     histtype=\"step\")\n",
    "\n",
    "plt.hist(signal[\"y\"], bins=50,density=True, label=\"signal\", histtype=\"step\")\n",
    "#plt.yscale(\"log\")\n",
    "plt.legend()"
   ]
  },
  {
   "cell_type": "code",
   "execution_count": 80,
   "metadata": {
    "ExecuteTime": {
     "end_time": "2020-01-27T12:50:49.149563Z",
     "start_time": "2020-01-27T12:50:48.775604Z"
    }
   },
   "outputs": [
    {
     "data": {
      "text/plain": [
       "<matplotlib.legend.Legend at 0x7f6785c81c88>"
      ]
     },
     "execution_count": 80,
     "metadata": {},
     "output_type": "execute_result"
    },
    {
     "data": {
      "image/png": "[encoded data removed]",
      "text/plain": [
       "<Figure size 700x600 with 1 Axes>"
      ]
     },
     "metadata": {},
     "output_type": "display_data"
    }
   ],
   "source": [
    "fig, ax1 = plt.subplots(figsize=(7,6), dpi=100)\n",
    "plt.hist(wjets[\"y\"], weights=wjets.XSWeight_norm, bins=50, density=True, label=\"W+jets\", histtype=\"step\")\n",
    "plt.hist(top[\"y\"],   weights=top.XSWeight_norm,  bins=50, density=True, label=\"top\",    histtype=\"step\")\n",
    "plt.hist(dy[\"y\"],    weights=dy.XSWeight_norm,  bins=50, density=True, label=\"DY\",     histtype=\"step\")\n",
    "\n",
    "plt.hist(signal[\"y\"], weights=signal.XSWeight_norm, bins=50,density=True, label=\"signal\", histtype=\"step\")\n",
    "#plt.yscale(\"log\")\n",
    "plt.legend()"
   ]
  },
  {
   "cell_type": "code",
   "execution_count": null,
   "metadata": {},
   "outputs": [],
   "source": []
  }
 ],
 "metadata": {
  "kernelspec": {
   "display_name": "Python 3",
   "language": "python",
   "name": "python3"
  },
  "language_info": {
   "codemirror_mode": {
    "name": "ipython",
    "version": 3
   },
   "file_extension": ".py",
   "mimetype": "text/x-python",
   "name": "python",
   "nbconvert_exporter": "python",
   "pygments_lexer": "ipython3",
   "version": "3.6.5"
  },
  "toc": {
   "base_numbering": 1,
   "nav_menu": {},
   "number_sections": true,
   "sideBar": true,
   "skip_h1_title": false,
   "title_cell": "Table of Contents",
   "title_sidebar": "Contents",
   "toc_cell": false,
   "toc_position": {},
   "toc_section_display": true,
   "toc_window_display": false
  },
  "varInspector": {
   "cols": {
    "lenName": 16,
    "lenType": 16,
    "lenVar": 40
   },
   "kernels_config": {
    "python": {
     "delete_cmd_postfix": "",
     "delete_cmd_prefix": "del ",
     "library": "var_list.py",
     "varRefreshCmd": "print(var_dic_list())"
    },
    "r": {
     "delete_cmd_postfix": ") ",
     "delete_cmd_prefix": "rm(",
     "library": "var_list.r",
     "varRefreshCmd": "cat(var_dic_list()) "
    }
   },
   "types_to_exclude": [
    "module",
    "function",
    "builtin_function_or_method",
    "instance",
    "_Feature"
   ],
   "window_display": false
  }
 },
 "nbformat": 4,
 "nbformat_minor": 2
}
