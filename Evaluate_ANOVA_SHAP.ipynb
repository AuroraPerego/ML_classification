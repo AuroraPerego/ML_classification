{
 "cells": [
  {
   "cell_type": "code",
   "execution_count": 1,
   "metadata": {
    "ExecuteTime": {
     "end_time": "2020-01-27T10:17:08.744141Z",
     "start_time": "2020-01-27T10:17:07.742537Z"
    }
   },
   "outputs": [],
   "source": [
    "import pandas as pd\n",
    "import numpy as np\n",
    "import matplotlib as mpl\n",
    "import matplotlib.pyplot as plt\n",
    "\n",
    "# mpl.rcParams['figure.figsize'] = (6,6)\n",
    "# mpl.rcParams['figure.dpi'] = 100\n",
    "# mpl.rcParams[\"image.origin\"] = 'lower'"
   ]
  },
  {
   "cell_type": "code",
   "execution_count": 2,
   "metadata": {},
   "outputs": [],
   "source": [
    "config = {\n",
    "    \"base_dir\":        \"/eos/home-d/dmapelli/public/latino/\",\n",
    "    \"plot_config\":     \"Full2018v6s5\",\n",
    "    \"cut\":             \"boos_sig_mjjincl\",\n",
    "    \"model_version\":   \"v72\",\n",
    "}"
   ]
  },
  {
   "cell_type": "code",
   "execution_count": 3,
   "metadata": {
    "ExecuteTime": {
     "end_time": "2020-01-27T10:38:23.026303Z",
     "start_time": "2020-01-27T10:38:22.620559Z"
    }
   },
   "outputs": [],
   "source": [
    "import os\n",
    "\n",
    "config_base_dir = os.path.join(config[\"base_dir\"], config[\"plot_config\"])\n",
    "\n",
    "# create the model directory\n",
    "model_dir   = os.path.join(config_base_dir, config[\"cut\"] , \"models\",  config[\"model_version\"])\n",
    "os.makedirs(model_dir, exist_ok=True)\n",
    "\n",
    "import yaml\n",
    "model_config_file = open(model_dir + \"/model_config.yml\", \"r\")\n",
    "model_config = yaml.safe_load(model_config_file)\n",
    "\n",
    "for key in [\"samples_version\", \"cols\"]:\n",
    "    config[key] = model_config[key]"
   ]
  },
  {
   "cell_type": "code",
   "execution_count": 4,
   "metadata": {},
   "outputs": [],
   "source": [
    "# load numpy\n",
    "samples_dir = os.path.join(config_base_dir, config[\"cut\"] , \"samples\", config[\"samples_version\"])\n",
    "import pickle\n",
    "signal = pickle.load(open(os.path.join(samples_dir, \"for_training/signal_balanced.pkl\"),     \"rb\"))\n",
    "bkg    = pickle.load(open(os.path.join(samples_dir, \"for_training/background_balanced.pkl\"), \"rb\"))"
   ]
  },
  {
   "cell_type": "markdown",
   "metadata": {},
   "source": [
    "## Samples preparation for NN"
   ]
  },
  {
   "cell_type": "code",
   "execution_count": 5,
   "metadata": {},
   "outputs": [],
   "source": [
    "## using \n",
    "## source /cvmfs/sft.cern.ch/lcg/views/LCG_96python3/x86_64-centos7-gcc8-opt/setup.sh\n",
    "#!pip3 install --user imbalanced-learn==0.5"
   ]
  },
  {
   "cell_type": "code",
   "execution_count": 6,
   "metadata": {
    "ExecuteTime": {
     "end_time": "2020-01-27T10:17:29.125979Z",
     "start_time": "2020-01-27T10:17:18.939862Z"
    }
   },
   "outputs": [],
   "source": [
    "from sklearn.preprocessing import StandardScaler\n",
    "from sklearn.model_selection import train_test_split"
   ]
  },
  {
   "cell_type": "code",
   "execution_count": 7,
   "metadata": {
    "ExecuteTime": {
     "end_time": "2020-01-27T10:43:23.689119Z",
     "start_time": "2020-01-27T10:43:23.381391Z"
    }
   },
   "outputs": [],
   "source": [
    "X_sig = signal[config[\"cols\"]].values\n",
    "X_bkg = bkg[config[\"cols\"]].values\n",
    "Y_sig = np.ones(len(X_sig))\n",
    "Y_bkg = np.zeros(len(X_bkg))\n",
    "W_sig = (signal[\"weight_norm\"]).values\n",
    "W_bkg = (bkg[\"weight_norm\"]).values\n",
    "Wnn_sig = (signal[\"weight_\"]).values\n",
    "Wnn_bkg = (bkg[\"weight_\"]).values"
   ]
  },
  {
   "cell_type": "code",
   "execution_count": 8,
   "metadata": {
    "ExecuteTime": {
     "end_time": "2020-01-27T10:43:27.283132Z",
     "start_time": "2020-01-27T10:43:27.081356Z"
    }
   },
   "outputs": [],
   "source": [
    "X = np.vstack([X_sig, X_bkg])\n",
    "Y = np.hstack([Y_sig, Y_bkg])\n",
    "W = np.hstack([W_sig, W_bkg])\n",
    "Wnn = np.hstack([Wnn_sig, Wnn_bkg])"
   ]
  },
  {
   "cell_type": "code",
   "execution_count": 9,
   "metadata": {
    "ExecuteTime": {
     "end_time": "2020-01-27T10:43:32.170798Z",
     "start_time": "2020-01-27T10:43:30.694579Z"
    }
   },
   "outputs": [],
   "source": [
    "scaler = StandardScaler()\n",
    "X_scaled = scaler.fit_transform(X)\n",
    "pickle.dump(scaler, open(f\"{model_dir}/scaler_model.pkl\", \"wb\"))"
   ]
  },
  {
   "cell_type": "code",
   "execution_count": 10,
   "metadata": {
    "ExecuteTime": {
     "end_time": "2020-01-27T10:17:47.639149Z",
     "start_time": "2020-01-27T10:17:47.039479Z"
    }
   },
   "outputs": [
    {
     "data": {
      "image/png": "[encoded data removed]",
      "text/plain": [
       "<Figure size 432x288 with 1 Axes>"
      ]
     },
     "metadata": {},
     "output_type": "display_data"
    }
   ],
   "source": [
    "# _ = plt.hist(W, bins=100)\n",
    "_ = plt.hist(W, bins=100, range=(0,2))"
   ]
  },
  {
   "cell_type": "markdown",
   "metadata": {
    "ExecuteTime": {
     "end_time": "2020-01-21T08:50:38.324736Z",
     "start_time": "2020-01-21T08:50:38.320100Z"
    }
   },
   "source": [
    "##  Balancing\n"
   ]
  },
  {
   "cell_type": "code",
   "execution_count": 11,
   "metadata": {
    "ExecuteTime": {
     "end_time": "2020-01-27T10:43:36.951718Z",
     "start_time": "2020-01-27T10:43:36.191197Z"
    }
   },
   "outputs": [],
   "source": [
    "config[\"test_size\"] = 0.2\n",
    "#config[\"val_size\"]  = 0.5  ## test != val\n",
    "config[\"val_size\"]  = 0.0  ## test == val\n",
    "\n",
    "X_train, X_temp, y_train, y_temp, W_train, W_temp , Wnn_train, Wnn_temp = train_test_split(X_scaled, Y,  W, Wnn, test_size=config[\"test_size\"])\n",
    "#X_val,   X_test, y_val,   y_test, W_val,   W_test = train_test_split(X_temp,   y_temp, W_temp, test_size=config[\"val_size\"]) ## test != val"
   ]
  },
  {
   "cell_type": "code",
   "execution_count": 12,
   "metadata": {
    "ExecuteTime": {
     "end_time": "2020-01-27T10:43:41.448774Z",
     "start_time": "2020-01-27T10:43:41.444471Z"
    }
   },
   "outputs": [
    {
     "name": "stdout",
     "output_type": "stream",
     "text": [
      "Training   dataset:  (148882, 6)\n",
      "Test + Val dataset:  (37221, 6)\n"
     ]
    }
   ],
   "source": [
    "print(\"Training   dataset: \", X_train.shape)\n",
    "print(\"Test + Val dataset: \", X_temp.shape)\n",
    "#print(\"Testing    dataset: \", X_test.shape)\n",
    "#print(\"Validation dataset: \", X_val.shape)"
   ]
  },
  {
   "cell_type": "markdown",
   "metadata": {},
   "source": [
    "## SKLEARN - AVOVA F-Test"
   ]
  },
  {
   "cell_type": "code",
   "execution_count": null,
   "metadata": {},
   "outputs": [],
   "source": [
    "from sklearn.datasets import load_digits\n",
    "from sklearn.feature_selection import SelectKBest, f_classif\n",
    "\n",
    "import itertools\n",
    "\n",
    "## This uses only public API, but is a real mess\n",
    "#mask = [False for i in range (len(config[\"cols\"]))]\n",
    "#for varn  in range (len(config[\"cols\"]) + 1):\n",
    "#    a = SelectKBest(f_classif, k=varn)\n",
    "#    a.fit(X_train, y_train)\n",
    "#    mask_old = mask.copy()\n",
    "#    mask = a.get_support()\n",
    "#    mask_xor = [x ^ y for x,y in zip(mask, mask_old)]\n",
    "#    print(varn, list(itertools.compress( config[\"cols\"], mask_xor )))\n",
    "        \n",
    "## This uses a SelectKBest \"private\" member, but is faster and cleaner\n",
    "selection = SelectKBest(f_classif, k=4)\n",
    "selection.fit(X_train, y_train)\n",
    "scores_df = pd.DataFrame({\"score\": selection.scores_, \"varname\": config[\"cols\"]})\n"
   ]
  },
  {
   "cell_type": "code",
   "execution_count": null,
   "metadata": {},
   "outputs": [],
   "source": [
    "## visualize list of scores\n",
    "#scores_df.sort_values(by=[\"score\"], ascending=False)"
   ]
  },
  {
   "cell_type": "code",
   "execution_count": null,
   "metadata": {},
   "outputs": [],
   "source": [
    "from matplotlib.pyplot import figure\n",
    "figure(num=None, figsize=(8, 6), dpi=100, facecolor='w', edgecolor='k')\n",
    "\n",
    "## visualize scores as barchart\n",
    "s_df = scores_df.sort_values(by=[\"score\"], ascending=True)\n",
    "plt.barh(range(len(s_df[\"score\"])), s_df[\"score\"], tick_label=s_df[\"varname\"])"
   ]
  },
  {
   "cell_type": "markdown",
   "metadata": {},
   "source": [
    "## Keras model"
   ]
  },
  {
   "cell_type": "code",
   "execution_count": 14,
   "metadata": {},
   "outputs": [
    {
     "name": "stderr",
     "output_type": "stream",
     "text": [
      "WARNING: Logging before flag parsing goes to stderr.\n",
      "W0330 21:46:35.958647 140296456103744 deprecation.py:323] From /cvmfs/sft.cern.ch/lcg/views/LCG_96python3/x86_64-centos7-gcc8-opt/lib/python3.6/site-packages/tensorflow/python/ops/nn_impl.py:180: add_dispatch_support.<locals>.wrapper (from tensorflow.python.ops.array_ops) is deprecated and will be removed in a future version.\n",
      "Instructions for updating:\n",
      "Use tf.where in 2.0, which has the same broadcast rule as np.where\n"
     ]
    },
    {
     "name": "stdout",
     "output_type": "stream",
     "text": [
      "Model: \"sequential_1\"\n",
      "_________________________________________________________________\n",
      "Layer (type)                 Output Shape              Param #   \n",
      "=================================================================\n",
      "dense_1 (Dense)              (None, 50)                350       \n",
      "_________________________________________________________________\n",
      "batch_normalization_1 (Batch (None, 50)                200       \n",
      "_________________________________________________________________\n",
      "activation_1 (Activation)    (None, 50)                0         \n",
      "_________________________________________________________________\n",
      "dropout_1 (Dropout)          (None, 50)                0         \n",
      "_________________________________________________________________\n",
      "dense_2 (Dense)              (None, 50)                2550      \n",
      "_________________________________________________________________\n",
      "batch_normalization_2 (Batch (None, 50)                200       \n",
      "_________________________________________________________________\n",
      "activation_2 (Activation)    (None, 50)                0         \n",
      "_________________________________________________________________\n",
      "dropout_2 (Dropout)          (None, 50)                0         \n",
      "_________________________________________________________________\n",
      "dense_3 (Dense)              (None, 1)                 51        \n",
      "=================================================================\n",
      "Total params: 3,351\n",
      "Trainable params: 3,151\n",
      "Non-trainable params: 200\n",
      "_________________________________________________________________\n"
     ]
    }
   ],
   "source": [
    "import tensorflow as tf\n",
    "\n",
    "model = tf.keras.models.load_model(os.path.join(model_dir, \"model.h5\"))\n",
    "\n",
    "model.summary()\n"
   ]
  },
  {
   "cell_type": "code",
   "execution_count": 15,
   "metadata": {},
   "outputs": [
    {
     "data": {
      "text/plain": [
       "tensorflow.python.keras.engine.sequential.Sequential"
      ]
     },
     "execution_count": 15,
     "metadata": {},
     "output_type": "execute_result"
    }
   ],
   "source": [
    "type(model)"
   ]
  },
  {
   "cell_type": "markdown",
   "metadata": {},
   "source": [
    "# SHAP"
   ]
  },
  {
   "cell_type": "code",
   "execution_count": null,
   "metadata": {},
   "outputs": [],
   "source": [
    "## https://github.com/slundberg/shap\n",
    "\n",
    "#!pip3 install --user --upgrade shap\n",
    "# 0.35"
   ]
  },
  {
   "cell_type": "code",
   "execution_count": null,
   "metadata": {},
   "outputs": [],
   "source": [
    "import shap\n",
    "\n",
    "shap.initjs()"
   ]
  },
  {
   "cell_type": "code",
   "execution_count": null,
   "metadata": {},
   "outputs": [],
   "source": [
    "index1 = [x for x in range(len(X_train))]\n",
    "X_train_pd = pd.DataFrame(X_train, index=index1, columns=config[\"cols\"])\n",
    "index2 = [x for x in range(len(X_train), len(X_train) + len(X_temp))]\n",
    "X_temp_pd = pd.DataFrame(X_temp, index=index2, columns=config[\"cols\"])"
   ]
  },
  {
   "cell_type": "raw",
   "metadata": {
    "scrolled": true
   },
   "source": [
    "# you can skip this. it is a generic model explainer, but it is huuuugely slow!\n",
    "# it is worthy running this only a couple of times just to check that its output matches with the deepexplainer\n",
    "\n",
    "# 20 : 40s\n",
    "# 200: 40min\n",
    "shap_lenght = 20\n",
    "\n",
    "# explain predictions of the model on three images\n",
    "#e = shap.DeepExplainer(model, X_train_pd.iloc[0,:])\n",
    "e = shap.KernelExplainer(model.predict, X_train_pd.iloc[:shap_lenght,:])\n",
    "shap_values = e.shap_values(X_temp[:shap_lenght])\n"
   ]
  },
  {
   "cell_type": "raw",
   "metadata": {},
   "source": [
    "shap.summary_plot(shap_values, X_temp_pd.iloc[:shap_lenght,:], max_display=30)"
   ]
  },
  {
   "cell_type": "code",
   "execution_count": null,
   "metadata": {},
   "outputs": [],
   "source": [
    "shap_lenght = 2000\n",
    "e = shap.DeepExplainer(model, X_train_pd.iloc[:shap_lenght,:])"
   ]
  },
  {
   "cell_type": "code",
   "execution_count": null,
   "metadata": {},
   "outputs": [],
   "source": [
    "shap_values = e.shap_values(X_temp[:shap_lenght])"
   ]
  },
  {
   "cell_type": "code",
   "execution_count": null,
   "metadata": {},
   "outputs": [],
   "source": [
    "shap.summary_plot(shap_values, X_temp_pd.iloc[:,:], max_display=30)"
   ]
  },
  {
   "cell_type": "code",
   "execution_count": null,
   "metadata": {},
   "outputs": [],
   "source": [
    "index_event = 0\n",
    "shap.force_plot(e.expected_value[0], shap_values[0][index_event], X_temp_pd.iloc[index_event,:])"
   ]
  },
  {
   "cell_type": "code",
   "execution_count": null,
   "metadata": {},
   "outputs": [],
   "source": [
    "index_event = 3\n",
    "\n",
    "shap.force_plot(e.expected_value[0], shap_values[0][index_event], X_temp_pd.iloc[index_event,:])"
   ]
  },
  {
   "cell_type": "code",
   "execution_count": null,
   "metadata": {},
   "outputs": [],
   "source": [
    "index_event = 6\n",
    "\n",
    "shap.force_plot(e.expected_value[0], shap_values[0][index_event], X_temp_pd.iloc[index_event,:])"
   ]
  },
  {
   "cell_type": "code",
   "execution_count": null,
   "metadata": {},
   "outputs": [],
   "source": [
    "index_event = 2\n",
    "\n",
    "shap.force_plot(e.expected_value[0], shap_values[0][index_event], X_temp_pd.iloc[index_event,:])"
   ]
  },
  {
   "cell_type": "code",
   "execution_count": null,
   "metadata": {},
   "outputs": [],
   "source": [
    "shap.force_plot(e.expected_value, shap_values[0], X_temp_pd.iloc[:shap_lenght,:])"
   ]
  },
  {
   "cell_type": "code",
   "execution_count": null,
   "metadata": {},
   "outputs": [],
   "source": [
    "import os\n",
    "\n",
    "#notebook_name = 'Evaluate_ANOVA_SHAP.ipynb'\n",
    "#file_name = 'Evaluate_ANOVA_SHAP.html'\n",
    "#import sys\n",
    "#!{sys.executable} -m jupyter nbconvert --to html $notebook_name --output /eos/home-d/dmapelli/latino/ML_classification/$file_name\n",
    "\n",
    "#print(os.getcwd())\n",
    "#print(os.listdir(os.getcwd()))\n",
    "print(\"rsync Evaluate_ANOVA_SHAP.html lxplus.cern.ch:\" + model_dir + \"/Evaluate_ANOVA_SHAP.html; mv Evaluate_ANOVA_SHAP.html Evaluate_ANOVA_SHAP.html_old\" )\n",
    "\n",
    "#os.rename('Evaluate_ANOVA_SHAP.html', model_dir + \"/Evaluate_ANOVA_SHAP.html\")\n",
    "#print(model_dir + \"/Evaluate_ANOVA_SHAP.html\")"
   ]
  },
  {
   "cell_type": "code",
   "execution_count": null,
   "metadata": {},
   "outputs": [],
   "source": []
  },
  {
   "cell_type": "code",
   "execution_count": null,
   "metadata": {},
   "outputs": [],
   "source": []
  },
  {
   "cell_type": "code",
   "execution_count": null,
   "metadata": {},
   "outputs": [],
   "source": []
  },
  {
   "cell_type": "code",
   "execution_count": null,
   "metadata": {},
   "outputs": [],
   "source": []
  },
  {
   "cell_type": "code",
   "execution_count": null,
   "metadata": {},
   "outputs": [],
   "source": []
  },
  {
   "cell_type": "code",
   "execution_count": null,
   "metadata": {},
   "outputs": [],
   "source": []
  },
  {
   "cell_type": "code",
   "execution_count": null,
   "metadata": {},
   "outputs": [],
   "source": []
  },
  {
   "cell_type": "code",
   "execution_count": null,
   "metadata": {},
   "outputs": [],
   "source": []
  },
  {
   "cell_type": "code",
   "execution_count": null,
   "metadata": {},
   "outputs": [],
   "source": []
  },
  {
   "cell_type": "code",
   "execution_count": null,
   "metadata": {},
   "outputs": [],
   "source": []
  },
  {
   "cell_type": "code",
   "execution_count": null,
   "metadata": {},
   "outputs": [],
   "source": []
  },
  {
   "cell_type": "code",
   "execution_count": null,
   "metadata": {},
   "outputs": [],
   "source": []
  },
  {
   "cell_type": "code",
   "execution_count": null,
   "metadata": {},
   "outputs": [],
   "source": []
  },
  {
   "cell_type": "code",
   "execution_count": null,
   "metadata": {},
   "outputs": [],
   "source": []
  },
  {
   "cell_type": "markdown",
   "metadata": {},
   "source": [
    "## No more used"
   ]
  },
  {
   "cell_type": "markdown",
   "metadata": {},
   "source": [
    "### Evaluation"
   ]
  },
  {
   "cell_type": "code",
   "execution_count": 24,
   "metadata": {
    "ExecuteTime": {
     "end_time": "2020-01-27T12:56:04.845533Z",
     "start_time": "2020-01-27T12:56:02.953256Z"
    }
   },
   "outputs": [
    {
     "name": "stdout",
     "output_type": "stream",
     "text": [
      ">>> Computing AUC...\n"
     ]
    },
    {
     "data": {
      "image/png": "[encoded data removed]",
      "text/plain": [
       "<Figure size 1000x800 with 1 Axes>"
      ]
     },
     "metadata": {},
     "output_type": "display_data"
    }
   ],
   "source": [
    "# Evalutation\n",
    "print(\">>> Computing AUC...\")\n",
    "\n",
    "from sklearn.metrics import roc_auc_score, roc_curve\n",
    "\n",
    "X_test = X_temp\n",
    "y_test = y_temp\n",
    "W_test = W_temp\n",
    "\n",
    "pred_test  = model.predict(X_test,  batch_size=2048)\n",
    "pred_train = model.predict(X_train, batch_size=2048)\n",
    "auc_w_test  = roc_auc_score(y_test, pred_test,  sample_weight=W_test)\n",
    "auc_w_train = roc_auc_score(y_train,pred_train, sample_weight=W_train)\n",
    "fpW_test,  tpW_test,  thW_test  = roc_curve(y_test,  pred_test , sample_weight=W_test)\n",
    "fpW_train, tpW_train, thW_train = roc_curve(y_train, pred_train, sample_weight=W_train)\n",
    "#print(\"AUC score: \" + str(auc))\n",
    "\n",
    "fig, ax1 = plt.subplots(figsize=(5,4), dpi=200)\n",
    "\n",
    "# ax1.plot(fp, tp, label=f\"ROC (AUC={auc:.3f})\", color=\"blue\")\n",
    "ax1.plot(fpW_test,  tpW_test,  label=f\"ROC test  (AUC={auc_w_test:.3f})\", color=\"blue\")\n",
    "# ax1.plot(fpW_train, tpW_train, label=f\"ROC train (AUC={auc_w_train:.3f})\", color=\"blue\")\n",
    "\n",
    "ax1.set_xlabel(\"Bkg contamination\", fontsize=18)\n",
    "ax1.set_ylabel(\"Signal efficiency\", fontsize=18)\n",
    "\n",
    "#ax1.plot([0,1],[1,1],\"b--\")\n",
    "ax1.tick_params(\"y\",labelsize=\"large\")\n",
    "\n",
    "ax1.grid()\n",
    "\n",
    "ax1.legend(loc=(0.4, 0.5), fontsize=\"large\")\n",
    "\n",
    "fig.tight_layout()"
   ]
  },
  {
   "cell_type": "raw",
   "metadata": {},
   "source": [
    "#r = model.evaluate_generator(training_generator, steps=1000)\n",
    "#r = model.evaluate_generator(validation_generator, steps=1000)\n"
   ]
  },
  {
   "cell_type": "raw",
   "metadata": {},
   "source": [
    "#print(model.metrics_names, r)"
   ]
  },
  {
   "cell_type": "raw",
   "metadata": {
    "ExecuteTime": {
     "end_time": "2020-01-27T12:49:29.244227Z",
     "start_time": "2020-01-27T12:49:28.845434Z"
    }
   },
   "source": [
    "fig, ax = plt.subplots(figsize=(7,6), dpi=100)\n",
    "ax.plot(history.epoch, history.history[\"val_loss\"], label=\"validation loss\")\n",
    "ax.plot(history.epoch, history.history[\"loss\"], label=\"training loss\")\n",
    "plt.legend()"
   ]
  },
  {
   "cell_type": "raw",
   "metadata": {
    "ExecuteTime": {
     "end_time": "2020-01-27T12:50:20.776939Z",
     "start_time": "2020-01-27T12:50:20.294558Z"
    }
   },
   "source": [
    "results_test  = model.predict(X_test, batch_size=2048)\n",
    "fig, ax1 = plt.subplots(figsize=(7,6), dpi=100)\n",
    "plt.hist(results_test[y_test==0],weights=W_test[y_test==0], bins=25, density=True, label=\"false test\", histtype=\"step\")\n",
    "plt.hist(results_test[y_test==1],weights=W_test[y_test==1], bins=25, density=True, label=\"true test\", histtype=\"step\")\n",
    "results_train = model.predict(X_train, batch_size=2048)\n",
    "plt.hist(results_train[y_train==0],weights=W_train[y_train==0], bins=25, density=True, label=\"false train\", histtype=\"step\")\n",
    "plt.hist(results_train[y_train==1],weights=W_train[y_train==1], bins=25, density=True, label=\"true train\", histtype=\"step\")\n",
    "#plt.yscale(\"log\")\n",
    "plt.legend()\n",
    "\n",
    "# \n",
    "# \n",
    "\n",
    "#results_train[y_train==1]\n",
    "rtest  = [x[0] for x in results_test[y_test==1]]\n",
    "rtrain = [x[0] for x in results_train[y_train==1]]\n",
    "\n",
    "from scipy import stats\n",
    "stats.ks_2samp(rtrain, rtest)"
   ]
  },
  {
   "cell_type": "markdown",
   "metadata": {},
   "source": [
    "## Evaluation by sample"
   ]
  },
  {
   "cell_type": "raw",
   "metadata": {
    "ExecuteTime": {
     "end_time": "2020-01-27T12:50:31.732230Z",
     "start_time": "2020-01-27T12:50:30.443931Z"
    }
   },
   "source": [
    "bkg[\"y\"] = model.predict(scaler.transform(bkg[config[\"cols\"]].values), batch_size=2048)"
   ]
  },
  {
   "cell_type": "raw",
   "metadata": {
    "ExecuteTime": {
     "end_time": "2020-01-27T12:50:36.367097Z",
     "start_time": "2020-01-27T12:50:36.146436Z"
    }
   },
   "source": [
    "signal[\"y\"] = model.predict(scaler.transform(signal[config[\"cols\"]].values), batch_size=2048)"
   ]
  },
  {
   "cell_type": "raw",
   "metadata": {
    "ExecuteTime": {
     "end_time": "2020-01-27T12:50:40.753728Z",
     "start_time": "2020-01-27T12:50:40.440558Z"
    }
   },
   "source": [
    "wjets = bkg[bkg[\"sample_name\"] == \"Wjets\"]\n",
    "top = bkg[bkg[\"sample_name\"] == \"top\"]\n",
    "dy = bkg[bkg[\"sample_name\"] == \"DY\"]"
   ]
  },
  {
   "cell_type": "raw",
   "metadata": {
    "ExecuteTime": {
     "end_time": "2020-01-27T12:50:45.162949Z",
     "start_time": "2020-01-27T12:50:44.453275Z"
    }
   },
   "source": [
    "fig, ax1 = plt.subplots(figsize=(7,6), dpi=100)\n",
    "plt.hist(bkg[bkg[\"sample_name\"] == \"Wjets\"][\"y\"], bins=50, density=True, label=\"W+jets\", histtype=\"step\")\n",
    "plt.hist(bkg[bkg[\"sample_name\"] == \"top\"][\"y\"],   bins=50, density=True, label=\"top\",    histtype=\"step\")\n",
    "plt.hist(bkg[bkg[\"sample_name\"] == \"DY\"][\"y\"],    bins=50, density=True, label=\"DY\",     histtype=\"step\")\n",
    "\n",
    "plt.hist(signal[\"y\"], bins=50,density=True, label=\"signal\", histtype=\"step\")\n",
    "#plt.yscale(\"log\")\n",
    "plt.legend()"
   ]
  },
  {
   "cell_type": "raw",
   "metadata": {
    "ExecuteTime": {
     "end_time": "2020-01-27T12:50:49.149563Z",
     "start_time": "2020-01-27T12:50:48.775604Z"
    }
   },
   "source": [
    "fig, ax1 = plt.subplots(figsize=(7,6), dpi=100)\n",
    "plt.hist(wjets[\"y\"], weights=wjets.weight_norm, bins=50, density=True, label=\"W+jets\", histtype=\"step\")\n",
    "plt.hist(top[\"y\"],   weights=top.weight_norm,  bins=50, density=True, label=\"top\",    histtype=\"step\")\n",
    "plt.hist(dy[\"y\"],    weights=dy.weight_norm,  bins=50, density=True, label=\"DY\",     histtype=\"step\")\n",
    "\n",
    "plt.hist(signal[\"y\"], weights=signal.weight_norm, bins=50,density=True, label=\"signal\", histtype=\"step\")\n",
    "#plt.yscale(\"log\")\n",
    "plt.legend()"
   ]
  },
  {
   "cell_type": "raw",
   "metadata": {},
   "source": [
    "## some useful snippets\n",
    "\n",
    "## callbacks\n",
    "# auto_save = ModelCheckpoint(\"../models/model12_balanced_100_50.hd5\", monitor='val_loss', \n",
    "#                     verbose=1, save_best_only=True, save_weights_only=False, \n",
    "#                     mode='auto', period=5)\n",
    "#\n",
    "# early_stop = EarlyStopping(monitor='val_loss', min_delta=0.0001, \n",
    "#                             patience=10, verbose=1)\n",
    "\n",
    "\n",
    "\n",
    "\n",
    "\n",
    "\n",
    "## In case you do not want to use the generators\n",
    "# history = model.fit(\n",
    "#             X_train,y_train, \n",
    "#             sample_weight=W_train, \n",
    "#             epochs=50,\n",
    "#             validation_data = (X_val, y_val, W_val),\n",
    "#             batch_size=1024,\n",
    "#             shuffle=True \n",
    "#             )"
   ]
  },
  {
   "cell_type": "code",
   "execution_count": null,
   "metadata": {},
   "outputs": [],
   "source": []
  }
 ],
 "metadata": {
  "kernelspec": {
   "display_name": "Python 3",
   "language": "python",
   "name": "python3"
  },
  "language_info": {
   "codemirror_mode": {
    "name": "ipython",
    "version": 3
   },
   "file_extension": ".py",
   "mimetype": "text/x-python",
   "name": "python",
   "nbconvert_exporter": "python",
   "pygments_lexer": "ipython3",
   "version": "3.6.5"
  },
  "toc": {
   "base_numbering": 1,
   "nav_menu": {},
   "number_sections": true,
   "sideBar": true,
   "skip_h1_title": false,
   "title_cell": "Table of Contents",
   "title_sidebar": "Contents",
   "toc_cell": false,
   "toc_position": {},
   "toc_section_display": true,
   "toc_window_display": false
  },
  "varInspector": {
   "cols": {
    "lenName": 16,
    "lenType": 16,
    "lenVar": 40
   },
   "kernels_config": {
    "python": {
     "delete_cmd_postfix": "",
     "delete_cmd_prefix": "del ",
     "library": "var_list.py",
     "varRefreshCmd": "print(var_dic_list())"
    },
    "r": {
     "delete_cmd_postfix": ") ",
     "delete_cmd_prefix": "rm(",
     "library": "var_list.r",
     "varRefreshCmd": "cat(var_dic_list()) "
    }
   },
   "types_to_exclude": [
    "module",
    "function",
    "builtin_function_or_method",
    "instance",
    "_Feature"
   ],
   "window_display": false
  }
 },
 "nbformat": 4,
 "nbformat_minor": 2
}
