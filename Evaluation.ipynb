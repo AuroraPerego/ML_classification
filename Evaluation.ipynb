{
 "cells": [
  {
   "cell_type": "code",
   "execution_count": 1,
   "metadata": {
    "ExecuteTime": {
     "end_time": "2020-01-24T15:40:13.205437Z",
     "start_time": "2020-01-24T15:40:12.102486Z"
    }
   },
   "outputs": [],
   "source": [
    "import pickle\n",
    "import pandas as pd\n",
    "import numpy as np\n",
    "import matplotlib.pyplot as plt\n",
    "import os\n",
    "from collections import defaultdict\n",
    "import matplotlib as mpl\n",
    "\n",
    "mpl.rcParams['figure.figsize'] = (6,6)\n",
    "mpl.rcParams['figure.dpi'] = 100\n",
    "mpl.rcParams[\"image.origin\"] = 'lower'"
   ]
  },
  {
   "cell_type": "code",
   "execution_count": 2,
   "metadata": {
    "ExecuteTime": {
     "end_time": "2020-01-24T15:40:26.892066Z",
     "start_time": "2020-01-24T15:40:26.886056Z"
    }
   },
   "outputs": [],
   "source": [
    "samples_base_dir = \"/eos/home-d/dmapelli/public/latino/Full2017v6\"\n",
    "cut = \"lowen_looseVBS\"\n",
    "version = \"v4\"\n",
    "\n",
    "samples_dir = os.path.join(samples_base_dir, cut, \"samples\", version)\n",
    "model_dir   = os.path.join(samples_base_dir, cut, \"models\",  version)\n"
   ]
  },
  {
   "cell_type": "code",
   "execution_count": 3,
   "metadata": {
    "ExecuteTime": {
     "end_time": "2020-01-24T15:40:40.095237Z",
     "start_time": "2020-01-24T15:40:27.656890Z"
    }
   },
   "outputs": [
    {
     "name": "stderr",
     "output_type": "stream",
     "text": [
      "Using TensorFlow backend.\n"
     ]
    }
   ],
   "source": [
    "from sklearn.preprocessing import MinMaxScaler, StandardScaler, QuantileTransformer\n",
    "from sklearn.model_selection import train_test_split\n",
    "from imblearn.keras import balanced_batch_generator\n",
    "from imblearn.over_sampling import RandomOverSampler\n",
    "import tensorflow\n",
    "import keras\n",
    "import pandas as pd\n",
    "import numpy as np\n",
    "import matplotlib.pyplot as plt\n",
    "from keras.models import Model, Sequential\n",
    "from keras.layers import Dense, Conv2D, Dropout, BatchNormalization, Input, Reshape, Flatten, Deconvolution2D, Conv2DTranspose, MaxPooling2D, UpSampling2D, Lambda\n",
    "from keras.layers.advanced_activations import LeakyReLU\n",
    "from keras.optimizers import adam\n",
    "from keras import backend as K\n",
    "from keras.callbacks import *\n",
    "from keras.models import load_model"
   ]
  },
  {
   "cell_type": "code",
   "execution_count": 5,
   "metadata": {
    "ExecuteTime": {
     "end_time": "2020-01-24T15:42:03.482818Z",
     "start_time": "2020-01-24T15:42:00.478659Z"
    }
   },
   "outputs": [],
   "source": [
    "model = load_model(os.path.join(model_dir, \"model.h5\"))\n",
    "scaler = pickle.load(open(os.path.join(model_dir, \"scaler.pkl\"), \"rb\"))"
   ]
  },
  {
   "cell_type": "code",
   "execution_count": 8,
   "metadata": {
    "ExecuteTime": {
     "end_time": "2020-01-24T15:42:23.761606Z",
     "start_time": "2020-01-24T15:42:21.551569Z"
    }
   },
   "outputs": [],
   "source": [
    "signal = pickle.load(open(os.path.join(samples_dir, \"for_training/signal_balanced.pkl\"), \"rb\"))\n",
    "bkg = pickle.load(open(os.path.join(samples_dir, \"for_training/background_balanced.pkl\"), \"rb\"))"
   ]
  },
  {
   "cell_type": "code",
   "execution_count": 9,
   "metadata": {
    "ExecuteTime": {
     "end_time": "2020-01-24T15:42:39.407152Z",
     "start_time": "2020-01-24T15:42:39.304059Z"
    }
   },
   "outputs": [
    {
     "name": "stdout",
     "output_type": "stream",
     "text": [
      "<class 'list'> ['mjj_vbs', 'vbs_0_pt', 'vbs_1_pt', 'vbs_0_eta', 'vbs_1_eta', 'deltaeta_vbs', 'deltaphi_vbs', 'mjj_vjet', 'vjet_0_pt', 'vjet_1_pt', 'vjet_0_eta', 'vjet_1_eta', 'Lepton_pt', 'Lepton_eta', 'Lepton_flavour', 'PuppiMET', 'nJets', 'N_jets_central', 'N_jets_forward', 'Zvjets_0', 'Zlep', 'Asym_vbs', 'Asym_vjet', 'A_ww', 'Mw_lep_reco', 'Mtw_lep', 'w_lep_pt', 'Mww', 'R_ww', 'R_mw', 'Centr_vbs', 'Centr_ww']\n"
     ]
    }
   ],
   "source": [
    "import yaml\n",
    "yaml_vars = yaml.safe_load(open( os.path.join(model_dir, \"variables.yml\")))\n",
    "print(type(yaml_vars), yaml_vars)\n",
    "cols = yaml_vars"
   ]
  },
  {
   "cell_type": "code",
   "execution_count": 10,
   "metadata": {
    "ExecuteTime": {
     "end_time": "2020-01-24T15:43:07.964094Z",
     "start_time": "2020-01-24T15:42:56.203290Z"
    }
   },
   "outputs": [],
   "source": [
    "bkg[\"y\"] = model.predict(scaler.transform(bkg[cols].values))\n",
    "signal[\"y\"] = model.predict(scaler.transform(signal[cols].values))"
   ]
  },
  {
   "cell_type": "code",
   "execution_count": 12,
   "metadata": {
    "ExecuteTime": {
     "end_time": "2020-01-24T16:20:59.110546Z",
     "start_time": "2020-01-24T16:20:58.221140Z"
    },
    "scrolled": true
   },
   "outputs": [
    {
     "data": {
      "text/plain": [
       "<matplotlib.legend.Legend at 0x7ff2940ec630>"
      ]
     },
     "execution_count": 12,
     "metadata": {},
     "output_type": "execute_result"
    },
    {
     "data": {
      "image/png": "[encoded data removed]",
      "text/plain": [
       "<Figure size 700x600 with 1 Axes>"
      ]
     },
     "metadata": {},
     "output_type": "display_data"
    }
   ],
   "source": [
    "wjets = bkg[bkg.sample_name == \"Wjets\"]\n",
    "fig, ax1 = plt.subplots(figsize=(7,6), dpi=100)\n",
    "plt.hist(bkg[bkg[\"sample_name\"] == \"Wjets\"][\"y\"], weights=wjets.weight*wjets.XSWeight,   bins=50,density=True, label=\"W+jets\", histtype=\"step\")\n",
    "plt.hist(bkg[bkg[\"sample_name\"] == \"top\"][\"y\"], bins=50,density=True, label=\"top\", histtype=\"step\")\n",
    "plt.hist(bkg[bkg[\"sample_name\"] == \"DY\"][\"y\"], bins=50,density=True, label=\"DY\", histtype=\"step\")\n",
    "#plt.hist(bkg[\"y\"], bins=50,density=True, label=\"Tot. bkg\", histtype=\"step\")\n",
    "plt.hist(signal[\"y\"], bins=50,density=True, label=\"signal\", histtype=\"step\")\n",
    "#plt.hist(results[y_test==0], bins=50,density=True, label=\"false\", histtype=\"step\")\n",
    "#plt.hist(results[y_test==1], bins=50, density=True, label=\"true\", histtype=\"step\")\n",
    "#plt.yscale(\"log\")\n",
    "plt.legend()"
   ]
  },
  {
   "cell_type": "code",
   "execution_count": 13,
   "metadata": {
    "ExecuteTime": {
     "end_time": "2020-01-24T15:44:15.789485Z",
     "start_time": "2020-01-24T15:44:15.213340Z"
    },
    "collapsed": true
   },
   "outputs": [
    {
     "data": {
      "text/plain": [
       "<matplotlib.legend.Legend at 0x7ff24c7d1470>"
      ]
     },
     "execution_count": 13,
     "metadata": {},
     "output_type": "execute_result"
    },
    {
     "data": {
      "image/png": "[encoded data removed]",
      "text/plain": [
       "<Figure size 700x600 with 1 Axes>"
      ]
     },
     "metadata": {},
     "output_type": "display_data"
    }
   ],
   "source": [
    "fig, ax1 = plt.subplots(figsize=(7,6), dpi=100)\n",
    "wjet = bkg[bkg[\"sample_name\"] == \"Wjets\"]\n",
    "plt.hist(wjet[\"y\"], bins=50, label=\"W+jets\", histtype=\"step\")\n",
    "plt.hist(wjet[\"y\"], weights=wjet[\"weight\"], bins=50, label=\"W+jets weighted\", histtype=\"step\")\n",
    "plt.hist(wjet[\"y\"], weights=wjet[\"weight\"]*wjet[\"puWeight\"],bins=50, label=\"W+jets puWeight\", histtype=\"step\" )\n",
    "#plt.yscale(\"log\")\n",
    "plt.legend()"
   ]
  },
  {
   "cell_type": "code",
   "execution_count": null,
   "metadata": {},
   "outputs": [],
   "source": []
  },
  {
   "cell_type": "code",
   "execution_count": 14,
   "metadata": {
    "ExecuteTime": {
     "end_time": "2020-01-24T08:39:54.497394Z",
     "start_time": "2020-01-24T08:39:54.159390Z"
    }
   },
   "outputs": [
    {
     "data": {
      "image/png": "[encoded data removed]",
      "text/plain": [
       "<Figure size 432x288 with 1 Axes>"
      ]
     },
     "metadata": {},
     "output_type": "display_data"
    }
   ],
   "source": [
    "plt.hist(wjet[\"weight\"],bins=50, histtype=\"step\", density=True)\n",
    "_ = plt.hist(wjet[\"puWeight\"], bins=50, histtype=\"step\", density=True)\n",
    "_ = plt.hist(wjet[\"puWeight\"]*wjet[\"weight\"], bins=50, histtype=\"step\", density=True)"
   ]
  },
  {
   "cell_type": "code",
   "execution_count": 16,
   "metadata": {
    "ExecuteTime": {
     "end_time": "2020-01-24T08:58:57.078497Z",
     "start_time": "2020-01-24T08:58:56.756393Z"
    }
   },
   "outputs": [
    {
     "data": {
      "text/plain": [
       "(array([9.24088190e-01, 2.28410305e-01, 0.00000000e+00, 6.30907235e-01,\n",
       "        0.00000000e+00, 0.00000000e+00, 0.00000000e+00, 0.00000000e+00,\n",
       "        0.00000000e+00, 0.00000000e+00, 0.00000000e+00, 0.00000000e+00,\n",
       "        0.00000000e+00, 0.00000000e+00, 0.00000000e+00, 1.79544926e-01,\n",
       "        1.42726853e+00, 1.83637340e-01, 6.94770683e-01, 1.05363326e+00,\n",
       "        3.52729147e-01, 1.33545062e+00, 1.19067832e+00, 7.55231286e-01,\n",
       "        2.88635514e-01, 6.01134595e-01, 3.53638243e+00, 2.49158358e+00,\n",
       "        4.21362397e+00, 2.97910674e+00, 6.62657141e+00, 6.83634352e+00,\n",
       "        1.56203103e+01, 1.84997183e+01, 2.58015150e+01, 2.56374090e+01,\n",
       "        9.20929109e+00, 4.05589716e+00, 1.64022245e+00, 7.52725058e-01,\n",
       "        2.57730770e-01, 1.14545118e-01, 2.32044772e-01, 1.77272206e-02,\n",
       "        7.99997646e-02, 0.00000000e+00, 2.11366505e-02, 0.00000000e+00,\n",
       "        0.00000000e+00, 4.99998529e-02]),\n",
       " array([0.73777175, 0.74499094, 0.7522101 , 0.7594293 , 0.7666485 ,\n",
       "        0.7738676 , 0.7810868 , 0.788306  , 0.79552513, 0.8027443 ,\n",
       "        0.8099635 , 0.81718266, 0.82440186, 0.83162105, 0.83884025,\n",
       "        0.8460594 , 0.8532786 , 0.8604978 , 0.8677169 , 0.8749361 ,\n",
       "        0.8821553 , 0.88937443, 0.89659363, 0.9038128 , 0.91103196,\n",
       "        0.91825116, 0.92547035, 0.9326895 , 0.9399087 , 0.9471279 ,\n",
       "        0.954347  , 0.9615662 , 0.9687854 , 0.97600454, 0.98322374,\n",
       "        0.99044293, 0.99766207, 1.0048813 , 1.0121005 , 1.0193197 ,\n",
       "        1.0265388 , 1.0337579 , 1.0409771 , 1.0481963 , 1.0554155 ,\n",
       "        1.0626347 , 1.0698539 , 1.077073  , 1.0842922 , 1.0915114 ,\n",
       "        1.0987306 ], dtype=float32),\n",
       " <a list of 1 Patch objects>)"
      ]
     },
     "execution_count": 16,
     "metadata": {},
     "output_type": "execute_result"
    },
    {
     "data": {
      "image/png": "[encoded data removed]",
      "text/plain": [
       "<Figure size 432x288 with 1 Axes>"
      ]
     },
     "metadata": {},
     "output_type": "display_data"
    }
   ],
   "source": [
    "plt.hist(wjet[\"LepWPWeight\"], bins=50, density=True, histtype=\"step\")"
   ]
  },
  {
   "cell_type": "code",
   "execution_count": null,
   "metadata": {},
   "outputs": [],
   "source": []
  },
  {
   "cell_type": "code",
   "execution_count": null,
   "metadata": {},
   "outputs": [],
   "source": []
  },
  {
   "cell_type": "code",
   "execution_count": null,
   "metadata": {},
   "outputs": [],
   "source": []
  },
  {
   "cell_type": "code",
   "execution_count": null,
   "metadata": {},
   "outputs": [],
   "source": []
  },
  {
   "cell_type": "code",
   "execution_count": null,
   "metadata": {},
   "outputs": [],
   "source": []
  },
  {
   "cell_type": "code",
   "execution_count": null,
   "metadata": {},
   "outputs": [],
   "source": []
  },
  {
   "cell_type": "code",
   "execution_count": null,
   "metadata": {},
   "outputs": [],
   "source": []
  },
  {
   "cell_type": "code",
   "execution_count": null,
   "metadata": {},
   "outputs": [],
   "source": []
  },
  {
   "cell_type": "code",
   "execution_count": null,
   "metadata": {},
   "outputs": [],
   "source": []
  },
  {
   "cell_type": "code",
   "execution_count": 37,
   "metadata": {
    "ExecuteTime": {
     "end_time": "2020-01-24T09:28:48.043912Z",
     "start_time": "2020-01-24T09:28:47.945903Z"
    }
   },
   "outputs": [],
   "source": [
    "with open(f\"{samples_dir}/{cut}/models/scaler.txt\") as ifile:\n",
    "    l = ifile.readlines()"
   ]
  },
  {
   "cell_type": "code",
   "execution_count": 43,
   "metadata": {
    "ExecuteTime": {
     "end_time": "2020-01-24T09:43:14.975221Z",
     "start_time": "2020-01-24T09:43:14.970506Z"
    }
   },
   "outputs": [],
   "source": [
    "a = \"726.096(-0.571372) | 86.4375(-0.818756) | 64.75(-0.473159) | 1.9646(0.451289) | 2.56299(0.315718) | 1(1.20761) | 3(0.804023) | 4.52759(0.674675) | 2.43555(0.361432) | 184.695(9.64094) | 88.875(-0.131151) | 67.5(1.46933) | 1.04932(0.113146) | 2.23047(1.68678) | 0(-1.70437) | 2(-1.52953) | 61.0129(-0.447528) | 1.82422(0.967764) | 13(0.860881) | 105.174(-0.0402902) | 0(-4.56839) | 2(0.0202117) | 1(-0.142992) | -0.165678(-0.453072) | -0.336829(-0.702233) | 0.143448(-0.864211) | 0.136691(-0.702083) | 0.915667(0.920596) | 142.273(0.269505) | 121.448(0.756477) | 113.44(-0.413992) | 350.633(-0.305096) | 2.29926(-0.0783974) | 0.0626485(0.466448) | 1.58968(1.80226) | -1.08778(-1.17716) |\""
   ]
  },
  {
   "cell_type": "code",
   "execution_count": 50,
   "metadata": {
    "ExecuteTime": {
     "end_time": "2020-01-24T09:47:04.938490Z",
     "start_time": "2020-01-24T09:47:04.933333Z"
    }
   },
   "outputs": [],
   "source": [
    "import re\n",
    "\n",
    "reg = r\"[(](?P<n>-*\\d*[.]*\\d*)[)]\"\n",
    "\n",
    "inp = np.array(re.findall(reg, a), dtype=float)"
   ]
  },
  {
   "cell_type": "code",
   "execution_count": 51,
   "metadata": {
    "ExecuteTime": {
     "end_time": "2020-01-24T09:47:05.940640Z",
     "start_time": "2020-01-24T09:47:05.933650Z"
    }
   },
   "outputs": [
    {
     "data": {
      "text/plain": [
       "array([-0.571372 , -0.818756 , -0.473159 ,  0.451289 ,  0.315718 ,\n",
       "        1.20761  ,  0.804023 ,  0.674675 ,  0.361432 ,  9.64094  ,\n",
       "       -0.131151 ,  1.46933  ,  0.113146 ,  1.68678  , -1.70437  ,\n",
       "       -1.52953  , -0.447528 ,  0.967764 ,  0.860881 , -0.0402902,\n",
       "       -4.56839  ,  0.0202117, -0.142992 , -0.453072 , -0.702233 ,\n",
       "       -0.864211 , -0.702083 ,  0.920596 ,  0.269505 ,  0.756477 ,\n",
       "       -0.413992 , -0.305096 , -0.0783974,  0.466448 ,  1.80226  ,\n",
       "       -1.17716  ])"
      ]
     },
     "execution_count": 51,
     "metadata": {},
     "output_type": "execute_result"
    }
   ],
   "source": [
    "inp"
   ]
  },
  {
   "cell_type": "code",
   "execution_count": 54,
   "metadata": {
    "ExecuteTime": {
     "end_time": "2020-01-24T09:47:43.022401Z",
     "start_time": "2020-01-24T09:47:42.998436Z"
    }
   },
   "outputs": [
    {
     "data": {
      "text/plain": [
       "array([[0.30142498]], dtype=float32)"
      ]
     },
     "execution_count": 54,
     "metadata": {},
     "output_type": "execute_result"
    }
   ],
   "source": [
    "model.predict(np.array([inp]))"
   ]
  },
  {
   "cell_type": "code",
   "execution_count": 41,
   "metadata": {
    "ExecuteTime": {
     "end_time": "2020-01-24T09:29:35.085724Z",
     "start_time": "2020-01-24T09:29:35.077683Z"
    }
   },
   "outputs": [
    {
     "data": {
      "text/plain": [
       "array([8.46335884e+02, 2.76579411e+02, 1.77297654e+02, 9.51182519e-01,\n",
       "       1.08739981e+00, 6.06909430e-01, 1.18741468e+00, 1.24078604e+00,\n",
       "       8.48701409e-01, 1.03096831e+01, 7.68666235e+01, 1.56707771e+01,\n",
       "       7.23819485e-01, 7.29768253e-01, 1.14918494e+00, 1.10385602e+00,\n",
       "       1.00734865e+02, 6.81742232e-01, 9.88884058e-01, 1.14621331e+02,\n",
       "       1.11905280e+00, 1.58129582e+00, 1.19399079e+00, 3.64925957e-01,\n",
       "       4.79570127e-01, 2.44018592e-01, 2.17509746e-01, 2.61633219e-01,\n",
       "       1.03852266e+02, 5.71982227e+01, 1.73849812e+02, 2.42977310e+02,\n",
       "       8.05476762e+00, 5.45340548e-02, 3.32291938e-01, 1.00158982e+00])"
      ]
     },
     "execution_count": 41,
     "metadata": {},
     "output_type": "execute_result"
    }
   ],
   "source": [
    "scaler.scale_"
   ]
  },
  {
   "cell_type": "code",
   "execution_count": null,
   "metadata": {},
   "outputs": [],
   "source": []
  }
 ],
 "metadata": {
  "kernelspec": {
   "display_name": "Python 3",
   "language": "python",
   "name": "python3"
  },
  "language_info": {
   "codemirror_mode": {
    "name": "ipython",
    "version": 3
   },
   "file_extension": ".py",
   "mimetype": "text/x-python",
   "name": "python",
   "nbconvert_exporter": "python",
   "pygments_lexer": "ipython3",
   "version": "3.6.5"
  },
  "toc": {
   "base_numbering": 1,
   "nav_menu": {},
   "number_sections": true,
   "sideBar": true,
   "skip_h1_title": false,
   "title_cell": "Table of Contents",
   "title_sidebar": "Contents",
   "toc_cell": false,
   "toc_position": {},
   "toc_section_display": true,
   "toc_window_display": false
  },
  "varInspector": {
   "cols": {
    "lenName": 16,
    "lenType": 16,
    "lenVar": 40
   },
   "kernels_config": {
    "python": {
     "delete_cmd_postfix": "",
     "delete_cmd_prefix": "del ",
     "library": "var_list.py",
     "varRefreshCmd": "print(var_dic_list())"
    },
    "r": {
     "delete_cmd_postfix": ") ",
     "delete_cmd_prefix": "rm(",
     "library": "var_list.r",
     "varRefreshCmd": "cat(var_dic_list()) "
    }
   },
   "types_to_exclude": [
    "module",
    "function",
    "builtin_function_or_method",
    "instance",
    "_Feature"
   ],
   "window_display": false
  }
 },
 "nbformat": 4,
 "nbformat_minor": 2
}
