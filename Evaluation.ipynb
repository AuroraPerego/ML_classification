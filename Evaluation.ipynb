{
 "cells": [
  {
   "cell_type": "code",
   "execution_count": 1,
   "metadata": {
    "ExecuteTime": {
     "end_time": "2020-01-24T15:40:13.205437Z",
     "start_time": "2020-01-24T15:40:12.102486Z"
    }
   },
   "outputs": [],
   "source": [
    "import pickle\n",
    "import pandas as pd\n",
    "import numpy as np\n",
    "import matplotlib.pyplot as plt\n",
    "import os\n",
    "from collections import defaultdict\n",
    "import matplotlib as mpl\n",
    "\n",
    "mpl.rcParams['figure.figsize'] = (6,6)\n",
    "mpl.rcParams['figure.dpi'] = 100\n",
    "mpl.rcParams[\"image.origin\"] = 'lower'"
   ]
  },
  {
   "cell_type": "code",
   "execution_count": 2,
   "metadata": {
    "ExecuteTime": {
     "end_time": "2020-01-24T15:40:26.892066Z",
     "start_time": "2020-01-24T15:40:26.886056Z"
    }
   },
   "outputs": [],
   "source": [
    "samples_dir = \"/eos/home-d/dmapelli/public/latino/Full2017v6\"\n",
    "cut = \"lowen_looseVBS\""
   ]
  },
  {
   "cell_type": "code",
   "execution_count": 3,
   "metadata": {
    "ExecuteTime": {
     "end_time": "2020-01-24T15:40:40.095237Z",
     "start_time": "2020-01-24T15:40:27.656890Z"
    }
   },
   "outputs": [
    {
     "name": "stderr",
     "output_type": "stream",
     "text": [
      "Using TensorFlow backend.\n"
     ]
    }
   ],
   "source": [
    "from sklearn.preprocessing import MinMaxScaler, StandardScaler, QuantileTransformer\n",
    "from sklearn.model_selection import train_test_split\n",
    "from imblearn.keras import balanced_batch_generator\n",
    "from imblearn.over_sampling import RandomOverSampler\n",
    "import tensorflow\n",
    "import keras\n",
    "import pandas as pd\n",
    "import numpy as np\n",
    "import matplotlib.pyplot as plt\n",
    "from keras.models import Model, Sequential\n",
    "from keras.layers import Dense, Conv2D, Dropout, BatchNormalization, Input, Reshape, Flatten, Deconvolution2D, Conv2DTranspose, MaxPooling2D, UpSampling2D, Lambda\n",
    "from keras.layers.advanced_activations import LeakyReLU\n",
    "from keras.optimizers import adam\n",
    "from keras import backend as K\n",
    "from keras.callbacks import *\n",
    "from keras.models import load_model"
   ]
  },
  {
   "cell_type": "code",
   "execution_count": 8,
   "metadata": {
    "ExecuteTime": {
     "end_time": "2020-01-24T08:26:17.366754Z",
     "start_time": "2020-01-24T08:26:15.988387Z"
    }
   },
   "outputs": [
    {
     "name": "stdout",
     "output_type": "stream",
     "text": [
      "model.pb     scaler_model_v0.pb   scaler_model_v0.txt  tf_metadata.txt\r\n",
      "model_v0.h5  scaler_model_v0.pkl  scaler.txt\t       variables.yml\r\n"
     ]
    }
   ],
   "source": [
    "!ls /eos/home-d/dmapelli/public/latino/Full2017v6_200121_v1/lowen_looseVBS/models"
   ]
  },
  {
   "cell_type": "code",
   "execution_count": 8,
   "metadata": {
    "ExecuteTime": {
     "end_time": "2020-01-24T15:42:03.482818Z",
     "start_time": "2020-01-24T15:42:00.478659Z"
    }
   },
   "outputs": [
    {
     "name": "stderr",
     "output_type": "stream",
     "text": [
      "WARNING: Logging before flag parsing goes to stderr.\n",
      "W0124 16:42:01.947546 139637175904064 deprecation_wrapper.py:119] From /cvmfs/sft.cern.ch/lcg/views/LCG_96python3/x86_64-centos7-gcc8-opt/lib/python3.6/site-packages/keras/backend/tensorflow_backend.py:517: The name tf.placeholder is deprecated. Please use tf.compat.v1.placeholder instead.\n",
      "\n",
      "W0124 16:42:01.986575 139637175904064 deprecation_wrapper.py:119] From /cvmfs/sft.cern.ch/lcg/views/LCG_96python3/x86_64-centos7-gcc8-opt/lib/python3.6/site-packages/keras/backend/tensorflow_backend.py:4138: The name tf.random_uniform is deprecated. Please use tf.random.uniform instead.\n",
      "\n",
      "W0124 16:42:02.012725 139637175904064 deprecation_wrapper.py:119] From /cvmfs/sft.cern.ch/lcg/views/LCG_96python3/x86_64-centos7-gcc8-opt/lib/python3.6/site-packages/keras/backend/tensorflow_backend.py:131: The name tf.get_default_graph is deprecated. Please use tf.compat.v1.get_default_graph instead.\n",
      "\n",
      "W0124 16:42:02.013673 139637175904064 deprecation_wrapper.py:119] From /cvmfs/sft.cern.ch/lcg/views/LCG_96python3/x86_64-centos7-gcc8-opt/lib/python3.6/site-packages/keras/backend/tensorflow_backend.py:133: The name tf.placeholder_with_default is deprecated. Please use tf.compat.v1.placeholder_with_default instead.\n",
      "\n",
      "W0124 16:42:02.026571 139637175904064 deprecation.py:506] From /cvmfs/sft.cern.ch/lcg/views/LCG_96python3/x86_64-centos7-gcc8-opt/lib/python3.6/site-packages/keras/backend/tensorflow_backend.py:3445: calling dropout (from tensorflow.python.ops.nn_ops) with keep_prob is deprecated and will be removed in a future version.\n",
      "Instructions for updating:\n",
      "Please use `rate` instead of `keep_prob`. Rate should be set to `rate = 1 - keep_prob`.\n",
      "W0124 16:42:02.146468 139637175904064 deprecation_wrapper.py:119] From /cvmfs/sft.cern.ch/lcg/views/LCG_96python3/x86_64-centos7-gcc8-opt/lib/python3.6/site-packages/keras/backend/tensorflow_backend.py:174: The name tf.get_default_session is deprecated. Please use tf.compat.v1.get_default_session instead.\n",
      "\n",
      "W0124 16:42:02.444077 139637175904064 deprecation_wrapper.py:119] From /cvmfs/sft.cern.ch/lcg/views/LCG_96python3/x86_64-centos7-gcc8-opt/lib/python3.6/site-packages/keras/optimizers.py:790: The name tf.train.Optimizer is deprecated. Please use tf.compat.v1.train.Optimizer instead.\n",
      "\n",
      "W0124 16:42:02.460714 139637175904064 deprecation.py:323] From /cvmfs/sft.cern.ch/lcg/views/LCG_96python3/x86_64-centos7-gcc8-opt/lib/python3.6/site-packages/tensorflow/python/ops/nn_impl.py:180: add_dispatch_support.<locals>.wrapper (from tensorflow.python.ops.array_ops) is deprecated and will be removed in a future version.\n",
      "Instructions for updating:\n",
      "Use tf.where in 2.0, which has the same broadcast rule as np.where\n"
     ]
    }
   ],
   "source": [
    "model_version = \"v1\"\n",
    "model = load_model(f\"{samples_dir}/{cut}/models/{model_version}/model_v1.h5\")\n",
    "scaler = pickle.load(open(f\"{samples_dir}/{cut}/models/{model_version}/scaler.pkl\", \"rb\"))"
   ]
  },
  {
   "cell_type": "code",
   "execution_count": 9,
   "metadata": {
    "ExecuteTime": {
     "end_time": "2020-01-24T15:42:23.761606Z",
     "start_time": "2020-01-24T15:42:21.551569Z"
    }
   },
   "outputs": [],
   "source": [
    "signal = pickle.load(open(f\"{samples_dir}/{cut}/samples/for_training/signal.pkl\", \"rb\"))\n",
    "bkg = pickle.load(open(f\"{samples_dir}/{cut}/samples/for_training/background_balanced.pkl\", \"rb\"))"
   ]
  },
  {
   "cell_type": "code",
   "execution_count": 11,
   "metadata": {
    "ExecuteTime": {
     "end_time": "2020-01-24T15:42:39.407152Z",
     "start_time": "2020-01-24T15:42:39.304059Z"
    }
   },
   "outputs": [
    {
     "name": "stdout",
     "output_type": "stream",
     "text": [
      "<class 'list'> ['mjj_vbs', 'vbs_0_pt', 'vbs_1_pt', 'vbs_0_eta', 'vbs_1_eta', 'deltaeta_vbs', 'deltaphi_vbs', 'mjj_vjet', 'vjet_0_pt', 'vjet_1_pt', 'vjet_0_eta', 'vjet_1_eta', 'Lepton_pt', 'Lepton_eta', 'Lepton_flavour', 'PuppiMET', 'nJets', 'N_jets_central', 'N_jets_forward', 'Zvjets_0', 'Zlep', 'Asym_vbs', 'Asym_vjet', 'A_ww', 'Mw_lep_reco', 'Mtw_lep', 'w_lep_pt', 'Mww', 'R_ww', 'R_mw', 'Centr_vbs', 'Centr_ww']\n"
     ]
    }
   ],
   "source": [
    "import yaml\n",
    "yaml_vars = yaml.safe_load(open(samples_dir + \"/\" + cut + f\"/models/{model_version}/variables.yml\"))\n",
    "print(type(yaml_vars), yaml_vars)\n",
    "cols = yaml_vars"
   ]
  },
  {
   "cell_type": "code",
   "execution_count": 12,
   "metadata": {
    "ExecuteTime": {
     "end_time": "2020-01-24T15:43:07.964094Z",
     "start_time": "2020-01-24T15:42:56.203290Z"
    }
   },
   "outputs": [],
   "source": [
    "bkg[\"y\"] = model.predict(scaler.transform(bkg[cols].values))\n",
    "signal[\"y\"] = model.predict(scaler.transform(signal[cols].values))"
   ]
  },
  {
   "cell_type": "code",
   "execution_count": 22,
   "metadata": {
    "ExecuteTime": {
     "end_time": "2020-01-24T16:20:54.497591Z",
     "start_time": "2020-01-24T16:20:54.487459Z"
    }
   },
   "outputs": [
    {
     "data": {
      "text/plain": [
       "Index(['weight', 'XSWeight', 'Lepton_RecoSF', 'LepWPWeight', 'puWeight',\n",
       "       'TriggerEffWeight_1l', 'btagSF', 'PrefireWeight', 'events', 'Lepton_pt',\n",
       "       'Lepton_eta', 'Lepton_phi', 'Lepton_flavour', 'PuppiMET',\n",
       "       'PuppiMET_phi', 'MET_pt', 'recoMET_pz', 'nJets', 'N_jets_central',\n",
       "       'N_jets_forward', 'mjj_vbs', 'deltaeta_vbs', 'deltaphi_vbs',\n",
       "       'vbs_etaprod', 'vbs_0_pt', 'vbs_1_pt', 'vbs_0_eta', 'vbs_1_eta',\n",
       "       'vbs_0_phi', 'vbs_1_phi', 'vbs_index_0', 'vbs_index_1', 'mjj_vjet',\n",
       "       'vjet_0_pt', 'vjet_1_pt', 'vjet_0_eta', 'vjet_1_eta', 'vjet_0_phi',\n",
       "       'vjet_1_phi', 'vjet_index_0', 'vjet_index_1', 'Zvjets_0', 'Zlep',\n",
       "       'Asym_vbs', 'Asym_vjet', 'Mw_lep_reco', 'Mtw_lep', 'w_lep_pt', 'Mww',\n",
       "       'R_ww', 'R_mw', 'A_ww', 'Centr_vbs', 'Centr_ww', 'nvtx', 'qgl',\n",
       "       'sample_name', 'class', 'signal', 'class_weight', 'y'],\n",
       "      dtype='object')"
      ]
     },
     "execution_count": 22,
     "metadata": {},
     "output_type": "execute_result"
    }
   ],
   "source": [
    "wjets.columns"
   ]
  },
  {
   "cell_type": "code",
   "execution_count": 23,
   "metadata": {
    "ExecuteTime": {
     "end_time": "2020-01-24T16:20:59.110546Z",
     "start_time": "2020-01-24T16:20:58.221140Z"
    }
   },
   "outputs": [
    {
     "data": {
      "text/plain": [
       "<matplotlib.legend.Legend at 0x7eff143d6208>"
      ]
     },
     "execution_count": 23,
     "metadata": {},
     "output_type": "execute_result"
    },
    {
     "data": {
      "image/png": "[encoded data removed]",
      "text/plain": [
       "<Figure size 700x600 with 1 Axes>"
      ]
     },
     "metadata": {},
     "output_type": "display_data"
    }
   ],
   "source": [
    "wjets = bkg[bkg.sample_name == \"Wjets\"]\n",
    "fig, ax1 = plt.subplots(figsize=(7,6), dpi=100)\n",
    "plt.hist(bkg[bkg[\"sample_name\"] == \"Wjets\"][\"y\"], weights=wjets.weight*wjets.XSWeight,   bins=50,density=True, label=\"W+jets\", histtype=\"step\")\n",
    "plt.hist(bkg[bkg[\"sample_name\"] == \"top\"][\"y\"], bins=50,density=True, label=\"top\", histtype=\"step\")\n",
    "plt.hist(bkg[bkg[\"sample_name\"] == \"DY\"][\"y\"], bins=50,density=True, label=\"DY\", histtype=\"step\")\n",
    "#plt.hist(bkg[\"y\"], bins=50,density=True, label=\"Tot. bkg\", histtype=\"step\")\n",
    "plt.hist(signal[\"y\"], bins=50,density=True, label=\"signal\", histtype=\"step\")\n",
    "#plt.hist(results[y_test==0], bins=50,density=True, label=\"false\", histtype=\"step\")\n",
    "#plt.hist(results[y_test==1], bins=50, density=True, label=\"true\", histtype=\"step\")\n",
    "#plt.yscale(\"log\")\n",
    "plt.legend()"
   ]
  },
  {
   "cell_type": "code",
   "execution_count": 19,
   "metadata": {
    "ExecuteTime": {
     "end_time": "2020-01-24T15:44:15.789485Z",
     "start_time": "2020-01-24T15:44:15.213340Z"
    }
   },
   "outputs": [
    {
     "data": {
      "text/plain": [
       "<matplotlib.legend.Legend at 0x7eff4808e518>"
      ]
     },
     "execution_count": 19,
     "metadata": {},
     "output_type": "execute_result"
    },
    {
     "data": {
      "image/png": "[encoded data removed]",
      "text/plain": [
       "<Figure size 700x600 with 1 Axes>"
      ]
     },
     "metadata": {},
     "output_type": "display_data"
    }
   ],
   "source": [
    "fig, ax1 = plt.subplots(figsize=(7,6), dpi=100)\n",
    "wjet = bkg[bkg[\"sample_name\"] == \"Wjets\"]\n",
    "plt.hist(wjet[\"y\"], bins=50, label=\"W+jets\", histtype=\"step\")\n",
    "plt.hist(wjet[\"y\"], weights=wjet[\"weight\"], bins=50, label=\"W+jets weighted\", histtype=\"step\")\n",
    "plt.hist(wjet[\"y\"], weights=wjet[\"weight\"]*wjet[\"puWeight\"],bins=50, label=\"W+jets puWeight\", histtype=\"step\" )\n",
    "#plt.yscale(\"log\")\n",
    "plt.legend()"
   ]
  },
  {
   "cell_type": "code",
   "execution_count": 31,
   "metadata": {
    "ExecuteTime": {
     "end_time": "2020-01-24T08:39:54.497394Z",
     "start_time": "2020-01-24T08:39:54.159390Z"
    }
   },
   "outputs": [
    {
     "data": {
      "image/png": "[encoded data removed]",
      "text/plain": [
       "<Figure size 600x600 with 1 Axes>"
      ]
     },
     "metadata": {},
     "output_type": "display_data"
    }
   ],
   "source": [
    "plt.hist(wjet[\"weight\"],bins=50, histtype=\"step\", density=True)\n",
    "_ = plt.hist(wjet[\"puWeight\"], bins=50, histtype=\"step\", density=True)\n",
    "_ = plt.hist(wjet[\"puWeight\"]*wjet[\"weight\"], bins=50, histtype=\"step\", density=True)"
   ]
  },
  {
   "cell_type": "code",
   "execution_count": 34,
   "metadata": {
    "ExecuteTime": {
     "end_time": "2020-01-24T08:58:57.078497Z",
     "start_time": "2020-01-24T08:58:56.756393Z"
    }
   },
   "outputs": [
    {
     "data": {
      "text/plain": [
       "(array([9.44717044e-01, 2.26150349e-01, 0.00000000e+00, 6.39980307e-01,\n",
       "        0.00000000e+00, 0.00000000e+00, 0.00000000e+00, 0.00000000e+00,\n",
       "        0.00000000e+00, 0.00000000e+00, 0.00000000e+00, 0.00000000e+00,\n",
       "        0.00000000e+00, 0.00000000e+00, 0.00000000e+00, 1.82377808e-01,\n",
       "        1.42851563e+00, 1.86026900e-01, 6.95356841e-01, 1.06276522e+00,\n",
       "        3.65753423e-01, 1.34196907e+00, 1.20468832e+00, 7.55713555e-01,\n",
       "        2.98768009e-01, 6.15110606e-01, 3.54711185e+00, 2.50189192e+00,\n",
       "        4.18441010e+00, 3.02384902e+00, 6.59279195e+00, 6.80003946e+00,\n",
       "        1.54660974e+01, 1.85982256e+01, 2.57424618e+01, 2.58726610e+01,\n",
       "        9.11093208e+00, 4.04480818e+00, 1.60061396e+00, 7.32495595e-01,\n",
       "        2.43063892e-01, 1.19374565e-01, 2.24822097e-01, 1.95641648e-02,\n",
       "        7.75934673e-02, 0.00000000e+00, 2.08908938e-02, 0.00000000e+00,\n",
       "        0.00000000e+00, 4.84130180e-02]),\n",
       " array([0.73777175, 0.74499094, 0.7522101 , 0.7594293 , 0.7666485 ,\n",
       "        0.7738676 , 0.7810868 , 0.788306  , 0.79552513, 0.8027443 ,\n",
       "        0.8099635 , 0.81718266, 0.82440186, 0.83162105, 0.83884025,\n",
       "        0.8460594 , 0.8532786 , 0.8604978 , 0.8677169 , 0.8749361 ,\n",
       "        0.8821553 , 0.88937443, 0.89659363, 0.9038128 , 0.91103196,\n",
       "        0.91825116, 0.92547035, 0.9326895 , 0.9399087 , 0.9471279 ,\n",
       "        0.954347  , 0.9615662 , 0.9687854 , 0.97600454, 0.98322374,\n",
       "        0.99044293, 0.99766207, 1.0048813 , 1.0121005 , 1.0193197 ,\n",
       "        1.0265388 , 1.0337579 , 1.0409771 , 1.0481963 , 1.0554155 ,\n",
       "        1.0626347 , 1.0698539 , 1.077073  , 1.0842922 , 1.0915114 ,\n",
       "        1.0987306 ], dtype=float32),\n",
       " <a list of 1 Patch objects>)"
      ]
     },
     "execution_count": 34,
     "metadata": {},
     "output_type": "execute_result"
    },
    {
     "data": {
      "image/png": "[encoded data removed]",
      "text/plain": [
       "<Figure size 600x600 with 1 Axes>"
      ]
     },
     "metadata": {},
     "output_type": "display_data"
    }
   ],
   "source": [
    "plt.hist(wjet[\"LepWPWeight\"], bins=50, density=True, histtype=\"step\")"
   ]
  },
  {
   "cell_type": "code",
   "execution_count": 37,
   "metadata": {
    "ExecuteTime": {
     "end_time": "2020-01-24T09:28:48.043912Z",
     "start_time": "2020-01-24T09:28:47.945903Z"
    }
   },
   "outputs": [],
   "source": [
    "with open(f\"{samples_dir}/{cut}/models/scaler.txt\") as ifile:\n",
    "    l = ifile.readlines()"
   ]
  },
  {
   "cell_type": "code",
   "execution_count": 43,
   "metadata": {
    "ExecuteTime": {
     "end_time": "2020-01-24T09:43:14.975221Z",
     "start_time": "2020-01-24T09:43:14.970506Z"
    }
   },
   "outputs": [],
   "source": [
    "a = \"726.096(-0.571372) | 86.4375(-0.818756) | 64.75(-0.473159) | 1.9646(0.451289) | 2.56299(0.315718) | 1(1.20761) | 3(0.804023) | 4.52759(0.674675) | 2.43555(0.361432) | 184.695(9.64094) | 88.875(-0.131151) | 67.5(1.46933) | 1.04932(0.113146) | 2.23047(1.68678) | 0(-1.70437) | 2(-1.52953) | 61.0129(-0.447528) | 1.82422(0.967764) | 13(0.860881) | 105.174(-0.0402902) | 0(-4.56839) | 2(0.0202117) | 1(-0.142992) | -0.165678(-0.453072) | -0.336829(-0.702233) | 0.143448(-0.864211) | 0.136691(-0.702083) | 0.915667(0.920596) | 142.273(0.269505) | 121.448(0.756477) | 113.44(-0.413992) | 350.633(-0.305096) | 2.29926(-0.0783974) | 0.0626485(0.466448) | 1.58968(1.80226) | -1.08778(-1.17716) |\""
   ]
  },
  {
   "cell_type": "code",
   "execution_count": 50,
   "metadata": {
    "ExecuteTime": {
     "end_time": "2020-01-24T09:47:04.938490Z",
     "start_time": "2020-01-24T09:47:04.933333Z"
    }
   },
   "outputs": [],
   "source": [
    "import re\n",
    "\n",
    "reg = r\"[(](?P<n>-*\\d*[.]*\\d*)[)]\"\n",
    "\n",
    "inp = np.array(re.findall(reg, a), dtype=float)"
   ]
  },
  {
   "cell_type": "code",
   "execution_count": 51,
   "metadata": {
    "ExecuteTime": {
     "end_time": "2020-01-24T09:47:05.940640Z",
     "start_time": "2020-01-24T09:47:05.933650Z"
    }
   },
   "outputs": [
    {
     "data": {
      "text/plain": [
       "array([-0.571372 , -0.818756 , -0.473159 ,  0.451289 ,  0.315718 ,\n",
       "        1.20761  ,  0.804023 ,  0.674675 ,  0.361432 ,  9.64094  ,\n",
       "       -0.131151 ,  1.46933  ,  0.113146 ,  1.68678  , -1.70437  ,\n",
       "       -1.52953  , -0.447528 ,  0.967764 ,  0.860881 , -0.0402902,\n",
       "       -4.56839  ,  0.0202117, -0.142992 , -0.453072 , -0.702233 ,\n",
       "       -0.864211 , -0.702083 ,  0.920596 ,  0.269505 ,  0.756477 ,\n",
       "       -0.413992 , -0.305096 , -0.0783974,  0.466448 ,  1.80226  ,\n",
       "       -1.17716  ])"
      ]
     },
     "execution_count": 51,
     "metadata": {},
     "output_type": "execute_result"
    }
   ],
   "source": [
    "inp"
   ]
  },
  {
   "cell_type": "code",
   "execution_count": 54,
   "metadata": {
    "ExecuteTime": {
     "end_time": "2020-01-24T09:47:43.022401Z",
     "start_time": "2020-01-24T09:47:42.998436Z"
    }
   },
   "outputs": [
    {
     "data": {
      "text/plain": [
       "array([[0.30142498]], dtype=float32)"
      ]
     },
     "execution_count": 54,
     "metadata": {},
     "output_type": "execute_result"
    }
   ],
   "source": [
    "model.predict(np.array([inp]))"
   ]
  },
  {
   "cell_type": "code",
   "execution_count": 41,
   "metadata": {
    "ExecuteTime": {
     "end_time": "2020-01-24T09:29:35.085724Z",
     "start_time": "2020-01-24T09:29:35.077683Z"
    }
   },
   "outputs": [
    {
     "data": {
      "text/plain": [
       "array([8.46335884e+02, 2.76579411e+02, 1.77297654e+02, 9.51182519e-01,\n",
       "       1.08739981e+00, 6.06909430e-01, 1.18741468e+00, 1.24078604e+00,\n",
       "       8.48701409e-01, 1.03096831e+01, 7.68666235e+01, 1.56707771e+01,\n",
       "       7.23819485e-01, 7.29768253e-01, 1.14918494e+00, 1.10385602e+00,\n",
       "       1.00734865e+02, 6.81742232e-01, 9.88884058e-01, 1.14621331e+02,\n",
       "       1.11905280e+00, 1.58129582e+00, 1.19399079e+00, 3.64925957e-01,\n",
       "       4.79570127e-01, 2.44018592e-01, 2.17509746e-01, 2.61633219e-01,\n",
       "       1.03852266e+02, 5.71982227e+01, 1.73849812e+02, 2.42977310e+02,\n",
       "       8.05476762e+00, 5.45340548e-02, 3.32291938e-01, 1.00158982e+00])"
      ]
     },
     "execution_count": 41,
     "metadata": {},
     "output_type": "execute_result"
    }
   ],
   "source": [
    "scaler.scale_"
   ]
  },
  {
   "cell_type": "code",
   "execution_count": null,
   "metadata": {},
   "outputs": [],
   "source": []
  }
 ],
 "metadata": {
  "kernelspec": {
   "display_name": "Python 3",
   "language": "python",
   "name": "python3"
  },
  "language_info": {
   "codemirror_mode": {
    "name": "ipython",
    "version": 3
   },
   "file_extension": ".py",
   "mimetype": "text/x-python",
   "name": "python",
   "nbconvert_exporter": "python",
   "pygments_lexer": "ipython3",
   "version": "3.6.5"
  },
  "toc": {
   "base_numbering": 1,
   "nav_menu": {},
   "number_sections": true,
   "sideBar": true,
   "skip_h1_title": false,
   "title_cell": "Table of Contents",
   "title_sidebar": "Contents",
   "toc_cell": false,
   "toc_position": {},
   "toc_section_display": true,
   "toc_window_display": false
  },
  "varInspector": {
   "cols": {
    "lenName": 16,
    "lenType": 16,
    "lenVar": 40
   },
   "kernels_config": {
    "python": {
     "delete_cmd_postfix": "",
     "delete_cmd_prefix": "del ",
     "library": "var_list.py",
     "varRefreshCmd": "print(var_dic_list())"
    },
    "r": {
     "delete_cmd_postfix": ") ",
     "delete_cmd_prefix": "rm(",
     "library": "var_list.r",
     "varRefreshCmd": "cat(var_dic_list()) "
    }
   },
   "types_to_exclude": [
    "module",
    "function",
    "builtin_function_or_method",
    "instance",
    "_Feature"
   ],
   "window_display": false
  }
 },
 "nbformat": 4,
 "nbformat_minor": 2
}
