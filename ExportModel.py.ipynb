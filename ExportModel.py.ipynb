{
 "cells": [
  {
   "cell_type": "code",
   "execution_count": 10,
   "metadata": {},
   "outputs": [],
   "source": [
    "config = {\n",
    "    \"base_dir\":        \"/storage/vbsjjlnu/VBSjjlnu_v7/\",\n",
    "    \"plot_config\":     \"FullRun2_v7\",\n",
    "    \"cut\":             \"res_sig\",\n",
    "    \"model_version\":   \"v5\",\n",
    "}\n",
    "\n",
    "\n",
    "import os\n",
    "\n",
    "config_base_dir = os.path.join(config[\"base_dir\"], config[\"plot_config\"])\n",
    "\n",
    "# create the model directory\n",
    "model_dir   = os.path.join(config_base_dir, config[\"cut\"] , \"models\",  config[\"model_version\"])\n",
    "os.makedirs(model_dir, exist_ok=True)\n",
    "\n",
    "import yaml\n",
    "model_config_file = open(model_dir + \"/model_config.yml\", \"r\")\n",
    "model_config = yaml.safe_load(model_config_file)\n",
    "\n",
    "for key in [\"samples_version\", \"cols\"]:\n",
    "    config[key] = model_config[key]"
   ]
  },
  {
   "cell_type": "code",
   "execution_count": 11,
   "metadata": {},
   "outputs": [
    {
     "name": "stdout",
     "output_type": "stream",
     "text": [
      "inputs:  ['dense_14_input']\n",
      "outputs:  ['dense_18/Sigmoid']\n",
      "INFO:tensorflow:Froze 26 variables.\n",
      "INFO:tensorflow:Converted 26 variables to const ops.\n"
     ]
    }
   ],
   "source": [
    "import tensorflow as tf\n",
    "\n",
    "\n",
    "# for tf v2, fgo into v1 compatibility mode\n",
    "if tf.__version__.startswith(\"2.\"):\n",
    "    tf = tf.compat.v1\n",
    "tf.disable_eager_execution()\n",
    "\n",
    "sess = tf.Session()\n",
    "\n",
    "tf.keras.backend.set_session(sess)\n",
    "\n",
    "\n",
    "model = tf.keras.models.load_model(os.path.join(model_dir, \"model.h5\"))\n",
    "\n",
    "\n",
    "#————- Salvo qui ————\n",
    "# inputs:  ['Input']\n",
    "print('inputs: ', [input.op.name for input in model.inputs])\n",
    "\n",
    "# outputs:  ['Output/Sigmoid']\n",
    "print('outputs: ', [output.op.name for output in model.outputs])\n",
    "\n",
    "outputs = [output.op.name for output in model.outputs]\n",
    "constant_graph = tf.graph_util.convert_variables_to_constants(\n",
    "    sess, sess.graph.as_graph_def(), outputs)\n",
    "tf.train.write_graph(constant_graph, model_dir, \"model.pb\", as_text=False)\n",
    "\n",
    "## save tensorflow metadata\n",
    "with open(os.path.join(model_dir, \"tf_metadata.txt\"), \"w\") as f:\n",
    "    f.write(str(model.inputs[0].name) + \" \" + str(model.outputs[0].name) + \"\\n\")\n",
    "\n"
   ]
  },
  {
   "cell_type": "code",
   "execution_count": 14,
   "metadata": {},
   "outputs": [],
   "source": [
    "\n",
    "import os\n",
    "import pickle\n",
    "\n",
    "import yaml\n",
    "yaml_vars = yaml.safe_load(open(os.path.join(model_dir, \"variables.yml\"), \"r\"))\n",
    "\n",
    "scaler = pickle.load(open(os.path.join(model_dir, \"scaler_model.pkl\"), 'rb'))\n",
    "with open(os.path.join(model_dir, \"output_scaler.txt\"), \"w\") as f:\n",
    "    for var, mean, scale in zip(yaml_vars, scaler.mean_, scaler.scale_):\n",
    "        f.write(var + \" \" + str(mean) + \" \" + str(scale) + \"\\n\")\n"
   ]
  },
  {
   "cell_type": "code",
   "execution_count": null,
   "metadata": {},
   "outputs": [],
   "source": []
  }
 ],
 "metadata": {
  "kernelspec": {
   "display_name": "Python 3",
   "language": "python",
   "name": "python3"
  },
  "language_info": {
   "codemirror_mode": {
    "name": "ipython",
    "version": 3
   },
   "file_extension": ".py",
   "mimetype": "text/x-python",
   "name": "python",
   "nbconvert_exporter": "python",
   "pygments_lexer": "ipython3",
   "version": "3.6.9"
  }
 },
 "nbformat": 4,
 "nbformat_minor": 4
}
